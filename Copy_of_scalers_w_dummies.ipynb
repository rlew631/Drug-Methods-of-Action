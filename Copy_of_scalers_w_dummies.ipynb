{
  "nbformat": 4,
  "nbformat_minor": 0,
  "metadata": {
    "colab": {
      "name": "Copy of scalers_w_dummies.ipynb",
      "provenance": []
    },
    "kernelspec": {
      "display_name": "Python 3",
      "language": "python",
      "name": "python3"
    },
    "language_info": {
      "codemirror_mode": {
        "name": "ipython",
        "version": 3
      },
      "file_extension": ".py",
      "mimetype": "text/x-python",
      "name": "python",
      "nbconvert_exporter": "python",
      "pygments_lexer": "ipython3",
      "version": "3.7.9"
    },
    "widgets": {
      "application/vnd.jupyter.widget-state+json": {
        "0da0b4454ea9435eb88ca92b2ef68e21": {
          "model_module": "@jupyter-widgets/controls",
          "model_name": "HBoxModel",
          "state": {
            "_view_name": "HBoxView",
            "_dom_classes": [],
            "_model_name": "HBoxModel",
            "_view_module": "@jupyter-widgets/controls",
            "_model_module_version": "1.5.0",
            "_view_count": null,
            "_view_module_version": "1.5.0",
            "box_style": "",
            "layout": "IPY_MODEL_57c49770ae724730acffed67319262ff",
            "_model_module": "@jupyter-widgets/controls",
            "children": [
              "IPY_MODEL_9b383a92c7634d259972a830c6407cf8",
              "IPY_MODEL_2802404a6a1f4a58bb1ce21f73aa8376"
            ]
          }
        },
        "57c49770ae724730acffed67319262ff": {
          "model_module": "@jupyter-widgets/base",
          "model_name": "LayoutModel",
          "state": {
            "_view_name": "LayoutView",
            "grid_template_rows": null,
            "right": null,
            "justify_content": null,
            "_view_module": "@jupyter-widgets/base",
            "overflow": null,
            "_model_module_version": "1.2.0",
            "_view_count": null,
            "flex_flow": null,
            "width": null,
            "min_width": null,
            "border": null,
            "align_items": null,
            "bottom": null,
            "_model_module": "@jupyter-widgets/base",
            "top": null,
            "grid_column": null,
            "overflow_y": null,
            "overflow_x": null,
            "grid_auto_flow": null,
            "grid_area": null,
            "grid_template_columns": null,
            "flex": null,
            "_model_name": "LayoutModel",
            "justify_items": null,
            "grid_row": null,
            "max_height": null,
            "align_content": null,
            "visibility": null,
            "align_self": null,
            "height": null,
            "min_height": null,
            "padding": null,
            "grid_auto_rows": null,
            "grid_gap": null,
            "max_width": null,
            "order": null,
            "_view_module_version": "1.2.0",
            "grid_template_areas": null,
            "object_position": null,
            "object_fit": null,
            "grid_auto_columns": null,
            "margin": null,
            "display": null,
            "left": null
          }
        },
        "9b383a92c7634d259972a830c6407cf8": {
          "model_module": "@jupyter-widgets/controls",
          "model_name": "FloatProgressModel",
          "state": {
            "_view_name": "ProgressView",
            "style": "IPY_MODEL_7d1eb396558a4c6ebfa99d22baa06f9e",
            "_dom_classes": [],
            "description": " 15%",
            "_model_name": "FloatProgressModel",
            "bar_style": "",
            "max": 206,
            "_view_module": "@jupyter-widgets/controls",
            "_model_module_version": "1.5.0",
            "value": 31,
            "_view_count": null,
            "_view_module_version": "1.5.0",
            "orientation": "horizontal",
            "min": 0,
            "description_tooltip": null,
            "_model_module": "@jupyter-widgets/controls",
            "layout": "IPY_MODEL_3a9c00a2ee6d4cf7973531ab4bb647a6"
          }
        },
        "2802404a6a1f4a58bb1ce21f73aa8376": {
          "model_module": "@jupyter-widgets/controls",
          "model_name": "HTMLModel",
          "state": {
            "_view_name": "HTMLView",
            "style": "IPY_MODEL_79c37938fc0043599a91bc296a4d67ee",
            "_dom_classes": [],
            "description": "",
            "_model_name": "HTMLModel",
            "placeholder": "​",
            "_view_module": "@jupyter-widgets/controls",
            "_model_module_version": "1.5.0",
            "value": " 31/206 [00:48&lt;04:33,  1.56s/it]",
            "_view_count": null,
            "_view_module_version": "1.5.0",
            "description_tooltip": null,
            "_model_module": "@jupyter-widgets/controls",
            "layout": "IPY_MODEL_c53532a369cf4c5fb101b6f403d320f3"
          }
        },
        "7d1eb396558a4c6ebfa99d22baa06f9e": {
          "model_module": "@jupyter-widgets/controls",
          "model_name": "ProgressStyleModel",
          "state": {
            "_view_name": "StyleView",
            "_model_name": "ProgressStyleModel",
            "description_width": "initial",
            "_view_module": "@jupyter-widgets/base",
            "_model_module_version": "1.5.0",
            "_view_count": null,
            "_view_module_version": "1.2.0",
            "bar_color": null,
            "_model_module": "@jupyter-widgets/controls"
          }
        },
        "3a9c00a2ee6d4cf7973531ab4bb647a6": {
          "model_module": "@jupyter-widgets/base",
          "model_name": "LayoutModel",
          "state": {
            "_view_name": "LayoutView",
            "grid_template_rows": null,
            "right": null,
            "justify_content": null,
            "_view_module": "@jupyter-widgets/base",
            "overflow": null,
            "_model_module_version": "1.2.0",
            "_view_count": null,
            "flex_flow": null,
            "width": null,
            "min_width": null,
            "border": null,
            "align_items": null,
            "bottom": null,
            "_model_module": "@jupyter-widgets/base",
            "top": null,
            "grid_column": null,
            "overflow_y": null,
            "overflow_x": null,
            "grid_auto_flow": null,
            "grid_area": null,
            "grid_template_columns": null,
            "flex": null,
            "_model_name": "LayoutModel",
            "justify_items": null,
            "grid_row": null,
            "max_height": null,
            "align_content": null,
            "visibility": null,
            "align_self": null,
            "height": null,
            "min_height": null,
            "padding": null,
            "grid_auto_rows": null,
            "grid_gap": null,
            "max_width": null,
            "order": null,
            "_view_module_version": "1.2.0",
            "grid_template_areas": null,
            "object_position": null,
            "object_fit": null,
            "grid_auto_columns": null,
            "margin": null,
            "display": null,
            "left": null
          }
        },
        "79c37938fc0043599a91bc296a4d67ee": {
          "model_module": "@jupyter-widgets/controls",
          "model_name": "DescriptionStyleModel",
          "state": {
            "_view_name": "StyleView",
            "_model_name": "DescriptionStyleModel",
            "description_width": "",
            "_view_module": "@jupyter-widgets/base",
            "_model_module_version": "1.5.0",
            "_view_count": null,
            "_view_module_version": "1.2.0",
            "_model_module": "@jupyter-widgets/controls"
          }
        },
        "c53532a369cf4c5fb101b6f403d320f3": {
          "model_module": "@jupyter-widgets/base",
          "model_name": "LayoutModel",
          "state": {
            "_view_name": "LayoutView",
            "grid_template_rows": null,
            "right": null,
            "justify_content": null,
            "_view_module": "@jupyter-widgets/base",
            "overflow": null,
            "_model_module_version": "1.2.0",
            "_view_count": null,
            "flex_flow": null,
            "width": null,
            "min_width": null,
            "border": null,
            "align_items": null,
            "bottom": null,
            "_model_module": "@jupyter-widgets/base",
            "top": null,
            "grid_column": null,
            "overflow_y": null,
            "overflow_x": null,
            "grid_auto_flow": null,
            "grid_area": null,
            "grid_template_columns": null,
            "flex": null,
            "_model_name": "LayoutModel",
            "justify_items": null,
            "grid_row": null,
            "max_height": null,
            "align_content": null,
            "visibility": null,
            "align_self": null,
            "height": null,
            "min_height": null,
            "padding": null,
            "grid_auto_rows": null,
            "grid_gap": null,
            "max_width": null,
            "order": null,
            "_view_module_version": "1.2.0",
            "grid_template_areas": null,
            "object_position": null,
            "object_fit": null,
            "grid_auto_columns": null,
            "margin": null,
            "display": null,
            "left": null
          }
        }
      }
    }
  },
  "cells": [
    {
      "cell_type": "markdown",
      "metadata": {
        "id": "UrajMxg_5d2-"
      },
      "source": [
        "# Experimental Scaler testing model\n",
        "\n",
        "---\n",
        "\n",
        "## General housekeeping notes!!!\n",
        "\n",
        "- There might be duplicate ss_lr variables from when the ss_svc variables were changed.\n",
        "- Put the Google drive mount lines at the top so I don't have to wait for RAPIDS to install first..."
      ]
    },
    {
      "cell_type": "markdown",
      "metadata": {
        "id": "p2H_DMR3B8Px"
      },
      "source": [
        "# Setting up the Environment\n",
        "\n",
        "---\n",
        "\n",
        "## Environment Sanity Check\n",
        "NOTE: This isn't necessary if just using sklearn and not cupy or cudf\n",
        "\n",
        "Go to `Edit` > `Notebook Settings` > `Hardware Accelerator` and select `GPU` if not already selected\n",
        "\n",
        "Check output of `!nvidia-smi` to make sure you've been allocated a Tesla T4, P4, or P100."
      ]
    },
    {
      "cell_type": "code",
      "metadata": {
        "id": "IipuejDdB8Py",
        "jupyter": {
          "outputs_hidden": true
        }
      },
      "source": [
        "# !nvidia-smi"
      ],
      "execution_count": 3,
      "outputs": []
    },
    {
      "cell_type": "code",
      "metadata": {
        "id": "ErpcMpRlEzmc",
        "outputId": "3806e624-310b-46c2-8615-2b0d735477aa",
        "colab": {
          "base_uri": "https://localhost:8080/",
          "height": 34
        }
      },
      "source": [
        "from google.colab import drive\n",
        "drive.mount('/content/drive')"
      ],
      "execution_count": 4,
      "outputs": [
        {
          "output_type": "stream",
          "text": [
            "Mounted at /content/drive\n"
          ],
          "name": "stdout"
        }
      ]
    },
    {
      "cell_type": "code",
      "metadata": {
        "id": "ws6SDAKaB8P1",
        "jupyter": {
          "outputs_hidden": true
        }
      },
      "source": [
        "# Uncomment all this is deciding to implement cuml,cupy,cudf etc.\n",
        "\n",
        "# # Install RAPIDS\n",
        "# # Look at RAPIDS notebooks to see examples: https://github.com/rapidsai/notebooks\n",
        "\n",
        "# !git clone https://github.com/rapidsai/rapidsai-csp-utils.git\n",
        "# !bash rapidsai-csp-utils/colab/rapids-colab.sh stable\n",
        "\n",
        "# import sys, os\n",
        "\n",
        "# dist_package_index = sys.path.index('/usr/local/lib/python3.6/dist-packages')\n",
        "# sys.path = sys.path[:dist_package_index] + ['/usr/local/lib/python3.6/site-packages'] + sys.path[dist_package_index:]\n",
        "# sys.path\n",
        "# exec(open('rapidsai-csp-utils/colab/update_modules.py').read(), globals())"
      ],
      "execution_count": 5,
      "outputs": []
    },
    {
      "cell_type": "code",
      "metadata": {
        "id": "6CKvhR-ogmtI"
      },
      "source": [
        "#This cell is what should be used to import the rapids library on kaggle instead of colab\n",
        "\n",
        "# import warnings, sys\n",
        "# warnings.filterwarnings(\"ignore\")\n",
        "\n",
        "# !cp ../input/rapids/rapids.0.15.0 /opt/conda/envs/rapids.tar.gz\n",
        "# !cd /opt/conda/envs/ && tar -xzvf rapids.tar.gz > /dev/null\n",
        "# sys.path = [\"/opt/conda/envs/rapids/lib/python3.7/site-packages\"] + sys.path\n",
        "# sys.path = [\"/opt/conda/envs/rapids/lib/python3.7\"] + sys.path\n",
        "# sys.path = [\"/opt/conda/envs/rapids/lib\"] + sys.path \n",
        "# !cp /opt/conda/envs/rapids/lib/libxgboost.so /opt/conda/lib/"
      ],
      "execution_count": 6,
      "outputs": []
    },
    {
      "cell_type": "code",
      "metadata": {
        "id": "Z1hdVobyCcLI"
      },
      "source": [
        "import io, requests\n",
        "\n",
        "import datetime\n",
        "import pandas as pd\n",
        "#import cudf\n",
        "#import cuml\n",
        "import numpy as np\n",
        "#import cupy as cp\n",
        "from time import time\n",
        "from tqdm.notebook import tqdm\n",
        "\n",
        "from sklearn.preprocessing import power_transform\n",
        "from sklearn.preprocessing import StandardScaler\n",
        "from sklearn.model_selection import StratifiedKFold\n",
        "from sklearn.linear_model import LogisticRegression\n",
        "from sklearn.metrics import log_loss"
      ],
      "execution_count": 7,
      "outputs": []
    },
    {
      "cell_type": "markdown",
      "metadata": {
        "id": "7a0LBSJd1vJ7"
      },
      "source": [
        "# Loading / Processing the Data\n",
        "\n",
        "---\n",
        "\n",
        "## Loading the data and some initial preprocessing"
      ]
    },
    {
      "cell_type": "code",
      "metadata": {
        "id": "LINf-Doscml1"
      },
      "source": [
        "def dummy_vars(df):\n",
        "    df.loc[:, 'cp_type'] = df.loc[:, 'cp_type'].map({'trt_cp': 0, 'ctl_vehicle': 1})\n",
        "    # trt_cp is a control and has no MOA, ctl_vehicle indicates a real test\n",
        "    df.loc[:, 'cp_dose'] = df.loc[:, 'cp_dose'].map({'D1': 0, 'D2': 1})\n",
        "    # create columns ['cp_type_24', 'cp_type_48', 'cp_type_72'] which are one hot encoded based on cp_time\n",
        "    df['cp_type_24'] = df['cp_time'].astype(str) == '24'\n",
        "    df['cp_type_48'] = df['cp_time'].astype(str) == '48'\n",
        "    df['cp_type_72'] = df['cp_time'].astype(str) == '72'\n",
        "    df.drop(columns=['sig_id','cp_time'], inplace = True)\n",
        "    return df"
      ],
      "execution_count": 8,
      "outputs": []
    },
    {
      "cell_type": "code",
      "metadata": {
        "id": "Gffd7zyYFOF7",
        "outputId": "6f611f22-fb71-4295-d6af-d0ba7d7830f9",
        "colab": {
          "base_uri": "https://localhost:8080/",
          "height": 102
        }
      },
      "source": [
        "#########\n",
        "# TO DO #\n",
        "#################################################################\n",
        "# after the yeo-johnson transformation on the numerical data    #\n",
        "# one hot encode the categorical features                       #\n",
        "# recombine the data so and run standarscaler                   #\n",
        "#################################################################\n",
        "# It looks like the yeo johnson transform is done column-wise   #\n",
        "# Put the data in two long lists for the g- and c- features     #\n",
        "# Perform yeo johnson on each                                   #\n",
        "# put the data back into the df                                 #\n",
        "#################################################################\n",
        "\n",
        "# Train Features\n",
        "train_features = pd.read_csv('drive/My Drive/Metis/train_features.csv')\n",
        "train_features = dummy_vars(train_features)\n",
        "print('train_features loaded')\n",
        "\n",
        "# Train Targets\n",
        "train_targets = pd.read_csv('drive/My Drive/Metis/train_targets_scored.csv')\n",
        "train_targets.drop(columns=['sig_id'], inplace = True)\n",
        "print('train_targets loaded')\n",
        "\n",
        "# Test Features\n",
        "test_features = pd.read_csv('drive/My Drive/Metis/test_features.csv')\n",
        "test_features = dummy_vars(test_features)\n",
        "#test_features = pd.DataFrame(power_transform(test_features, method='yeo-johnson'))\n",
        "print('test_features loaded')\n",
        "\n",
        "# Sample Submission DF (Targets)\n",
        "ss_lr = pd.read_csv('drive/My Drive/Metis/sample_submission.csv')\n",
        "ss_lr.drop(columns=['sig_id'], inplace = True)\n",
        "print('ss_lr loaded')\n",
        "\n",
        "print('done!')"
      ],
      "execution_count": 9,
      "outputs": [
        {
          "output_type": "stream",
          "text": [
            "train_features loaded\n",
            "train_targets loaded\n",
            "test_features loaded\n",
            "ss_lr loaded\n",
            "done!\n"
          ],
          "name": "stdout"
        }
      ]
    },
    {
      "cell_type": "markdown",
      "metadata": {
        "id": "fahpRhhW3TJq"
      },
      "source": [
        "## Defining the Logistic Regression Model"
      ]
    },
    {
      "cell_type": "code",
      "metadata": {
        "id": "snbrfwC4izZk"
      },
      "source": [
        "def log_loss_metric(y_true, y_pred):\n",
        "    metrics = []\n",
        "    for _target in train_targets.columns:\n",
        "        metrics.append(log_loss(y_true.loc[:, _target], y_pred.loc[:, _target].astype(float), labels = [0,1]))\n",
        "    return np.mean(metrics)"
      ],
      "execution_count": 10,
      "outputs": []
    },
    {
      "cell_type": "markdown",
      "metadata": {
        "id": "jJAlJcwEk7Vv"
      },
      "source": [
        "Logistic Regression"
      ]
    },
    {
      "cell_type": "code",
      "metadata": {
        "id": "mjpia2xNk77Y"
      },
      "source": [
        "def k_fold_log_reg(N_SPLITS, model_train_num, column, X_new, x_tt_new, target, res_lr):\n",
        "  for rand_state in range(model_train_num):\n",
        "  # train the model for each one of the random states \n",
        "    skf = StratifiedKFold(n_splits = N_SPLITS, random_state = rand_state, shuffle = True)\n",
        "\n",
        "    for (train, val) in skf.split(target, target):\n",
        "    # for each of the train/val splits...\n",
        "\n",
        "      x_train = X_new[train, column].reshape(-1, 1).astype(float)\n",
        "      y_train = target[train].astype(float)\n",
        "\n",
        "      x_val = X_new[val, column].reshape(-1, 1).astype(float)\n",
        "      y_val = target[val].astype(float)\n",
        "\n",
        "      model = LogisticRegression(C = 35, max_iter = 1000)\n",
        "      # C is the inverse of the regularization parameter.\n",
        "      # Play with different C values to determine how strongly the model should be fit between test/val iterations\n",
        "      # look at https://scikit-learn.org/stable/modules/generated/sklearn.linear_model.LogisticRegression.html\n",
        "      # tune the hyper parameters. Maybe class_weight = balanced\n",
        "      # also maybe change the solver\n",
        "      model.fit(x_train, y_train)\n",
        "\n",
        "      ss_lr.loc[:, train_targets.columns[column]] += (\n",
        "              model.predict_proba(\n",
        "                x_tt_new[:, column].reshape(-1, 1).astype(float))[:, 1]\n",
        "              / (N_SPLITS * model_train_num))\n",
        "                  \n",
        "      res_lr.loc[val, train_targets.columns[column]] += (\n",
        "              model.predict_proba(x_val)[:, 1].astype(float) / model_train_num)\n",
        "\n",
        "\n",
        "\n",
        "\n",
        "def logreg(train_targets, X, x_test, ss_lr):\n",
        "# train_targets is the training targets\n",
        "# X is the train features\n",
        "# x_test is the holdout set of features\n",
        "# ss_lr ia blank since it's the empty sample submission predictions\n",
        "\n",
        "  # cols = [c for c in ss_lr.columns.values]\n",
        "  cols = ss_lr.columns.values\n",
        "\n",
        "  res_lr = train_targets.copy()\n",
        "  X_new = res_lr[cols].values\n",
        "  x_tt_new = ss_lr[cols].values\n",
        "\n",
        "  ss_lr.loc[:, train_targets.columns] = 0\n",
        "  res_lr.loc[:, train_targets.columns] = 0\n",
        "\n",
        "  lrg_target_sum = 0\n",
        "  sml_target_sum = 0\n",
        "  one_target_sum = 0\n",
        "\n",
        "  model_train_num = 5 # number of random states the model is trained on for each target\n",
        "\n",
        "  for column in tqdm(range(train_targets.shape[1])):\n",
        "  # create a model for each of the targets\n",
        "      start_time = time()\n",
        "      target = train_targets.values[:, column]\n",
        "\n",
        "      N_SPLITS = 5 # number of k-fold splits\n",
        "\n",
        "      if target.sum() >= N_SPLITS:\n",
        "        # split if there's enough positive target values \n",
        "        lrg_target_sum += 1\n",
        "        k_fold_log_reg(N_SPLITS, model_train_num, column, X_new, x_tt_new, target, res_lr)\n",
        "            \n",
        "      elif target.sum() == 1:\n",
        "        # only 1 target, just run the model with only one positive val\n",
        "        # might want to eliminate the cp_type == 1 values from train and test since this isn't the most useful training set anyways\n",
        "        one_target_sum += 1\n",
        "        x_train = X_new[:, column].reshape(-1, 1).astype(float)\n",
        "        y_train = target.astype(float)\n",
        "        model = LogisticRegression(C = 35, max_iter = 1000)\n",
        "        model.fit(x_train, y_train)\n",
        "\n",
        "        ss_lr.loc[:, train_targets.columns[column]] = (\n",
        "              model.predict_proba(\n",
        "                x_tt_new[:, column].reshape(-1, 1).astype(float))[:, 1])\n",
        "        \n",
        "        res_lr.loc[:, train_targets.columns[column]] = (\n",
        "              model.predict_proba(x_train)[:, 1].astype(float))\n",
        "\n",
        "      else:\n",
        "        # if target.sum() is less than N_SPLITS and also not 1\n",
        "        sml_target_sum += 1\n",
        "        k_fold_log_reg(target.sum(), model_train_num, column, X_new, x_tt_new, target, res_lr)\n",
        "\n",
        "      score = log_loss(\n",
        "        train_targets.loc[:, train_targets.columns[column]],\n",
        "        res_lr.loc[:, train_targets.columns[column]]\n",
        "        )\n",
        "      feat_time = str(datetime.timedelta(seconds = time() - start_time))[2:7]\n",
        "      print(f'[{feat_time}] LR Target {column}:', score)\n",
        "\n",
        "  print(f'Log Loss: {log_loss_metric(train_targets, res_lr)}')\n",
        "\n",
        "  # these lines automatically set the target values equal to zero if it cp_type = 1 AKA control group  \n",
        "  res_lr.loc[train_features['cp_type'] == 1, train_targets.columns] = 0\n",
        "  ss_lr.loc[train_features['cp_type'] == 1, train_targets.columns] = 0\n",
        "  print(f'After manually eliminating control groups...: {log_loss_metric(train_targets, res_lr)}')\n",
        "  print(f'lrg_target_sum = {lrg_target_sum}\\nsml_target_sum = {sml_target_sum}\\none_target_sum = {one_target_sum}')\n"
      ],
      "execution_count": 11,
      "outputs": []
    },
    {
      "cell_type": "markdown",
      "metadata": {
        "id": "YfPcqODZRWGR"
      },
      "source": [
        "## Scaling the data"
      ]
    },
    {
      "cell_type": "code",
      "metadata": {
        "id": "oTO2xR4ViYKX",
        "outputId": "bf25f8a8-8cc1-47fb-d206-f1dc55ae9eae",
        "colab": {
          "base_uri": "https://localhost:8080/",
          "height": 576,
          "referenced_widgets": [
            "0da0b4454ea9435eb88ca92b2ef68e21",
            "57c49770ae724730acffed67319262ff",
            "9b383a92c7634d259972a830c6407cf8",
            "2802404a6a1f4a58bb1ce21f73aa8376",
            "7d1eb396558a4c6ebfa99d22baa06f9e",
            "3a9c00a2ee6d4cf7973531ab4bb647a6",
            "79c37938fc0043599a91bc296a4d67ee",
            "c53532a369cf4c5fb101b6f403d320f3"
          ]
        }
      },
      "source": [
        "scaler = StandardScaler()\n",
        "\n",
        "#X = scaler.fit_transform(train_features.values[:, top_feats])\n",
        "X = scaler.fit_transform(train_features.values[:, :])\n",
        "\n",
        "#x_tt = scaler.transform(test_features.values[:, top_feats])\n",
        "x_test = scaler.fit_transform(test_features.values[:,:])\n",
        "\n",
        "#This is for the sample_submission.csv df\n",
        "ss_lr.loc[:, train_targets.columns] = 0\n",
        "\n",
        "logreg(train_targets, X, x_test, ss_lr)"
      ],
      "execution_count": null,
      "outputs": [
        {
          "output_type": "display_data",
          "data": {
            "application/vnd.jupyter.widget-view+json": {
              "model_id": "0da0b4454ea9435eb88ca92b2ef68e21",
              "version_minor": 0,
              "version_major": 2
            },
            "text/plain": [
              "HBox(children=(FloatProgress(value=0.0, max=206.0), HTML(value='')))"
            ]
          },
          "metadata": {
            "tags": []
          }
        },
        {
          "output_type": "stream",
          "text": [
            "[00:01] LR Target 0: 4.315216166188839e-05\n",
            "[00:01] LR Target 1: 4.327300235856571e-05\n",
            "[00:01] LR Target 2: 4.390500840169474e-05\n",
            "[00:01] LR Target 3: 4.918561533471453e-05\n",
            "[00:01] LR Target 4: 5.040192469529254e-05\n",
            "[00:01] LR Target 5: 4.669035611176199e-05\n",
            "[00:01] LR Target 6: 4.592004887870977e-05\n",
            "[00:01] LR Target 7: 4.73912919309522e-05\n",
            "[00:01] LR Target 8: 4.2458308992846134e-05\n",
            "[00:01] LR Target 9: 5.0109929311874894e-05\n",
            "[00:01] LR Target 10: 5.086491362538759e-05\n",
            "[00:01] LR Target 11: 4.643101843490358e-05\n",
            "[00:01] LR Target 12: 4.177776375731857e-05\n",
            "[00:01] LR Target 13: 4.5289663159021864e-05\n",
            "[00:01] LR Target 14: 4.245830899283303e-05\n",
            "[00:01] LR Target 15: 4.245830899282031e-05\n",
            "[00:01] LR Target 16: 4.562535173147644e-05\n",
            "[00:01] LR Target 17: 4.7206210581132686e-05\n",
            "[00:01] LR Target 18: 4.6925711798647424e-05\n",
            "[00:01] LR Target 19: 4.4897934700839555e-05\n",
            "[00:01] LR Target 20: 4.4975790835622455e-05\n",
            "[00:01] LR Target 21: 4.669035611176026e-05\n",
            "[00:01] LR Target 22: 4.145246705887153e-05\n",
            "[00:01] LR Target 23: 4.534892746898783e-05\n",
            "[00:01] LR Target 24: 4.245830899282659e-05\n",
            "[00:01] LR Target 25: 4.2598160469502006e-05\n",
            "[00:01] LR Target 26: 4.2458308992820296e-05\n",
            "[00:01] LR Target 27: 4.3273002358565705e-05\n",
            "[00:01] LR Target 28: 4.669035611176017e-05\n",
            "[00:01] LR Target 29: 4.489793470083954e-05\n",
            "[00:01] LR Target 30: 4.3828821056053497e-05\n"
          ],
          "name": "stdout"
        }
      ]
    },
    {
      "cell_type": "code",
      "metadata": {
        "id": "Yc-Fubce9LrL"
      },
      "source": [
        ""
      ],
      "execution_count": null,
      "outputs": []
    }
  ]
}