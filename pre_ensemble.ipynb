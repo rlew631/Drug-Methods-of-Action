{
 "cells": [
  {
   "cell_type": "markdown",
   "metadata": {
    "id": "UrajMxg_5d2-"
   },
   "source": [
    "# Testing the different types of scalers with logistic regression\n",
    "\n",
    "- Do Postgresql instead of pickling\n",
    "---"
   ]
  },
  {
   "cell_type": "code",
   "execution_count": 1,
   "metadata": {
    "executionInfo": {
     "elapsed": 1718,
     "status": "ok",
     "timestamp": 1603378654499,
     "user": {
      "displayName": "ryan lewis",
      "photoUrl": "",
      "userId": "09680394787948119906"
     },
     "user_tz": 420
    },
    "id": "Z1hdVobyCcLI"
   },
   "outputs": [],
   "source": [
    "import io, requests\n",
    "\n",
    "import datetime\n",
    "import pandas as pd\n",
    "import numpy as np\n",
    "from time import time\n",
    "from tqdm.notebook import tqdm\n",
    "import matplotlib.pyplot as plt\n",
    "\n",
    "# import xgboost as xgb\n",
    "\n",
    "from sklearn.preprocessing import power_transform\n",
    "from sklearn.preprocessing import StandardScaler\n",
    "from sklearn.model_selection import StratifiedKFold\n",
    "from sklearn.svm import NuSVR\n",
    "from sklearn.metrics import log_loss\n",
    "\n",
    "###############################################################################\n",
    "# Undersampling did not show any appreciable improvement in model performance #\n",
    "###############################################################################\n",
    "\n",
    "# from imblearn.under_sampling import TomekLinks # removed 5ish samples and only made a marginal improvement to the logloss values\n",
    "# from imblearn.under_sampling import ClusterCentroids # wasn't useful\n",
    "# from imblearn.under_sampling import NeighbourhoodCleaningRule # made model marginally worse and took significantly longer\n",
    "# from imblearn.under_sampling import InstanceHardnessThreshold #kept getting errors\n",
    "# from imblearn.under_sampling import EditedNearestNeighbours#did not remove any samples\n",
    "# from imblearn.under_sampling import AllKNN#did not remove any samples\n",
    "# from imblearn.under_sampling import CondensedNearestNeighbour#crashed after using all ram\n",
    "# from imblearn.under_sampling import NearMiss# marginally worse after running NearMiss(version=2, n_jobs=2, sampling_strategy=sampling_val)"
   ]
  },
  {
   "cell_type": "markdown",
   "metadata": {
    "id": "7a0LBSJd1vJ7"
   },
   "source": [
    "## Loading the data"
   ]
  },
  {
   "cell_type": "code",
   "execution_count": 2,
   "metadata": {
    "executionInfo": {
     "elapsed": 2313,
     "status": "ok",
     "timestamp": 1603378657832,
     "user": {
      "displayName": "ryan lewis",
      "photoUrl": "",
      "userId": "09680394787948119906"
     },
     "user_tz": 420
    },
    "id": "LINf-Doscml1"
   },
   "outputs": [],
   "source": [
    "def dummy_vars(df):\n",
    "    df.loc[:, 'cp_type'] = df.loc[:, 'cp_type'].map({'trt_cp': 0, 'ctl_vehicle': 1})\n",
    "    # trt_cp is a control and has no MOA, ctl_vehicle indicates a real test\n",
    "    df.loc[:, 'cp_dose'] = df.loc[:, 'cp_dose'].map({'D1': 0, 'D2': 1})\n",
    "    # create columns ['cp_type_24', 'cp_type_48', 'cp_type_72'] which are one hot encoded based on cp_time\n",
    "    df['cp_type_24'] = df['cp_time'].astype(str) == '24'\n",
    "    df['cp_type_48'] = df['cp_time'].astype(str) == '48'\n",
    "    df['cp_type_72'] = df['cp_time'].astype(str) == '72'\n",
    "    df.drop(columns=['sig_id','cp_time'], inplace = True)\n",
    "    return df"
   ]
  },
  {
   "cell_type": "code",
   "execution_count": 3,
   "metadata": {
    "colab": {
     "base_uri": "https://localhost:8080/",
     "height": 104
    },
    "executionInfo": {
     "elapsed": 6428,
     "status": "ok",
     "timestamp": 1603378662286,
     "user": {
      "displayName": "ryan lewis",
      "photoUrl": "",
      "userId": "09680394787948119906"
     },
     "user_tz": 420
    },
    "id": "Gffd7zyYFOF7",
    "outputId": "7207fcc3-2982-4e46-94f7-4379d419396b"
   },
   "outputs": [],
   "source": [
    "def load_files():\n",
    "    # Train Features\n",
    "    train_features = pd.read_csv('train_features.csv')\n",
    "    train_features = dummy_vars(train_features)\n",
    "    print('train_features loaded')\n",
    "\n",
    "    # Train Targets\n",
    "    train_targets = pd.read_csv('train_targets_scored.csv')\n",
    "    train_targets.drop(columns=['sig_id'], inplace = True)\n",
    "    print('train_targets loaded')\n",
    "\n",
    "    # Test Features\n",
    "    test_features = pd.read_csv('test_features.csv')\n",
    "    test_features = dummy_vars(test_features)\n",
    "    #test_features = pd.DataFrame(power_transform(test_features, method='yeo-johnson'))\n",
    "    print('test_features loaded')\n",
    "\n",
    "    # Sample Submission DF (Targets)\n",
    "    ss_lr = pd.read_csv('sample_submission.csv')\n",
    "    ss_lr.drop(columns=['sig_id'], inplace = True)\n",
    "    print('ss_lr loaded')\n",
    "\n",
    "    print('done!')\n",
    "\n",
    "    return train_features, train_targets, test_features, ss_lr"
   ]
  },
  {
   "cell_type": "markdown",
   "metadata": {
    "id": "fahpRhhW3TJq"
   },
   "source": [
    "## Data Pipeline"
   ]
  },
  {
   "cell_type": "code",
   "execution_count": 4,
   "metadata": {
    "executionInfo": {
     "elapsed": 5791,
     "status": "ok",
     "timestamp": 1603378662287,
     "user": {
      "displayName": "ryan lewis",
      "photoUrl": "",
      "userId": "09680394787948119906"
     },
     "user_tz": 420
    },
    "id": "snbrfwC4izZk"
   },
   "outputs": [],
   "source": [
    "def log_loss_metric(y_true, y_pred):\n",
    "    metrics = []\n",
    "    for _target in train_targets.columns:\n",
    "        metrics.append(log_loss(y_true.loc[:, _target], y_pred.loc[:, _target].astype(float), labels = [0,1]))\n",
    "    return np.mean(metrics)"
   ]
  },
  {
   "cell_type": "code",
   "execution_count": 5,
   "metadata": {
    "executionInfo": {
     "elapsed": 5457,
     "status": "ok",
     "timestamp": 1603378662288,
     "user": {
      "displayName": "ryan lewis",
      "photoUrl": "",
      "userId": "09680394787948119906"
     },
     "user_tz": 420
    },
    "id": "rQIRw5YvAaIR"
   },
   "outputs": [],
   "source": [
    "def k_fold_fit_pred(model_train_num, column, x_test, target_vals, N_SPLITS, res, ss):\n",
    "    for rand_state in range(model_train_num):\n",
    "        # train the model for each one of the random states \n",
    "        skf = StratifiedKFold(n_splits = N_SPLITS, random_state = rand_state, shuffle = True)\n",
    "\n",
    "        for (train, val) in skf.split(target_vals, target_vals):\n",
    "        # for each of the train/validate splits...\n",
    "            scaler = StandardScaler()\n",
    "\n",
    "            x_train = X[train, column].reshape(-1, 1).astype(float)\n",
    "            y_train = target_vals[train].astype(float)\n",
    "\n",
    "            x_train = scaler.fit_transform(x_train)\n",
    "\n",
    "            x_val = X[val, column].reshape(-1, 1).astype(float)\n",
    "            y_val = target_vals[val].astype(float)\n",
    "\n",
    "            x_val = scaler.transform(x_val)\n",
    "\n",
    "            model.fit(x_train, y_train)\n",
    "\n",
    "            try:\n",
    "                ss_pred_vals = model.predict_proba(x_test[:, column].reshape(-1,1))[:,1]\n",
    "            except: # For the tree based models\n",
    "                ss_pred_vals = model.predict(x_test[:, column].reshape(-1,1))\n",
    "            ss.loc[:, train_targets.columns[column]] += (\n",
    "                ss_pred_vals / (N_SPLITS * model_train_num))\n",
    "\n",
    "            try:\n",
    "                res_pred_vals = model.predict_proba(x_val)[:,1]\n",
    "            except: # For the tree based models\n",
    "                res_pred_vals = model.predict(x_val)\n",
    "            res.loc[val, train_targets.columns[column]] += (\n",
    "                res_pred_vals / model_train_num)\n",
    "\n",
    "    return res, ss"
   ]
  },
  {
   "cell_type": "code",
   "execution_count": 6,
   "metadata": {
    "executionInfo": {
     "elapsed": 632,
     "status": "ok",
     "timestamp": 1603378797207,
     "user": {
      "displayName": "ryan lewis",
      "photoUrl": "",
      "userId": "09680394787948119906"
     },
     "user_tz": 420
    },
    "id": "mjpia2xNk77Y"
   },
   "outputs": [],
   "source": [
    "# cols = [c for c in ss_lr.columns.values]\n",
    "def run_score(train_targets, X, x_test, res, ss, logloss_vals):\n",
    "# train_targets is the training targets\n",
    "# X is the train features\n",
    "# x_test is the holdout set of features\n",
    "# ss_ is blank since it's the empty sample submission predictions\n",
    "\n",
    "    N_SPLITS = 5 # number of k-fold splits\n",
    "    model_train_num = 2 # number of random states the model is trained on for each target\n",
    "\n",
    "    for column in tqdm(range(train_targets.shape[1])):\n",
    "    # create a model for each of the targets\n",
    "        start_time = time()\n",
    "        target_vals = train_targets.values[:, column]\n",
    "\n",
    "        if target_vals.sum() >= 5:\n",
    "        # split if there's enough positive target values\n",
    "            res, ss = k_fold_fit_pred(model_train_num, column, x_test, target_vals, N_SPLITS, res, ss)\n",
    "\n",
    "        score = log_loss(\n",
    "            train_targets.loc[:, train_targets.columns[column]],\n",
    "            res.loc[:, train_targets.columns[column]])\n",
    "        feat_time = str(datetime.timedelta(seconds = time() - start_time))[2:7]\n",
    "        #print(f'[{feat_time}] Target {column+1}/{train_targets.shape[1]} Log Loss:', score)\n",
    "        target_counts.append(np.sum(target_vals))\n",
    "        logloss_vals.append(score)\n",
    "\n",
    "    print(f'Log Loss: {log_loss_metric(train_targets, res)}')\n",
    "\n",
    "    # these lines automatically set the target values equal to zero if it cp_type = 1 AKA control group  \n",
    "    res.loc[train_features['cp_type'] == 1, train_targets.columns] = 0\n",
    "    ss.loc[test_features['cp_type'] == 1, train_targets.columns] = 0\n",
    "    print(f'After manually eliminating control groups: {log_loss_metric(train_targets, res)}\\n\\n')\n",
    "    \n",
    "    return res, ss, logloss_vals"
   ]
  },
  {
   "cell_type": "code",
   "execution_count": 7,
   "metadata": {
    "tags": []
   },
   "outputs": [
    {
     "name": "stdout",
     "output_type": "stream",
     "text": [
      "train_features loaded\n",
      "train_targets loaded\n",
      "test_features loaded\n",
      "ss_lr loaded\n",
      "done!\n"
     ]
    }
   ],
   "source": [
    "train_features, train_targets, test_features, ss_lr = load_files()\n",
    "\n",
    "# g_tags = [g for g in list(train_features.columns) if g[0]+g[1] == 'g-']\n",
    "# c_tags = [c for c in list(train_features.columns) if c[0]+c[1] == 'c-']\n",
    "\n",
    "# train_features[c_tags] = scaler.fit_transform(train_features[c_tags])\n",
    "# test_features[c_tags] = scaler.fit_transform(test_features[c_tags])\n",
    "\n",
    "# train_features[g_tags] = scaler.fit_transform(train_features[g_tags])\n",
    "# test_features[g_tags] = scaler.fit_transform(test_features[g_tags])\n",
    "\n",
    "\n",
    "X = train_features.values[:,:]\n",
    "x_test = test_features.values[:,:]\n",
    "\n",
    "#This is for the sample_submission.csv df\n",
    "ss_lr.loc[:, train_targets.columns] = 0\n",
    "\n",
    "#These are the target values which are being predicted and tested\n",
    "res_lr = train_targets.copy()\n",
    "res_lr.loc[:, train_targets.columns] = 0\n",
    "\n",
    "cols = ss_lr.columns.values"
   ]
  },
  {
   "cell_type": "markdown",
   "metadata": {},
   "source": [
    "## Running and Evaluating the Models"
   ]
  },
  {
   "cell_type": "code",
   "execution_count": 8,
   "metadata": {},
   "outputs": [
    {
     "data": {
      "application/vnd.jupyter.widget-view+json": {
       "model_id": "a5385f6d603747b4a91989f4e91dbd8c",
       "version_major": 2,
       "version_minor": 0
      },
      "text/plain": [
       "HBox(children=(HTML(value=''), FloatProgress(value=0.0, max=206.0), HTML(value='')))"
      ]
     },
     "metadata": {},
     "output_type": "display_data"
    },
    {
     "name": "stdout",
     "output_type": "stream",
     "text": [
      "\n",
      "Log Loss: 0.020385199315341\n",
      "After manually eliminating control groups: 0.020100039338947443\n",
      "\n",
      "\n"
     ]
    },
    {
     "data": {
      "image/png": "[encoded data removed]",
      "text/plain": [
       "<Figure size 432x288 with 1 Axes>"
      ]
     },
     "metadata": {
      "needs_background": "light"
     },
     "output_type": "display_data"
    }
   ],
   "source": [
    "\n",
    "#model = LogisticRegression(C = 128, max_iter = 100000) #128 is the ideal value for cuml using standard scaler\n",
    "try:\n",
    "    res_lr = pd.from_pickle('pickles/res_lr.p')\n",
    "    ss_lr = pd.from_pickle('pickles/ss_lr.p')\n",
    "except:\n",
    "    from cuml.linear_model import LogisticRegression\n",
    "    for i in [256]: # left for further hyperparameter tuning\n",
    "        model = LogisticRegression(C = 128, max_iter = 100000)\n",
    "        target_counts = []\n",
    "        logistic_regr_loss_vals = []\n",
    "        ss_lr.loc[:, train_targets.columns] = 0\n",
    "        res_lr.loc[:, train_targets.columns] = 0\n",
    "        res_lr, ss_lr, logistic_regr_loss_vals = run_score(train_targets, X, x_test, res_lr, ss_lr, logistic_regr_loss_vals)\n",
    "    plt.scatter(target_counts,logistic_regr_loss_vals)\n",
    "    plt.xlabel('target_counts')\n",
    "    plt.ylabel('log loss values')\n",
    "    plt.title('cuML Logistic Regression')\n",
    "    plt.show()\n",
    "    res_lr.to_pickle('pickles/res_cuml_lr.p')\n",
    "    ss_lr.to_pickle('pickles/ss_cuml_lr.p')"
   ]
  },
  {
   "cell_type": "code",
   "execution_count": 9,
   "metadata": {
    "colab": {
     "base_uri": "https://localhost:8080/",
     "height": 1000,
     "referenced_widgets": [
      "259ba841852240529c05cb6774efcc3f",
      "0b03083b658f4e478de3b57791f42da8",
      "ba3f897e98e84be5a180ef100aa6d934",
      "6887ebab40d248c2b345cb7417ee2a9a",
      "1abb228a8d164b2a892055bc77aa56fd",
      "5c177f172ae8443a8b71a76cdff14220",
      "7299f41bbc7c493fac12c6500da94599",
      "1f77a084b822458699718400bf5a291b",
      "25286e32af134ccfa3f3770f82a36c16",
      "1e29afe4e9fe43fb8d854cff56fde3af",
      "4baa80741801474695d594eb4f4bb215"
     ]
    },
    "executionInfo": {
     "elapsed": 4020984,
     "status": "ok",
     "timestamp": 1603344676747,
     "user": {
      "displayName": "ryan lewis",
      "photoUrl": "",
      "userId": "09680394787948119906"
     },
     "user_tz": 420
    },
    "id": "PkmwTfogsdbl",
    "outputId": "204ab49d-d1ed-484a-aa9c-03a9920e7b54",
    "tags": []
   },
   "outputs": [
    {
     "data": {
      "application/vnd.jupyter.widget-view+json": {
       "model_id": "45de43b8b56b47f0b032a576a9335fbe",
       "version_major": 2,
       "version_minor": 0
      },
      "text/plain": [
       "HBox(children=(HTML(value=''), FloatProgress(value=0.0, max=206.0), HTML(value='')))"
      ]
     },
     "metadata": {},
     "output_type": "display_data"
    },
    {
     "name": "stdout",
     "output_type": "stream",
     "text": [
      "\n",
      "Log Loss: 0.02032292674082123\n",
      "After manually eliminating control groups: 0.020062833012380658\n",
      "\n",
      "\n"
     ]
    },
    {
     "data": {
      "image/png": "[encoded data removed]",
      "text/plain": [
       "<Figure size 432x288 with 1 Axes>"
      ]
     },
     "metadata": {
      "needs_background": "light"
     },
     "output_type": "display_data"
    }
   ],
   "source": [
    "#model = SVR(kernel='poly', gamma='auto', C=200, cache_size=14000) #had estimated finish time of 12 hrs\n",
    "#model = SVR(kernel='rbf', gamma='scale', C=10, epsilon=0.1)# slooowwwww\n",
    "#model = NuSVR(C=1, nu=0.1) # The default kernel is RBF\n",
    "#model = LogisticRegression(C = 128, max_iter = 100000) #128 is the ideal value for cuml using standard scaler\n",
    "#model = LogisticRegression(C = 128, solver = 'lbfgs', warm_start=True, n_jobs=-1 max_iter = 10000)\n",
    "try:\n",
    "    res_lr = pd.from_pickle('pickles/res_lr.p')\n",
    "    ss_lr = pd.from_pickle('pickles/ss_lr.p')\n",
    "except:\n",
    "    from sklearn.linear_model import LogisticRegression\n",
    "    for i in [256]: # left for further hyperparameter tuning\n",
    "        model = LogisticRegression(C = i, solver = 'saga', warm_start=True, n_jobs=-1, max_iter = 100000)\n",
    "        target_counts = []\n",
    "        logistic_regr_loss_vals = []\n",
    "        ss_lr.loc[:, train_targets.columns] = 0\n",
    "        res_lr.loc[:, train_targets.columns] = 0\n",
    "        res_lr, ss_lr, logistic_regr_loss_vals = run_score(train_targets, X, x_test, res_lr, ss_lr, logistic_regr_loss_vals)\n",
    "    plt.scatter(target_counts,logistic_regr_loss_vals)\n",
    "    plt.xlabel('target_counts')\n",
    "    plt.ylabel('log loss values')\n",
    "    plt.title('SKLearn Logistic Regression')\n",
    "    plt.show()\n",
    "    res_lr.to_pickle('pickles/res_lr.p')\n",
    "    ss_lr.to_pickle('pickles/ss_lr.p')"
   ]
  },
  {
   "cell_type": "code",
   "execution_count": null,
   "metadata": {
    "executionInfo": {
     "elapsed": 2717,
     "status": "ok",
     "timestamp": 1603378666806,
     "user": {
      "displayName": "ryan lewis",
      "photoUrl": "",
      "userId": "09680394787948119906"
     },
     "user_tz": 420
    },
    "id": "oTO2xR4ViYKX",
    "tags": []
   },
   "outputs": [
    {
     "data": {
      "application/vnd.jupyter.widget-view+json": {
       "model_id": "e4ee841598824d8e886eff2550fec29c",
       "version_major": 2,
       "version_minor": 0
      },
      "text/plain": [
       "HBox(children=(HTML(value=''), FloatProgress(value=0.0, max=206.0), HTML(value='')))"
      ]
     },
     "metadata": {},
     "output_type": "display_data"
    }
   ],
   "source": [
    "try:\n",
    "    res_rfr = pd.from_pickle('pickles/res_rfr.p')\n",
    "    ss_rfr = pd.from_pickle('pickles/ss_rfr.p')\n",
    "except:\n",
    "    from sklearn.ensemble import RandomForestRegressor\n",
    "    for i in [1]: # left for further hyperparameter tuning\n",
    "        model = RandomForestRegressor(max_depth=3, random_state=42)\n",
    "        target_counts = []\n",
    "        rfr_loss_vals = []\n",
    "        ss_rfr = ss_lr.copy()\n",
    "        res_rfr = res_lr.copy()\n",
    "        ss_rfr.loc[:, train_targets.columns] = 0\n",
    "        res_rfr.loc[:, train_targets.columns] = 0\n",
    "        res_rfr, ss_rfr, rfr_loss_vals = run_score(train_targets, X, x_test, res_rfr, ss_rfr, rfr_loss_vals)\n",
    "    plt.scatter(target_counts, rfr_loss_vals)\n",
    "    plt.xlabel('target_counts')\n",
    "    plt.ylabel('log loss values')\n",
    "    plt.title('Random Forest Regression')\n",
    "    plt.show()\n",
    "    res_rfr.to_pickle('pickles/res_rfr.p')\n",
    "    ss_rfr.to_pickle('pickles/ss_rfr.p')"
   ]
  },
  {
   "cell_type": "code",
   "execution_count": null,
   "metadata": {
    "tags": []
   },
   "outputs": [],
   "source": [
    "try:\n",
    "    res_linsvr = pd.read_pickle('pickles/res_linsvr')\n",
    "    ss_linsvr = pd.read_pickle('pickles/ss_linsvr')\n",
    "except:\n",
    "    from sklearn.svm import LinearSVR\n",
    "    for i in [1]: # left for further hyperparameter tuning\n",
    "        model = LinearSVR(random_state = 42, C=16, dual=False, loss='squared_epsilon_insensitive', tol=1e-5)\n",
    "        target_counts = []\n",
    "        linsvr_logloss_vals = []\n",
    "        ss_linsvr = ss_lr.copy()\n",
    "        res_linsvr = res_lr.copy()\n",
    "        ss_linsvr.loc[:, train_targets.columns] = 0\n",
    "        res_linsvr.loc[:, train_targets.columns] = 0\n",
    "        print(f'intercept_scaling = {i}')\n",
    "        res_linsvr, ss_linsvr, linsvr_loss_vals = run_score(\n",
    "            train_targets, X, x_test, res_linsvr, ss_linsvr, linsvr_logloss_vals)\n",
    "    plt.scatter(target_counts,linsvr_logloss_vals)\n",
    "    plt.xlabel('target_counts')\n",
    "    plt.ylabel('log loss values')\n",
    "    plt.title('LinearSVR')\n",
    "    plt.show()\n",
    "    res_linsvr.to_pickle('pickles/res_linsvr')\n",
    "    ss_linsvr.to_pickle('pickles/ss_linsvr')"
   ]
  },
  {
   "cell_type": "code",
   "execution_count": null,
   "metadata": {},
   "outputs": [],
   "source": [
    "try:\n",
    "    res_nusvr = pd.read_pickle('pickles/res_nusvr')\n",
    "    ss_nusvr = pd.read_pickle('pickles/ss_nusvr')\n",
    "except:\n",
    "    from sklearn.svm import NuSVR\n",
    "    for i in [1]: # left for further hyperparameter tuning\n",
    "        model = NuSVR(kernel='poly', degree=2, C=1, tol=1e-3, cache_size=2024, max_iter=10000)\n",
    "        target_counts = []\n",
    "        nusvr_logloss_vals = []\n",
    "        ss_nusvr = ss_lr.copy()\n",
    "        res_nusvr = res_lr.copy()\n",
    "        ss_nusvr.loc[:, train_targets.columns] = 0\n",
    "        res_nusvr.loc[:, train_targets.columns] = 0\n",
    "        print(f'intercept_scaling = {i}')\n",
    "        res_nusvr, ss_nusvr, nusvr_loss_vals = run_score(\n",
    "            train_targets, X, x_test, res_nusvr, ss_nusvr, nusvr_logloss_vals)\n",
    "    plt.scatter(target_counts,nusvr_logloss_vals)\n",
    "    plt.xlabel('target_counts')\n",
    "    plt.ylabel('log loss values')\n",
    "    plt.title('nuSVR')\n",
    "    plt.show()\n",
    "    res_nusvr.to_pickle('pickles/res_nusvr')\n",
    "    ss_nusvr.to_pickle('pickles/ss_nusvr')"
   ]
  },
  {
   "cell_type": "markdown",
   "metadata": {},
   "source": [
    "## Generating the Baseline Model Score\n",
    "___\n",
    "This was used to benchmark the models and gain a sense of each model'd overall performance"
   ]
  },
  {
   "cell_type": "code",
   "execution_count": null,
   "metadata": {},
   "outputs": [],
   "source": [
    "zeros_target_counts = []\n",
    "zeros_loss_vals = []\n",
    "res_zeros = res_lr.copy()\n",
    "res_zeros.loc[:, train_targets.columns] = 0\n",
    "for i in range(res_zeros.shape[1]):\n",
    "    loss = log_loss(train_targets.iloc[:,i], res_zeros.iloc[:,i])\n",
    "    zeros_loss_vals.append(loss)\n",
    "    zeros_target_counts.append(np.sum(train_targets.iloc[:,i]))\n",
    "# log loss score is the same for all zeros or the average values per column"
   ]
  },
  {
   "cell_type": "markdown",
   "metadata": {},
   "source": [
    "## Graphing"
   ]
  },
  {
   "cell_type": "code",
   "execution_count": 16,
   "metadata": {},
   "outputs": [
    {
     "name": "stdout",
     "output_type": "stream",
     "text": [
      "loaded graph data\n"
     ]
    }
   ],
   "source": [
    "import pickle\n",
    "import os\n",
    "# Try loading the graph data. If it isn't found generate it\n",
    "try:\n",
    "    graph_data = pickle.load(open('pickles/graph_data.p','rb'))\n",
    "    target_counts = graph_data[0]\n",
    "    nusvr_logloss_vals = graph_data[1]\n",
    "    linsvr_loss_vals = graph_data[2]\n",
    "    logistic_regr_loss_vals = graph_data[3]\n",
    "    rfr_loss_vals = graph_data[4]\n",
    "    print('loaded graph data')\n",
    "except:\n",
    "    graph_data = [target_counts,nusvr_logloss_vals,linsvr_loss_vals,logistic_regr_loss_vals,rfr_loss_vals]\n",
    "    pickle.dump(graph_data,open('pickles/graph_data.p','wb'))\n",
    "    print('saved graph data')\n",
    "\n",
    "if not os.path.exists(\"figures\"):\n",
    "    os.mkdir(\"figures\")"
   ]
  },
  {
   "cell_type": "code",
   "execution_count": 27,
   "metadata": {},
   "outputs": [
    {
     "data": {
      "application/vnd.plotly.v1+json": {
       "config": {
        "plotlyServerURL": "https://plot.ly"
       },
       "data": [
        {
         "hovertemplate": [
          "",
          "",
          "",
          "",
          "",
          "",
          "",
          "",
          "",
          "",
          "",
          "",
          "",
          "",
          "",
          "",
          "",
          "",
          "",
          "",
          "",
          "",
          "",
          "",
          "",
          "",
          "",
          "",
          "",
          "",
          "",
          "",
          "",
          "",
          "",
          "",
          "",
          "",
          "",
          "",
          "",
          "",
          "",
          "",
          "",
          "",
          "",
          "",
          "",
          "",
          "",
          "",
          "",
          "",
          "",
          "",
          "",
          "",
          "",
          "",
          "",
          "",
          "",
          "",
          "",
          "",
          "",
          "",
          "",
          "",
          "",
          "",
          "",
          "",
          "",
          "",
          "",
          "",
          "",
          "",
          "",
          "",
          "",
          "",
          "",
          "",
          "",
          "",
          "",
          "",
          "",
          "",
          "",
          "",
          "",
          "",
          "",
          "",
          "",
          "",
          "",
          "",
          "",
          "",
          "",
          "",
          "",
          "",
          "",
          "",
          "",
          "",
          "",
          "",
          "",
          "",
          "",
          "",
          "",
          "",
          "",
          "",
          "",
          "",
          "",
          "",
          "",
          "",
          "",
          "",
          "",
          "",
          "",
          "",
          "",
          "",
          "",
          "",
          "",
          "",
          "",
          "",
          "",
          "",
          "",
          "",
          "",
          "",
          "",
          "",
          "",
          "",
          "",
          "",
          "",
          "",
          "",
          "",
          "",
          "",
          "",
          "",
          "",
          "",
          "",
          "",
          "",
          "",
          "",
          "",
          "",
          "",
          "",
          "",
          "",
          "",
          "",
          "",
          "",
          "",
          "",
          "",
          "",
          "",
          "",
          "",
          "",
          "",
          "",
          "",
          "",
          "",
          "",
          "",
          "",
          "",
          "",
          "",
          "",
          "",
          "",
          "",
          "",
          "",
          "",
          ""
         ],
         "mode": "lines",
         "name": "all zeros",
         "type": "scatter",
         "x": [
          17,
          18,
          24,
          190,
          301,
          73,
          54,
          96,
          12,
          270,
          360,
          66,
          7,
          42,
          12,
          12,
          48,
          89,
          80,
          36,
          37,
          73,
          6,
          43,
          12,
          13,
          12,
          18,
          73,
          36,
          23,
          49,
          47,
          6,
          1,
          12,
          97,
          19,
          96,
          6,
          60,
          80,
          36,
          192,
          89,
          115,
          7,
          31,
          38,
          67,
          24,
          68,
          29,
          6,
          281,
          42,
          55,
          36,
          36,
          18,
          12,
          102,
          18,
          340,
          54,
          24,
          42,
          48,
          54,
          6,
          36,
          435,
          104,
          36,
          25,
          6,
          48,
          402,
          121,
          424,
          336,
          6,
          1,
          158,
          48,
          36,
          18,
          25,
          50,
          279,
          18,
          18,
          23,
          106,
          165,
          56,
          266,
          13,
          74,
          367,
          18,
          60,
          72,
          106,
          59,
          241,
          24,
          32,
          72,
          283,
          93,
          37,
          30,
          31,
          73,
          30,
          51,
          42,
          92,
          273,
          6,
          6,
          62,
          12,
          61,
          6,
          31,
          72,
          74,
          25,
          12,
          85,
          18,
          130,
          48,
          37,
          832,
          6,
          26,
          12,
          26,
          7,
          18,
          61,
          96,
          37,
          62,
          24,
          61,
          297,
          18,
          264,
          25,
          151,
          31,
          55,
          98,
          115,
          30,
          119,
          18,
          36,
          84,
          726,
          48,
          6,
          103,
          19,
          56,
          223,
          12,
          67,
          6,
          35,
          37,
          25,
          236,
          404,
          44,
          36,
          36,
          25,
          267,
          25,
          71,
          6,
          19,
          60,
          30,
          19,
          37,
          30,
          7,
          36,
          127,
          18,
          6,
          25,
          48,
          316,
          73,
          6,
          170,
          26,
          39,
          30
         ],
         "y": [
          0.02465605100837765,
          0.026106406950046863,
          0.03480854260006215,
          0.2755676289171518,
          0.43655713844243466,
          0.10587598374185367,
          0.0783192208501386,
          0.13923417040024563,
          0.01740427130003158,
          0.39159610425068897,
          0.5221281390009183,
          0.09572349215016918,
          0.0101524915916855,
          0.06091494955010801,
          0.017404271300031575,
          0.017404271300031575,
          0.06961708520012329,
          0.1290816788085611,
          0.11602847533353816,
          0.052212813900092726,
          0.05366316984176195,
          0.10587598374185367,
          0.008702135650016287,
          0.06236530549177723,
          0.017404271300031575,
          0.01885462724170079,
          0.01740427130003158,
          0.02610640695004687,
          0.10587598374185367,
          0.052212813900092726,
          0.033358186658392935,
          0.07106744114179252,
          0.0681667292584541,
          0.008702135650016287,
          0.0014503559416702136,
          0.01740427130003158,
          0.14068452634191483,
          0.027556762891716078,
          0.13923417040024558,
          0.008702135650016287,
          0.08702135650015387,
          0.11602847533353816,
          0.052212813900092726,
          0.27846834080049016,
          0.1290816788085611,
          0.16679093329196068,
          0.010152491591685504,
          0.04496103419174666,
          0.05511352578343115,
          0.09717384809183839,
          0.03480854260006215,
          0.0986242040335076,
          0.04206032230840822,
          0.008702135650016287,
          0.4075500196090503,
          0.06091494955010801,
          0.07976957679180781,
          0.052212813900092726,
          0.05221281390009273,
          0.026106406950046863,
          0.01740427130003158,
          0.1479363060502609,
          0.026106406950046863,
          0.49312102016753395,
          0.0783192208501386,
          0.03480854260006215,
          0.06091494955010801,
          0.0696170852001233,
          0.0783192208501386,
          0.008702135650016287,
          0.052212813900092726,
          0.6309048346261094,
          0.15083701793359933,
          0.052212813900092726,
          0.036258898541731366,
          0.008702135650016287,
          0.0696170852001233,
          0.5830430885510254,
          0.17549306894197594,
          0.614950919267748,
          0.4873195964008571,
          0.008702135650016285,
          0.0014503559416702138,
          0.22915623878373692,
          0.06961708520012332,
          0.052212813900092726,
          0.02610640695004686,
          0.036258898541731366,
          0.07251779708346173,
          0.40464930772571184,
          0.02610640695004686,
          0.026106406950046863,
          0.033358186658392935,
          0.15373772981693776,
          0.23930873037542144,
          0.08121993273347702,
          0.3857946804840121,
          0.01885462724170079,
          0.10732633968352288,
          0.5322806305926028,
          0.026106406950046863,
          0.0870213565001539,
          0.10442562780018445,
          0.15373772981693776,
          0.08557100055848466,
          0.34953578194228174,
          0.03480854260006215,
          0.04641139013341587,
          0.10442562780018445,
          0.41045073149238875,
          0.13488310257523797,
          0.05366316984176195,
          0.04351067825007744,
          0.04496103419174666,
          0.10587598374185367,
          0.043510678250077435,
          0.07396815302513095,
          0.060914949550108025,
          0.13343274663356874,
          0.3959471720756966,
          0.008702135650016287,
          0.008702135650016287,
          0.08992206838349232,
          0.017404271300031575,
          0.08847171244182309,
          0.008702135650016287,
          0.04496103419174666,
          0.10442562780018445,
          0.10732633968352288,
          0.03625889854173137,
          0.01740427130003158,
          0.12328025504188425,
          0.02610640695004686,
          0.1885462724169989,
          0.06961708520012332,
          0.05366316984176195,
          1.2066961434687875,
          0.008702135650016287,
          0.03770925448340058,
          0.01740427130003158,
          0.03770925448340059,
          0.010152491591685502,
          0.026106406950046863,
          0.08847171244182309,
          0.13923417040024563,
          0.05366316984176194,
          0.0899220683834923,
          0.03480854260006215,
          0.08847171244182309,
          0.43075571467575774,
          0.02610640695004687,
          0.38289396860067365,
          0.036258898541731366,
          0.2190037471920524,
          0.04496103419174666,
          0.0797695767918078,
          0.14213488228358404,
          0.1667909332919607,
          0.04351067825007744,
          0.17259235705863757,
          0.02610640695004687,
          0.052212813900092726,
          0.12182989910021502,
          1.0529584136518508,
          0.06961708520012332,
          0.008702135650016285,
          0.1493866619919301,
          0.027556762891716075,
          0.08121993273347702,
          0.32342937499223584,
          0.01740427130003158,
          0.09717384809183836,
          0.008702135650016287,
          0.05076245795842351,
          0.05366316984176194,
          0.036258898541731366,
          0.3422840022339356,
          0.5859438004343637,
          0.06381566143344646,
          0.052212813900092726,
          0.052212813900092726,
          0.036258898541731366,
          0.38724503642568125,
          0.036258898541731366,
          0.10297527185851522,
          0.008702135650016287,
          0.027556762891716078,
          0.08702135650015387,
          0.043510678250077435,
          0.027556762891716078,
          0.05366316984176194,
          0.043510678250077435,
          0.010152491591685504,
          0.052212813900092726,
          0.18419520459199126,
          0.026106406950046863,
          0.008702135650016285,
          0.036258898541731366,
          0.06961708520012332,
          0.45831247756747284,
          0.10587598374185367,
          0.008702135650016285,
          0.2465605100837675,
          0.03770925448340058,
          0.056563881725100365,
          0.04351067825007744
         ]
        },
        {
         "hovertemplate": [
          "5-alpha_reductase_inhibitor",
          "11-beta-hsd1_inhibitor",
          "acat_inhibitor",
          "acetylcholine_receptor_agonist",
          "acetylcholine_receptor_antagonist",
          "acetylcholinesterase_inhibitor",
          "adenosine_receptor_agonist",
          "adenosine_receptor_antagonist",
          "adenylyl_cyclase_activator",
          "adrenergic_receptor_agonist",
          "adrenergic_receptor_antagonist",
          "akt_inhibitor",
          "aldehyde_dehydrogenase_inhibitor",
          "alk_inhibitor",
          "ampk_activator",
          "analgesic",
          "androgen_receptor_agonist",
          "androgen_receptor_antagonist",
          "anesthetic_-_local",
          "angiogenesis_inhibitor",
          "angiotensin_receptor_antagonist",
          "anti-inflammatory",
          "antiarrhythmic",
          "antibiotic",
          "anticonvulsant",
          "antifungal",
          "antihistamine",
          "antimalarial",
          "antioxidant",
          "antiprotozoal",
          "antiviral",
          "apoptosis_stimulant",
          "aromatase_inhibitor",
          "atm_kinase_inhibitor",
          "atp-sensitive_potassium_channel_antagonist",
          "atp_synthase_inhibitor",
          "atpase_inhibitor",
          "atr_kinase_inhibitor",
          "aurora_kinase_inhibitor",
          "autotaxin_inhibitor",
          "bacterial_30s_ribosomal_subunit_inhibitor",
          "bacterial_50s_ribosomal_subunit_inhibitor",
          "bacterial_antifolate",
          "bacterial_cell_wall_synthesis_inhibitor",
          "bacterial_dna_gyrase_inhibitor",
          "bacterial_dna_inhibitor",
          "bacterial_membrane_integrity_inhibitor",
          "bcl_inhibitor",
          "bcr-abl_inhibitor",
          "benzodiazepine_receptor_agonist",
          "beta_amyloid_inhibitor",
          "bromodomain_inhibitor",
          "btk_inhibitor",
          "calcineurin_inhibitor",
          "calcium_channel_blocker",
          "cannabinoid_receptor_agonist",
          "cannabinoid_receptor_antagonist",
          "carbonic_anhydrase_inhibitor",
          "casein_kinase_inhibitor",
          "caspase_activator",
          "catechol_o_methyltransferase_inhibitor",
          "cc_chemokine_receptor_antagonist",
          "cck_receptor_antagonist",
          "cdk_inhibitor",
          "chelating_agent",
          "chk_inhibitor",
          "chloride_channel_blocker",
          "cholesterol_inhibitor",
          "cholinergic_receptor_antagonist",
          "coagulation_factor_inhibitor",
          "corticosteroid_agonist",
          "cyclooxygenase_inhibitor",
          "cytochrome_p450_inhibitor",
          "dihydrofolate_reductase_inhibitor",
          "dipeptidyl_peptidase_inhibitor",
          "diuretic",
          "dna_alkylating_agent",
          "dna_inhibitor",
          "dopamine_receptor_agonist",
          "dopamine_receptor_antagonist",
          "egfr_inhibitor",
          "elastase_inhibitor",
          "erbb2_inhibitor",
          "estrogen_receptor_agonist",
          "estrogen_receptor_antagonist",
          "faah_inhibitor",
          "farnesyltransferase_inhibitor",
          "fatty_acid_receptor_agonist",
          "fgfr_inhibitor",
          "flt3_inhibitor",
          "focal_adhesion_kinase_inhibitor",
          "free_radical_scavenger",
          "fungal_squalene_epoxidase_inhibitor",
          "gaba_receptor_agonist",
          "gaba_receptor_antagonist",
          "gamma_secretase_inhibitor",
          "glucocorticoid_receptor_agonist",
          "glutamate_inhibitor",
          "glutamate_receptor_agonist",
          "glutamate_receptor_antagonist",
          "gonadotropin_receptor_agonist",
          "gsk_inhibitor",
          "hcv_inhibitor",
          "hdac_inhibitor",
          "histamine_receptor_agonist",
          "histamine_receptor_antagonist",
          "histone_lysine_demethylase_inhibitor",
          "histone_lysine_methyltransferase_inhibitor",
          "hiv_inhibitor",
          "hmgcr_inhibitor",
          "hsp_inhibitor",
          "igf-1_inhibitor",
          "ikk_inhibitor",
          "imidazoline_receptor_agonist",
          "immunosuppressant",
          "insulin_secretagogue",
          "insulin_sensitizer",
          "integrin_inhibitor",
          "jak_inhibitor",
          "kit_inhibitor",
          "laxative",
          "leukotriene_inhibitor",
          "leukotriene_receptor_antagonist",
          "lipase_inhibitor",
          "lipoxygenase_inhibitor",
          "lxr_agonist",
          "mdm_inhibitor",
          "mek_inhibitor",
          "membrane_integrity_inhibitor",
          "mineralocorticoid_receptor_antagonist",
          "monoacylglycerol_lipase_inhibitor",
          "monoamine_oxidase_inhibitor",
          "monopolar_spindle_1_kinase_inhibitor",
          "mtor_inhibitor",
          "mucolytic_agent",
          "neuropeptide_receptor_antagonist",
          "nfkb_inhibitor",
          "nicotinic_receptor_agonist",
          "nitric_oxide_donor",
          "nitric_oxide_production_inhibitor",
          "nitric_oxide_synthase_inhibitor",
          "norepinephrine_reuptake_inhibitor",
          "nrf2_activator",
          "opioid_receptor_agonist",
          "opioid_receptor_antagonist",
          "orexin_receptor_antagonist",
          "p38_mapk_inhibitor",
          "p-glycoprotein_inhibitor",
          "parp_inhibitor",
          "pdgfr_inhibitor",
          "pdk_inhibitor",
          "phosphodiesterase_inhibitor",
          "phospholipase_inhibitor",
          "pi3k_inhibitor",
          "pkc_inhibitor",
          "potassium_channel_activator",
          "potassium_channel_antagonist",
          "ppar_receptor_agonist",
          "ppar_receptor_antagonist",
          "progesterone_receptor_agonist",
          "progesterone_receptor_antagonist",
          "prostaglandin_inhibitor",
          "prostanoid_receptor_antagonist",
          "proteasome_inhibitor",
          "protein_kinase_inhibitor",
          "protein_phosphatase_inhibitor",
          "protein_synthesis_inhibitor",
          "protein_tyrosine_kinase_inhibitor",
          "radiopaque_medium",
          "raf_inhibitor",
          "ras_gtpase_inhibitor",
          "retinoid_receptor_agonist",
          "retinoid_receptor_antagonist",
          "rho_associated_kinase_inhibitor",
          "ribonucleoside_reductase_inhibitor",
          "rna_polymerase_inhibitor",
          "serotonin_receptor_agonist",
          "serotonin_receptor_antagonist",
          "serotonin_reuptake_inhibitor",
          "sigma_receptor_agonist",
          "sigma_receptor_antagonist",
          "smoothened_receptor_antagonist",
          "sodium_channel_inhibitor",
          "sphingosine_receptor_agonist",
          "src_inhibitor",
          "steroid",
          "syk_inhibitor",
          "tachykinin_antagonist",
          "tgf-beta_receptor_inhibitor",
          "thrombin_inhibitor",
          "thymidylate_synthase_inhibitor",
          "tlr_agonist",
          "tlr_antagonist",
          "tnf_inhibitor",
          "topoisomerase_inhibitor",
          "transient_receptor_potential_channel_antagonist",
          "tropomyosin_receptor_kinase_inhibitor",
          "trpv_agonist",
          "trpv_antagonist",
          "tubulin_inhibitor",
          "tyrosine_kinase_inhibitor",
          "ubiquitin_specific_protease_inhibitor",
          "vegfr_inhibitor",
          "vitamin_b",
          "vitamin_d_receptor_agonist",
          "wnt_inhibitor"
         ],
         "mode": "markers",
         "name": "NuSVR",
         "type": "scatter",
         "x": [
          17,
          18,
          24,
          190,
          301,
          73,
          54,
          96,
          12,
          270,
          360,
          66,
          7,
          42,
          12,
          12,
          48,
          89,
          80,
          36,
          37,
          73,
          6,
          43,
          12,
          13,
          12,
          18,
          73,
          36,
          23,
          49,
          47,
          6,
          1,
          12,
          97,
          19,
          96,
          6,
          60,
          80,
          36,
          192,
          89,
          115,
          7,
          31,
          38,
          67,
          24,
          68,
          29,
          6,
          281,
          42,
          55,
          36,
          36,
          18,
          12,
          102,
          18,
          340,
          54,
          24,
          42,
          48,
          54,
          6,
          36,
          435,
          104,
          36,
          25,
          6,
          48,
          402,
          121,
          424,
          336,
          6,
          1,
          158,
          48,
          36,
          18,
          25,
          50,
          279,
          18,
          18,
          23,
          106,
          165,
          56,
          266,
          13,
          74,
          367,
          18,
          60,
          72,
          106,
          59,
          241,
          24,
          32,
          72,
          283,
          93,
          37,
          30,
          31,
          73,
          30,
          51,
          42,
          92,
          273,
          6,
          6,
          62,
          12,
          61,
          6,
          31,
          72,
          74,
          25,
          12,
          85,
          18,
          130,
          48,
          37,
          832,
          6,
          26,
          12,
          26,
          7,
          18,
          61,
          96,
          37,
          62,
          24,
          61,
          297,
          18,
          264,
          25,
          151,
          31,
          55,
          98,
          115,
          30,
          119,
          18,
          36,
          84,
          726,
          48,
          6,
          103,
          19,
          56,
          223,
          12,
          67,
          6,
          35,
          37,
          25,
          236,
          404,
          44,
          36,
          36,
          25,
          267,
          25,
          71,
          6,
          19,
          60,
          30,
          19,
          37,
          30,
          7,
          36,
          127,
          18,
          6,
          25,
          48,
          316,
          73,
          6,
          170,
          26,
          39,
          30
         ],
         "y": [
          0.02465605100837765,
          0.026106406950046863,
          0.021373320154766756,
          0.20891860303656332,
          0.2643340776041585,
          0.08392269141502173,
          0.06218840083664516,
          0.08597633883264771,
          0.01376907695383961,
          0.15749987102203983,
          0.26823930598151874,
          0.08406145907740274,
          0.010152532217051433,
          0.04902390363754281,
          0.014903144711193141,
          0.015127613067022608,
          0.05129215749318222,
          0.05839563182977611,
          0.04003835633460759,
          0.04238379774442201,
          0.034167440735204724,
          0.06301378085475454,
          0.006335288088313991,
          0.04022290013992287,
          0.014879853499779818,
          0.01083070623548665,
          0.009799609827742042,
          0.018566599193164515,
          0.07990319668367214,
          0.04524750877467137,
          0.026234320363198744,
          0.04641790626711508,
          0.046692072240738465,
          0.006197415404415983,
          0.0014503559416702136,
          0.012646459995586704,
          0.07286789303311265,
          0.0211457883993203,
          0.08726274793012921,
          0.0070566912751416685,
          0.07583609633300242,
          0.08198570689821567,
          0.036917436417329946,
          0.24397812256883575,
          0.12437275332160208,
          0.0793018945229317,
          0.010152928687761903,
          0.03227269523358418,
          0.017416434656400446,
          0.08178802648242788,
          0.0264258521065312,
          0.04149423919200591,
          0.029493752191880565,
          0.007894751618277757,
          0.15217969029982856,
          0.04558878475892075,
          0.032865626332664426,
          0.03718116753845179,
          0.04235489617062748,
          0.018269233529563677,
          0.014956522688071306,
          0.12812163364616322,
          0.024451126678917797,
          0.2945209919773822,
          0.07094974599260767,
          0.02416073837767722,
          0.04078492222305503,
          0.06115427820683674,
          0.05134325693455876,
          0.006942275028309357,
          0.04854274115827597,
          0.5570743743263503,
          0.10560676172697414,
          0.039465517712945104,
          0.026059044941004143,
          0.0077958430152335004,
          0.037681142817625385,
          0.27303384783690776,
          0.10134098959690663,
          0.4982034746027007,
          0.12943108862141728,
          0.0087022155496786,
          0.0014503559416702138,
          0.15518168115739292,
          0.04959157258854706,
          0.04438957071502577,
          0.02342475717054717,
          0.020609863427269205,
          0.046874423912018,
          0.2630321218078444,
          0.012680086147900865,
          0.02610643953746301,
          0.03335831950200739,
          0.10997165594409228,
          0.14108570170224352,
          0.05422332206890169,
          0.1700361912068057,
          0.017291176637376737,
          0.10164997467035614,
          0.3051231315447115,
          0.025286713919704124,
          0.08225395145707949,
          0.07573547120339776,
          0.06939876647849066,
          0.06152134640199091,
          0.1557930632969158,
          0.018814449918228213,
          0.03376260568693971,
          0.099621831318747,
          0.21244409733396863,
          0.05660923678727474,
          0.025016800386806107,
          0.026372426994270805,
          0.03362660976679364,
          0.055941601994873746,
          0.03375063210181067,
          0.053745148799266056,
          0.048437368438204766,
          0.053654591291616545,
          0.1993380266253814,
          0.005694746742391571,
          0.008702144819472577,
          0.05850889184388193,
          0.016754779590510787,
          0.0701751429358012,
          0.006648071147395902,
          0.04239196541854008,
          0.04819635955114623,
          0.08863956395269541,
          0.02751771225970724,
          0.013788097860206482,
          0.10217070087521082,
          0.02092661034187683,
          0.08836682511912307,
          0.051225845354112357,
          0.0413364621460796,
          0.8355032873798851,
          0.0070919572398665575,
          0.03001494260056827,
          0.00997787796776855,
          0.03266830730558909,
          0.008664907447631189,
          0.010822396431836887,
          0.07448345438079279,
          0.09279131694095653,
          0.047022596235325634,
          0.035325550976165236,
          0.024204512991784718,
          0.07979583465297486,
          0.14065939480412246,
          0.024535638958540034,
          0.1322131787337188,
          0.028584034888634965,
          0.15706265907003505,
          0.03536562281627124,
          0.053891862561029145,
          0.09165416972607984,
          0.04751092441473575,
          0.03626017092356475,
          0.11162467607720657,
          0.01686278236645879,
          0.034054400544250615,
          0.07194424685446432,
          0.6020660203968909,
          0.060337418849240244,
          0.00785208500176547,
          0.09242025142522192,
          0.02455231343450588,
          0.060956989162641605,
          0.2484882130002774,
          0.014629109110233218,
          0.06919355979183674,
          0.008702770070286832,
          0.045255579254505775,
          0.03932565308923707,
          0.012133786841974234,
          0.24534734108743464,
          0.30489205417841775,
          0.03966066192082978,
          0.044373323682275784,
          0.026049584853804507,
          0.028454681391544546,
          0.22182519333510684,
          0.036259152126289176,
          0.07414864739750957,
          0.006294793673935995,
          0.01763009730394893,
          0.05366047048146351,
          0.03779318862021197,
          0.024749011257764953,
          0.02685079973866633,
          0.03674206389732771,
          0.00928935382465763,
          0.041351018507716726,
          0.13191113531280005,
          0.020846538354992908,
          0.006925541089217582,
          0.016829591919098087,
          0.04939414879283145,
          0.13716217754679308,
          0.08119967412669148,
          0.008703068806030905,
          0.18305940876120524,
          0.03771063469764026,
          0.04468771478460247,
          0.04115276173692731
         ]
        },
        {
         "hovertemplate": [
          "5-alpha_reductase_inhibitor",
          "11-beta-hsd1_inhibitor",
          "acat_inhibitor",
          "acetylcholine_receptor_agonist",
          "acetylcholine_receptor_antagonist",
          "acetylcholinesterase_inhibitor",
          "adenosine_receptor_agonist",
          "adenosine_receptor_antagonist",
          "adenylyl_cyclase_activator",
          "adrenergic_receptor_agonist",
          "adrenergic_receptor_antagonist",
          "akt_inhibitor",
          "aldehyde_dehydrogenase_inhibitor",
          "alk_inhibitor",
          "ampk_activator",
          "analgesic",
          "androgen_receptor_agonist",
          "androgen_receptor_antagonist",
          "anesthetic_-_local",
          "angiogenesis_inhibitor",
          "angiotensin_receptor_antagonist",
          "anti-inflammatory",
          "antiarrhythmic",
          "antibiotic",
          "anticonvulsant",
          "antifungal",
          "antihistamine",
          "antimalarial",
          "antioxidant",
          "antiprotozoal",
          "antiviral",
          "apoptosis_stimulant",
          "aromatase_inhibitor",
          "atm_kinase_inhibitor",
          "atp-sensitive_potassium_channel_antagonist",
          "atp_synthase_inhibitor",
          "atpase_inhibitor",
          "atr_kinase_inhibitor",
          "aurora_kinase_inhibitor",
          "autotaxin_inhibitor",
          "bacterial_30s_ribosomal_subunit_inhibitor",
          "bacterial_50s_ribosomal_subunit_inhibitor",
          "bacterial_antifolate",
          "bacterial_cell_wall_synthesis_inhibitor",
          "bacterial_dna_gyrase_inhibitor",
          "bacterial_dna_inhibitor",
          "bacterial_membrane_integrity_inhibitor",
          "bcl_inhibitor",
          "bcr-abl_inhibitor",
          "benzodiazepine_receptor_agonist",
          "beta_amyloid_inhibitor",
          "bromodomain_inhibitor",
          "btk_inhibitor",
          "calcineurin_inhibitor",
          "calcium_channel_blocker",
          "cannabinoid_receptor_agonist",
          "cannabinoid_receptor_antagonist",
          "carbonic_anhydrase_inhibitor",
          "casein_kinase_inhibitor",
          "caspase_activator",
          "catechol_o_methyltransferase_inhibitor",
          "cc_chemokine_receptor_antagonist",
          "cck_receptor_antagonist",
          "cdk_inhibitor",
          "chelating_agent",
          "chk_inhibitor",
          "chloride_channel_blocker",
          "cholesterol_inhibitor",
          "cholinergic_receptor_antagonist",
          "coagulation_factor_inhibitor",
          "corticosteroid_agonist",
          "cyclooxygenase_inhibitor",
          "cytochrome_p450_inhibitor",
          "dihydrofolate_reductase_inhibitor",
          "dipeptidyl_peptidase_inhibitor",
          "diuretic",
          "dna_alkylating_agent",
          "dna_inhibitor",
          "dopamine_receptor_agonist",
          "dopamine_receptor_antagonist",
          "egfr_inhibitor",
          "elastase_inhibitor",
          "erbb2_inhibitor",
          "estrogen_receptor_agonist",
          "estrogen_receptor_antagonist",
          "faah_inhibitor",
          "farnesyltransferase_inhibitor",
          "fatty_acid_receptor_agonist",
          "fgfr_inhibitor",
          "flt3_inhibitor",
          "focal_adhesion_kinase_inhibitor",
          "free_radical_scavenger",
          "fungal_squalene_epoxidase_inhibitor",
          "gaba_receptor_agonist",
          "gaba_receptor_antagonist",
          "gamma_secretase_inhibitor",
          "glucocorticoid_receptor_agonist",
          "glutamate_inhibitor",
          "glutamate_receptor_agonist",
          "glutamate_receptor_antagonist",
          "gonadotropin_receptor_agonist",
          "gsk_inhibitor",
          "hcv_inhibitor",
          "hdac_inhibitor",
          "histamine_receptor_agonist",
          "histamine_receptor_antagonist",
          "histone_lysine_demethylase_inhibitor",
          "histone_lysine_methyltransferase_inhibitor",
          "hiv_inhibitor",
          "hmgcr_inhibitor",
          "hsp_inhibitor",
          "igf-1_inhibitor",
          "ikk_inhibitor",
          "imidazoline_receptor_agonist",
          "immunosuppressant",
          "insulin_secretagogue",
          "insulin_sensitizer",
          "integrin_inhibitor",
          "jak_inhibitor",
          "kit_inhibitor",
          "laxative",
          "leukotriene_inhibitor",
          "leukotriene_receptor_antagonist",
          "lipase_inhibitor",
          "lipoxygenase_inhibitor",
          "lxr_agonist",
          "mdm_inhibitor",
          "mek_inhibitor",
          "membrane_integrity_inhibitor",
          "mineralocorticoid_receptor_antagonist",
          "monoacylglycerol_lipase_inhibitor",
          "monoamine_oxidase_inhibitor",
          "monopolar_spindle_1_kinase_inhibitor",
          "mtor_inhibitor",
          "mucolytic_agent",
          "neuropeptide_receptor_antagonist",
          "nfkb_inhibitor",
          "nicotinic_receptor_agonist",
          "nitric_oxide_donor",
          "nitric_oxide_production_inhibitor",
          "nitric_oxide_synthase_inhibitor",
          "norepinephrine_reuptake_inhibitor",
          "nrf2_activator",
          "opioid_receptor_agonist",
          "opioid_receptor_antagonist",
          "orexin_receptor_antagonist",
          "p38_mapk_inhibitor",
          "p-glycoprotein_inhibitor",
          "parp_inhibitor",
          "pdgfr_inhibitor",
          "pdk_inhibitor",
          "phosphodiesterase_inhibitor",
          "phospholipase_inhibitor",
          "pi3k_inhibitor",
          "pkc_inhibitor",
          "potassium_channel_activator",
          "potassium_channel_antagonist",
          "ppar_receptor_agonist",
          "ppar_receptor_antagonist",
          "progesterone_receptor_agonist",
          "progesterone_receptor_antagonist",
          "prostaglandin_inhibitor",
          "prostanoid_receptor_antagonist",
          "proteasome_inhibitor",
          "protein_kinase_inhibitor",
          "protein_phosphatase_inhibitor",
          "protein_synthesis_inhibitor",
          "protein_tyrosine_kinase_inhibitor",
          "radiopaque_medium",
          "raf_inhibitor",
          "ras_gtpase_inhibitor",
          "retinoid_receptor_agonist",
          "retinoid_receptor_antagonist",
          "rho_associated_kinase_inhibitor",
          "ribonucleoside_reductase_inhibitor",
          "rna_polymerase_inhibitor",
          "serotonin_receptor_agonist",
          "serotonin_receptor_antagonist",
          "serotonin_reuptake_inhibitor",
          "sigma_receptor_agonist",
          "sigma_receptor_antagonist",
          "smoothened_receptor_antagonist",
          "sodium_channel_inhibitor",
          "sphingosine_receptor_agonist",
          "src_inhibitor",
          "steroid",
          "syk_inhibitor",
          "tachykinin_antagonist",
          "tgf-beta_receptor_inhibitor",
          "thrombin_inhibitor",
          "thymidylate_synthase_inhibitor",
          "tlr_agonist",
          "tlr_antagonist",
          "tnf_inhibitor",
          "topoisomerase_inhibitor",
          "transient_receptor_potential_channel_antagonist",
          "tropomyosin_receptor_kinase_inhibitor",
          "trpv_agonist",
          "trpv_antagonist",
          "tubulin_inhibitor",
          "tyrosine_kinase_inhibitor",
          "ubiquitin_specific_protease_inhibitor",
          "vegfr_inhibitor",
          "vitamin_b",
          "vitamin_d_receptor_agonist",
          "wnt_inhibitor"
         ],
         "mode": "markers",
         "name": "linSVR",
         "type": "scatter",
         "x": [
          17,
          18,
          24,
          190,
          301,
          73,
          54,
          96,
          12,
          270,
          360,
          66,
          7,
          42,
          12,
          12,
          48,
          89,
          80,
          36,
          37,
          73,
          6,
          43,
          12,
          13,
          12,
          18,
          73,
          36,
          23,
          49,
          47,
          6,
          1,
          12,
          97,
          19,
          96,
          6,
          60,
          80,
          36,
          192,
          89,
          115,
          7,
          31,
          38,
          67,
          24,
          68,
          29,
          6,
          281,
          42,
          55,
          36,
          36,
          18,
          12,
          102,
          18,
          340,
          54,
          24,
          42,
          48,
          54,
          6,
          36,
          435,
          104,
          36,
          25,
          6,
          48,
          402,
          121,
          424,
          336,
          6,
          1,
          158,
          48,
          36,
          18,
          25,
          50,
          279,
          18,
          18,
          23,
          106,
          165,
          56,
          266,
          13,
          74,
          367,
          18,
          60,
          72,
          106,
          59,
          241,
          24,
          32,
          72,
          283,
          93,
          37,
          30,
          31,
          73,
          30,
          51,
          42,
          92,
          273,
          6,
          6,
          62,
          12,
          61,
          6,
          31,
          72,
          74,
          25,
          12,
          85,
          18,
          130,
          48,
          37,
          832,
          6,
          26,
          12,
          26,
          7,
          18,
          61,
          96,
          37,
          62,
          24,
          61,
          297,
          18,
          264,
          25,
          151,
          31,
          55,
          98,
          115,
          30,
          119,
          18,
          36,
          84,
          726,
          48,
          6,
          103,
          19,
          56,
          223,
          12,
          67,
          6,
          35,
          37,
          25,
          236,
          404,
          44,
          36,
          36,
          25,
          267,
          25,
          71,
          6,
          19,
          60,
          30,
          19,
          37,
          30,
          7,
          36,
          127,
          18,
          6,
          25,
          48,
          316,
          73,
          6,
          170,
          26,
          39,
          30
         ],
         "y": [
          0.005831072022101893,
          0.0062367966075362255,
          0.007978826744621,
          0.046532153206883135,
          0.06764519498468158,
          0.020674200783992996,
          0.016045308936736183,
          0.02617930117984991,
          0.004410436616566181,
          0.061465668061985515,
          0.07819365420172178,
          0.01892843312150654,
          0.0026345682300976028,
          0.01300006856917485,
          0.004333620848570402,
          0.004248240433775837,
          0.014503088292594333,
          0.024660313244141842,
          0.02249396089647529,
          0.011297205913931439,
          0.011599045208352294,
          0.02083031236872575,
          0.002352113482594083,
          0.013188841549764905,
          0.004369326872743167,
          0.004650355328805417,
          0.0043236828031939425,
          0.006214198142430628,
          0.02066446573334994,
          0.011342876546885395,
          0.00767303204840099,
          0.014890535213746234,
          0.014115718316159428,
          0.002345676579883589,
          0.0014503559416702136,
          0.004065520270877872,
          0.025914699595589084,
          0.006488820228366745,
          0.024752217363843882,
          0.002301375812520917,
          0.017370348638267228,
          0.02243234683566219,
          0.011344221828718798,
          0.046754972797189036,
          0.024566871977685388,
          0.030630721758026787,
          0.003760352039339202,
          0.010978942781144353,
          0.01189667503898387,
          0.0193395606048917,
          0.007960219227400405,
          0.019635670875574652,
          0.009291168310008641,
          0.002329830897034114,
          0.06401526286595917,
          0.012951765101314528,
          0.01635370692662676,
          0.011329246520561505,
          0.011312954428724162,
          0.006167602628048446,
          0.004278303310673196,
          0.027588697293121876,
          0.006150508681834448,
          0.07349164643998377,
          0.015968265000170855,
          0.007659009572503486,
          0.0127415263968949,
          0.01434128440289508,
          0.01593223619662827,
          0.00234289766191843,
          0.01133443835000506,
          0.09077882184970891,
          0.028042983450983508,
          0.011276133017276122,
          0.008113297037170309,
          0.002357632468117093,
          0.014467989815617484,
          0.08565436115853382,
          0.03189774372576333,
          0.08939811210536328,
          0.0735421211170771,
          0.002353981450198713,
          0.0014503559416702138,
          0.03988575478072683,
          0.014526250357841103,
          0.012300725394578268,
          0.00603444061388778,
          0.00817497228203518,
          0.01506908749380371,
          0.06376367456823122,
          0.007165433663907627,
          0.006199985126827718,
          0.00764515599549536,
          0.028401722716811652,
          0.04127886112397169,
          0.016444221338569806,
          0.06089946435185394,
          0.004652701314891327,
          0.020983698148196332,
          0.07877187263825523,
          0.006163852958142984,
          0.01759738734420235,
          0.020405115187708,
          0.029511672300418724,
          0.01724552973654264,
          0.056476507606090326,
          0.00796990828506284,
          0.010006583766986262,
          0.02149711051093905,
          0.06415444221964624,
          0.023855177708779204,
          0.01140894297389204,
          0.009726953575741765,
          0.009903106792157156,
          0.020784218716675344,
          0.009679037062016234,
          0.015264901434627623,
          0.01300170642169239,
          0.025320982820766384,
          0.06246477946155066,
          0.0024947295858661596,
          0.00235512045743162,
          0.018035518878921568,
          0.0042518743142080356,
          0.018760874975453357,
          0.0023380667829318814,
          0.009957648307796857,
          0.021386956974335358,
          0.0209815141790747,
          0.008228168227345126,
          0.004321890192678845,
          0.023667115839409884,
          0.006218263284054405,
          0.032841639151518914,
          0.014446359897872066,
          0.011603803036656195,
          0.16898144197949105,
          0.002371989435028168,
          0.008492120335365552,
          0.00422791161803384,
          0.008542596878457279,
          0.0026584850321569927,
          0.010022741406093098,
          0.018982782757997953,
          0.026293584234826133,
          0.011655475851224678,
          0.018119481652722605,
          0.008056274519735738,
          0.01771098594733401,
          0.06710305744294315,
          0.006199938149449491,
          0.060965440771229715,
          0.008177498472208451,
          0.03775005636406808,
          0.009943823801261176,
          0.016318670979156374,
          0.026749670102798155,
          0.030656605683734746,
          0.009696971203088172,
          0.03146061548982807,
          0.006174004105544448,
          0.011327434395304703,
          0.02335330331062189,
          0.13674941713594227,
          0.014465104628272352,
          0.002329313625363307,
          0.027921076969987173,
          0.006447015081736732,
          0.01655802039131388,
          0.058530349484819215,
          0.004347669648141545,
          0.018894683281625795,
          0.0023087549628663484,
          0.011061616669019437,
          0.011606306088654487,
          0.008085848983850882,
          0.055456294867790294,
          0.08592929944878917,
          0.013449009004918362,
          0.01128966781199427,
          0.011349182364965677,
          0.00939330483987544,
          0.061526178635091626,
          0.00823796117851257,
          0.0203415750347607,
          0.002351158044111295,
          0.007528277187480458,
          0.01751538977189555,
          0.009379680531876098,
          0.0064861228308376664,
          0.01153452784576517,
          0.00963057461042005,
          0.002718632388188828,
          0.011350224417594208,
          0.03441045241130867,
          0.006166925744739594,
          0.002380490221436166,
          0.008302030315432684,
          0.015631823515068147,
          0.06944287002669686,
          0.020626487123264575,
          0.002352093609178464,
          0.04243210851895119,
          0.008506518831265412,
          0.011947172992174081,
          0.009679503036961462
         ]
        },
        {
         "hovertemplate": [
          "5-alpha_reductase_inhibitor",
          "11-beta-hsd1_inhibitor",
          "acat_inhibitor",
          "acetylcholine_receptor_agonist",
          "acetylcholine_receptor_antagonist",
          "acetylcholinesterase_inhibitor",
          "adenosine_receptor_agonist",
          "adenosine_receptor_antagonist",
          "adenylyl_cyclase_activator",
          "adrenergic_receptor_agonist",
          "adrenergic_receptor_antagonist",
          "akt_inhibitor",
          "aldehyde_dehydrogenase_inhibitor",
          "alk_inhibitor",
          "ampk_activator",
          "analgesic",
          "androgen_receptor_agonist",
          "androgen_receptor_antagonist",
          "anesthetic_-_local",
          "angiogenesis_inhibitor",
          "angiotensin_receptor_antagonist",
          "anti-inflammatory",
          "antiarrhythmic",
          "antibiotic",
          "anticonvulsant",
          "antifungal",
          "antihistamine",
          "antimalarial",
          "antioxidant",
          "antiprotozoal",
          "antiviral",
          "apoptosis_stimulant",
          "aromatase_inhibitor",
          "atm_kinase_inhibitor",
          "atp-sensitive_potassium_channel_antagonist",
          "atp_synthase_inhibitor",
          "atpase_inhibitor",
          "atr_kinase_inhibitor",
          "aurora_kinase_inhibitor",
          "autotaxin_inhibitor",
          "bacterial_30s_ribosomal_subunit_inhibitor",
          "bacterial_50s_ribosomal_subunit_inhibitor",
          "bacterial_antifolate",
          "bacterial_cell_wall_synthesis_inhibitor",
          "bacterial_dna_gyrase_inhibitor",
          "bacterial_dna_inhibitor",
          "bacterial_membrane_integrity_inhibitor",
          "bcl_inhibitor",
          "bcr-abl_inhibitor",
          "benzodiazepine_receptor_agonist",
          "beta_amyloid_inhibitor",
          "bromodomain_inhibitor",
          "btk_inhibitor",
          "calcineurin_inhibitor",
          "calcium_channel_blocker",
          "cannabinoid_receptor_agonist",
          "cannabinoid_receptor_antagonist",
          "carbonic_anhydrase_inhibitor",
          "casein_kinase_inhibitor",
          "caspase_activator",
          "catechol_o_methyltransferase_inhibitor",
          "cc_chemokine_receptor_antagonist",
          "cck_receptor_antagonist",
          "cdk_inhibitor",
          "chelating_agent",
          "chk_inhibitor",
          "chloride_channel_blocker",
          "cholesterol_inhibitor",
          "cholinergic_receptor_antagonist",
          "coagulation_factor_inhibitor",
          "corticosteroid_agonist",
          "cyclooxygenase_inhibitor",
          "cytochrome_p450_inhibitor",
          "dihydrofolate_reductase_inhibitor",
          "dipeptidyl_peptidase_inhibitor",
          "diuretic",
          "dna_alkylating_agent",
          "dna_inhibitor",
          "dopamine_receptor_agonist",
          "dopamine_receptor_antagonist",
          "egfr_inhibitor",
          "elastase_inhibitor",
          "erbb2_inhibitor",
          "estrogen_receptor_agonist",
          "estrogen_receptor_antagonist",
          "faah_inhibitor",
          "farnesyltransferase_inhibitor",
          "fatty_acid_receptor_agonist",
          "fgfr_inhibitor",
          "flt3_inhibitor",
          "focal_adhesion_kinase_inhibitor",
          "free_radical_scavenger",
          "fungal_squalene_epoxidase_inhibitor",
          "gaba_receptor_agonist",
          "gaba_receptor_antagonist",
          "gamma_secretase_inhibitor",
          "glucocorticoid_receptor_agonist",
          "glutamate_inhibitor",
          "glutamate_receptor_agonist",
          "glutamate_receptor_antagonist",
          "gonadotropin_receptor_agonist",
          "gsk_inhibitor",
          "hcv_inhibitor",
          "hdac_inhibitor",
          "histamine_receptor_agonist",
          "histamine_receptor_antagonist",
          "histone_lysine_demethylase_inhibitor",
          "histone_lysine_methyltransferase_inhibitor",
          "hiv_inhibitor",
          "hmgcr_inhibitor",
          "hsp_inhibitor",
          "igf-1_inhibitor",
          "ikk_inhibitor",
          "imidazoline_receptor_agonist",
          "immunosuppressant",
          "insulin_secretagogue",
          "insulin_sensitizer",
          "integrin_inhibitor",
          "jak_inhibitor",
          "kit_inhibitor",
          "laxative",
          "leukotriene_inhibitor",
          "leukotriene_receptor_antagonist",
          "lipase_inhibitor",
          "lipoxygenase_inhibitor",
          "lxr_agonist",
          "mdm_inhibitor",
          "mek_inhibitor",
          "membrane_integrity_inhibitor",
          "mineralocorticoid_receptor_antagonist",
          "monoacylglycerol_lipase_inhibitor",
          "monoamine_oxidase_inhibitor",
          "monopolar_spindle_1_kinase_inhibitor",
          "mtor_inhibitor",
          "mucolytic_agent",
          "neuropeptide_receptor_antagonist",
          "nfkb_inhibitor",
          "nicotinic_receptor_agonist",
          "nitric_oxide_donor",
          "nitric_oxide_production_inhibitor",
          "nitric_oxide_synthase_inhibitor",
          "norepinephrine_reuptake_inhibitor",
          "nrf2_activator",
          "opioid_receptor_agonist",
          "opioid_receptor_antagonist",
          "orexin_receptor_antagonist",
          "p38_mapk_inhibitor",
          "p-glycoprotein_inhibitor",
          "parp_inhibitor",
          "pdgfr_inhibitor",
          "pdk_inhibitor",
          "phosphodiesterase_inhibitor",
          "phospholipase_inhibitor",
          "pi3k_inhibitor",
          "pkc_inhibitor",
          "potassium_channel_activator",
          "potassium_channel_antagonist",
          "ppar_receptor_agonist",
          "ppar_receptor_antagonist",
          "progesterone_receptor_agonist",
          "progesterone_receptor_antagonist",
          "prostaglandin_inhibitor",
          "prostanoid_receptor_antagonist",
          "proteasome_inhibitor",
          "protein_kinase_inhibitor",
          "protein_phosphatase_inhibitor",
          "protein_synthesis_inhibitor",
          "protein_tyrosine_kinase_inhibitor",
          "radiopaque_medium",
          "raf_inhibitor",
          "ras_gtpase_inhibitor",
          "retinoid_receptor_agonist",
          "retinoid_receptor_antagonist",
          "rho_associated_kinase_inhibitor",
          "ribonucleoside_reductase_inhibitor",
          "rna_polymerase_inhibitor",
          "serotonin_receptor_agonist",
          "serotonin_receptor_antagonist",
          "serotonin_reuptake_inhibitor",
          "sigma_receptor_agonist",
          "sigma_receptor_antagonist",
          "smoothened_receptor_antagonist",
          "sodium_channel_inhibitor",
          "sphingosine_receptor_agonist",
          "src_inhibitor",
          "steroid",
          "syk_inhibitor",
          "tachykinin_antagonist",
          "tgf-beta_receptor_inhibitor",
          "thrombin_inhibitor",
          "thymidylate_synthase_inhibitor",
          "tlr_agonist",
          "tlr_antagonist",
          "tnf_inhibitor",
          "topoisomerase_inhibitor",
          "transient_receptor_potential_channel_antagonist",
          "tropomyosin_receptor_kinase_inhibitor",
          "trpv_agonist",
          "trpv_antagonist",
          "tubulin_inhibitor",
          "tyrosine_kinase_inhibitor",
          "ubiquitin_specific_protease_inhibitor",
          "vegfr_inhibitor",
          "vitamin_b",
          "vitamin_d_receptor_agonist",
          "wnt_inhibitor"
         ],
         "mode": "markers",
         "name": "Logistic Regression",
         "type": "scatter",
         "x": [
          17,
          18,
          24,
          190,
          301,
          73,
          54,
          96,
          12,
          270,
          360,
          66,
          7,
          42,
          12,
          12,
          48,
          89,
          80,
          36,
          37,
          73,
          6,
          43,
          12,
          13,
          12,
          18,
          73,
          36,
          23,
          49,
          47,
          6,
          1,
          12,
          97,
          19,
          96,
          6,
          60,
          80,
          36,
          192,
          89,
          115,
          7,
          31,
          38,
          67,
          24,
          68,
          29,
          6,
          281,
          42,
          55,
          36,
          36,
          18,
          12,
          102,
          18,
          340,
          54,
          24,
          42,
          48,
          54,
          6,
          36,
          435,
          104,
          36,
          25,
          6,
          48,
          402,
          121,
          424,
          336,
          6,
          1,
          158,
          48,
          36,
          18,
          25,
          50,
          279,
          18,
          18,
          23,
          106,
          165,
          56,
          266,
          13,
          74,
          367,
          18,
          60,
          72,
          106,
          59,
          241,
          24,
          32,
          72,
          283,
          93,
          37,
          30,
          31,
          73,
          30,
          51,
          42,
          92,
          273,
          6,
          6,
          62,
          12,
          61,
          6,
          31,
          72,
          74,
          25,
          12,
          85,
          18,
          130,
          48,
          37,
          832,
          6,
          26,
          12,
          26,
          7,
          18,
          61,
          96,
          37,
          62,
          24,
          61,
          297,
          18,
          264,
          25,
          151,
          31,
          55,
          98,
          115,
          30,
          119,
          18,
          36,
          84,
          726,
          48,
          6,
          103,
          19,
          56,
          223,
          12,
          67,
          6,
          35,
          37,
          25,
          236,
          404,
          44,
          36,
          36,
          25,
          267,
          25,
          71,
          6,
          19,
          60,
          30,
          19,
          37,
          30,
          7,
          36,
          127,
          18,
          6,
          25,
          48,
          316,
          73,
          6,
          170,
          26,
          39,
          30
         ],
         "y": [
          0.005830623315948098,
          0.006236792624913174,
          0.007978780710731765,
          0.046532121224760636,
          0.06767420362684742,
          0.020716495730660565,
          0.016058762080757717,
          0.026209240324480455,
          0.0043954215019391925,
          0.06158548671941677,
          0.07826840129778204,
          0.01897767798543146,
          0.0026670728094075054,
          0.01302012627876443,
          0.004341225785943321,
          0.004250601548064522,
          0.01452424859570846,
          0.024661538166436934,
          0.022503299315641684,
          0.011334780866398546,
          0.011603009332314444,
          0.02083548440210421,
          0.0023559557491704217,
          0.01311956423001844,
          0.004368542433882546,
          0.004655386127593038,
          0.0043513120304055535,
          0.006209724785426988,
          0.0207195000724082,
          0.011344489863555303,
          0.007675623467006081,
          0.014883475118405282,
          0.01415822441201533,
          0.0023505833993926104,
          0.0014503559416702136,
          0.004080352883103966,
          0.025825393300126266,
          0.006496515802448264,
          0.02538550062532298,
          0.002272710883459889,
          0.017380675037869008,
          0.022459649208535788,
          0.011345086450808903,
          0.0468079705705623,
          0.024594244213974065,
          0.03062354246109977,
          0.0027444271221193097,
          0.00989062757468785,
          0.011896755809241728,
          0.019340177219236542,
          0.007965844680439349,
          0.019610396043187765,
          0.00931525938624925,
          0.002336744750466625,
          0.06405331020801064,
          0.01295480368967307,
          0.0163537925500953,
          0.011345343904518758,
          0.011318644122705467,
          0.006183435139200515,
          0.004286163681556558,
          0.02762196548755424,
          0.006171805080599705,
          0.07334185415723994,
          0.015999609650672954,
          0.007831905228941238,
          0.01280428898428355,
          0.014387535604123028,
          0.015987786864055855,
          0.002370116788999531,
          0.011337901461896047,
          0.09087187905968544,
          0.028063498347615203,
          0.011282784508092045,
          0.008103599202173385,
          0.0023513173521538884,
          0.014487720087473704,
          0.08565572271046754,
          0.03191198398566888,
          0.08940037753189563,
          0.07354008002750367,
          0.002352033102727093,
          0.0014503559416702138,
          0.039901337774368044,
          0.014534127052648128,
          0.011201862827629184,
          0.00601396554547451,
          0.00820618549918643,
          0.015073197628713678,
          0.06376377039096787,
          0.0061069432809438915,
          0.0062007324000306315,
          0.007662261805934805,
          0.02841123538997405,
          0.04130550829479115,
          0.01650738529822305,
          0.06104341464282291,
          0.004659782825628136,
          0.02101092476691544,
          0.07882629977310962,
          0.006179271909641999,
          0.01760178756410314,
          0.020440624698726984,
          0.028263676206896175,
          0.01727905532616333,
          0.05650770434701553,
          0.007970721499493016,
          0.01001132124049327,
          0.020392546574385682,
          0.06429359086932525,
          0.024045849495653394,
          0.011473291537075228,
          0.009695936772187922,
          0.009917626322021767,
          0.020796949799897664,
          0.009683723580950985,
          0.015287947839839193,
          0.012994583570939914,
          0.02531882968626482,
          0.06251358777731116,
          0.0024102366008430217,
          0.0023566129706579114,
          0.01806987190819481,
          0.0042492400727822364,
          0.017548081414035424,
          0.002350166094442365,
          0.009957791620892612,
          0.020116586846777227,
          0.02100676842391899,
          0.008239057835894358,
          0.004330685394651886,
          0.02367576810181112,
          0.006217111335044325,
          0.032623393942152724,
          0.014463300322118419,
          0.011608656263156054,
          0.09637727365159575,
          0.0023832929252792325,
          0.008515002653279579,
          0.004259246463386014,
          0.008543271797425613,
          0.0026696387249576232,
          0.0055773026966722174,
          0.017848523432446944,
          0.026177865320516646,
          0.011664994800008205,
          0.018126079795748297,
          0.008035808411591055,
          0.01776455612084681,
          0.06708548334617256,
          0.006201013996411772,
          0.060968258187399114,
          0.008208583184737482,
          0.03668911343917257,
          0.009954998521326067,
          0.016333048368861878,
          0.026749791675315288,
          0.030646408254494082,
          0.009699311250982985,
          0.031464427370431806,
          0.006184110692750501,
          0.011331121485567974,
          0.023342265829301073,
          0.13583244097973785,
          0.014487922846292182,
          0.002344197404514347,
          0.02790336165008008,
          0.006470254816662576,
          0.016578379462154683,
          0.038606157027797156,
          0.004353562812770027,
          0.019042806463558132,
          0.0023172528988673054,
          0.011064803113567542,
          0.01160878454154629,
          0.008016676891820082,
          0.05550419227225393,
          0.08595967144886414,
          0.013469482990218409,
          0.011312026253693494,
          0.011347850046094664,
          0.008276102029348972,
          0.06153053868554995,
          0.008247257662560436,
          0.020323074719984832,
          0.0023514962253626875,
          0.006525534062927226,
          0.017555970556951545,
          0.009235580454007018,
          0.006495562798211944,
          0.011558598472399323,
          0.009647925073414549,
          0.0027181003637978406,
          0.01135369530278692,
          0.03235452991553183,
          0.006180472294837442,
          0.0023697091038273697,
          0.008292148062286902,
          0.014526405796536234,
          0.07000580740047996,
          0.02065160841467872,
          0.002354203693258608,
          0.04243122277897209,
          0.008521098130737549,
          0.011968874763236624,
          0.009680750259958086
         ]
        },
        {
         "hovertemplate": [
          "5-alpha_reductase_inhibitor",
          "11-beta-hsd1_inhibitor",
          "acat_inhibitor",
          "acetylcholine_receptor_agonist",
          "acetylcholine_receptor_antagonist",
          "acetylcholinesterase_inhibitor",
          "adenosine_receptor_agonist",
          "adenosine_receptor_antagonist",
          "adenylyl_cyclase_activator",
          "adrenergic_receptor_agonist",
          "adrenergic_receptor_antagonist",
          "akt_inhibitor",
          "aldehyde_dehydrogenase_inhibitor",
          "alk_inhibitor",
          "ampk_activator",
          "analgesic",
          "androgen_receptor_agonist",
          "androgen_receptor_antagonist",
          "anesthetic_-_local",
          "angiogenesis_inhibitor",
          "angiotensin_receptor_antagonist",
          "anti-inflammatory",
          "antiarrhythmic",
          "antibiotic",
          "anticonvulsant",
          "antifungal",
          "antihistamine",
          "antimalarial",
          "antioxidant",
          "antiprotozoal",
          "antiviral",
          "apoptosis_stimulant",
          "aromatase_inhibitor",
          "atm_kinase_inhibitor",
          "atp-sensitive_potassium_channel_antagonist",
          "atp_synthase_inhibitor",
          "atpase_inhibitor",
          "atr_kinase_inhibitor",
          "aurora_kinase_inhibitor",
          "autotaxin_inhibitor",
          "bacterial_30s_ribosomal_subunit_inhibitor",
          "bacterial_50s_ribosomal_subunit_inhibitor",
          "bacterial_antifolate",
          "bacterial_cell_wall_synthesis_inhibitor",
          "bacterial_dna_gyrase_inhibitor",
          "bacterial_dna_inhibitor",
          "bacterial_membrane_integrity_inhibitor",
          "bcl_inhibitor",
          "bcr-abl_inhibitor",
          "benzodiazepine_receptor_agonist",
          "beta_amyloid_inhibitor",
          "bromodomain_inhibitor",
          "btk_inhibitor",
          "calcineurin_inhibitor",
          "calcium_channel_blocker",
          "cannabinoid_receptor_agonist",
          "cannabinoid_receptor_antagonist",
          "carbonic_anhydrase_inhibitor",
          "casein_kinase_inhibitor",
          "caspase_activator",
          "catechol_o_methyltransferase_inhibitor",
          "cc_chemokine_receptor_antagonist",
          "cck_receptor_antagonist",
          "cdk_inhibitor",
          "chelating_agent",
          "chk_inhibitor",
          "chloride_channel_blocker",
          "cholesterol_inhibitor",
          "cholinergic_receptor_antagonist",
          "coagulation_factor_inhibitor",
          "corticosteroid_agonist",
          "cyclooxygenase_inhibitor",
          "cytochrome_p450_inhibitor",
          "dihydrofolate_reductase_inhibitor",
          "dipeptidyl_peptidase_inhibitor",
          "diuretic",
          "dna_alkylating_agent",
          "dna_inhibitor",
          "dopamine_receptor_agonist",
          "dopamine_receptor_antagonist",
          "egfr_inhibitor",
          "elastase_inhibitor",
          "erbb2_inhibitor",
          "estrogen_receptor_agonist",
          "estrogen_receptor_antagonist",
          "faah_inhibitor",
          "farnesyltransferase_inhibitor",
          "fatty_acid_receptor_agonist",
          "fgfr_inhibitor",
          "flt3_inhibitor",
          "focal_adhesion_kinase_inhibitor",
          "free_radical_scavenger",
          "fungal_squalene_epoxidase_inhibitor",
          "gaba_receptor_agonist",
          "gaba_receptor_antagonist",
          "gamma_secretase_inhibitor",
          "glucocorticoid_receptor_agonist",
          "glutamate_inhibitor",
          "glutamate_receptor_agonist",
          "glutamate_receptor_antagonist",
          "gonadotropin_receptor_agonist",
          "gsk_inhibitor",
          "hcv_inhibitor",
          "hdac_inhibitor",
          "histamine_receptor_agonist",
          "histamine_receptor_antagonist",
          "histone_lysine_demethylase_inhibitor",
          "histone_lysine_methyltransferase_inhibitor",
          "hiv_inhibitor",
          "hmgcr_inhibitor",
          "hsp_inhibitor",
          "igf-1_inhibitor",
          "ikk_inhibitor",
          "imidazoline_receptor_agonist",
          "immunosuppressant",
          "insulin_secretagogue",
          "insulin_sensitizer",
          "integrin_inhibitor",
          "jak_inhibitor",
          "kit_inhibitor",
          "laxative",
          "leukotriene_inhibitor",
          "leukotriene_receptor_antagonist",
          "lipase_inhibitor",
          "lipoxygenase_inhibitor",
          "lxr_agonist",
          "mdm_inhibitor",
          "mek_inhibitor",
          "membrane_integrity_inhibitor",
          "mineralocorticoid_receptor_antagonist",
          "monoacylglycerol_lipase_inhibitor",
          "monoamine_oxidase_inhibitor",
          "monopolar_spindle_1_kinase_inhibitor",
          "mtor_inhibitor",
          "mucolytic_agent",
          "neuropeptide_receptor_antagonist",
          "nfkb_inhibitor",
          "nicotinic_receptor_agonist",
          "nitric_oxide_donor",
          "nitric_oxide_production_inhibitor",
          "nitric_oxide_synthase_inhibitor",
          "norepinephrine_reuptake_inhibitor",
          "nrf2_activator",
          "opioid_receptor_agonist",
          "opioid_receptor_antagonist",
          "orexin_receptor_antagonist",
          "p38_mapk_inhibitor",
          "p-glycoprotein_inhibitor",
          "parp_inhibitor",
          "pdgfr_inhibitor",
          "pdk_inhibitor",
          "phosphodiesterase_inhibitor",
          "phospholipase_inhibitor",
          "pi3k_inhibitor",
          "pkc_inhibitor",
          "potassium_channel_activator",
          "potassium_channel_antagonist",
          "ppar_receptor_agonist",
          "ppar_receptor_antagonist",
          "progesterone_receptor_agonist",
          "progesterone_receptor_antagonist",
          "prostaglandin_inhibitor",
          "prostanoid_receptor_antagonist",
          "proteasome_inhibitor",
          "protein_kinase_inhibitor",
          "protein_phosphatase_inhibitor",
          "protein_synthesis_inhibitor",
          "protein_tyrosine_kinase_inhibitor",
          "radiopaque_medium",
          "raf_inhibitor",
          "ras_gtpase_inhibitor",
          "retinoid_receptor_agonist",
          "retinoid_receptor_antagonist",
          "rho_associated_kinase_inhibitor",
          "ribonucleoside_reductase_inhibitor",
          "rna_polymerase_inhibitor",
          "serotonin_receptor_agonist",
          "serotonin_receptor_antagonist",
          "serotonin_reuptake_inhibitor",
          "sigma_receptor_agonist",
          "sigma_receptor_antagonist",
          "smoothened_receptor_antagonist",
          "sodium_channel_inhibitor",
          "sphingosine_receptor_agonist",
          "src_inhibitor",
          "steroid",
          "syk_inhibitor",
          "tachykinin_antagonist",
          "tgf-beta_receptor_inhibitor",
          "thrombin_inhibitor",
          "thymidylate_synthase_inhibitor",
          "tlr_agonist",
          "tlr_antagonist",
          "tnf_inhibitor",
          "topoisomerase_inhibitor",
          "transient_receptor_potential_channel_antagonist",
          "tropomyosin_receptor_kinase_inhibitor",
          "trpv_agonist",
          "trpv_antagonist",
          "tubulin_inhibitor",
          "tyrosine_kinase_inhibitor",
          "ubiquitin_specific_protease_inhibitor",
          "vegfr_inhibitor",
          "vitamin_b",
          "vitamin_d_receptor_agonist",
          "wnt_inhibitor"
         ],
         "mode": "markers",
         "name": "Random Forest Regression",
         "type": "scatter",
         "x": [
          17,
          18,
          24,
          190,
          301,
          73,
          54,
          96,
          12,
          270,
          360,
          66,
          7,
          42,
          12,
          12,
          48,
          89,
          80,
          36,
          37,
          73,
          6,
          43,
          12,
          13,
          12,
          18,
          73,
          36,
          23,
          49,
          47,
          6,
          1,
          12,
          97,
          19,
          96,
          6,
          60,
          80,
          36,
          192,
          89,
          115,
          7,
          31,
          38,
          67,
          24,
          68,
          29,
          6,
          281,
          42,
          55,
          36,
          36,
          18,
          12,
          102,
          18,
          340,
          54,
          24,
          42,
          48,
          54,
          6,
          36,
          435,
          104,
          36,
          25,
          6,
          48,
          402,
          121,
          424,
          336,
          6,
          1,
          158,
          48,
          36,
          18,
          25,
          50,
          279,
          18,
          18,
          23,
          106,
          165,
          56,
          266,
          13,
          74,
          367,
          18,
          60,
          72,
          106,
          59,
          241,
          24,
          32,
          72,
          283,
          93,
          37,
          30,
          31,
          73,
          30,
          51,
          42,
          92,
          273,
          6,
          6,
          62,
          12,
          61,
          6,
          31,
          72,
          74,
          25,
          12,
          85,
          18,
          130,
          48,
          37,
          832,
          6,
          26,
          12,
          26,
          7,
          18,
          61,
          96,
          37,
          62,
          24,
          61,
          297,
          18,
          264,
          25,
          151,
          31,
          55,
          98,
          115,
          30,
          119,
          18,
          36,
          84,
          726,
          48,
          6,
          103,
          19,
          56,
          223,
          12,
          67,
          6,
          35,
          37,
          25,
          236,
          404,
          44,
          36,
          36,
          25,
          267,
          25,
          71,
          6,
          19,
          60,
          30,
          19,
          37,
          30,
          7,
          36,
          127,
          18,
          6,
          25,
          48,
          316,
          73,
          6,
          170,
          26,
          39,
          30
         ],
         "y": [
          0.005832626157820068,
          0.0062372378144672,
          0.00819330790408594,
          0.0465429747943948,
          0.06780383692855188,
          0.021134658587802356,
          0.016384841460868157,
          0.026562936023320643,
          0.004911414071871816,
          0.06186146353494312,
          0.07747490786778577,
          0.018876869681061878,
          0.0038930156741204367,
          0.013260396177076045,
          0.004681325652180976,
          0.004741557771336225,
          0.014869227687426122,
          0.02478027884791887,
          0.022837012505434597,
          0.01158482589555263,
          0.01208366797130378,
          0.02102651382943885,
          0.0029988904191288637,
          0.0134619638882337,
          0.004885890401976042,
          0.005847251553089487,
          0.004670217503246909,
          0.0064611077530722085,
          0.021079350436196735,
          0.011613457570646824,
          0.007996028370231608,
          0.015290613656957152,
          0.014584288374847876,
          0.004726983334469083,
          0.0014503559416702136,
          0.0054486612717959786,
          0.02577290407398193,
          0.007056260246969822,
          0.02470788127476214,
          0.0034827736452244214,
          0.0177368100917087,
          0.022784120698300925,
          0.011813253752390696,
          0.046687017132379195,
          0.024909503221289615,
          0.030847199804086792,
          0.003995788279920621,
          0.010229441015590863,
          0.011911627542582282,
          0.019489029826546347,
          0.008287909609887855,
          0.019512158447889675,
          0.009475362525943193,
          0.004618797943864961,
          0.06400036906645085,
          0.012918877492990912,
          0.016830474702206576,
          0.011754000815730588,
          0.011702119543628299,
          0.006579599871534956,
          0.005539680930419343,
          0.027720521051130858,
          0.006376449767547342,
          0.07284240498813233,
          0.01636693135591969,
          0.008407376908911147,
          0.012820224774496689,
          0.014683812633626187,
          0.016380442223705348,
          0.004712114271977718,
          0.011646726938220235,
          0.09104822142587304,
          0.028515006110504056,
          0.011792361077827818,
          0.00944558075863966,
          0.004620282233358601,
          0.01476302429319427,
          0.08576949465082907,
          0.032242464748720154,
          0.08943918058019172,
          0.07366391946349671,
          0.004631565825675182,
          0.0014503559416702138,
          0.039981645903094214,
          0.014821673747122606,
          0.011572565015531635,
          0.006341155178409528,
          0.00867008196107445,
          0.015395384697745202,
          0.06380980383986873,
          0.006476113798341386,
          0.006358729526295191,
          0.007898316341255948,
          0.02877016931627637,
          0.04164121480364549,
          0.01688425611832795,
          0.061127449644835685,
          0.004951964184090133,
          0.021194376650341563,
          0.07850705903925054,
          0.006536435944543272,
          0.01799360901434607,
          0.02076856348354077,
          0.028217379737411823,
          0.01747786922884417,
          0.056410903614982945,
          0.008271062967343559,
          0.010581375291683123,
          0.02083336030638843,
          0.06353424699793433,
          0.023993262825316584,
          0.011694969318321303,
          0.009947286221156188,
          0.010170697014875387,
          0.021077620747291165,
          0.01004179999858602,
          0.015488343908712569,
          0.01324151847584813,
          0.025568698341557294,
          0.06269387394425302,
          0.0038130016488766676,
          0.0028621731858311378,
          0.018359540890962388,
          0.0048155634313742845,
          0.017492259507822214,
          0.0046354027208414745,
          0.010191494634783149,
          0.020181363772830436,
          0.021203844077436827,
          0.008647838868738185,
          0.004710106846338496,
          0.02372774962928892,
          0.00622731718286842,
          0.028816780318051977,
          0.014941294504228698,
          0.011894761073776804,
          0.09122152449913523,
          0.0029882587204909054,
          0.008911195431951612,
          0.004777042186281198,
          0.00872326193224775,
          0.004075511315878925,
          0.005894718714431732,
          0.018037217786311396,
          0.02644860453825708,
          0.011964792805969703,
          0.018527709874567377,
          0.008256514086481275,
          0.01785277156868576,
          0.06711645049670535,
          0.006590026169824475,
          0.06095893267107539,
          0.00848348156109896,
          0.03692235078114873,
          0.010252161559505464,
          0.016324097634183143,
          0.02675543186861882,
          0.030948227451511805,
          0.010112163492181513,
          0.031308926187960905,
          0.006565701458143086,
          0.011790006508188244,
          0.02346973416020872,
          0.13134967794995805,
          0.014937898236510283,
          0.004744262142858037,
          0.02806572251163203,
          0.006892620765550899,
          0.016745300175409636,
          0.031739207093442454,
          0.004599415579180036,
          0.019129993810673266,
          0.003614164087650829,
          0.01131012944596968,
          0.011973873856649931,
          0.008443791975266962,
          0.0554730368487627,
          0.08457720989783339,
          0.013295016824595128,
          0.011618746114091727,
          0.011638757434253999,
          0.008583839500553312,
          0.06167158715401109,
          0.008330170323865512,
          0.020426600031409597,
          0.004576616088126094,
          0.006717179886235828,
          0.017891873518163813,
          0.009545674346915188,
          0.006776869092140674,
          0.01184031817360348,
          0.009687555435182009,
          0.00419912936906063,
          0.011632919047840707,
          0.03172866209444443,
          0.006597994629367951,
          0.004744641355213551,
          0.008630517862457443,
          0.014913355131253076,
          0.06691937719626304,
          0.02097399158675632,
          0.0036052618401065223,
          0.04277407080460313,
          0.008889504887866786,
          0.012536484471160118,
          0.00993451964738174
         ]
        }
       ],
       "layout": {
        "hoverlabel": {
         "align": "right"
        },
        "paper_bgcolor": "rgba(154,186,211,0.8)",
        "plot_bgcolor": "rgba(232,246,252,0.2)",
        "template": {
         "data": {
          "bar": [
           {
            "error_x": {
             "color": "#2a3f5f"
            },
            "error_y": {
             "color": "#2a3f5f"
            },
            "marker": {
             "line": {
              "color": "#E5ECF6",
              "width": 0.5
             }
            },
            "type": "bar"
           }
          ],
          "barpolar": [
           {
            "marker": {
             "line": {
              "color": "#E5ECF6",
              "width": 0.5
             }
            },
            "type": "barpolar"
           }
          ],
          "carpet": [
           {
            "aaxis": {
             "endlinecolor": "#2a3f5f",
             "gridcolor": "white",
             "linecolor": "white",
             "minorgridcolor": "white",
             "startlinecolor": "#2a3f5f"
            },
            "baxis": {
             "endlinecolor": "#2a3f5f",
             "gridcolor": "white",
             "linecolor": "white",
             "minorgridcolor": "white",
             "startlinecolor": "#2a3f5f"
            },
            "type": "carpet"
           }
          ],
          "choropleth": [
           {
            "colorbar": {
             "outlinewidth": 0,
             "ticks": ""
            },
            "type": "choropleth"
           }
          ],
          "contour": [
           {
            "colorbar": {
             "outlinewidth": 0,
             "ticks": ""
            },
            "colorscale": [
             [
              0,
              "#0d0887"
             ],
             [
              0.1111111111111111,
              "#46039f"
             ],
             [
              0.2222222222222222,
              "#7201a8"
             ],
             [
              0.3333333333333333,
              "#9c179e"
             ],
             [
              0.4444444444444444,
              "#bd3786"
             ],
             [
              0.5555555555555556,
              "#d8576b"
             ],
             [
              0.6666666666666666,
              "#ed7953"
             ],
             [
              0.7777777777777778,
              "#fb9f3a"
             ],
             [
              0.8888888888888888,
              "#fdca26"
             ],
             [
              1,
              "#f0f921"
             ]
            ],
            "type": "contour"
           }
          ],
          "contourcarpet": [
           {
            "colorbar": {
             "outlinewidth": 0,
             "ticks": ""
            },
            "type": "contourcarpet"
           }
          ],
          "heatmap": [
           {
            "colorbar": {
             "outlinewidth": 0,
             "ticks": ""
            },
            "colorscale": [
             [
              0,
              "#0d0887"
             ],
             [
              0.1111111111111111,
              "#46039f"
             ],
             [
              0.2222222222222222,
              "#7201a8"
             ],
             [
              0.3333333333333333,
              "#9c179e"
             ],
             [
              0.4444444444444444,
              "#bd3786"
             ],
             [
              0.5555555555555556,
              "#d8576b"
             ],
             [
              0.6666666666666666,
              "#ed7953"
             ],
             [
              0.7777777777777778,
              "#fb9f3a"
             ],
             [
              0.8888888888888888,
              "#fdca26"
             ],
             [
              1,
              "#f0f921"
             ]
            ],
            "type": "heatmap"
           }
          ],
          "heatmapgl": [
           {
            "colorbar": {
             "outlinewidth": 0,
             "ticks": ""
            },
            "colorscale": [
             [
              0,
              "#0d0887"
             ],
             [
              0.1111111111111111,
              "#46039f"
             ],
             [
              0.2222222222222222,
              "#7201a8"
             ],
             [
              0.3333333333333333,
              "#9c179e"
             ],
             [
              0.4444444444444444,
              "#bd3786"
             ],
             [
              0.5555555555555556,
              "#d8576b"
             ],
             [
              0.6666666666666666,
              "#ed7953"
             ],
             [
              0.7777777777777778,
              "#fb9f3a"
             ],
             [
              0.8888888888888888,
              "#fdca26"
             ],
             [
              1,
              "#f0f921"
             ]
            ],
            "type": "heatmapgl"
           }
          ],
          "histogram": [
           {
            "marker": {
             "colorbar": {
              "outlinewidth": 0,
              "ticks": ""
             }
            },
            "type": "histogram"
           }
          ],
          "histogram2d": [
           {
            "colorbar": {
             "outlinewidth": 0,
             "ticks": ""
            },
            "colorscale": [
             [
              0,
              "#0d0887"
             ],
             [
              0.1111111111111111,
              "#46039f"
             ],
             [
              0.2222222222222222,
              "#7201a8"
             ],
             [
              0.3333333333333333,
              "#9c179e"
             ],
             [
              0.4444444444444444,
              "#bd3786"
             ],
             [
              0.5555555555555556,
              "#d8576b"
             ],
             [
              0.6666666666666666,
              "#ed7953"
             ],
             [
              0.7777777777777778,
              "#fb9f3a"
             ],
             [
              0.8888888888888888,
              "#fdca26"
             ],
             [
              1,
              "#f0f921"
             ]
            ],
            "type": "histogram2d"
           }
          ],
          "histogram2dcontour": [
           {
            "colorbar": {
             "outlinewidth": 0,
             "ticks": ""
            },
            "colorscale": [
             [
              0,
              "#0d0887"
             ],
             [
              0.1111111111111111,
              "#46039f"
             ],
             [
              0.2222222222222222,
              "#7201a8"
             ],
             [
              0.3333333333333333,
              "#9c179e"
             ],
             [
              0.4444444444444444,
              "#bd3786"
             ],
             [
              0.5555555555555556,
              "#d8576b"
             ],
             [
              0.6666666666666666,
              "#ed7953"
             ],
             [
              0.7777777777777778,
              "#fb9f3a"
             ],
             [
              0.8888888888888888,
              "#fdca26"
             ],
             [
              1,
              "#f0f921"
             ]
            ],
            "type": "histogram2dcontour"
           }
          ],
          "mesh3d": [
           {
            "colorbar": {
             "outlinewidth": 0,
             "ticks": ""
            },
            "type": "mesh3d"
           }
          ],
          "parcoords": [
           {
            "line": {
             "colorbar": {
              "outlinewidth": 0,
              "ticks": ""
             }
            },
            "type": "parcoords"
           }
          ],
          "pie": [
           {
            "automargin": true,
            "type": "pie"
           }
          ],
          "scatter": [
           {
            "marker": {
             "colorbar": {
              "outlinewidth": 0,
              "ticks": ""
             }
            },
            "type": "scatter"
           }
          ],
          "scatter3d": [
           {
            "line": {
             "colorbar": {
              "outlinewidth": 0,
              "ticks": ""
             }
            },
            "marker": {
             "colorbar": {
              "outlinewidth": 0,
              "ticks": ""
             }
            },
            "type": "scatter3d"
           }
          ],
          "scattercarpet": [
           {
            "marker": {
             "colorbar": {
              "outlinewidth": 0,
              "ticks": ""
             }
            },
            "type": "scattercarpet"
           }
          ],
          "scattergeo": [
           {
            "marker": {
             "colorbar": {
              "outlinewidth": 0,
              "ticks": ""
             }
            },
            "type": "scattergeo"
           }
          ],
          "scattergl": [
           {
            "marker": {
             "colorbar": {
              "outlinewidth": 0,
              "ticks": ""
             }
            },
            "type": "scattergl"
           }
          ],
          "scattermapbox": [
           {
            "marker": {
             "colorbar": {
              "outlinewidth": 0,
              "ticks": ""
             }
            },
            "type": "scattermapbox"
           }
          ],
          "scatterpolar": [
           {
            "marker": {
             "colorbar": {
              "outlinewidth": 0,
              "ticks": ""
             }
            },
            "type": "scatterpolar"
           }
          ],
          "scatterpolargl": [
           {
            "marker": {
             "colorbar": {
              "outlinewidth": 0,
              "ticks": ""
             }
            },
            "type": "scatterpolargl"
           }
          ],
          "scatterternary": [
           {
            "marker": {
             "colorbar": {
              "outlinewidth": 0,
              "ticks": ""
             }
            },
            "type": "scatterternary"
           }
          ],
          "surface": [
           {
            "colorbar": {
             "outlinewidth": 0,
             "ticks": ""
            },
            "colorscale": [
             [
              0,
              "#0d0887"
             ],
             [
              0.1111111111111111,
              "#46039f"
             ],
             [
              0.2222222222222222,
              "#7201a8"
             ],
             [
              0.3333333333333333,
              "#9c179e"
             ],
             [
              0.4444444444444444,
              "#bd3786"
             ],
             [
              0.5555555555555556,
              "#d8576b"
             ],
             [
              0.6666666666666666,
              "#ed7953"
             ],
             [
              0.7777777777777778,
              "#fb9f3a"
             ],
             [
              0.8888888888888888,
              "#fdca26"
             ],
             [
              1,
              "#f0f921"
             ]
            ],
            "type": "surface"
           }
          ],
          "table": [
           {
            "cells": {
             "fill": {
              "color": "#EBF0F8"
             },
             "line": {
              "color": "white"
             }
            },
            "header": {
             "fill": {
              "color": "#C8D4E3"
             },
             "line": {
              "color": "white"
             }
            },
            "type": "table"
           }
          ]
         },
         "layout": {
          "annotationdefaults": {
           "arrowcolor": "#2a3f5f",
           "arrowhead": 0,
           "arrowwidth": 1
          },
          "coloraxis": {
           "colorbar": {
            "outlinewidth": 0,
            "ticks": ""
           }
          },
          "colorscale": {
           "diverging": [
            [
             0,
             "#8e0152"
            ],
            [
             0.1,
             "#c51b7d"
            ],
            [
             0.2,
             "#de77ae"
            ],
            [
             0.3,
             "#f1b6da"
            ],
            [
             0.4,
             "#fde0ef"
            ],
            [
             0.5,
             "#f7f7f7"
            ],
            [
             0.6,
             "#e6f5d0"
            ],
            [
             0.7,
             "#b8e186"
            ],
            [
             0.8,
             "#7fbc41"
            ],
            [
             0.9,
             "#4d9221"
            ],
            [
             1,
             "#276419"
            ]
           ],
           "sequential": [
            [
             0,
             "#0d0887"
            ],
            [
             0.1111111111111111,
             "#46039f"
            ],
            [
             0.2222222222222222,
             "#7201a8"
            ],
            [
             0.3333333333333333,
             "#9c179e"
            ],
            [
             0.4444444444444444,
             "#bd3786"
            ],
            [
             0.5555555555555556,
             "#d8576b"
            ],
            [
             0.6666666666666666,
             "#ed7953"
            ],
            [
             0.7777777777777778,
             "#fb9f3a"
            ],
            [
             0.8888888888888888,
             "#fdca26"
            ],
            [
             1,
             "#f0f921"
            ]
           ],
           "sequentialminus": [
            [
             0,
             "#0d0887"
            ],
            [
             0.1111111111111111,
             "#46039f"
            ],
            [
             0.2222222222222222,
             "#7201a8"
            ],
            [
             0.3333333333333333,
             "#9c179e"
            ],
            [
             0.4444444444444444,
             "#bd3786"
            ],
            [
             0.5555555555555556,
             "#d8576b"
            ],
            [
             0.6666666666666666,
             "#ed7953"
            ],
            [
             0.7777777777777778,
             "#fb9f3a"
            ],
            [
             0.8888888888888888,
             "#fdca26"
            ],
            [
             1,
             "#f0f921"
            ]
           ]
          },
          "colorway": [
           "#636efa",
           "#EF553B",
           "#00cc96",
           "#ab63fa",
           "#FFA15A",
           "#19d3f3",
           "#FF6692",
           "#B6E880",
           "#FF97FF",
           "#FECB52"
          ],
          "font": {
           "color": "#2a3f5f"
          },
          "geo": {
           "bgcolor": "white",
           "lakecolor": "white",
           "landcolor": "#E5ECF6",
           "showlakes": true,
           "showland": true,
           "subunitcolor": "white"
          },
          "hoverlabel": {
           "align": "left"
          },
          "hovermode": "closest",
          "mapbox": {
           "style": "light"
          },
          "paper_bgcolor": "white",
          "plot_bgcolor": "#E5ECF6",
          "polar": {
           "angularaxis": {
            "gridcolor": "white",
            "linecolor": "white",
            "ticks": ""
           },
           "bgcolor": "#E5ECF6",
           "radialaxis": {
            "gridcolor": "white",
            "linecolor": "white",
            "ticks": ""
           }
          },
          "scene": {
           "xaxis": {
            "backgroundcolor": "#E5ECF6",
            "gridcolor": "white",
            "gridwidth": 2,
            "linecolor": "white",
            "showbackground": true,
            "ticks": "",
            "zerolinecolor": "white"
           },
           "yaxis": {
            "backgroundcolor": "#E5ECF6",
            "gridcolor": "white",
            "gridwidth": 2,
            "linecolor": "white",
            "showbackground": true,
            "ticks": "",
            "zerolinecolor": "white"
           },
           "zaxis": {
            "backgroundcolor": "#E5ECF6",
            "gridcolor": "white",
            "gridwidth": 2,
            "linecolor": "white",
            "showbackground": true,
            "ticks": "",
            "zerolinecolor": "white"
           }
          },
          "shapedefaults": {
           "line": {
            "color": "#2a3f5f"
           }
          },
          "ternary": {
           "aaxis": {
            "gridcolor": "white",
            "linecolor": "white",
            "ticks": ""
           },
           "baxis": {
            "gridcolor": "white",
            "linecolor": "white",
            "ticks": ""
           },
           "bgcolor": "#E5ECF6",
           "caxis": {
            "gridcolor": "white",
            "linecolor": "white",
            "ticks": ""
           }
          },
          "title": {
           "x": 0.05
          },
          "xaxis": {
           "automargin": true,
           "gridcolor": "white",
           "linecolor": "white",
           "ticks": "",
           "title": {
            "standoff": 15
           },
           "zerolinecolor": "white",
           "zerolinewidth": 2
          },
          "yaxis": {
           "automargin": true,
           "gridcolor": "white",
           "linecolor": "white",
           "ticks": "",
           "title": {
            "standoff": 15
           },
           "zerolinecolor": "white",
           "zerolinewidth": 2
          }
         }
        },
        "title": {
         "text": "<b>Model Evaluation for all Targets</b>",
         "x": 0.5
        },
        "xaxis": {
         "linecolor": "rgba(232,246,252,0.2)",
         "linewidth": 2,
         "range": [
          0,
          850
         ],
         "showgrid": false,
         "showline": true,
         "title": {
          "text": "Size of Minority Class (out of 20,000)"
         }
        },
        "yaxis": {
         "linecolor": "rgba(232,246,252,0.2)",
         "linewidth": 2,
         "range": [
          0,
          0.2
         ],
         "showgrid": false,
         "showline": true,
         "title": {
          "text": "Log Loss Scores"
         }
        }
       }
      },
      "text/html": [
       "<div>                            <div id=\"9cbc5aaf-d2da-49b8-955d-a623ea4a0114\" class=\"plotly-graph-div\" style=\"height:525px; width:100%;\"></div>            <script type=\"text/javascript\">                require([\"plotly\"], function(Plotly) {                    window.PLOTLYENV=window.PLOTLYENV || {};                                    if (document.getElementById(\"9cbc5aaf-d2da-49b8-955d-a623ea4a0114\")) {                    Plotly.newPlot(                        \"9cbc5aaf-d2da-49b8-955d-a623ea4a0114\",                        [{\"hovertemplate\": [\"\", \"\", \"\", \"\", \"\", \"\", \"\", \"\", \"\", \"\", \"\", \"\", \"\", \"\", \"\", \"\", \"\", \"\", \"\", \"\", \"\", \"\", \"\", \"\", \"\", \"\", \"\", \"\", \"\", \"\", \"\", \"\", \"\", \"\", \"\", \"\", \"\", \"\", \"\", \"\", \"\", \"\", \"\", \"\", \"\", \"\", \"\", \"\", \"\", \"\", \"\", \"\", \"\", \"\", \"\", \"\", \"\", \"\", \"\", \"\", \"\", \"\", \"\", \"\", \"\", \"\", \"\", \"\", \"\", \"\", \"\", \"\", \"\", \"\", \"\", \"\", \"\", \"\", \"\", \"\", \"\", \"\", \"\", \"\", \"\", \"\", \"\", \"\", \"\", \"\", \"\", \"\", \"\", \"\", \"\", \"\", \"\", \"\", \"\", \"\", \"\", \"\", \"\", \"\", \"\", \"\", \"\", \"\", \"\", \"\", \"\", \"\", \"\", \"\", \"\", \"\", \"\", \"\", \"\", \"\", \"\", \"\", \"\", \"\", \"\", \"\", \"\", \"\", \"\", \"\", \"\", \"\", \"\", \"\", \"\", \"\", \"\", \"\", \"\", \"\", \"\", \"\", \"\", \"\", \"\", \"\", \"\", \"\", \"\", \"\", \"\", \"\", \"\", \"\", \"\", \"\", \"\", \"\", \"\", \"\", \"\", \"\", \"\", \"\", \"\", \"\", \"\", \"\", \"\", \"\", \"\", \"\", \"\", \"\", \"\", \"\", \"\", \"\", \"\", \"\", \"\", \"\", \"\", \"\", \"\", \"\", \"\", \"\", \"\", \"\", \"\", \"\", \"\", \"\", \"\", \"\", \"\", \"\", \"\", \"\", \"\", \"\", \"\", \"\", \"\", \"\"], \"mode\": \"lines\", \"name\": \"all zeros\", \"type\": \"scatter\", \"x\": [17, 18, 24, 190, 301, 73, 54, 96, 12, 270, 360, 66, 7, 42, 12, 12, 48, 89, 80, 36, 37, 73, 6, 43, 12, 13, 12, 18, 73, 36, 23, 49, 47, 6, 1, 12, 97, 19, 96, 6, 60, 80, 36, 192, 89, 115, 7, 31, 38, 67, 24, 68, 29, 6, 281, 42, 55, 36, 36, 18, 12, 102, 18, 340, 54, 24, 42, 48, 54, 6, 36, 435, 104, 36, 25, 6, 48, 402, 121, 424, 336, 6, 1, 158, 48, 36, 18, 25, 50, 279, 18, 18, 23, 106, 165, 56, 266, 13, 74, 367, 18, 60, 72, 106, 59, 241, 24, 32, 72, 283, 93, 37, 30, 31, 73, 30, 51, 42, 92, 273, 6, 6, 62, 12, 61, 6, 31, 72, 74, 25, 12, 85, 18, 130, 48, 37, 832, 6, 26, 12, 26, 7, 18, 61, 96, 37, 62, 24, 61, 297, 18, 264, 25, 151, 31, 55, 98, 115, 30, 119, 18, 36, 84, 726, 48, 6, 103, 19, 56, 223, 12, 67, 6, 35, 37, 25, 236, 404, 44, 36, 36, 25, 267, 25, 71, 6, 19, 60, 30, 19, 37, 30, 7, 36, 127, 18, 6, 25, 48, 316, 73, 6, 170, 26, 39, 30], \"y\": [0.02465605100837765, 0.026106406950046863, 0.03480854260006215, 0.2755676289171518, 0.43655713844243466, 0.10587598374185367, 0.0783192208501386, 0.13923417040024563, 0.01740427130003158, 0.39159610425068897, 0.5221281390009183, 0.09572349215016918, 0.0101524915916855, 0.06091494955010801, 0.017404271300031575, 0.017404271300031575, 0.06961708520012329, 0.1290816788085611, 0.11602847533353816, 0.052212813900092726, 0.05366316984176195, 0.10587598374185367, 0.008702135650016287, 0.06236530549177723, 0.017404271300031575, 0.01885462724170079, 0.01740427130003158, 0.02610640695004687, 0.10587598374185367, 0.052212813900092726, 0.033358186658392935, 0.07106744114179252, 0.0681667292584541, 0.008702135650016287, 0.0014503559416702136, 0.01740427130003158, 0.14068452634191483, 0.027556762891716078, 0.13923417040024558, 0.008702135650016287, 0.08702135650015387, 0.11602847533353816, 0.052212813900092726, 0.27846834080049016, 0.1290816788085611, 0.16679093329196068, 0.010152491591685504, 0.04496103419174666, 0.05511352578343115, 0.09717384809183839, 0.03480854260006215, 0.0986242040335076, 0.04206032230840822, 0.008702135650016287, 0.4075500196090503, 0.06091494955010801, 0.07976957679180781, 0.052212813900092726, 0.05221281390009273, 0.026106406950046863, 0.01740427130003158, 0.1479363060502609, 0.026106406950046863, 0.49312102016753395, 0.0783192208501386, 0.03480854260006215, 0.06091494955010801, 0.0696170852001233, 0.0783192208501386, 0.008702135650016287, 0.052212813900092726, 0.6309048346261094, 0.15083701793359933, 0.052212813900092726, 0.036258898541731366, 0.008702135650016287, 0.0696170852001233, 0.5830430885510254, 0.17549306894197594, 0.614950919267748, 0.4873195964008571, 0.008702135650016285, 0.0014503559416702138, 0.22915623878373692, 0.06961708520012332, 0.052212813900092726, 0.02610640695004686, 0.036258898541731366, 0.07251779708346173, 0.40464930772571184, 0.02610640695004686, 0.026106406950046863, 0.033358186658392935, 0.15373772981693776, 0.23930873037542144, 0.08121993273347702, 0.3857946804840121, 0.01885462724170079, 0.10732633968352288, 0.5322806305926028, 0.026106406950046863, 0.0870213565001539, 0.10442562780018445, 0.15373772981693776, 0.08557100055848466, 0.34953578194228174, 0.03480854260006215, 0.04641139013341587, 0.10442562780018445, 0.41045073149238875, 0.13488310257523797, 0.05366316984176195, 0.04351067825007744, 0.04496103419174666, 0.10587598374185367, 0.043510678250077435, 0.07396815302513095, 0.060914949550108025, 0.13343274663356874, 0.3959471720756966, 0.008702135650016287, 0.008702135650016287, 0.08992206838349232, 0.017404271300031575, 0.08847171244182309, 0.008702135650016287, 0.04496103419174666, 0.10442562780018445, 0.10732633968352288, 0.03625889854173137, 0.01740427130003158, 0.12328025504188425, 0.02610640695004686, 0.1885462724169989, 0.06961708520012332, 0.05366316984176195, 1.2066961434687875, 0.008702135650016287, 0.03770925448340058, 0.01740427130003158, 0.03770925448340059, 0.010152491591685502, 0.026106406950046863, 0.08847171244182309, 0.13923417040024563, 0.05366316984176194, 0.0899220683834923, 0.03480854260006215, 0.08847171244182309, 0.43075571467575774, 0.02610640695004687, 0.38289396860067365, 0.036258898541731366, 0.2190037471920524, 0.04496103419174666, 0.0797695767918078, 0.14213488228358404, 0.1667909332919607, 0.04351067825007744, 0.17259235705863757, 0.02610640695004687, 0.052212813900092726, 0.12182989910021502, 1.0529584136518508, 0.06961708520012332, 0.008702135650016285, 0.1493866619919301, 0.027556762891716075, 0.08121993273347702, 0.32342937499223584, 0.01740427130003158, 0.09717384809183836, 0.008702135650016287, 0.05076245795842351, 0.05366316984176194, 0.036258898541731366, 0.3422840022339356, 0.5859438004343637, 0.06381566143344646, 0.052212813900092726, 0.052212813900092726, 0.036258898541731366, 0.38724503642568125, 0.036258898541731366, 0.10297527185851522, 0.008702135650016287, 0.027556762891716078, 0.08702135650015387, 0.043510678250077435, 0.027556762891716078, 0.05366316984176194, 0.043510678250077435, 0.010152491591685504, 0.052212813900092726, 0.18419520459199126, 0.026106406950046863, 0.008702135650016285, 0.036258898541731366, 0.06961708520012332, 0.45831247756747284, 0.10587598374185367, 0.008702135650016285, 0.2465605100837675, 0.03770925448340058, 0.056563881725100365, 0.04351067825007744]}, {\"hovertemplate\": [\"5-alpha_reductase_inhibitor\", \"11-beta-hsd1_inhibitor\", \"acat_inhibitor\", \"acetylcholine_receptor_agonist\", \"acetylcholine_receptor_antagonist\", \"acetylcholinesterase_inhibitor\", \"adenosine_receptor_agonist\", \"adenosine_receptor_antagonist\", \"adenylyl_cyclase_activator\", \"adrenergic_receptor_agonist\", \"adrenergic_receptor_antagonist\", \"akt_inhibitor\", \"aldehyde_dehydrogenase_inhibitor\", \"alk_inhibitor\", \"ampk_activator\", \"analgesic\", \"androgen_receptor_agonist\", \"androgen_receptor_antagonist\", \"anesthetic_-_local\", \"angiogenesis_inhibitor\", \"angiotensin_receptor_antagonist\", \"anti-inflammatory\", \"antiarrhythmic\", \"antibiotic\", \"anticonvulsant\", \"antifungal\", \"antihistamine\", \"antimalarial\", \"antioxidant\", \"antiprotozoal\", \"antiviral\", \"apoptosis_stimulant\", \"aromatase_inhibitor\", \"atm_kinase_inhibitor\", \"atp-sensitive_potassium_channel_antagonist\", \"atp_synthase_inhibitor\", \"atpase_inhibitor\", \"atr_kinase_inhibitor\", \"aurora_kinase_inhibitor\", \"autotaxin_inhibitor\", \"bacterial_30s_ribosomal_subunit_inhibitor\", \"bacterial_50s_ribosomal_subunit_inhibitor\", \"bacterial_antifolate\", \"bacterial_cell_wall_synthesis_inhibitor\", \"bacterial_dna_gyrase_inhibitor\", \"bacterial_dna_inhibitor\", \"bacterial_membrane_integrity_inhibitor\", \"bcl_inhibitor\", \"bcr-abl_inhibitor\", \"benzodiazepine_receptor_agonist\", \"beta_amyloid_inhibitor\", \"bromodomain_inhibitor\", \"btk_inhibitor\", \"calcineurin_inhibitor\", \"calcium_channel_blocker\", \"cannabinoid_receptor_agonist\", \"cannabinoid_receptor_antagonist\", \"carbonic_anhydrase_inhibitor\", \"casein_kinase_inhibitor\", \"caspase_activator\", \"catechol_o_methyltransferase_inhibitor\", \"cc_chemokine_receptor_antagonist\", \"cck_receptor_antagonist\", \"cdk_inhibitor\", \"chelating_agent\", \"chk_inhibitor\", \"chloride_channel_blocker\", \"cholesterol_inhibitor\", \"cholinergic_receptor_antagonist\", \"coagulation_factor_inhibitor\", \"corticosteroid_agonist\", \"cyclooxygenase_inhibitor\", \"cytochrome_p450_inhibitor\", \"dihydrofolate_reductase_inhibitor\", \"dipeptidyl_peptidase_inhibitor\", \"diuretic\", \"dna_alkylating_agent\", \"dna_inhibitor\", \"dopamine_receptor_agonist\", \"dopamine_receptor_antagonist\", \"egfr_inhibitor\", \"elastase_inhibitor\", \"erbb2_inhibitor\", \"estrogen_receptor_agonist\", \"estrogen_receptor_antagonist\", \"faah_inhibitor\", \"farnesyltransferase_inhibitor\", \"fatty_acid_receptor_agonist\", \"fgfr_inhibitor\", \"flt3_inhibitor\", \"focal_adhesion_kinase_inhibitor\", \"free_radical_scavenger\", \"fungal_squalene_epoxidase_inhibitor\", \"gaba_receptor_agonist\", \"gaba_receptor_antagonist\", \"gamma_secretase_inhibitor\", \"glucocorticoid_receptor_agonist\", \"glutamate_inhibitor\", \"glutamate_receptor_agonist\", \"glutamate_receptor_antagonist\", \"gonadotropin_receptor_agonist\", \"gsk_inhibitor\", \"hcv_inhibitor\", \"hdac_inhibitor\", \"histamine_receptor_agonist\", \"histamine_receptor_antagonist\", \"histone_lysine_demethylase_inhibitor\", \"histone_lysine_methyltransferase_inhibitor\", \"hiv_inhibitor\", \"hmgcr_inhibitor\", \"hsp_inhibitor\", \"igf-1_inhibitor\", \"ikk_inhibitor\", \"imidazoline_receptor_agonist\", \"immunosuppressant\", \"insulin_secretagogue\", \"insulin_sensitizer\", \"integrin_inhibitor\", \"jak_inhibitor\", \"kit_inhibitor\", \"laxative\", \"leukotriene_inhibitor\", \"leukotriene_receptor_antagonist\", \"lipase_inhibitor\", \"lipoxygenase_inhibitor\", \"lxr_agonist\", \"mdm_inhibitor\", \"mek_inhibitor\", \"membrane_integrity_inhibitor\", \"mineralocorticoid_receptor_antagonist\", \"monoacylglycerol_lipase_inhibitor\", \"monoamine_oxidase_inhibitor\", \"monopolar_spindle_1_kinase_inhibitor\", \"mtor_inhibitor\", \"mucolytic_agent\", \"neuropeptide_receptor_antagonist\", \"nfkb_inhibitor\", \"nicotinic_receptor_agonist\", \"nitric_oxide_donor\", \"nitric_oxide_production_inhibitor\", \"nitric_oxide_synthase_inhibitor\", \"norepinephrine_reuptake_inhibitor\", \"nrf2_activator\", \"opioid_receptor_agonist\", \"opioid_receptor_antagonist\", \"orexin_receptor_antagonist\", \"p38_mapk_inhibitor\", \"p-glycoprotein_inhibitor\", \"parp_inhibitor\", \"pdgfr_inhibitor\", \"pdk_inhibitor\", \"phosphodiesterase_inhibitor\", \"phospholipase_inhibitor\", \"pi3k_inhibitor\", \"pkc_inhibitor\", \"potassium_channel_activator\", \"potassium_channel_antagonist\", \"ppar_receptor_agonist\", \"ppar_receptor_antagonist\", \"progesterone_receptor_agonist\", \"progesterone_receptor_antagonist\", \"prostaglandin_inhibitor\", \"prostanoid_receptor_antagonist\", \"proteasome_inhibitor\", \"protein_kinase_inhibitor\", \"protein_phosphatase_inhibitor\", \"protein_synthesis_inhibitor\", \"protein_tyrosine_kinase_inhibitor\", \"radiopaque_medium\", \"raf_inhibitor\", \"ras_gtpase_inhibitor\", \"retinoid_receptor_agonist\", \"retinoid_receptor_antagonist\", \"rho_associated_kinase_inhibitor\", \"ribonucleoside_reductase_inhibitor\", \"rna_polymerase_inhibitor\", \"serotonin_receptor_agonist\", \"serotonin_receptor_antagonist\", \"serotonin_reuptake_inhibitor\", \"sigma_receptor_agonist\", \"sigma_receptor_antagonist\", \"smoothened_receptor_antagonist\", \"sodium_channel_inhibitor\", \"sphingosine_receptor_agonist\", \"src_inhibitor\", \"steroid\", \"syk_inhibitor\", \"tachykinin_antagonist\", \"tgf-beta_receptor_inhibitor\", \"thrombin_inhibitor\", \"thymidylate_synthase_inhibitor\", \"tlr_agonist\", \"tlr_antagonist\", \"tnf_inhibitor\", \"topoisomerase_inhibitor\", \"transient_receptor_potential_channel_antagonist\", \"tropomyosin_receptor_kinase_inhibitor\", \"trpv_agonist\", \"trpv_antagonist\", \"tubulin_inhibitor\", \"tyrosine_kinase_inhibitor\", \"ubiquitin_specific_protease_inhibitor\", \"vegfr_inhibitor\", \"vitamin_b\", \"vitamin_d_receptor_agonist\", \"wnt_inhibitor\"], \"mode\": \"markers\", \"name\": \"NuSVR\", \"type\": \"scatter\", \"x\": [17, 18, 24, 190, 301, 73, 54, 96, 12, 270, 360, 66, 7, 42, 12, 12, 48, 89, 80, 36, 37, 73, 6, 43, 12, 13, 12, 18, 73, 36, 23, 49, 47, 6, 1, 12, 97, 19, 96, 6, 60, 80, 36, 192, 89, 115, 7, 31, 38, 67, 24, 68, 29, 6, 281, 42, 55, 36, 36, 18, 12, 102, 18, 340, 54, 24, 42, 48, 54, 6, 36, 435, 104, 36, 25, 6, 48, 402, 121, 424, 336, 6, 1, 158, 48, 36, 18, 25, 50, 279, 18, 18, 23, 106, 165, 56, 266, 13, 74, 367, 18, 60, 72, 106, 59, 241, 24, 32, 72, 283, 93, 37, 30, 31, 73, 30, 51, 42, 92, 273, 6, 6, 62, 12, 61, 6, 31, 72, 74, 25, 12, 85, 18, 130, 48, 37, 832, 6, 26, 12, 26, 7, 18, 61, 96, 37, 62, 24, 61, 297, 18, 264, 25, 151, 31, 55, 98, 115, 30, 119, 18, 36, 84, 726, 48, 6, 103, 19, 56, 223, 12, 67, 6, 35, 37, 25, 236, 404, 44, 36, 36, 25, 267, 25, 71, 6, 19, 60, 30, 19, 37, 30, 7, 36, 127, 18, 6, 25, 48, 316, 73, 6, 170, 26, 39, 30], \"y\": [0.02465605100837765, 0.026106406950046863, 0.021373320154766756, 0.20891860303656332, 0.2643340776041585, 0.08392269141502173, 0.06218840083664516, 0.08597633883264771, 0.01376907695383961, 0.15749987102203983, 0.26823930598151874, 0.08406145907740274, 0.010152532217051433, 0.04902390363754281, 0.014903144711193141, 0.015127613067022608, 0.05129215749318222, 0.05839563182977611, 0.04003835633460759, 0.04238379774442201, 0.034167440735204724, 0.06301378085475454, 0.006335288088313991, 0.04022290013992287, 0.014879853499779818, 0.01083070623548665, 0.009799609827742042, 0.018566599193164515, 0.07990319668367214, 0.04524750877467137, 0.026234320363198744, 0.04641790626711508, 0.046692072240738465, 0.006197415404415983, 0.0014503559416702136, 0.012646459995586704, 0.07286789303311265, 0.0211457883993203, 0.08726274793012921, 0.0070566912751416685, 0.07583609633300242, 0.08198570689821567, 0.036917436417329946, 0.24397812256883575, 0.12437275332160208, 0.0793018945229317, 0.010152928687761903, 0.03227269523358418, 0.017416434656400446, 0.08178802648242788, 0.0264258521065312, 0.04149423919200591, 0.029493752191880565, 0.007894751618277757, 0.15217969029982856, 0.04558878475892075, 0.032865626332664426, 0.03718116753845179, 0.04235489617062748, 0.018269233529563677, 0.014956522688071306, 0.12812163364616322, 0.024451126678917797, 0.2945209919773822, 0.07094974599260767, 0.02416073837767722, 0.04078492222305503, 0.06115427820683674, 0.05134325693455876, 0.006942275028309357, 0.04854274115827597, 0.5570743743263503, 0.10560676172697414, 0.039465517712945104, 0.026059044941004143, 0.0077958430152335004, 0.037681142817625385, 0.27303384783690776, 0.10134098959690663, 0.4982034746027007, 0.12943108862141728, 0.0087022155496786, 0.0014503559416702138, 0.15518168115739292, 0.04959157258854706, 0.04438957071502577, 0.02342475717054717, 0.020609863427269205, 0.046874423912018, 0.2630321218078444, 0.012680086147900865, 0.02610643953746301, 0.03335831950200739, 0.10997165594409228, 0.14108570170224352, 0.05422332206890169, 0.1700361912068057, 0.017291176637376737, 0.10164997467035614, 0.3051231315447115, 0.025286713919704124, 0.08225395145707949, 0.07573547120339776, 0.06939876647849066, 0.06152134640199091, 0.1557930632969158, 0.018814449918228213, 0.03376260568693971, 0.099621831318747, 0.21244409733396863, 0.05660923678727474, 0.025016800386806107, 0.026372426994270805, 0.03362660976679364, 0.055941601994873746, 0.03375063210181067, 0.053745148799266056, 0.048437368438204766, 0.053654591291616545, 0.1993380266253814, 0.005694746742391571, 0.008702144819472577, 0.05850889184388193, 0.016754779590510787, 0.0701751429358012, 0.006648071147395902, 0.04239196541854008, 0.04819635955114623, 0.08863956395269541, 0.02751771225970724, 0.013788097860206482, 0.10217070087521082, 0.02092661034187683, 0.08836682511912307, 0.051225845354112357, 0.0413364621460796, 0.8355032873798851, 0.0070919572398665575, 0.03001494260056827, 0.00997787796776855, 0.03266830730558909, 0.008664907447631189, 0.010822396431836887, 0.07448345438079279, 0.09279131694095653, 0.047022596235325634, 0.035325550976165236, 0.024204512991784718, 0.07979583465297486, 0.14065939480412246, 0.024535638958540034, 0.1322131787337188, 0.028584034888634965, 0.15706265907003505, 0.03536562281627124, 0.053891862561029145, 0.09165416972607984, 0.04751092441473575, 0.03626017092356475, 0.11162467607720657, 0.01686278236645879, 0.034054400544250615, 0.07194424685446432, 0.6020660203968909, 0.060337418849240244, 0.00785208500176547, 0.09242025142522192, 0.02455231343450588, 0.060956989162641605, 0.2484882130002774, 0.014629109110233218, 0.06919355979183674, 0.008702770070286832, 0.045255579254505775, 0.03932565308923707, 0.012133786841974234, 0.24534734108743464, 0.30489205417841775, 0.03966066192082978, 0.044373323682275784, 0.026049584853804507, 0.028454681391544546, 0.22182519333510684, 0.036259152126289176, 0.07414864739750957, 0.006294793673935995, 0.01763009730394893, 0.05366047048146351, 0.03779318862021197, 0.024749011257764953, 0.02685079973866633, 0.03674206389732771, 0.00928935382465763, 0.041351018507716726, 0.13191113531280005, 0.020846538354992908, 0.006925541089217582, 0.016829591919098087, 0.04939414879283145, 0.13716217754679308, 0.08119967412669148, 0.008703068806030905, 0.18305940876120524, 0.03771063469764026, 0.04468771478460247, 0.04115276173692731]}, {\"hovertemplate\": [\"5-alpha_reductase_inhibitor\", \"11-beta-hsd1_inhibitor\", \"acat_inhibitor\", \"acetylcholine_receptor_agonist\", \"acetylcholine_receptor_antagonist\", \"acetylcholinesterase_inhibitor\", \"adenosine_receptor_agonist\", \"adenosine_receptor_antagonist\", \"adenylyl_cyclase_activator\", \"adrenergic_receptor_agonist\", \"adrenergic_receptor_antagonist\", \"akt_inhibitor\", \"aldehyde_dehydrogenase_inhibitor\", \"alk_inhibitor\", \"ampk_activator\", \"analgesic\", \"androgen_receptor_agonist\", \"androgen_receptor_antagonist\", \"anesthetic_-_local\", \"angiogenesis_inhibitor\", \"angiotensin_receptor_antagonist\", \"anti-inflammatory\", \"antiarrhythmic\", \"antibiotic\", \"anticonvulsant\", \"antifungal\", \"antihistamine\", \"antimalarial\", \"antioxidant\", \"antiprotozoal\", \"antiviral\", \"apoptosis_stimulant\", \"aromatase_inhibitor\", \"atm_kinase_inhibitor\", \"atp-sensitive_potassium_channel_antagonist\", \"atp_synthase_inhibitor\", \"atpase_inhibitor\", \"atr_kinase_inhibitor\", \"aurora_kinase_inhibitor\", \"autotaxin_inhibitor\", \"bacterial_30s_ribosomal_subunit_inhibitor\", \"bacterial_50s_ribosomal_subunit_inhibitor\", \"bacterial_antifolate\", \"bacterial_cell_wall_synthesis_inhibitor\", \"bacterial_dna_gyrase_inhibitor\", \"bacterial_dna_inhibitor\", \"bacterial_membrane_integrity_inhibitor\", \"bcl_inhibitor\", \"bcr-abl_inhibitor\", \"benzodiazepine_receptor_agonist\", \"beta_amyloid_inhibitor\", \"bromodomain_inhibitor\", \"btk_inhibitor\", \"calcineurin_inhibitor\", \"calcium_channel_blocker\", \"cannabinoid_receptor_agonist\", \"cannabinoid_receptor_antagonist\", \"carbonic_anhydrase_inhibitor\", \"casein_kinase_inhibitor\", \"caspase_activator\", \"catechol_o_methyltransferase_inhibitor\", \"cc_chemokine_receptor_antagonist\", \"cck_receptor_antagonist\", \"cdk_inhibitor\", \"chelating_agent\", \"chk_inhibitor\", \"chloride_channel_blocker\", \"cholesterol_inhibitor\", \"cholinergic_receptor_antagonist\", \"coagulation_factor_inhibitor\", \"corticosteroid_agonist\", \"cyclooxygenase_inhibitor\", \"cytochrome_p450_inhibitor\", \"dihydrofolate_reductase_inhibitor\", \"dipeptidyl_peptidase_inhibitor\", \"diuretic\", \"dna_alkylating_agent\", \"dna_inhibitor\", \"dopamine_receptor_agonist\", \"dopamine_receptor_antagonist\", \"egfr_inhibitor\", \"elastase_inhibitor\", \"erbb2_inhibitor\", \"estrogen_receptor_agonist\", \"estrogen_receptor_antagonist\", \"faah_inhibitor\", \"farnesyltransferase_inhibitor\", \"fatty_acid_receptor_agonist\", \"fgfr_inhibitor\", \"flt3_inhibitor\", \"focal_adhesion_kinase_inhibitor\", \"free_radical_scavenger\", \"fungal_squalene_epoxidase_inhibitor\", \"gaba_receptor_agonist\", \"gaba_receptor_antagonist\", \"gamma_secretase_inhibitor\", \"glucocorticoid_receptor_agonist\", \"glutamate_inhibitor\", \"glutamate_receptor_agonist\", \"glutamate_receptor_antagonist\", \"gonadotropin_receptor_agonist\", \"gsk_inhibitor\", \"hcv_inhibitor\", \"hdac_inhibitor\", \"histamine_receptor_agonist\", \"histamine_receptor_antagonist\", \"histone_lysine_demethylase_inhibitor\", \"histone_lysine_methyltransferase_inhibitor\", \"hiv_inhibitor\", \"hmgcr_inhibitor\", \"hsp_inhibitor\", \"igf-1_inhibitor\", \"ikk_inhibitor\", \"imidazoline_receptor_agonist\", \"immunosuppressant\", \"insulin_secretagogue\", \"insulin_sensitizer\", \"integrin_inhibitor\", \"jak_inhibitor\", \"kit_inhibitor\", \"laxative\", \"leukotriene_inhibitor\", \"leukotriene_receptor_antagonist\", \"lipase_inhibitor\", \"lipoxygenase_inhibitor\", \"lxr_agonist\", \"mdm_inhibitor\", \"mek_inhibitor\", \"membrane_integrity_inhibitor\", \"mineralocorticoid_receptor_antagonist\", \"monoacylglycerol_lipase_inhibitor\", \"monoamine_oxidase_inhibitor\", \"monopolar_spindle_1_kinase_inhibitor\", \"mtor_inhibitor\", \"mucolytic_agent\", \"neuropeptide_receptor_antagonist\", \"nfkb_inhibitor\", \"nicotinic_receptor_agonist\", \"nitric_oxide_donor\", \"nitric_oxide_production_inhibitor\", \"nitric_oxide_synthase_inhibitor\", \"norepinephrine_reuptake_inhibitor\", \"nrf2_activator\", \"opioid_receptor_agonist\", \"opioid_receptor_antagonist\", \"orexin_receptor_antagonist\", \"p38_mapk_inhibitor\", \"p-glycoprotein_inhibitor\", \"parp_inhibitor\", \"pdgfr_inhibitor\", \"pdk_inhibitor\", \"phosphodiesterase_inhibitor\", \"phospholipase_inhibitor\", \"pi3k_inhibitor\", \"pkc_inhibitor\", \"potassium_channel_activator\", \"potassium_channel_antagonist\", \"ppar_receptor_agonist\", \"ppar_receptor_antagonist\", \"progesterone_receptor_agonist\", \"progesterone_receptor_antagonist\", \"prostaglandin_inhibitor\", \"prostanoid_receptor_antagonist\", \"proteasome_inhibitor\", \"protein_kinase_inhibitor\", \"protein_phosphatase_inhibitor\", \"protein_synthesis_inhibitor\", \"protein_tyrosine_kinase_inhibitor\", \"radiopaque_medium\", \"raf_inhibitor\", \"ras_gtpase_inhibitor\", \"retinoid_receptor_agonist\", \"retinoid_receptor_antagonist\", \"rho_associated_kinase_inhibitor\", \"ribonucleoside_reductase_inhibitor\", \"rna_polymerase_inhibitor\", \"serotonin_receptor_agonist\", \"serotonin_receptor_antagonist\", \"serotonin_reuptake_inhibitor\", \"sigma_receptor_agonist\", \"sigma_receptor_antagonist\", \"smoothened_receptor_antagonist\", \"sodium_channel_inhibitor\", \"sphingosine_receptor_agonist\", \"src_inhibitor\", \"steroid\", \"syk_inhibitor\", \"tachykinin_antagonist\", \"tgf-beta_receptor_inhibitor\", \"thrombin_inhibitor\", \"thymidylate_synthase_inhibitor\", \"tlr_agonist\", \"tlr_antagonist\", \"tnf_inhibitor\", \"topoisomerase_inhibitor\", \"transient_receptor_potential_channel_antagonist\", \"tropomyosin_receptor_kinase_inhibitor\", \"trpv_agonist\", \"trpv_antagonist\", \"tubulin_inhibitor\", \"tyrosine_kinase_inhibitor\", \"ubiquitin_specific_protease_inhibitor\", \"vegfr_inhibitor\", \"vitamin_b\", \"vitamin_d_receptor_agonist\", \"wnt_inhibitor\"], \"mode\": \"markers\", \"name\": \"linSVR\", \"type\": \"scatter\", \"x\": [17, 18, 24, 190, 301, 73, 54, 96, 12, 270, 360, 66, 7, 42, 12, 12, 48, 89, 80, 36, 37, 73, 6, 43, 12, 13, 12, 18, 73, 36, 23, 49, 47, 6, 1, 12, 97, 19, 96, 6, 60, 80, 36, 192, 89, 115, 7, 31, 38, 67, 24, 68, 29, 6, 281, 42, 55, 36, 36, 18, 12, 102, 18, 340, 54, 24, 42, 48, 54, 6, 36, 435, 104, 36, 25, 6, 48, 402, 121, 424, 336, 6, 1, 158, 48, 36, 18, 25, 50, 279, 18, 18, 23, 106, 165, 56, 266, 13, 74, 367, 18, 60, 72, 106, 59, 241, 24, 32, 72, 283, 93, 37, 30, 31, 73, 30, 51, 42, 92, 273, 6, 6, 62, 12, 61, 6, 31, 72, 74, 25, 12, 85, 18, 130, 48, 37, 832, 6, 26, 12, 26, 7, 18, 61, 96, 37, 62, 24, 61, 297, 18, 264, 25, 151, 31, 55, 98, 115, 30, 119, 18, 36, 84, 726, 48, 6, 103, 19, 56, 223, 12, 67, 6, 35, 37, 25, 236, 404, 44, 36, 36, 25, 267, 25, 71, 6, 19, 60, 30, 19, 37, 30, 7, 36, 127, 18, 6, 25, 48, 316, 73, 6, 170, 26, 39, 30], \"y\": [0.005831072022101893, 0.0062367966075362255, 0.007978826744621, 0.046532153206883135, 0.06764519498468158, 0.020674200783992996, 0.016045308936736183, 0.02617930117984991, 0.004410436616566181, 0.061465668061985515, 0.07819365420172178, 0.01892843312150654, 0.0026345682300976028, 0.01300006856917485, 0.004333620848570402, 0.004248240433775837, 0.014503088292594333, 0.024660313244141842, 0.02249396089647529, 0.011297205913931439, 0.011599045208352294, 0.02083031236872575, 0.002352113482594083, 0.013188841549764905, 0.004369326872743167, 0.004650355328805417, 0.0043236828031939425, 0.006214198142430628, 0.02066446573334994, 0.011342876546885395, 0.00767303204840099, 0.014890535213746234, 0.014115718316159428, 0.002345676579883589, 0.0014503559416702136, 0.004065520270877872, 0.025914699595589084, 0.006488820228366745, 0.024752217363843882, 0.002301375812520917, 0.017370348638267228, 0.02243234683566219, 0.011344221828718798, 0.046754972797189036, 0.024566871977685388, 0.030630721758026787, 0.003760352039339202, 0.010978942781144353, 0.01189667503898387, 0.0193395606048917, 0.007960219227400405, 0.019635670875574652, 0.009291168310008641, 0.002329830897034114, 0.06401526286595917, 0.012951765101314528, 0.01635370692662676, 0.011329246520561505, 0.011312954428724162, 0.006167602628048446, 0.004278303310673196, 0.027588697293121876, 0.006150508681834448, 0.07349164643998377, 0.015968265000170855, 0.007659009572503486, 0.0127415263968949, 0.01434128440289508, 0.01593223619662827, 0.00234289766191843, 0.01133443835000506, 0.09077882184970891, 0.028042983450983508, 0.011276133017276122, 0.008113297037170309, 0.002357632468117093, 0.014467989815617484, 0.08565436115853382, 0.03189774372576333, 0.08939811210536328, 0.0735421211170771, 0.002353981450198713, 0.0014503559416702138, 0.03988575478072683, 0.014526250357841103, 0.012300725394578268, 0.00603444061388778, 0.00817497228203518, 0.01506908749380371, 0.06376367456823122, 0.007165433663907627, 0.006199985126827718, 0.00764515599549536, 0.028401722716811652, 0.04127886112397169, 0.016444221338569806, 0.06089946435185394, 0.004652701314891327, 0.020983698148196332, 0.07877187263825523, 0.006163852958142984, 0.01759738734420235, 0.020405115187708, 0.029511672300418724, 0.01724552973654264, 0.056476507606090326, 0.00796990828506284, 0.010006583766986262, 0.02149711051093905, 0.06415444221964624, 0.023855177708779204, 0.01140894297389204, 0.009726953575741765, 0.009903106792157156, 0.020784218716675344, 0.009679037062016234, 0.015264901434627623, 0.01300170642169239, 0.025320982820766384, 0.06246477946155066, 0.0024947295858661596, 0.00235512045743162, 0.018035518878921568, 0.0042518743142080356, 0.018760874975453357, 0.0023380667829318814, 0.009957648307796857, 0.021386956974335358, 0.0209815141790747, 0.008228168227345126, 0.004321890192678845, 0.023667115839409884, 0.006218263284054405, 0.032841639151518914, 0.014446359897872066, 0.011603803036656195, 0.16898144197949105, 0.002371989435028168, 0.008492120335365552, 0.00422791161803384, 0.008542596878457279, 0.0026584850321569927, 0.010022741406093098, 0.018982782757997953, 0.026293584234826133, 0.011655475851224678, 0.018119481652722605, 0.008056274519735738, 0.01771098594733401, 0.06710305744294315, 0.006199938149449491, 0.060965440771229715, 0.008177498472208451, 0.03775005636406808, 0.009943823801261176, 0.016318670979156374, 0.026749670102798155, 0.030656605683734746, 0.009696971203088172, 0.03146061548982807, 0.006174004105544448, 0.011327434395304703, 0.02335330331062189, 0.13674941713594227, 0.014465104628272352, 0.002329313625363307, 0.027921076969987173, 0.006447015081736732, 0.01655802039131388, 0.058530349484819215, 0.004347669648141545, 0.018894683281625795, 0.0023087549628663484, 0.011061616669019437, 0.011606306088654487, 0.008085848983850882, 0.055456294867790294, 0.08592929944878917, 0.013449009004918362, 0.01128966781199427, 0.011349182364965677, 0.00939330483987544, 0.061526178635091626, 0.00823796117851257, 0.0203415750347607, 0.002351158044111295, 0.007528277187480458, 0.01751538977189555, 0.009379680531876098, 0.0064861228308376664, 0.01153452784576517, 0.00963057461042005, 0.002718632388188828, 0.011350224417594208, 0.03441045241130867, 0.006166925744739594, 0.002380490221436166, 0.008302030315432684, 0.015631823515068147, 0.06944287002669686, 0.020626487123264575, 0.002352093609178464, 0.04243210851895119, 0.008506518831265412, 0.011947172992174081, 0.009679503036961462]}, {\"hovertemplate\": [\"5-alpha_reductase_inhibitor\", \"11-beta-hsd1_inhibitor\", \"acat_inhibitor\", \"acetylcholine_receptor_agonist\", \"acetylcholine_receptor_antagonist\", \"acetylcholinesterase_inhibitor\", \"adenosine_receptor_agonist\", \"adenosine_receptor_antagonist\", \"adenylyl_cyclase_activator\", \"adrenergic_receptor_agonist\", \"adrenergic_receptor_antagonist\", \"akt_inhibitor\", \"aldehyde_dehydrogenase_inhibitor\", \"alk_inhibitor\", \"ampk_activator\", \"analgesic\", \"androgen_receptor_agonist\", \"androgen_receptor_antagonist\", \"anesthetic_-_local\", \"angiogenesis_inhibitor\", \"angiotensin_receptor_antagonist\", \"anti-inflammatory\", \"antiarrhythmic\", \"antibiotic\", \"anticonvulsant\", \"antifungal\", \"antihistamine\", \"antimalarial\", \"antioxidant\", \"antiprotozoal\", \"antiviral\", \"apoptosis_stimulant\", \"aromatase_inhibitor\", \"atm_kinase_inhibitor\", \"atp-sensitive_potassium_channel_antagonist\", \"atp_synthase_inhibitor\", \"atpase_inhibitor\", \"atr_kinase_inhibitor\", \"aurora_kinase_inhibitor\", \"autotaxin_inhibitor\", \"bacterial_30s_ribosomal_subunit_inhibitor\", \"bacterial_50s_ribosomal_subunit_inhibitor\", \"bacterial_antifolate\", \"bacterial_cell_wall_synthesis_inhibitor\", \"bacterial_dna_gyrase_inhibitor\", \"bacterial_dna_inhibitor\", \"bacterial_membrane_integrity_inhibitor\", \"bcl_inhibitor\", \"bcr-abl_inhibitor\", \"benzodiazepine_receptor_agonist\", \"beta_amyloid_inhibitor\", \"bromodomain_inhibitor\", \"btk_inhibitor\", \"calcineurin_inhibitor\", \"calcium_channel_blocker\", \"cannabinoid_receptor_agonist\", \"cannabinoid_receptor_antagonist\", \"carbonic_anhydrase_inhibitor\", \"casein_kinase_inhibitor\", \"caspase_activator\", \"catechol_o_methyltransferase_inhibitor\", \"cc_chemokine_receptor_antagonist\", \"cck_receptor_antagonist\", \"cdk_inhibitor\", \"chelating_agent\", \"chk_inhibitor\", \"chloride_channel_blocker\", \"cholesterol_inhibitor\", \"cholinergic_receptor_antagonist\", \"coagulation_factor_inhibitor\", \"corticosteroid_agonist\", \"cyclooxygenase_inhibitor\", \"cytochrome_p450_inhibitor\", \"dihydrofolate_reductase_inhibitor\", \"dipeptidyl_peptidase_inhibitor\", \"diuretic\", \"dna_alkylating_agent\", \"dna_inhibitor\", \"dopamine_receptor_agonist\", \"dopamine_receptor_antagonist\", \"egfr_inhibitor\", \"elastase_inhibitor\", \"erbb2_inhibitor\", \"estrogen_receptor_agonist\", \"estrogen_receptor_antagonist\", \"faah_inhibitor\", \"farnesyltransferase_inhibitor\", \"fatty_acid_receptor_agonist\", \"fgfr_inhibitor\", \"flt3_inhibitor\", \"focal_adhesion_kinase_inhibitor\", \"free_radical_scavenger\", \"fungal_squalene_epoxidase_inhibitor\", \"gaba_receptor_agonist\", \"gaba_receptor_antagonist\", \"gamma_secretase_inhibitor\", \"glucocorticoid_receptor_agonist\", \"glutamate_inhibitor\", \"glutamate_receptor_agonist\", \"glutamate_receptor_antagonist\", \"gonadotropin_receptor_agonist\", \"gsk_inhibitor\", \"hcv_inhibitor\", \"hdac_inhibitor\", \"histamine_receptor_agonist\", \"histamine_receptor_antagonist\", \"histone_lysine_demethylase_inhibitor\", \"histone_lysine_methyltransferase_inhibitor\", \"hiv_inhibitor\", \"hmgcr_inhibitor\", \"hsp_inhibitor\", \"igf-1_inhibitor\", \"ikk_inhibitor\", \"imidazoline_receptor_agonist\", \"immunosuppressant\", \"insulin_secretagogue\", \"insulin_sensitizer\", \"integrin_inhibitor\", \"jak_inhibitor\", \"kit_inhibitor\", \"laxative\", \"leukotriene_inhibitor\", \"leukotriene_receptor_antagonist\", \"lipase_inhibitor\", \"lipoxygenase_inhibitor\", \"lxr_agonist\", \"mdm_inhibitor\", \"mek_inhibitor\", \"membrane_integrity_inhibitor\", \"mineralocorticoid_receptor_antagonist\", \"monoacylglycerol_lipase_inhibitor\", \"monoamine_oxidase_inhibitor\", \"monopolar_spindle_1_kinase_inhibitor\", \"mtor_inhibitor\", \"mucolytic_agent\", \"neuropeptide_receptor_antagonist\", \"nfkb_inhibitor\", \"nicotinic_receptor_agonist\", \"nitric_oxide_donor\", \"nitric_oxide_production_inhibitor\", \"nitric_oxide_synthase_inhibitor\", \"norepinephrine_reuptake_inhibitor\", \"nrf2_activator\", \"opioid_receptor_agonist\", \"opioid_receptor_antagonist\", \"orexin_receptor_antagonist\", \"p38_mapk_inhibitor\", \"p-glycoprotein_inhibitor\", \"parp_inhibitor\", \"pdgfr_inhibitor\", \"pdk_inhibitor\", \"phosphodiesterase_inhibitor\", \"phospholipase_inhibitor\", \"pi3k_inhibitor\", \"pkc_inhibitor\", \"potassium_channel_activator\", \"potassium_channel_antagonist\", \"ppar_receptor_agonist\", \"ppar_receptor_antagonist\", \"progesterone_receptor_agonist\", \"progesterone_receptor_antagonist\", \"prostaglandin_inhibitor\", \"prostanoid_receptor_antagonist\", \"proteasome_inhibitor\", \"protein_kinase_inhibitor\", \"protein_phosphatase_inhibitor\", \"protein_synthesis_inhibitor\", \"protein_tyrosine_kinase_inhibitor\", \"radiopaque_medium\", \"raf_inhibitor\", \"ras_gtpase_inhibitor\", \"retinoid_receptor_agonist\", \"retinoid_receptor_antagonist\", \"rho_associated_kinase_inhibitor\", \"ribonucleoside_reductase_inhibitor\", \"rna_polymerase_inhibitor\", \"serotonin_receptor_agonist\", \"serotonin_receptor_antagonist\", \"serotonin_reuptake_inhibitor\", \"sigma_receptor_agonist\", \"sigma_receptor_antagonist\", \"smoothened_receptor_antagonist\", \"sodium_channel_inhibitor\", \"sphingosine_receptor_agonist\", \"src_inhibitor\", \"steroid\", \"syk_inhibitor\", \"tachykinin_antagonist\", \"tgf-beta_receptor_inhibitor\", \"thrombin_inhibitor\", \"thymidylate_synthase_inhibitor\", \"tlr_agonist\", \"tlr_antagonist\", \"tnf_inhibitor\", \"topoisomerase_inhibitor\", \"transient_receptor_potential_channel_antagonist\", \"tropomyosin_receptor_kinase_inhibitor\", \"trpv_agonist\", \"trpv_antagonist\", \"tubulin_inhibitor\", \"tyrosine_kinase_inhibitor\", \"ubiquitin_specific_protease_inhibitor\", \"vegfr_inhibitor\", \"vitamin_b\", \"vitamin_d_receptor_agonist\", \"wnt_inhibitor\"], \"mode\": \"markers\", \"name\": \"Logistic Regression\", \"type\": \"scatter\", \"x\": [17, 18, 24, 190, 301, 73, 54, 96, 12, 270, 360, 66, 7, 42, 12, 12, 48, 89, 80, 36, 37, 73, 6, 43, 12, 13, 12, 18, 73, 36, 23, 49, 47, 6, 1, 12, 97, 19, 96, 6, 60, 80, 36, 192, 89, 115, 7, 31, 38, 67, 24, 68, 29, 6, 281, 42, 55, 36, 36, 18, 12, 102, 18, 340, 54, 24, 42, 48, 54, 6, 36, 435, 104, 36, 25, 6, 48, 402, 121, 424, 336, 6, 1, 158, 48, 36, 18, 25, 50, 279, 18, 18, 23, 106, 165, 56, 266, 13, 74, 367, 18, 60, 72, 106, 59, 241, 24, 32, 72, 283, 93, 37, 30, 31, 73, 30, 51, 42, 92, 273, 6, 6, 62, 12, 61, 6, 31, 72, 74, 25, 12, 85, 18, 130, 48, 37, 832, 6, 26, 12, 26, 7, 18, 61, 96, 37, 62, 24, 61, 297, 18, 264, 25, 151, 31, 55, 98, 115, 30, 119, 18, 36, 84, 726, 48, 6, 103, 19, 56, 223, 12, 67, 6, 35, 37, 25, 236, 404, 44, 36, 36, 25, 267, 25, 71, 6, 19, 60, 30, 19, 37, 30, 7, 36, 127, 18, 6, 25, 48, 316, 73, 6, 170, 26, 39, 30], \"y\": [0.005830623315948098, 0.006236792624913174, 0.007978780710731765, 0.046532121224760636, 0.06767420362684742, 0.020716495730660565, 0.016058762080757717, 0.026209240324480455, 0.0043954215019391925, 0.06158548671941677, 0.07826840129778204, 0.01897767798543146, 0.0026670728094075054, 0.01302012627876443, 0.004341225785943321, 0.004250601548064522, 0.01452424859570846, 0.024661538166436934, 0.022503299315641684, 0.011334780866398546, 0.011603009332314444, 0.02083548440210421, 0.0023559557491704217, 0.01311956423001844, 0.004368542433882546, 0.004655386127593038, 0.0043513120304055535, 0.006209724785426988, 0.0207195000724082, 0.011344489863555303, 0.007675623467006081, 0.014883475118405282, 0.01415822441201533, 0.0023505833993926104, 0.0014503559416702136, 0.004080352883103966, 0.025825393300126266, 0.006496515802448264, 0.02538550062532298, 0.002272710883459889, 0.017380675037869008, 0.022459649208535788, 0.011345086450808903, 0.0468079705705623, 0.024594244213974065, 0.03062354246109977, 0.0027444271221193097, 0.00989062757468785, 0.011896755809241728, 0.019340177219236542, 0.007965844680439349, 0.019610396043187765, 0.00931525938624925, 0.002336744750466625, 0.06405331020801064, 0.01295480368967307, 0.0163537925500953, 0.011345343904518758, 0.011318644122705467, 0.006183435139200515, 0.004286163681556558, 0.02762196548755424, 0.006171805080599705, 0.07334185415723994, 0.015999609650672954, 0.007831905228941238, 0.01280428898428355, 0.014387535604123028, 0.015987786864055855, 0.002370116788999531, 0.011337901461896047, 0.09087187905968544, 0.028063498347615203, 0.011282784508092045, 0.008103599202173385, 0.0023513173521538884, 0.014487720087473704, 0.08565572271046754, 0.03191198398566888, 0.08940037753189563, 0.07354008002750367, 0.002352033102727093, 0.0014503559416702138, 0.039901337774368044, 0.014534127052648128, 0.011201862827629184, 0.00601396554547451, 0.00820618549918643, 0.015073197628713678, 0.06376377039096787, 0.0061069432809438915, 0.0062007324000306315, 0.007662261805934805, 0.02841123538997405, 0.04130550829479115, 0.01650738529822305, 0.06104341464282291, 0.004659782825628136, 0.02101092476691544, 0.07882629977310962, 0.006179271909641999, 0.01760178756410314, 0.020440624698726984, 0.028263676206896175, 0.01727905532616333, 0.05650770434701553, 0.007970721499493016, 0.01001132124049327, 0.020392546574385682, 0.06429359086932525, 0.024045849495653394, 0.011473291537075228, 0.009695936772187922, 0.009917626322021767, 0.020796949799897664, 0.009683723580950985, 0.015287947839839193, 0.012994583570939914, 0.02531882968626482, 0.06251358777731116, 0.0024102366008430217, 0.0023566129706579114, 0.01806987190819481, 0.0042492400727822364, 0.017548081414035424, 0.002350166094442365, 0.009957791620892612, 0.020116586846777227, 0.02100676842391899, 0.008239057835894358, 0.004330685394651886, 0.02367576810181112, 0.006217111335044325, 0.032623393942152724, 0.014463300322118419, 0.011608656263156054, 0.09637727365159575, 0.0023832929252792325, 0.008515002653279579, 0.004259246463386014, 0.008543271797425613, 0.0026696387249576232, 0.0055773026966722174, 0.017848523432446944, 0.026177865320516646, 0.011664994800008205, 0.018126079795748297, 0.008035808411591055, 0.01776455612084681, 0.06708548334617256, 0.006201013996411772, 0.060968258187399114, 0.008208583184737482, 0.03668911343917257, 0.009954998521326067, 0.016333048368861878, 0.026749791675315288, 0.030646408254494082, 0.009699311250982985, 0.031464427370431806, 0.006184110692750501, 0.011331121485567974, 0.023342265829301073, 0.13583244097973785, 0.014487922846292182, 0.002344197404514347, 0.02790336165008008, 0.006470254816662576, 0.016578379462154683, 0.038606157027797156, 0.004353562812770027, 0.019042806463558132, 0.0023172528988673054, 0.011064803113567542, 0.01160878454154629, 0.008016676891820082, 0.05550419227225393, 0.08595967144886414, 0.013469482990218409, 0.011312026253693494, 0.011347850046094664, 0.008276102029348972, 0.06153053868554995, 0.008247257662560436, 0.020323074719984832, 0.0023514962253626875, 0.006525534062927226, 0.017555970556951545, 0.009235580454007018, 0.006495562798211944, 0.011558598472399323, 0.009647925073414549, 0.0027181003637978406, 0.01135369530278692, 0.03235452991553183, 0.006180472294837442, 0.0023697091038273697, 0.008292148062286902, 0.014526405796536234, 0.07000580740047996, 0.02065160841467872, 0.002354203693258608, 0.04243122277897209, 0.008521098130737549, 0.011968874763236624, 0.009680750259958086]}, {\"hovertemplate\": [\"5-alpha_reductase_inhibitor\", \"11-beta-hsd1_inhibitor\", \"acat_inhibitor\", \"acetylcholine_receptor_agonist\", \"acetylcholine_receptor_antagonist\", \"acetylcholinesterase_inhibitor\", \"adenosine_receptor_agonist\", \"adenosine_receptor_antagonist\", \"adenylyl_cyclase_activator\", \"adrenergic_receptor_agonist\", \"adrenergic_receptor_antagonist\", \"akt_inhibitor\", \"aldehyde_dehydrogenase_inhibitor\", \"alk_inhibitor\", \"ampk_activator\", \"analgesic\", \"androgen_receptor_agonist\", \"androgen_receptor_antagonist\", \"anesthetic_-_local\", \"angiogenesis_inhibitor\", \"angiotensin_receptor_antagonist\", \"anti-inflammatory\", \"antiarrhythmic\", \"antibiotic\", \"anticonvulsant\", \"antifungal\", \"antihistamine\", \"antimalarial\", \"antioxidant\", \"antiprotozoal\", \"antiviral\", \"apoptosis_stimulant\", \"aromatase_inhibitor\", \"atm_kinase_inhibitor\", \"atp-sensitive_potassium_channel_antagonist\", \"atp_synthase_inhibitor\", \"atpase_inhibitor\", \"atr_kinase_inhibitor\", \"aurora_kinase_inhibitor\", \"autotaxin_inhibitor\", \"bacterial_30s_ribosomal_subunit_inhibitor\", \"bacterial_50s_ribosomal_subunit_inhibitor\", \"bacterial_antifolate\", \"bacterial_cell_wall_synthesis_inhibitor\", \"bacterial_dna_gyrase_inhibitor\", \"bacterial_dna_inhibitor\", \"bacterial_membrane_integrity_inhibitor\", \"bcl_inhibitor\", \"bcr-abl_inhibitor\", \"benzodiazepine_receptor_agonist\", \"beta_amyloid_inhibitor\", \"bromodomain_inhibitor\", \"btk_inhibitor\", \"calcineurin_inhibitor\", \"calcium_channel_blocker\", \"cannabinoid_receptor_agonist\", \"cannabinoid_receptor_antagonist\", \"carbonic_anhydrase_inhibitor\", \"casein_kinase_inhibitor\", \"caspase_activator\", \"catechol_o_methyltransferase_inhibitor\", \"cc_chemokine_receptor_antagonist\", \"cck_receptor_antagonist\", \"cdk_inhibitor\", \"chelating_agent\", \"chk_inhibitor\", \"chloride_channel_blocker\", \"cholesterol_inhibitor\", \"cholinergic_receptor_antagonist\", \"coagulation_factor_inhibitor\", \"corticosteroid_agonist\", \"cyclooxygenase_inhibitor\", \"cytochrome_p450_inhibitor\", \"dihydrofolate_reductase_inhibitor\", \"dipeptidyl_peptidase_inhibitor\", \"diuretic\", \"dna_alkylating_agent\", \"dna_inhibitor\", \"dopamine_receptor_agonist\", \"dopamine_receptor_antagonist\", \"egfr_inhibitor\", \"elastase_inhibitor\", \"erbb2_inhibitor\", \"estrogen_receptor_agonist\", \"estrogen_receptor_antagonist\", \"faah_inhibitor\", \"farnesyltransferase_inhibitor\", \"fatty_acid_receptor_agonist\", \"fgfr_inhibitor\", \"flt3_inhibitor\", \"focal_adhesion_kinase_inhibitor\", \"free_radical_scavenger\", \"fungal_squalene_epoxidase_inhibitor\", \"gaba_receptor_agonist\", \"gaba_receptor_antagonist\", \"gamma_secretase_inhibitor\", \"glucocorticoid_receptor_agonist\", \"glutamate_inhibitor\", \"glutamate_receptor_agonist\", \"glutamate_receptor_antagonist\", \"gonadotropin_receptor_agonist\", \"gsk_inhibitor\", \"hcv_inhibitor\", \"hdac_inhibitor\", \"histamine_receptor_agonist\", \"histamine_receptor_antagonist\", \"histone_lysine_demethylase_inhibitor\", \"histone_lysine_methyltransferase_inhibitor\", \"hiv_inhibitor\", \"hmgcr_inhibitor\", \"hsp_inhibitor\", \"igf-1_inhibitor\", \"ikk_inhibitor\", \"imidazoline_receptor_agonist\", \"immunosuppressant\", \"insulin_secretagogue\", \"insulin_sensitizer\", \"integrin_inhibitor\", \"jak_inhibitor\", \"kit_inhibitor\", \"laxative\", \"leukotriene_inhibitor\", \"leukotriene_receptor_antagonist\", \"lipase_inhibitor\", \"lipoxygenase_inhibitor\", \"lxr_agonist\", \"mdm_inhibitor\", \"mek_inhibitor\", \"membrane_integrity_inhibitor\", \"mineralocorticoid_receptor_antagonist\", \"monoacylglycerol_lipase_inhibitor\", \"monoamine_oxidase_inhibitor\", \"monopolar_spindle_1_kinase_inhibitor\", \"mtor_inhibitor\", \"mucolytic_agent\", \"neuropeptide_receptor_antagonist\", \"nfkb_inhibitor\", \"nicotinic_receptor_agonist\", \"nitric_oxide_donor\", \"nitric_oxide_production_inhibitor\", \"nitric_oxide_synthase_inhibitor\", \"norepinephrine_reuptake_inhibitor\", \"nrf2_activator\", \"opioid_receptor_agonist\", \"opioid_receptor_antagonist\", \"orexin_receptor_antagonist\", \"p38_mapk_inhibitor\", \"p-glycoprotein_inhibitor\", \"parp_inhibitor\", \"pdgfr_inhibitor\", \"pdk_inhibitor\", \"phosphodiesterase_inhibitor\", \"phospholipase_inhibitor\", \"pi3k_inhibitor\", \"pkc_inhibitor\", \"potassium_channel_activator\", \"potassium_channel_antagonist\", \"ppar_receptor_agonist\", \"ppar_receptor_antagonist\", \"progesterone_receptor_agonist\", \"progesterone_receptor_antagonist\", \"prostaglandin_inhibitor\", \"prostanoid_receptor_antagonist\", \"proteasome_inhibitor\", \"protein_kinase_inhibitor\", \"protein_phosphatase_inhibitor\", \"protein_synthesis_inhibitor\", \"protein_tyrosine_kinase_inhibitor\", \"radiopaque_medium\", \"raf_inhibitor\", \"ras_gtpase_inhibitor\", \"retinoid_receptor_agonist\", \"retinoid_receptor_antagonist\", \"rho_associated_kinase_inhibitor\", \"ribonucleoside_reductase_inhibitor\", \"rna_polymerase_inhibitor\", \"serotonin_receptor_agonist\", \"serotonin_receptor_antagonist\", \"serotonin_reuptake_inhibitor\", \"sigma_receptor_agonist\", \"sigma_receptor_antagonist\", \"smoothened_receptor_antagonist\", \"sodium_channel_inhibitor\", \"sphingosine_receptor_agonist\", \"src_inhibitor\", \"steroid\", \"syk_inhibitor\", \"tachykinin_antagonist\", \"tgf-beta_receptor_inhibitor\", \"thrombin_inhibitor\", \"thymidylate_synthase_inhibitor\", \"tlr_agonist\", \"tlr_antagonist\", \"tnf_inhibitor\", \"topoisomerase_inhibitor\", \"transient_receptor_potential_channel_antagonist\", \"tropomyosin_receptor_kinase_inhibitor\", \"trpv_agonist\", \"trpv_antagonist\", \"tubulin_inhibitor\", \"tyrosine_kinase_inhibitor\", \"ubiquitin_specific_protease_inhibitor\", \"vegfr_inhibitor\", \"vitamin_b\", \"vitamin_d_receptor_agonist\", \"wnt_inhibitor\"], \"mode\": \"markers\", \"name\": \"Random Forest Regression\", \"type\": \"scatter\", \"x\": [17, 18, 24, 190, 301, 73, 54, 96, 12, 270, 360, 66, 7, 42, 12, 12, 48, 89, 80, 36, 37, 73, 6, 43, 12, 13, 12, 18, 73, 36, 23, 49, 47, 6, 1, 12, 97, 19, 96, 6, 60, 80, 36, 192, 89, 115, 7, 31, 38, 67, 24, 68, 29, 6, 281, 42, 55, 36, 36, 18, 12, 102, 18, 340, 54, 24, 42, 48, 54, 6, 36, 435, 104, 36, 25, 6, 48, 402, 121, 424, 336, 6, 1, 158, 48, 36, 18, 25, 50, 279, 18, 18, 23, 106, 165, 56, 266, 13, 74, 367, 18, 60, 72, 106, 59, 241, 24, 32, 72, 283, 93, 37, 30, 31, 73, 30, 51, 42, 92, 273, 6, 6, 62, 12, 61, 6, 31, 72, 74, 25, 12, 85, 18, 130, 48, 37, 832, 6, 26, 12, 26, 7, 18, 61, 96, 37, 62, 24, 61, 297, 18, 264, 25, 151, 31, 55, 98, 115, 30, 119, 18, 36, 84, 726, 48, 6, 103, 19, 56, 223, 12, 67, 6, 35, 37, 25, 236, 404, 44, 36, 36, 25, 267, 25, 71, 6, 19, 60, 30, 19, 37, 30, 7, 36, 127, 18, 6, 25, 48, 316, 73, 6, 170, 26, 39, 30], \"y\": [0.005832626157820068, 0.0062372378144672, 0.00819330790408594, 0.0465429747943948, 0.06780383692855188, 0.021134658587802356, 0.016384841460868157, 0.026562936023320643, 0.004911414071871816, 0.06186146353494312, 0.07747490786778577, 0.018876869681061878, 0.0038930156741204367, 0.013260396177076045, 0.004681325652180976, 0.004741557771336225, 0.014869227687426122, 0.02478027884791887, 0.022837012505434597, 0.01158482589555263, 0.01208366797130378, 0.02102651382943885, 0.0029988904191288637, 0.0134619638882337, 0.004885890401976042, 0.005847251553089487, 0.004670217503246909, 0.0064611077530722085, 0.021079350436196735, 0.011613457570646824, 0.007996028370231608, 0.015290613656957152, 0.014584288374847876, 0.004726983334469083, 0.0014503559416702136, 0.0054486612717959786, 0.02577290407398193, 0.007056260246969822, 0.02470788127476214, 0.0034827736452244214, 0.0177368100917087, 0.022784120698300925, 0.011813253752390696, 0.046687017132379195, 0.024909503221289615, 0.030847199804086792, 0.003995788279920621, 0.010229441015590863, 0.011911627542582282, 0.019489029826546347, 0.008287909609887855, 0.019512158447889675, 0.009475362525943193, 0.004618797943864961, 0.06400036906645085, 0.012918877492990912, 0.016830474702206576, 0.011754000815730588, 0.011702119543628299, 0.006579599871534956, 0.005539680930419343, 0.027720521051130858, 0.006376449767547342, 0.07284240498813233, 0.01636693135591969, 0.008407376908911147, 0.012820224774496689, 0.014683812633626187, 0.016380442223705348, 0.004712114271977718, 0.011646726938220235, 0.09104822142587304, 0.028515006110504056, 0.011792361077827818, 0.00944558075863966, 0.004620282233358601, 0.01476302429319427, 0.08576949465082907, 0.032242464748720154, 0.08943918058019172, 0.07366391946349671, 0.004631565825675182, 0.0014503559416702138, 0.039981645903094214, 0.014821673747122606, 0.011572565015531635, 0.006341155178409528, 0.00867008196107445, 0.015395384697745202, 0.06380980383986873, 0.006476113798341386, 0.006358729526295191, 0.007898316341255948, 0.02877016931627637, 0.04164121480364549, 0.01688425611832795, 0.061127449644835685, 0.004951964184090133, 0.021194376650341563, 0.07850705903925054, 0.006536435944543272, 0.01799360901434607, 0.02076856348354077, 0.028217379737411823, 0.01747786922884417, 0.056410903614982945, 0.008271062967343559, 0.010581375291683123, 0.02083336030638843, 0.06353424699793433, 0.023993262825316584, 0.011694969318321303, 0.009947286221156188, 0.010170697014875387, 0.021077620747291165, 0.01004179999858602, 0.015488343908712569, 0.01324151847584813, 0.025568698341557294, 0.06269387394425302, 0.0038130016488766676, 0.0028621731858311378, 0.018359540890962388, 0.0048155634313742845, 0.017492259507822214, 0.0046354027208414745, 0.010191494634783149, 0.020181363772830436, 0.021203844077436827, 0.008647838868738185, 0.004710106846338496, 0.02372774962928892, 0.00622731718286842, 0.028816780318051977, 0.014941294504228698, 0.011894761073776804, 0.09122152449913523, 0.0029882587204909054, 0.008911195431951612, 0.004777042186281198, 0.00872326193224775, 0.004075511315878925, 0.005894718714431732, 0.018037217786311396, 0.02644860453825708, 0.011964792805969703, 0.018527709874567377, 0.008256514086481275, 0.01785277156868576, 0.06711645049670535, 0.006590026169824475, 0.06095893267107539, 0.00848348156109896, 0.03692235078114873, 0.010252161559505464, 0.016324097634183143, 0.02675543186861882, 0.030948227451511805, 0.010112163492181513, 0.031308926187960905, 0.006565701458143086, 0.011790006508188244, 0.02346973416020872, 0.13134967794995805, 0.014937898236510283, 0.004744262142858037, 0.02806572251163203, 0.006892620765550899, 0.016745300175409636, 0.031739207093442454, 0.004599415579180036, 0.019129993810673266, 0.003614164087650829, 0.01131012944596968, 0.011973873856649931, 0.008443791975266962, 0.0554730368487627, 0.08457720989783339, 0.013295016824595128, 0.011618746114091727, 0.011638757434253999, 0.008583839500553312, 0.06167158715401109, 0.008330170323865512, 0.020426600031409597, 0.004576616088126094, 0.006717179886235828, 0.017891873518163813, 0.009545674346915188, 0.006776869092140674, 0.01184031817360348, 0.009687555435182009, 0.00419912936906063, 0.011632919047840707, 0.03172866209444443, 0.006597994629367951, 0.004744641355213551, 0.008630517862457443, 0.014913355131253076, 0.06691937719626304, 0.02097399158675632, 0.0036052618401065223, 0.04277407080460313, 0.008889504887866786, 0.012536484471160118, 0.00993451964738174]}],                        {\"hoverlabel\": {\"align\": \"right\"}, \"paper_bgcolor\": \"rgba(154,186,211,0.8)\", \"plot_bgcolor\": \"rgba(232,246,252,0.2)\", \"template\": {\"data\": {\"bar\": [{\"error_x\": {\"color\": \"#2a3f5f\"}, \"error_y\": {\"color\": \"#2a3f5f\"}, \"marker\": {\"line\": {\"color\": \"#E5ECF6\", \"width\": 0.5}}, \"type\": \"bar\"}], \"barpolar\": [{\"marker\": {\"line\": {\"color\": \"#E5ECF6\", \"width\": 0.5}}, \"type\": \"barpolar\"}], \"carpet\": [{\"aaxis\": {\"endlinecolor\": \"#2a3f5f\", \"gridcolor\": \"white\", \"linecolor\": \"white\", \"minorgridcolor\": \"white\", \"startlinecolor\": \"#2a3f5f\"}, \"baxis\": {\"endlinecolor\": \"#2a3f5f\", \"gridcolor\": \"white\", \"linecolor\": \"white\", \"minorgridcolor\": \"white\", \"startlinecolor\": \"#2a3f5f\"}, \"type\": \"carpet\"}], \"choropleth\": [{\"colorbar\": {\"outlinewidth\": 0, \"ticks\": \"\"}, \"type\": \"choropleth\"}], \"contour\": [{\"colorbar\": {\"outlinewidth\": 0, \"ticks\": \"\"}, \"colorscale\": [[0.0, \"#0d0887\"], [0.1111111111111111, \"#46039f\"], [0.2222222222222222, \"#7201a8\"], [0.3333333333333333, \"#9c179e\"], [0.4444444444444444, \"#bd3786\"], [0.5555555555555556, \"#d8576b\"], [0.6666666666666666, \"#ed7953\"], [0.7777777777777778, \"#fb9f3a\"], [0.8888888888888888, \"#fdca26\"], [1.0, \"#f0f921\"]], \"type\": \"contour\"}], \"contourcarpet\": [{\"colorbar\": {\"outlinewidth\": 0, \"ticks\": \"\"}, \"type\": \"contourcarpet\"}], \"heatmap\": [{\"colorbar\": {\"outlinewidth\": 0, \"ticks\": \"\"}, \"colorscale\": [[0.0, \"#0d0887\"], [0.1111111111111111, \"#46039f\"], [0.2222222222222222, \"#7201a8\"], [0.3333333333333333, \"#9c179e\"], [0.4444444444444444, \"#bd3786\"], [0.5555555555555556, \"#d8576b\"], [0.6666666666666666, \"#ed7953\"], [0.7777777777777778, \"#fb9f3a\"], [0.8888888888888888, \"#fdca26\"], [1.0, \"#f0f921\"]], \"type\": \"heatmap\"}], \"heatmapgl\": [{\"colorbar\": {\"outlinewidth\": 0, \"ticks\": \"\"}, \"colorscale\": [[0.0, \"#0d0887\"], [0.1111111111111111, \"#46039f\"], [0.2222222222222222, \"#7201a8\"], [0.3333333333333333, \"#9c179e\"], [0.4444444444444444, \"#bd3786\"], [0.5555555555555556, \"#d8576b\"], [0.6666666666666666, \"#ed7953\"], [0.7777777777777778, \"#fb9f3a\"], [0.8888888888888888, \"#fdca26\"], [1.0, \"#f0f921\"]], \"type\": \"heatmapgl\"}], \"histogram\": [{\"marker\": {\"colorbar\": {\"outlinewidth\": 0, \"ticks\": \"\"}}, \"type\": \"histogram\"}], \"histogram2d\": [{\"colorbar\": {\"outlinewidth\": 0, \"ticks\": \"\"}, \"colorscale\": [[0.0, \"#0d0887\"], [0.1111111111111111, \"#46039f\"], [0.2222222222222222, \"#7201a8\"], [0.3333333333333333, \"#9c179e\"], [0.4444444444444444, \"#bd3786\"], [0.5555555555555556, \"#d8576b\"], [0.6666666666666666, \"#ed7953\"], [0.7777777777777778, \"#fb9f3a\"], [0.8888888888888888, \"#fdca26\"], [1.0, \"#f0f921\"]], \"type\": \"histogram2d\"}], \"histogram2dcontour\": [{\"colorbar\": {\"outlinewidth\": 0, \"ticks\": \"\"}, \"colorscale\": [[0.0, \"#0d0887\"], [0.1111111111111111, \"#46039f\"], [0.2222222222222222, \"#7201a8\"], [0.3333333333333333, \"#9c179e\"], [0.4444444444444444, \"#bd3786\"], [0.5555555555555556, \"#d8576b\"], [0.6666666666666666, \"#ed7953\"], [0.7777777777777778, \"#fb9f3a\"], [0.8888888888888888, \"#fdca26\"], [1.0, \"#f0f921\"]], \"type\": \"histogram2dcontour\"}], \"mesh3d\": [{\"colorbar\": {\"outlinewidth\": 0, \"ticks\": \"\"}, \"type\": \"mesh3d\"}], \"parcoords\": [{\"line\": {\"colorbar\": {\"outlinewidth\": 0, \"ticks\": \"\"}}, \"type\": \"parcoords\"}], \"pie\": [{\"automargin\": true, \"type\": \"pie\"}], \"scatter\": [{\"marker\": {\"colorbar\": {\"outlinewidth\": 0, \"ticks\": \"\"}}, \"type\": \"scatter\"}], \"scatter3d\": [{\"line\": {\"colorbar\": {\"outlinewidth\": 0, \"ticks\": \"\"}}, \"marker\": {\"colorbar\": {\"outlinewidth\": 0, \"ticks\": \"\"}}, \"type\": \"scatter3d\"}], \"scattercarpet\": [{\"marker\": {\"colorbar\": {\"outlinewidth\": 0, \"ticks\": \"\"}}, \"type\": \"scattercarpet\"}], \"scattergeo\": [{\"marker\": {\"colorbar\": {\"outlinewidth\": 0, \"ticks\": \"\"}}, \"type\": \"scattergeo\"}], \"scattergl\": [{\"marker\": {\"colorbar\": {\"outlinewidth\": 0, \"ticks\": \"\"}}, \"type\": \"scattergl\"}], \"scattermapbox\": [{\"marker\": {\"colorbar\": {\"outlinewidth\": 0, \"ticks\": \"\"}}, \"type\": \"scattermapbox\"}], \"scatterpolar\": [{\"marker\": {\"colorbar\": {\"outlinewidth\": 0, \"ticks\": \"\"}}, \"type\": \"scatterpolar\"}], \"scatterpolargl\": [{\"marker\": {\"colorbar\": {\"outlinewidth\": 0, \"ticks\": \"\"}}, \"type\": \"scatterpolargl\"}], \"scatterternary\": [{\"marker\": {\"colorbar\": {\"outlinewidth\": 0, \"ticks\": \"\"}}, \"type\": \"scatterternary\"}], \"surface\": [{\"colorbar\": {\"outlinewidth\": 0, \"ticks\": \"\"}, \"colorscale\": [[0.0, \"#0d0887\"], [0.1111111111111111, \"#46039f\"], [0.2222222222222222, \"#7201a8\"], [0.3333333333333333, \"#9c179e\"], [0.4444444444444444, \"#bd3786\"], [0.5555555555555556, \"#d8576b\"], [0.6666666666666666, \"#ed7953\"], [0.7777777777777778, \"#fb9f3a\"], [0.8888888888888888, \"#fdca26\"], [1.0, \"#f0f921\"]], \"type\": \"surface\"}], \"table\": [{\"cells\": {\"fill\": {\"color\": \"#EBF0F8\"}, \"line\": {\"color\": \"white\"}}, \"header\": {\"fill\": {\"color\": \"#C8D4E3\"}, \"line\": {\"color\": \"white\"}}, \"type\": \"table\"}]}, \"layout\": {\"annotationdefaults\": {\"arrowcolor\": \"#2a3f5f\", \"arrowhead\": 0, \"arrowwidth\": 1}, \"coloraxis\": {\"colorbar\": {\"outlinewidth\": 0, \"ticks\": \"\"}}, \"colorscale\": {\"diverging\": [[0, \"#8e0152\"], [0.1, \"#c51b7d\"], [0.2, \"#de77ae\"], [0.3, \"#f1b6da\"], [0.4, \"#fde0ef\"], [0.5, \"#f7f7f7\"], [0.6, \"#e6f5d0\"], [0.7, \"#b8e186\"], [0.8, \"#7fbc41\"], [0.9, \"#4d9221\"], [1, \"#276419\"]], \"sequential\": [[0.0, \"#0d0887\"], [0.1111111111111111, \"#46039f\"], [0.2222222222222222, \"#7201a8\"], [0.3333333333333333, \"#9c179e\"], [0.4444444444444444, \"#bd3786\"], [0.5555555555555556, \"#d8576b\"], [0.6666666666666666, \"#ed7953\"], [0.7777777777777778, \"#fb9f3a\"], [0.8888888888888888, \"#fdca26\"], [1.0, \"#f0f921\"]], \"sequentialminus\": [[0.0, \"#0d0887\"], [0.1111111111111111, \"#46039f\"], [0.2222222222222222, \"#7201a8\"], [0.3333333333333333, \"#9c179e\"], [0.4444444444444444, \"#bd3786\"], [0.5555555555555556, \"#d8576b\"], [0.6666666666666666, \"#ed7953\"], [0.7777777777777778, \"#fb9f3a\"], [0.8888888888888888, \"#fdca26\"], [1.0, \"#f0f921\"]]}, \"colorway\": [\"#636efa\", \"#EF553B\", \"#00cc96\", \"#ab63fa\", \"#FFA15A\", \"#19d3f3\", \"#FF6692\", \"#B6E880\", \"#FF97FF\", \"#FECB52\"], \"font\": {\"color\": \"#2a3f5f\"}, \"geo\": {\"bgcolor\": \"white\", \"lakecolor\": \"white\", \"landcolor\": \"#E5ECF6\", \"showlakes\": true, \"showland\": true, \"subunitcolor\": \"white\"}, \"hoverlabel\": {\"align\": \"left\"}, \"hovermode\": \"closest\", \"mapbox\": {\"style\": \"light\"}, \"paper_bgcolor\": \"white\", \"plot_bgcolor\": \"#E5ECF6\", \"polar\": {\"angularaxis\": {\"gridcolor\": \"white\", \"linecolor\": \"white\", \"ticks\": \"\"}, \"bgcolor\": \"#E5ECF6\", \"radialaxis\": {\"gridcolor\": \"white\", \"linecolor\": \"white\", \"ticks\": \"\"}}, \"scene\": {\"xaxis\": {\"backgroundcolor\": \"#E5ECF6\", \"gridcolor\": \"white\", \"gridwidth\": 2, \"linecolor\": \"white\", \"showbackground\": true, \"ticks\": \"\", \"zerolinecolor\": \"white\"}, \"yaxis\": {\"backgroundcolor\": \"#E5ECF6\", \"gridcolor\": \"white\", \"gridwidth\": 2, \"linecolor\": \"white\", \"showbackground\": true, \"ticks\": \"\", \"zerolinecolor\": \"white\"}, \"zaxis\": {\"backgroundcolor\": \"#E5ECF6\", \"gridcolor\": \"white\", \"gridwidth\": 2, \"linecolor\": \"white\", \"showbackground\": true, \"ticks\": \"\", \"zerolinecolor\": \"white\"}}, \"shapedefaults\": {\"line\": {\"color\": \"#2a3f5f\"}}, \"ternary\": {\"aaxis\": {\"gridcolor\": \"white\", \"linecolor\": \"white\", \"ticks\": \"\"}, \"baxis\": {\"gridcolor\": \"white\", \"linecolor\": \"white\", \"ticks\": \"\"}, \"bgcolor\": \"#E5ECF6\", \"caxis\": {\"gridcolor\": \"white\", \"linecolor\": \"white\", \"ticks\": \"\"}}, \"title\": {\"x\": 0.05}, \"xaxis\": {\"automargin\": true, \"gridcolor\": \"white\", \"linecolor\": \"white\", \"ticks\": \"\", \"title\": {\"standoff\": 15}, \"zerolinecolor\": \"white\", \"zerolinewidth\": 2}, \"yaxis\": {\"automargin\": true, \"gridcolor\": \"white\", \"linecolor\": \"white\", \"ticks\": \"\", \"title\": {\"standoff\": 15}, \"zerolinecolor\": \"white\", \"zerolinewidth\": 2}}}, \"title\": {\"text\": \"<b>Model Evaluation for all Targets</b>\", \"x\": 0.5}, \"xaxis\": {\"linecolor\": \"rgba(232,246,252,0.2)\", \"linewidth\": 2, \"range\": [0, 850], \"showgrid\": false, \"showline\": true, \"title\": {\"text\": \"Size of Minority Class (out of 20,000)\"}}, \"yaxis\": {\"linecolor\": \"rgba(232,246,252,0.2)\", \"linewidth\": 2, \"range\": [0, 0.2], \"showgrid\": false, \"showline\": true, \"title\": {\"text\": \"Log Loss Scores\"}}},                        {\"responsive\": true}                    ).then(function(){\n",
       "                            \n",
       "var gd = document.getElementById('9cbc5aaf-d2da-49b8-955d-a623ea4a0114');\n",
       "var x = new MutationObserver(function (mutations, observer) {{\n",
       "        var display = window.getComputedStyle(gd).display;\n",
       "        if (!display || display === 'none') {{\n",
       "            console.log([gd, 'removed!']);\n",
       "            Plotly.purge(gd);\n",
       "            observer.disconnect();\n",
       "        }}\n",
       "}});\n",
       "\n",
       "// Listen for the removal of the full notebook cells\n",
       "var notebookContainer = gd.closest('#notebook-container');\n",
       "if (notebookContainer) {{\n",
       "    x.observe(notebookContainer, {childList: true});\n",
       "}}\n",
       "\n",
       "// Listen for the clearing of the current output cell\n",
       "var outputEl = gd.closest('.output');\n",
       "if (outputEl) {{\n",
       "    x.observe(outputEl, {childList: true});\n",
       "}}\n",
       "\n",
       "                        })                };                });            </script>        </div>"
      ]
     },
     "metadata": {},
     "output_type": "display_data"
    }
   ],
   "source": [
    "from plotly.subplots import make_subplots\n",
    "import plotly.express as px\n",
    "import plotly.graph_objects as go\n",
    "import plotly\n",
    "import os\n",
    "\n",
    "fig = go.Figure()\n",
    "\n",
    "fig.add_trace(go.Scatter(\n",
    "    x=zeros_target_counts,\n",
    "    y=zeros_loss_vals,\n",
    "    name='all zeros',\n",
    "    mode='lines',\n",
    "    hovertemplate=['' for i in range(len(train_targets.columns))])\n",
    ")\n",
    "fig.add_trace(go.Scatter(\n",
    "    x=target_counts,\n",
    "    y=nusvr_logloss_vals,\n",
    "    name='NuSVR',\n",
    "    mode='markers',\n",
    "    hovertemplate = train_targets.columns)\n",
    ")\n",
    "fig.add_trace(go.Scatter(\n",
    "    x=target_counts,\n",
    "    y=linsvr_loss_vals,\n",
    "    name='linSVR',\n",
    "    mode='markers',\n",
    "    hovertemplate = train_targets.columns)\n",
    ")\n",
    "fig.add_trace(go.Scatter(\n",
    "    x=target_counts,\n",
    "    y=logistic_regr_loss_vals,\n",
    "    name='Logistic Regression',\n",
    "    mode='markers',\n",
    "    hovertemplate = train_targets.columns)\n",
    ")\n",
    "# fig.add_trace(go.Scatter(\n",
    "#     x=target_counts,\n",
    "#     y=xgb_loss_vals,\n",
    "#     name='XGBoost',\n",
    "#     mode='markers',\n",
    "#     hovertemplate = train_targets.columns)\n",
    "# )\n",
    "fig.add_trace(go.Scatter(\n",
    "    x=target_counts,\n",
    "    y=rfr_loss_vals,\n",
    "    name='Random Forest Regression',\n",
    "    mode='markers',\n",
    "    hovertemplate = train_targets.columns)\n",
    ")\n",
    "fig.update_layout(\n",
    "    title='<b>Model Evaluation for all Targets</b>',\n",
    "    title_x=0.5,\n",
    "    xaxis_title='Size of Minority Class (out of 20,000)',\n",
    "    yaxis_title='Log Loss Scores',\n",
    "    xaxis_showgrid = False,\n",
    "    yaxis_showgrid = False,\n",
    "    yaxis_range=[0,0.2],\n",
    "    xaxis_range=[0,850],\n",
    "    hoverlabel_align = 'right',\n",
    "    paper_bgcolor='rgba(154,186,211,0.8)',\n",
    "    plot_bgcolor='rgba(232,246,252,0.2)'\n",
    ")\n",
    "fig.update_xaxes(showline=True, linewidth=2, linecolor='rgba(232,246,252,0.2)')\n",
    "fig.update_yaxes(showline=True, linewidth=2, linecolor='rgba(232,246,252,0.2)')\n",
    "fig.show()\n",
    "    \n",
    "the_date = str(datetime.datetime.now())[:10]\n",
    "html_path = 'figures/Plotly_all_logloss_' + the_date + '.html'\n",
    "plotly.io.write_html(fig, html_path)"
   ]
  },
  {
   "cell_type": "code",
   "execution_count": 28,
   "metadata": {},
   "outputs": [
    {
     "data": {
      "application/vnd.plotly.v1+json": {
       "config": {
        "plotlyServerURL": "https://plot.ly"
       },
       "data": [
        {
         "hoverinfo": "y",
         "marker": {
          "color": [
           "red",
           "green",
           "purple",
           "orange"
          ]
         },
         "orientation": "h",
         "type": "bar",
         "x": [
          0.18305940876120524,
          0.04243210851895119,
          0.04243122277897209,
          0.04277407080460313
         ],
         "xaxis": "x",
         "y": [
          "NuSVR",
          "LinSVR",
          "Logistic Regression",
          "Rand Forest Regression"
         ],
         "yaxis": "y"
        },
        {
         "hoverinfo": "y",
         "marker": {
          "color": [
           "red",
           "green",
           "purple",
           "orange"
          ]
         },
         "orientation": "h",
         "type": "bar",
         "x": [
          0.03771063469764026,
          0.008506518831265412,
          0.008521098130737549,
          0.008889504887866786
         ],
         "xaxis": "x2",
         "y": [
          "NuSVR",
          "LinSVR",
          "Logistic Regression",
          "Rand Forest Regression"
         ],
         "yaxis": "y2"
        },
        {
         "hoverinfo": "y",
         "marker": {
          "color": [
           "red",
           "green",
           "purple",
           "orange"
          ]
         },
         "orientation": "h",
         "type": "bar",
         "x": [
          0.04468771478460247,
          0.011947172992174081,
          0.011968874763236624,
          0.012536484471160118
         ],
         "xaxis": "x3",
         "y": [
          "NuSVR",
          "LinSVR",
          "Logistic Regression",
          "Rand Forest Regression"
         ],
         "yaxis": "y3"
        },
        {
         "hoverinfo": "y",
         "marker": {
          "color": [
           "red",
           "green",
           "purple",
           "orange"
          ]
         },
         "orientation": "h",
         "type": "bar",
         "x": [
          0.04115276173692731,
          0.009679503036961462,
          0.009680750259958086,
          0.00993451964738174
         ],
         "xaxis": "x4",
         "y": [
          "NuSVR",
          "LinSVR",
          "Logistic Regression",
          "Rand Forest Regression"
         ],
         "yaxis": "y4"
        }
       ],
       "layout": {
        "annotations": [
         {
          "font": {
           "size": 16
          },
          "showarrow": false,
          "text": "VEGFR Inhibitor",
          "x": 0.5,
          "xanchor": "center",
          "xref": "paper",
          "y": 1,
          "yanchor": "bottom",
          "yref": "paper"
         },
         {
          "font": {
           "size": 16
          },
          "showarrow": false,
          "text": "Vitamin B",
          "x": 0.5,
          "xanchor": "center",
          "xref": "paper",
          "y": 0.71875,
          "yanchor": "bottom",
          "yref": "paper"
         },
         {
          "font": {
           "size": 16
          },
          "showarrow": false,
          "text": "Vitamin D Receptor Agonist",
          "x": 0.5,
          "xanchor": "center",
          "xref": "paper",
          "y": 0.4375,
          "yanchor": "bottom",
          "yref": "paper"
         },
         {
          "font": {
           "size": 16
          },
          "showarrow": false,
          "text": "WNT Inhibitor",
          "x": 0.5,
          "xanchor": "center",
          "xref": "paper",
          "y": 0.15625,
          "yanchor": "bottom",
          "yref": "paper"
         }
        ],
        "bargap": 0.1,
        "paper_bgcolor": "rgba(154,186,211,0.8)",
        "plot_bgcolor": "rgba(232,246,252,0.8)",
        "showlegend": false,
        "template": {
         "data": {
          "bar": [
           {
            "error_x": {
             "color": "#2a3f5f"
            },
            "error_y": {
             "color": "#2a3f5f"
            },
            "marker": {
             "line": {
              "color": "#E5ECF6",
              "width": 0.5
             }
            },
            "type": "bar"
           }
          ],
          "barpolar": [
           {
            "marker": {
             "line": {
              "color": "#E5ECF6",
              "width": 0.5
             }
            },
            "type": "barpolar"
           }
          ],
          "carpet": [
           {
            "aaxis": {
             "endlinecolor": "#2a3f5f",
             "gridcolor": "white",
             "linecolor": "white",
             "minorgridcolor": "white",
             "startlinecolor": "#2a3f5f"
            },
            "baxis": {
             "endlinecolor": "#2a3f5f",
             "gridcolor": "white",
             "linecolor": "white",
             "minorgridcolor": "white",
             "startlinecolor": "#2a3f5f"
            },
            "type": "carpet"
           }
          ],
          "choropleth": [
           {
            "colorbar": {
             "outlinewidth": 0,
             "ticks": ""
            },
            "type": "choropleth"
           }
          ],
          "contour": [
           {
            "colorbar": {
             "outlinewidth": 0,
             "ticks": ""
            },
            "colorscale": [
             [
              0,
              "#0d0887"
             ],
             [
              0.1111111111111111,
              "#46039f"
             ],
             [
              0.2222222222222222,
              "#7201a8"
             ],
             [
              0.3333333333333333,
              "#9c179e"
             ],
             [
              0.4444444444444444,
              "#bd3786"
             ],
             [
              0.5555555555555556,
              "#d8576b"
             ],
             [
              0.6666666666666666,
              "#ed7953"
             ],
             [
              0.7777777777777778,
              "#fb9f3a"
             ],
             [
              0.8888888888888888,
              "#fdca26"
             ],
             [
              1,
              "#f0f921"
             ]
            ],
            "type": "contour"
           }
          ],
          "contourcarpet": [
           {
            "colorbar": {
             "outlinewidth": 0,
             "ticks": ""
            },
            "type": "contourcarpet"
           }
          ],
          "heatmap": [
           {
            "colorbar": {
             "outlinewidth": 0,
             "ticks": ""
            },
            "colorscale": [
             [
              0,
              "#0d0887"
             ],
             [
              0.1111111111111111,
              "#46039f"
             ],
             [
              0.2222222222222222,
              "#7201a8"
             ],
             [
              0.3333333333333333,
              "#9c179e"
             ],
             [
              0.4444444444444444,
              "#bd3786"
             ],
             [
              0.5555555555555556,
              "#d8576b"
             ],
             [
              0.6666666666666666,
              "#ed7953"
             ],
             [
              0.7777777777777778,
              "#fb9f3a"
             ],
             [
              0.8888888888888888,
              "#fdca26"
             ],
             [
              1,
              "#f0f921"
             ]
            ],
            "type": "heatmap"
           }
          ],
          "heatmapgl": [
           {
            "colorbar": {
             "outlinewidth": 0,
             "ticks": ""
            },
            "colorscale": [
             [
              0,
              "#0d0887"
             ],
             [
              0.1111111111111111,
              "#46039f"
             ],
             [
              0.2222222222222222,
              "#7201a8"
             ],
             [
              0.3333333333333333,
              "#9c179e"
             ],
             [
              0.4444444444444444,
              "#bd3786"
             ],
             [
              0.5555555555555556,
              "#d8576b"
             ],
             [
              0.6666666666666666,
              "#ed7953"
             ],
             [
              0.7777777777777778,
              "#fb9f3a"
             ],
             [
              0.8888888888888888,
              "#fdca26"
             ],
             [
              1,
              "#f0f921"
             ]
            ],
            "type": "heatmapgl"
           }
          ],
          "histogram": [
           {
            "marker": {
             "colorbar": {
              "outlinewidth": 0,
              "ticks": ""
             }
            },
            "type": "histogram"
           }
          ],
          "histogram2d": [
           {
            "colorbar": {
             "outlinewidth": 0,
             "ticks": ""
            },
            "colorscale": [
             [
              0,
              "#0d0887"
             ],
             [
              0.1111111111111111,
              "#46039f"
             ],
             [
              0.2222222222222222,
              "#7201a8"
             ],
             [
              0.3333333333333333,
              "#9c179e"
             ],
             [
              0.4444444444444444,
              "#bd3786"
             ],
             [
              0.5555555555555556,
              "#d8576b"
             ],
             [
              0.6666666666666666,
              "#ed7953"
             ],
             [
              0.7777777777777778,
              "#fb9f3a"
             ],
             [
              0.8888888888888888,
              "#fdca26"
             ],
             [
              1,
              "#f0f921"
             ]
            ],
            "type": "histogram2d"
           }
          ],
          "histogram2dcontour": [
           {
            "colorbar": {
             "outlinewidth": 0,
             "ticks": ""
            },
            "colorscale": [
             [
              0,
              "#0d0887"
             ],
             [
              0.1111111111111111,
              "#46039f"
             ],
             [
              0.2222222222222222,
              "#7201a8"
             ],
             [
              0.3333333333333333,
              "#9c179e"
             ],
             [
              0.4444444444444444,
              "#bd3786"
             ],
             [
              0.5555555555555556,
              "#d8576b"
             ],
             [
              0.6666666666666666,
              "#ed7953"
             ],
             [
              0.7777777777777778,
              "#fb9f3a"
             ],
             [
              0.8888888888888888,
              "#fdca26"
             ],
             [
              1,
              "#f0f921"
             ]
            ],
            "type": "histogram2dcontour"
           }
          ],
          "mesh3d": [
           {
            "colorbar": {
             "outlinewidth": 0,
             "ticks": ""
            },
            "type": "mesh3d"
           }
          ],
          "parcoords": [
           {
            "line": {
             "colorbar": {
              "outlinewidth": 0,
              "ticks": ""
             }
            },
            "type": "parcoords"
           }
          ],
          "pie": [
           {
            "automargin": true,
            "type": "pie"
           }
          ],
          "scatter": [
           {
            "marker": {
             "colorbar": {
              "outlinewidth": 0,
              "ticks": ""
             }
            },
            "type": "scatter"
           }
          ],
          "scatter3d": [
           {
            "line": {
             "colorbar": {
              "outlinewidth": 0,
              "ticks": ""
             }
            },
            "marker": {
             "colorbar": {
              "outlinewidth": 0,
              "ticks": ""
             }
            },
            "type": "scatter3d"
           }
          ],
          "scattercarpet": [
           {
            "marker": {
             "colorbar": {
              "outlinewidth": 0,
              "ticks": ""
             }
            },
            "type": "scattercarpet"
           }
          ],
          "scattergeo": [
           {
            "marker": {
             "colorbar": {
              "outlinewidth": 0,
              "ticks": ""
             }
            },
            "type": "scattergeo"
           }
          ],
          "scattergl": [
           {
            "marker": {
             "colorbar": {
              "outlinewidth": 0,
              "ticks": ""
             }
            },
            "type": "scattergl"
           }
          ],
          "scattermapbox": [
           {
            "marker": {
             "colorbar": {
              "outlinewidth": 0,
              "ticks": ""
             }
            },
            "type": "scattermapbox"
           }
          ],
          "scatterpolar": [
           {
            "marker": {
             "colorbar": {
              "outlinewidth": 0,
              "ticks": ""
             }
            },
            "type": "scatterpolar"
           }
          ],
          "scatterpolargl": [
           {
            "marker": {
             "colorbar": {
              "outlinewidth": 0,
              "ticks": ""
             }
            },
            "type": "scatterpolargl"
           }
          ],
          "scatterternary": [
           {
            "marker": {
             "colorbar": {
              "outlinewidth": 0,
              "ticks": ""
             }
            },
            "type": "scatterternary"
           }
          ],
          "surface": [
           {
            "colorbar": {
             "outlinewidth": 0,
             "ticks": ""
            },
            "colorscale": [
             [
              0,
              "#0d0887"
             ],
             [
              0.1111111111111111,
              "#46039f"
             ],
             [
              0.2222222222222222,
              "#7201a8"
             ],
             [
              0.3333333333333333,
              "#9c179e"
             ],
             [
              0.4444444444444444,
              "#bd3786"
             ],
             [
              0.5555555555555556,
              "#d8576b"
             ],
             [
              0.6666666666666666,
              "#ed7953"
             ],
             [
              0.7777777777777778,
              "#fb9f3a"
             ],
             [
              0.8888888888888888,
              "#fdca26"
             ],
             [
              1,
              "#f0f921"
             ]
            ],
            "type": "surface"
           }
          ],
          "table": [
           {
            "cells": {
             "fill": {
              "color": "#EBF0F8"
             },
             "line": {
              "color": "white"
             }
            },
            "header": {
             "fill": {
              "color": "#C8D4E3"
             },
             "line": {
              "color": "white"
             }
            },
            "type": "table"
           }
          ]
         },
         "layout": {
          "annotationdefaults": {
           "arrowcolor": "#2a3f5f",
           "arrowhead": 0,
           "arrowwidth": 1
          },
          "coloraxis": {
           "colorbar": {
            "outlinewidth": 0,
            "ticks": ""
           }
          },
          "colorscale": {
           "diverging": [
            [
             0,
             "#8e0152"
            ],
            [
             0.1,
             "#c51b7d"
            ],
            [
             0.2,
             "#de77ae"
            ],
            [
             0.3,
             "#f1b6da"
            ],
            [
             0.4,
             "#fde0ef"
            ],
            [
             0.5,
             "#f7f7f7"
            ],
            [
             0.6,
             "#e6f5d0"
            ],
            [
             0.7,
             "#b8e186"
            ],
            [
             0.8,
             "#7fbc41"
            ],
            [
             0.9,
             "#4d9221"
            ],
            [
             1,
             "#276419"
            ]
           ],
           "sequential": [
            [
             0,
             "#0d0887"
            ],
            [
             0.1111111111111111,
             "#46039f"
            ],
            [
             0.2222222222222222,
             "#7201a8"
            ],
            [
             0.3333333333333333,
             "#9c179e"
            ],
            [
             0.4444444444444444,
             "#bd3786"
            ],
            [
             0.5555555555555556,
             "#d8576b"
            ],
            [
             0.6666666666666666,
             "#ed7953"
            ],
            [
             0.7777777777777778,
             "#fb9f3a"
            ],
            [
             0.8888888888888888,
             "#fdca26"
            ],
            [
             1,
             "#f0f921"
            ]
           ],
           "sequentialminus": [
            [
             0,
             "#0d0887"
            ],
            [
             0.1111111111111111,
             "#46039f"
            ],
            [
             0.2222222222222222,
             "#7201a8"
            ],
            [
             0.3333333333333333,
             "#9c179e"
            ],
            [
             0.4444444444444444,
             "#bd3786"
            ],
            [
             0.5555555555555556,
             "#d8576b"
            ],
            [
             0.6666666666666666,
             "#ed7953"
            ],
            [
             0.7777777777777778,
             "#fb9f3a"
            ],
            [
             0.8888888888888888,
             "#fdca26"
            ],
            [
             1,
             "#f0f921"
            ]
           ]
          },
          "colorway": [
           "#636efa",
           "#EF553B",
           "#00cc96",
           "#ab63fa",
           "#FFA15A",
           "#19d3f3",
           "#FF6692",
           "#B6E880",
           "#FF97FF",
           "#FECB52"
          ],
          "font": {
           "color": "#2a3f5f"
          },
          "geo": {
           "bgcolor": "white",
           "lakecolor": "white",
           "landcolor": "#E5ECF6",
           "showlakes": true,
           "showland": true,
           "subunitcolor": "white"
          },
          "hoverlabel": {
           "align": "left"
          },
          "hovermode": "closest",
          "mapbox": {
           "style": "light"
          },
          "paper_bgcolor": "white",
          "plot_bgcolor": "#E5ECF6",
          "polar": {
           "angularaxis": {
            "gridcolor": "white",
            "linecolor": "white",
            "ticks": ""
           },
           "bgcolor": "#E5ECF6",
           "radialaxis": {
            "gridcolor": "white",
            "linecolor": "white",
            "ticks": ""
           }
          },
          "scene": {
           "xaxis": {
            "backgroundcolor": "#E5ECF6",
            "gridcolor": "white",
            "gridwidth": 2,
            "linecolor": "white",
            "showbackground": true,
            "ticks": "",
            "zerolinecolor": "white"
           },
           "yaxis": {
            "backgroundcolor": "#E5ECF6",
            "gridcolor": "white",
            "gridwidth": 2,
            "linecolor": "white",
            "showbackground": true,
            "ticks": "",
            "zerolinecolor": "white"
           },
           "zaxis": {
            "backgroundcolor": "#E5ECF6",
            "gridcolor": "white",
            "gridwidth": 2,
            "linecolor": "white",
            "showbackground": true,
            "ticks": "",
            "zerolinecolor": "white"
           }
          },
          "shapedefaults": {
           "line": {
            "color": "#2a3f5f"
           }
          },
          "ternary": {
           "aaxis": {
            "gridcolor": "white",
            "linecolor": "white",
            "ticks": ""
           },
           "baxis": {
            "gridcolor": "white",
            "linecolor": "white",
            "ticks": ""
           },
           "bgcolor": "#E5ECF6",
           "caxis": {
            "gridcolor": "white",
            "linecolor": "white",
            "ticks": ""
           }
          },
          "title": {
           "x": 0.05
          },
          "xaxis": {
           "automargin": true,
           "gridcolor": "white",
           "linecolor": "white",
           "ticks": "",
           "title": {
            "standoff": 15
           },
           "zerolinecolor": "white",
           "zerolinewidth": 2
          },
          "yaxis": {
           "automargin": true,
           "gridcolor": "white",
           "linecolor": "white",
           "ticks": "",
           "title": {
            "standoff": 15
           },
           "zerolinecolor": "white",
           "zerolinewidth": 2
          }
         }
        },
        "title": {
         "text": "<b>Log Loss Scores for Different MOAs</b>",
         "x": 0.5
        },
        "xaxis": {
         "anchor": "y",
         "domain": [
          0,
          1
         ],
         "matches": "x4",
         "showticklabels": false
        },
        "xaxis2": {
         "anchor": "y2",
         "domain": [
          0,
          1
         ],
         "matches": "x4",
         "showticklabels": false
        },
        "xaxis3": {
         "anchor": "y3",
         "domain": [
          0,
          1
         ],
         "matches": "x4",
         "showticklabels": false
        },
        "xaxis4": {
         "anchor": "y4",
         "domain": [
          0,
          1
         ]
        },
        "yaxis": {
         "anchor": "x",
         "domain": [
          0.84375,
          1
         ],
         "showticklabels": false,
         "visible": false
        },
        "yaxis2": {
         "anchor": "x2",
         "domain": [
          0.5625,
          0.71875
         ],
         "showticklabels": false,
         "visible": false
        },
        "yaxis3": {
         "anchor": "x3",
         "domain": [
          0.28125,
          0.4375
         ],
         "showticklabels": false,
         "visible": false
        },
        "yaxis4": {
         "anchor": "x4",
         "domain": [
          0,
          0.15625
         ],
         "showticklabels": false,
         "visible": false
        }
       }
      },
      "text/html": [
       "<div>                            <div id=\"27a14c13-1169-4f8a-babd-5ccac6e4deef\" class=\"plotly-graph-div\" style=\"height:525px; width:100%;\"></div>            <script type=\"text/javascript\">                require([\"plotly\"], function(Plotly) {                    window.PLOTLYENV=window.PLOTLYENV || {};                                    if (document.getElementById(\"27a14c13-1169-4f8a-babd-5ccac6e4deef\")) {                    Plotly.newPlot(                        \"27a14c13-1169-4f8a-babd-5ccac6e4deef\",                        [{\"hoverinfo\": \"y\", \"marker\": {\"color\": [\"red\", \"green\", \"purple\", \"orange\"]}, \"orientation\": \"h\", \"type\": \"bar\", \"x\": [0.18305940876120524, 0.04243210851895119, 0.04243122277897209, 0.04277407080460313], \"xaxis\": \"x\", \"y\": [\"NuSVR\", \"LinSVR\", \"Logistic Regression\", \"Rand Forest Regression\"], \"yaxis\": \"y\"}, {\"hoverinfo\": \"y\", \"marker\": {\"color\": [\"red\", \"green\", \"purple\", \"orange\"]}, \"orientation\": \"h\", \"type\": \"bar\", \"x\": [0.03771063469764026, 0.008506518831265412, 0.008521098130737549, 0.008889504887866786], \"xaxis\": \"x2\", \"y\": [\"NuSVR\", \"LinSVR\", \"Logistic Regression\", \"Rand Forest Regression\"], \"yaxis\": \"y2\"}, {\"hoverinfo\": \"y\", \"marker\": {\"color\": [\"red\", \"green\", \"purple\", \"orange\"]}, \"orientation\": \"h\", \"type\": \"bar\", \"x\": [0.04468771478460247, 0.011947172992174081, 0.011968874763236624, 0.012536484471160118], \"xaxis\": \"x3\", \"y\": [\"NuSVR\", \"LinSVR\", \"Logistic Regression\", \"Rand Forest Regression\"], \"yaxis\": \"y3\"}, {\"hoverinfo\": \"y\", \"marker\": {\"color\": [\"red\", \"green\", \"purple\", \"orange\"]}, \"orientation\": \"h\", \"type\": \"bar\", \"x\": [0.04115276173692731, 0.009679503036961462, 0.009680750259958086, 0.00993451964738174], \"xaxis\": \"x4\", \"y\": [\"NuSVR\", \"LinSVR\", \"Logistic Regression\", \"Rand Forest Regression\"], \"yaxis\": \"y4\"}],                        {\"annotations\": [{\"font\": {\"size\": 16}, \"showarrow\": false, \"text\": \"VEGFR Inhibitor\", \"x\": 0.5, \"xanchor\": \"center\", \"xref\": \"paper\", \"y\": 1.0, \"yanchor\": \"bottom\", \"yref\": \"paper\"}, {\"font\": {\"size\": 16}, \"showarrow\": false, \"text\": \"Vitamin B\", \"x\": 0.5, \"xanchor\": \"center\", \"xref\": \"paper\", \"y\": 0.71875, \"yanchor\": \"bottom\", \"yref\": \"paper\"}, {\"font\": {\"size\": 16}, \"showarrow\": false, \"text\": \"Vitamin D Receptor Agonist\", \"x\": 0.5, \"xanchor\": \"center\", \"xref\": \"paper\", \"y\": 0.4375, \"yanchor\": \"bottom\", \"yref\": \"paper\"}, {\"font\": {\"size\": 16}, \"showarrow\": false, \"text\": \"WNT Inhibitor\", \"x\": 0.5, \"xanchor\": \"center\", \"xref\": \"paper\", \"y\": 0.15625, \"yanchor\": \"bottom\", \"yref\": \"paper\"}], \"bargap\": 0.1, \"paper_bgcolor\": \"rgba(154,186,211,0.8)\", \"plot_bgcolor\": \"rgba(232,246,252,0.8)\", \"showlegend\": false, \"template\": {\"data\": {\"bar\": [{\"error_x\": {\"color\": \"#2a3f5f\"}, \"error_y\": {\"color\": \"#2a3f5f\"}, \"marker\": {\"line\": {\"color\": \"#E5ECF6\", \"width\": 0.5}}, \"type\": \"bar\"}], \"barpolar\": [{\"marker\": {\"line\": {\"color\": \"#E5ECF6\", \"width\": 0.5}}, \"type\": \"barpolar\"}], \"carpet\": [{\"aaxis\": {\"endlinecolor\": \"#2a3f5f\", \"gridcolor\": \"white\", \"linecolor\": \"white\", \"minorgridcolor\": \"white\", \"startlinecolor\": \"#2a3f5f\"}, \"baxis\": {\"endlinecolor\": \"#2a3f5f\", \"gridcolor\": \"white\", \"linecolor\": \"white\", \"minorgridcolor\": \"white\", \"startlinecolor\": \"#2a3f5f\"}, \"type\": \"carpet\"}], \"choropleth\": [{\"colorbar\": {\"outlinewidth\": 0, \"ticks\": \"\"}, \"type\": \"choropleth\"}], \"contour\": [{\"colorbar\": {\"outlinewidth\": 0, \"ticks\": \"\"}, \"colorscale\": [[0.0, \"#0d0887\"], [0.1111111111111111, \"#46039f\"], [0.2222222222222222, \"#7201a8\"], [0.3333333333333333, \"#9c179e\"], [0.4444444444444444, \"#bd3786\"], [0.5555555555555556, \"#d8576b\"], [0.6666666666666666, \"#ed7953\"], [0.7777777777777778, \"#fb9f3a\"], [0.8888888888888888, \"#fdca26\"], [1.0, \"#f0f921\"]], \"type\": \"contour\"}], \"contourcarpet\": [{\"colorbar\": {\"outlinewidth\": 0, \"ticks\": \"\"}, \"type\": \"contourcarpet\"}], \"heatmap\": [{\"colorbar\": {\"outlinewidth\": 0, \"ticks\": \"\"}, \"colorscale\": [[0.0, \"#0d0887\"], [0.1111111111111111, \"#46039f\"], [0.2222222222222222, \"#7201a8\"], [0.3333333333333333, \"#9c179e\"], [0.4444444444444444, \"#bd3786\"], [0.5555555555555556, \"#d8576b\"], [0.6666666666666666, \"#ed7953\"], [0.7777777777777778, \"#fb9f3a\"], [0.8888888888888888, \"#fdca26\"], [1.0, \"#f0f921\"]], \"type\": \"heatmap\"}], \"heatmapgl\": [{\"colorbar\": {\"outlinewidth\": 0, \"ticks\": \"\"}, \"colorscale\": [[0.0, \"#0d0887\"], [0.1111111111111111, \"#46039f\"], [0.2222222222222222, \"#7201a8\"], [0.3333333333333333, \"#9c179e\"], [0.4444444444444444, \"#bd3786\"], [0.5555555555555556, \"#d8576b\"], [0.6666666666666666, \"#ed7953\"], [0.7777777777777778, \"#fb9f3a\"], [0.8888888888888888, \"#fdca26\"], [1.0, \"#f0f921\"]], \"type\": \"heatmapgl\"}], \"histogram\": [{\"marker\": {\"colorbar\": {\"outlinewidth\": 0, \"ticks\": \"\"}}, \"type\": \"histogram\"}], \"histogram2d\": [{\"colorbar\": {\"outlinewidth\": 0, \"ticks\": \"\"}, \"colorscale\": [[0.0, \"#0d0887\"], [0.1111111111111111, \"#46039f\"], [0.2222222222222222, \"#7201a8\"], [0.3333333333333333, \"#9c179e\"], [0.4444444444444444, \"#bd3786\"], [0.5555555555555556, \"#d8576b\"], [0.6666666666666666, \"#ed7953\"], [0.7777777777777778, \"#fb9f3a\"], [0.8888888888888888, \"#fdca26\"], [1.0, \"#f0f921\"]], \"type\": \"histogram2d\"}], \"histogram2dcontour\": [{\"colorbar\": {\"outlinewidth\": 0, \"ticks\": \"\"}, \"colorscale\": [[0.0, \"#0d0887\"], [0.1111111111111111, \"#46039f\"], [0.2222222222222222, \"#7201a8\"], [0.3333333333333333, \"#9c179e\"], [0.4444444444444444, \"#bd3786\"], [0.5555555555555556, \"#d8576b\"], [0.6666666666666666, \"#ed7953\"], [0.7777777777777778, \"#fb9f3a\"], [0.8888888888888888, \"#fdca26\"], [1.0, \"#f0f921\"]], \"type\": \"histogram2dcontour\"}], \"mesh3d\": [{\"colorbar\": {\"outlinewidth\": 0, \"ticks\": \"\"}, \"type\": \"mesh3d\"}], \"parcoords\": [{\"line\": {\"colorbar\": {\"outlinewidth\": 0, \"ticks\": \"\"}}, \"type\": \"parcoords\"}], \"pie\": [{\"automargin\": true, \"type\": \"pie\"}], \"scatter\": [{\"marker\": {\"colorbar\": {\"outlinewidth\": 0, \"ticks\": \"\"}}, \"type\": \"scatter\"}], \"scatter3d\": [{\"line\": {\"colorbar\": {\"outlinewidth\": 0, \"ticks\": \"\"}}, \"marker\": {\"colorbar\": {\"outlinewidth\": 0, \"ticks\": \"\"}}, \"type\": \"scatter3d\"}], \"scattercarpet\": [{\"marker\": {\"colorbar\": {\"outlinewidth\": 0, \"ticks\": \"\"}}, \"type\": \"scattercarpet\"}], \"scattergeo\": [{\"marker\": {\"colorbar\": {\"outlinewidth\": 0, \"ticks\": \"\"}}, \"type\": \"scattergeo\"}], \"scattergl\": [{\"marker\": {\"colorbar\": {\"outlinewidth\": 0, \"ticks\": \"\"}}, \"type\": \"scattergl\"}], \"scattermapbox\": [{\"marker\": {\"colorbar\": {\"outlinewidth\": 0, \"ticks\": \"\"}}, \"type\": \"scattermapbox\"}], \"scatterpolar\": [{\"marker\": {\"colorbar\": {\"outlinewidth\": 0, \"ticks\": \"\"}}, \"type\": \"scatterpolar\"}], \"scatterpolargl\": [{\"marker\": {\"colorbar\": {\"outlinewidth\": 0, \"ticks\": \"\"}}, \"type\": \"scatterpolargl\"}], \"scatterternary\": [{\"marker\": {\"colorbar\": {\"outlinewidth\": 0, \"ticks\": \"\"}}, \"type\": \"scatterternary\"}], \"surface\": [{\"colorbar\": {\"outlinewidth\": 0, \"ticks\": \"\"}, \"colorscale\": [[0.0, \"#0d0887\"], [0.1111111111111111, \"#46039f\"], [0.2222222222222222, \"#7201a8\"], [0.3333333333333333, \"#9c179e\"], [0.4444444444444444, \"#bd3786\"], [0.5555555555555556, \"#d8576b\"], [0.6666666666666666, \"#ed7953\"], [0.7777777777777778, \"#fb9f3a\"], [0.8888888888888888, \"#fdca26\"], [1.0, \"#f0f921\"]], \"type\": \"surface\"}], \"table\": [{\"cells\": {\"fill\": {\"color\": \"#EBF0F8\"}, \"line\": {\"color\": \"white\"}}, \"header\": {\"fill\": {\"color\": \"#C8D4E3\"}, \"line\": {\"color\": \"white\"}}, \"type\": \"table\"}]}, \"layout\": {\"annotationdefaults\": {\"arrowcolor\": \"#2a3f5f\", \"arrowhead\": 0, \"arrowwidth\": 1}, \"coloraxis\": {\"colorbar\": {\"outlinewidth\": 0, \"ticks\": \"\"}}, \"colorscale\": {\"diverging\": [[0, \"#8e0152\"], [0.1, \"#c51b7d\"], [0.2, \"#de77ae\"], [0.3, \"#f1b6da\"], [0.4, \"#fde0ef\"], [0.5, \"#f7f7f7\"], [0.6, \"#e6f5d0\"], [0.7, \"#b8e186\"], [0.8, \"#7fbc41\"], [0.9, \"#4d9221\"], [1, \"#276419\"]], \"sequential\": [[0.0, \"#0d0887\"], [0.1111111111111111, \"#46039f\"], [0.2222222222222222, \"#7201a8\"], [0.3333333333333333, \"#9c179e\"], [0.4444444444444444, \"#bd3786\"], [0.5555555555555556, \"#d8576b\"], [0.6666666666666666, \"#ed7953\"], [0.7777777777777778, \"#fb9f3a\"], [0.8888888888888888, \"#fdca26\"], [1.0, \"#f0f921\"]], \"sequentialminus\": [[0.0, \"#0d0887\"], [0.1111111111111111, \"#46039f\"], [0.2222222222222222, \"#7201a8\"], [0.3333333333333333, \"#9c179e\"], [0.4444444444444444, \"#bd3786\"], [0.5555555555555556, \"#d8576b\"], [0.6666666666666666, \"#ed7953\"], [0.7777777777777778, \"#fb9f3a\"], [0.8888888888888888, \"#fdca26\"], [1.0, \"#f0f921\"]]}, \"colorway\": [\"#636efa\", \"#EF553B\", \"#00cc96\", \"#ab63fa\", \"#FFA15A\", \"#19d3f3\", \"#FF6692\", \"#B6E880\", \"#FF97FF\", \"#FECB52\"], \"font\": {\"color\": \"#2a3f5f\"}, \"geo\": {\"bgcolor\": \"white\", \"lakecolor\": \"white\", \"landcolor\": \"#E5ECF6\", \"showlakes\": true, \"showland\": true, \"subunitcolor\": \"white\"}, \"hoverlabel\": {\"align\": \"left\"}, \"hovermode\": \"closest\", \"mapbox\": {\"style\": \"light\"}, \"paper_bgcolor\": \"white\", \"plot_bgcolor\": \"#E5ECF6\", \"polar\": {\"angularaxis\": {\"gridcolor\": \"white\", \"linecolor\": \"white\", \"ticks\": \"\"}, \"bgcolor\": \"#E5ECF6\", \"radialaxis\": {\"gridcolor\": \"white\", \"linecolor\": \"white\", \"ticks\": \"\"}}, \"scene\": {\"xaxis\": {\"backgroundcolor\": \"#E5ECF6\", \"gridcolor\": \"white\", \"gridwidth\": 2, \"linecolor\": \"white\", \"showbackground\": true, \"ticks\": \"\", \"zerolinecolor\": \"white\"}, \"yaxis\": {\"backgroundcolor\": \"#E5ECF6\", \"gridcolor\": \"white\", \"gridwidth\": 2, \"linecolor\": \"white\", \"showbackground\": true, \"ticks\": \"\", \"zerolinecolor\": \"white\"}, \"zaxis\": {\"backgroundcolor\": \"#E5ECF6\", \"gridcolor\": \"white\", \"gridwidth\": 2, \"linecolor\": \"white\", \"showbackground\": true, \"ticks\": \"\", \"zerolinecolor\": \"white\"}}, \"shapedefaults\": {\"line\": {\"color\": \"#2a3f5f\"}}, \"ternary\": {\"aaxis\": {\"gridcolor\": \"white\", \"linecolor\": \"white\", \"ticks\": \"\"}, \"baxis\": {\"gridcolor\": \"white\", \"linecolor\": \"white\", \"ticks\": \"\"}, \"bgcolor\": \"#E5ECF6\", \"caxis\": {\"gridcolor\": \"white\", \"linecolor\": \"white\", \"ticks\": \"\"}}, \"title\": {\"x\": 0.05}, \"xaxis\": {\"automargin\": true, \"gridcolor\": \"white\", \"linecolor\": \"white\", \"ticks\": \"\", \"title\": {\"standoff\": 15}, \"zerolinecolor\": \"white\", \"zerolinewidth\": 2}, \"yaxis\": {\"automargin\": true, \"gridcolor\": \"white\", \"linecolor\": \"white\", \"ticks\": \"\", \"title\": {\"standoff\": 15}, \"zerolinecolor\": \"white\", \"zerolinewidth\": 2}}}, \"title\": {\"text\": \"<b>Log Loss Scores for Different MOAs</b>\", \"x\": 0.5}, \"xaxis\": {\"anchor\": \"y\", \"domain\": [0.0, 1.0], \"matches\": \"x4\", \"showticklabels\": false}, \"xaxis2\": {\"anchor\": \"y2\", \"domain\": [0.0, 1.0], \"matches\": \"x4\", \"showticklabels\": false}, \"xaxis3\": {\"anchor\": \"y3\", \"domain\": [0.0, 1.0], \"matches\": \"x4\", \"showticklabels\": false}, \"xaxis4\": {\"anchor\": \"y4\", \"domain\": [0.0, 1.0]}, \"yaxis\": {\"anchor\": \"x\", \"domain\": [0.84375, 1.0], \"showticklabels\": false, \"visible\": false}, \"yaxis2\": {\"anchor\": \"x2\", \"domain\": [0.5625, 0.71875], \"showticklabels\": false, \"visible\": false}, \"yaxis3\": {\"anchor\": \"x3\", \"domain\": [0.28125, 0.4375], \"showticklabels\": false, \"visible\": false}, \"yaxis4\": {\"anchor\": \"x4\", \"domain\": [0.0, 0.15625], \"showticklabels\": false, \"visible\": false}},                        {\"responsive\": true}                    ).then(function(){\n",
       "                            \n",
       "var gd = document.getElementById('27a14c13-1169-4f8a-babd-5ccac6e4deef');\n",
       "var x = new MutationObserver(function (mutations, observer) {{\n",
       "        var display = window.getComputedStyle(gd).display;\n",
       "        if (!display || display === 'none') {{\n",
       "            console.log([gd, 'removed!']);\n",
       "            Plotly.purge(gd);\n",
       "            observer.disconnect();\n",
       "        }}\n",
       "}});\n",
       "\n",
       "// Listen for the removal of the full notebook cells\n",
       "var notebookContainer = gd.closest('#notebook-container');\n",
       "if (notebookContainer) {{\n",
       "    x.observe(notebookContainer, {childList: true});\n",
       "}}\n",
       "\n",
       "// Listen for the clearing of the current output cell\n",
       "var outputEl = gd.closest('.output');\n",
       "if (outputEl) {{\n",
       "    x.observe(outputEl, {childList: true});\n",
       "}}\n",
       "\n",
       "                        })                };                });            </script>        </div>"
      ]
     },
     "metadata": {},
     "output_type": "display_data"
    }
   ],
   "source": [
    "#hovertemplate = \n",
    "barxvals = np.array([nusvr_logloss_vals[-4:],linsvr_loss_vals[-4:], logistic_regr_loss_vals[-4:], rfr_loss_vals[-4:]]).swapaxes(0,1)\n",
    "baryvals = ['NuSVR','LinSVR','Logistic Regression','Rand Forest Regression']\n",
    "colors = ['red','green','purple','orange']\n",
    "\n",
    "fig = make_subplots(rows=4, cols=1,\n",
    "    shared_xaxes=True,\n",
    "    subplot_titles=['VEGFR Inhibitor','Vitamin B','Vitamin D Receptor Agonist','WNT Inhibitor'])\n",
    "fig.append_trace(\n",
    "    go.Bar(\n",
    "    y = baryvals,\n",
    "    x=barxvals[0],\n",
    "    hoverinfo = \"y\",\n",
    "    marker_color = colors,\n",
    "    orientation='h'\n",
    "    ), row=1, col=1)\n",
    "fig.append_trace(\n",
    "    go.Bar(\n",
    "    y = baryvals,\n",
    "    x=barxvals[1],\n",
    "    hoverinfo = \"y\",\n",
    "    marker_color = colors,\n",
    "    orientation='h'\n",
    "    ), row=2, col=1)\n",
    "fig.append_trace(\n",
    "    go.Bar(\n",
    "    y = baryvals,\n",
    "    x=barxvals[2],\n",
    "    hoverinfo = \"y\",\n",
    "    marker_color = colors,\n",
    "    orientation='h'\n",
    "    ), row=3, col=1)\n",
    "fig.append_trace(\n",
    "    go.Bar(\n",
    "    y = baryvals,\n",
    "    x=barxvals[3],\n",
    "    hoverinfo = \"y\",\n",
    "    marker_color = colors,\n",
    "    orientation='h'), row=4, col=1)\n",
    "# Change the bar mode\n",
    "#fig.update_xaxes(autorange='reversed')\n",
    "fig.update_yaxes(visible=False, showticklabels=False)\n",
    "fig.update_layout(\n",
    "    title='<b>Log Loss Scores for Different MOAs</b>',\n",
    "    title_x=0.5,\n",
    "    bargap=0.1,\n",
    "    showlegend=False,\n",
    "    paper_bgcolor='rgba(154,186,211,0.8)',\n",
    "    plot_bgcolor='rgba(232,246,252,0.8)'\n",
    ")\n",
    "fig.show()\n",
    "\n",
    "the_date = str(datetime.datetime.now())[:10]\n",
    "html_path = 'figures/Plotly_hbarchart_' + the_date + '.html'\n",
    "plotly.io.write_html(fig, html_path)"
   ]
  },
  {
   "cell_type": "code",
   "execution_count": null,
   "metadata": {},
   "outputs": [],
   "source": []
  }
 ],
 "metadata": {
  "accelerator": "GPU",
  "colab": {
   "collapsed_sections": [],
   "name": "RAPIDS_logistic_rergression_w_undersampling.ipynb",
   "provenance": [
    {
     "file_id": "1CP5eADhskrXuoXJreMbYrVeEAx_clw4r",
     "timestamp": 1602973236795
    }
   ]
  },
  "kernelspec": {
   "display_name": "Python 3",
   "language": "python",
   "name": "python3"
  },
  "language_info": {
   "codemirror_mode": {
    "name": "ipython",
    "version": 3
   },
   "file_extension": ".py",
   "mimetype": "text/x-python",
   "name": "python",
   "nbconvert_exporter": "python",
   "pygments_lexer": "ipython3",
   "version": "3.8.6"
  },
  "widgets": {
   "application/vnd.jupyter.widget-state+json": {
    "0254a811c551456ea72cef2362a8d2da": {
     "model_module": "@jupyter-widgets/controls",
     "model_name": "ProgressStyleModel",
     "state": {
      "_model_module": "@jupyter-widgets/controls",
      "_model_module_version": "1.5.0",
      "_model_name": "ProgressStyleModel",
      "_view_count": null,
      "_view_module": "@jupyter-widgets/base",
      "_view_module_version": "1.2.0",
      "_view_name": "StyleView",
      "bar_color": null,
      "description_width": ""
     }
    },
    "0b03083b658f4e478de3b57791f42da8": {
     "model_module": "@jupyter-widgets/base",
     "model_name": "LayoutModel",
     "state": {
      "_model_module": "@jupyter-widgets/base",
      "_model_module_version": "1.2.0",
      "_model_name": "LayoutModel",
      "_view_count": null,
      "_view_module": "@jupyter-widgets/base",
      "_view_module_version": "1.2.0",
      "_view_name": "LayoutView",
      "align_content": null,
      "align_items": null,
      "align_self": null,
      "border": null,
      "bottom": null,
      "display": null,
      "flex": null,
      "flex_flow": null,
      "grid_area": null,
      "grid_auto_columns": null,
      "grid_auto_flow": null,
      "grid_auto_rows": null,
      "grid_column": null,
      "grid_gap": null,
      "grid_row": null,
      "grid_template_areas": null,
      "grid_template_columns": null,
      "grid_template_rows": null,
      "height": null,
      "justify_content": null,
      "justify_items": null,
      "left": null,
      "margin": null,
      "max_height": null,
      "max_width": null,
      "min_height": null,
      "min_width": null,
      "object_fit": null,
      "object_position": null,
      "order": null,
      "overflow": null,
      "overflow_x": null,
      "overflow_y": null,
      "padding": null,
      "right": null,
      "top": null,
      "visibility": null,
      "width": null
     }
    },
    "1abb228a8d164b2a892055bc77aa56fd": {
     "model_module": "@jupyter-widgets/controls",
     "model_name": "HTMLModel",
     "state": {
      "_dom_classes": [],
      "_model_module": "@jupyter-widgets/controls",
      "_model_module_version": "1.5.0",
      "_model_name": "HTMLModel",
      "_view_count": null,
      "_view_module": "@jupyter-widgets/controls",
      "_view_module_version": "1.5.0",
      "_view_name": "HTMLView",
      "description": "",
      "description_tooltip": null,
      "layout": "IPY_MODEL_4baa80741801474695d594eb4f4bb215",
      "placeholder": "​",
      "style": "IPY_MODEL_1e29afe4e9fe43fb8d854cff56fde3af",
      "value": " 206/206 [1:12:39&lt;00:00, 21.16s/it]"
     }
    },
    "1e29afe4e9fe43fb8d854cff56fde3af": {
     "model_module": "@jupyter-widgets/controls",
     "model_name": "DescriptionStyleModel",
     "state": {
      "_model_module": "@jupyter-widgets/controls",
      "_model_module_version": "1.5.0",
      "_model_name": "DescriptionStyleModel",
      "_view_count": null,
      "_view_module": "@jupyter-widgets/base",
      "_view_module_version": "1.2.0",
      "_view_name": "StyleView",
      "description_width": ""
     }
    },
    "1f77a084b822458699718400bf5a291b": {
     "model_module": "@jupyter-widgets/controls",
     "model_name": "ProgressStyleModel",
     "state": {
      "_model_module": "@jupyter-widgets/controls",
      "_model_module_version": "1.5.0",
      "_model_name": "ProgressStyleModel",
      "_view_count": null,
      "_view_module": "@jupyter-widgets/base",
      "_view_module_version": "1.2.0",
      "_view_name": "StyleView",
      "bar_color": null,
      "description_width": ""
     }
    },
    "25286e32af134ccfa3f3770f82a36c16": {
     "model_module": "@jupyter-widgets/base",
     "model_name": "LayoutModel",
     "state": {
      "_model_module": "@jupyter-widgets/base",
      "_model_module_version": "1.2.0",
      "_model_name": "LayoutModel",
      "_view_count": null,
      "_view_module": "@jupyter-widgets/base",
      "_view_module_version": "1.2.0",
      "_view_name": "LayoutView",
      "align_content": null,
      "align_items": null,
      "align_self": null,
      "border": null,
      "bottom": null,
      "display": null,
      "flex": null,
      "flex_flow": null,
      "grid_area": null,
      "grid_auto_columns": null,
      "grid_auto_flow": null,
      "grid_auto_rows": null,
      "grid_column": null,
      "grid_gap": null,
      "grid_row": null,
      "grid_template_areas": null,
      "grid_template_columns": null,
      "grid_template_rows": null,
      "height": null,
      "justify_content": null,
      "justify_items": null,
      "left": null,
      "margin": null,
      "max_height": null,
      "max_width": null,
      "min_height": null,
      "min_width": null,
      "object_fit": null,
      "object_position": null,
      "order": null,
      "overflow": null,
      "overflow_x": null,
      "overflow_y": null,
      "padding": null,
      "right": null,
      "top": null,
      "visibility": null,
      "width": null
     }
    },
    "259ba841852240529c05cb6774efcc3f": {
     "model_module": "@jupyter-widgets/controls",
     "model_name": "HBoxModel",
     "state": {
      "_dom_classes": [],
      "_model_module": "@jupyter-widgets/controls",
      "_model_module_version": "1.5.0",
      "_model_name": "HBoxModel",
      "_view_count": null,
      "_view_module": "@jupyter-widgets/controls",
      "_view_module_version": "1.5.0",
      "_view_name": "HBoxView",
      "box_style": "",
      "children": [
       "IPY_MODEL_ba3f897e98e84be5a180ef100aa6d934",
       "IPY_MODEL_6887ebab40d248c2b345cb7417ee2a9a",
       "IPY_MODEL_1abb228a8d164b2a892055bc77aa56fd"
      ],
      "layout": "IPY_MODEL_0b03083b658f4e478de3b57791f42da8"
     }
    },
    "3015131d021f426699d2e82071e50786": {
     "model_module": "@jupyter-widgets/controls",
     "model_name": "HTMLModel",
     "state": {
      "_dom_classes": [],
      "_model_module": "@jupyter-widgets/controls",
      "_model_module_version": "1.5.0",
      "_model_name": "HTMLModel",
      "_view_count": null,
      "_view_module": "@jupyter-widgets/controls",
      "_view_module_version": "1.5.0",
      "_view_name": "HTMLView",
      "description": "",
      "description_tooltip": null,
      "layout": "IPY_MODEL_317612f56be54ddd97851c95edc4dabd",
      "placeholder": "​",
      "style": "IPY_MODEL_8f12a242d04d4a3dadf321c146a9333d",
      "value": "  0%"
     }
    },
    "317612f56be54ddd97851c95edc4dabd": {
     "model_module": "@jupyter-widgets/base",
     "model_name": "LayoutModel",
     "state": {
      "_model_module": "@jupyter-widgets/base",
      "_model_module_version": "1.2.0",
      "_model_name": "LayoutModel",
      "_view_count": null,
      "_view_module": "@jupyter-widgets/base",
      "_view_module_version": "1.2.0",
      "_view_name": "LayoutView",
      "align_content": null,
      "align_items": null,
      "align_self": null,
      "border": null,
      "bottom": null,
      "display": null,
      "flex": null,
      "flex_flow": null,
      "grid_area": null,
      "grid_auto_columns": null,
      "grid_auto_flow": null,
      "grid_auto_rows": null,
      "grid_column": null,
      "grid_gap": null,
      "grid_row": null,
      "grid_template_areas": null,
      "grid_template_columns": null,
      "grid_template_rows": null,
      "height": null,
      "justify_content": null,
      "justify_items": null,
      "left": null,
      "margin": null,
      "max_height": null,
      "max_width": null,
      "min_height": null,
      "min_width": null,
      "object_fit": null,
      "object_position": null,
      "order": null,
      "overflow": null,
      "overflow_x": null,
      "overflow_y": null,
      "padding": null,
      "right": null,
      "top": null,
      "visibility": null,
      "width": null
     }
    },
    "3f3d40d522ef4253835e90175025d687": {
     "model_module": "@jupyter-widgets/base",
     "model_name": "LayoutModel",
     "state": {
      "_model_module": "@jupyter-widgets/base",
      "_model_module_version": "1.2.0",
      "_model_name": "LayoutModel",
      "_view_count": null,
      "_view_module": "@jupyter-widgets/base",
      "_view_module_version": "1.2.0",
      "_view_name": "LayoutView",
      "align_content": null,
      "align_items": null,
      "align_self": null,
      "border": null,
      "bottom": null,
      "display": null,
      "flex": null,
      "flex_flow": null,
      "grid_area": null,
      "grid_auto_columns": null,
      "grid_auto_flow": null,
      "grid_auto_rows": null,
      "grid_column": null,
      "grid_gap": null,
      "grid_row": null,
      "grid_template_areas": null,
      "grid_template_columns": null,
      "grid_template_rows": null,
      "height": null,
      "justify_content": null,
      "justify_items": null,
      "left": null,
      "margin": null,
      "max_height": null,
      "max_width": null,
      "min_height": null,
      "min_width": null,
      "object_fit": null,
      "object_position": null,
      "order": null,
      "overflow": null,
      "overflow_x": null,
      "overflow_y": null,
      "padding": null,
      "right": null,
      "top": null,
      "visibility": null,
      "width": null
     }
    },
    "432cbfdc404a4bf5b1b900515cda4e86": {
     "model_module": "@jupyter-widgets/controls",
     "model_name": "HBoxModel",
     "state": {
      "_dom_classes": [],
      "_model_module": "@jupyter-widgets/controls",
      "_model_module_version": "1.5.0",
      "_model_name": "HBoxModel",
      "_view_count": null,
      "_view_module": "@jupyter-widgets/controls",
      "_view_module_version": "1.5.0",
      "_view_name": "HBoxView",
      "box_style": "",
      "children": [
       "IPY_MODEL_3015131d021f426699d2e82071e50786",
       "IPY_MODEL_7e83495b6d7749b189cfa5aea250ae60",
       "IPY_MODEL_6669c81dca1543f79898fa66a3e5a7b5"
      ],
      "layout": "IPY_MODEL_b45bb3a2b52f4880b0ad58e700721365"
     }
    },
    "4baa80741801474695d594eb4f4bb215": {
     "model_module": "@jupyter-widgets/base",
     "model_name": "LayoutModel",
     "state": {
      "_model_module": "@jupyter-widgets/base",
      "_model_module_version": "1.2.0",
      "_model_name": "LayoutModel",
      "_view_count": null,
      "_view_module": "@jupyter-widgets/base",
      "_view_module_version": "1.2.0",
      "_view_name": "LayoutView",
      "align_content": null,
      "align_items": null,
      "align_self": null,
      "border": null,
      "bottom": null,
      "display": null,
      "flex": null,
      "flex_flow": null,
      "grid_area": null,
      "grid_auto_columns": null,
      "grid_auto_flow": null,
      "grid_auto_rows": null,
      "grid_column": null,
      "grid_gap": null,
      "grid_row": null,
      "grid_template_areas": null,
      "grid_template_columns": null,
      "grid_template_rows": null,
      "height": null,
      "justify_content": null,
      "justify_items": null,
      "left": null,
      "margin": null,
      "max_height": null,
      "max_width": null,
      "min_height": null,
      "min_width": null,
      "object_fit": null,
      "object_position": null,
      "order": null,
      "overflow": null,
      "overflow_x": null,
      "overflow_y": null,
      "padding": null,
      "right": null,
      "top": null,
      "visibility": null,
      "width": null
     }
    },
    "5c177f172ae8443a8b71a76cdff14220": {
     "model_module": "@jupyter-widgets/controls",
     "model_name": "DescriptionStyleModel",
     "state": {
      "_model_module": "@jupyter-widgets/controls",
      "_model_module_version": "1.5.0",
      "_model_name": "DescriptionStyleModel",
      "_view_count": null,
      "_view_module": "@jupyter-widgets/base",
      "_view_module_version": "1.2.0",
      "_view_name": "StyleView",
      "description_width": ""
     }
    },
    "62b032770c3546498354c2319cc29917": {
     "model_module": "@jupyter-widgets/controls",
     "model_name": "DescriptionStyleModel",
     "state": {
      "_model_module": "@jupyter-widgets/controls",
      "_model_module_version": "1.5.0",
      "_model_name": "DescriptionStyleModel",
      "_view_count": null,
      "_view_module": "@jupyter-widgets/base",
      "_view_module_version": "1.2.0",
      "_view_name": "StyleView",
      "description_width": ""
     }
    },
    "6669c81dca1543f79898fa66a3e5a7b5": {
     "model_module": "@jupyter-widgets/controls",
     "model_name": "HTMLModel",
     "state": {
      "_dom_classes": [],
      "_model_module": "@jupyter-widgets/controls",
      "_model_module_version": "1.5.0",
      "_model_name": "HTMLModel",
      "_view_count": null,
      "_view_module": "@jupyter-widgets/controls",
      "_view_module_version": "1.5.0",
      "_view_name": "HTMLView",
      "description": "",
      "description_tooltip": null,
      "layout": "IPY_MODEL_3f3d40d522ef4253835e90175025d687",
      "placeholder": "​",
      "style": "IPY_MODEL_62b032770c3546498354c2319cc29917",
      "value": " 0/206 [00:00&lt;?, ?it/s]"
     }
    },
    "6887ebab40d248c2b345cb7417ee2a9a": {
     "model_module": "@jupyter-widgets/controls",
     "model_name": "FloatProgressModel",
     "state": {
      "_dom_classes": [],
      "_model_module": "@jupyter-widgets/controls",
      "_model_module_version": "1.5.0",
      "_model_name": "FloatProgressModel",
      "_view_count": null,
      "_view_module": "@jupyter-widgets/controls",
      "_view_module_version": "1.5.0",
      "_view_name": "ProgressView",
      "bar_style": "success",
      "description": "",
      "description_tooltip": null,
      "layout": "IPY_MODEL_25286e32af134ccfa3f3770f82a36c16",
      "max": 206,
      "min": 0,
      "orientation": "horizontal",
      "style": "IPY_MODEL_1f77a084b822458699718400bf5a291b",
      "value": 206
     }
    },
    "7299f41bbc7c493fac12c6500da94599": {
     "model_module": "@jupyter-widgets/base",
     "model_name": "LayoutModel",
     "state": {
      "_model_module": "@jupyter-widgets/base",
      "_model_module_version": "1.2.0",
      "_model_name": "LayoutModel",
      "_view_count": null,
      "_view_module": "@jupyter-widgets/base",
      "_view_module_version": "1.2.0",
      "_view_name": "LayoutView",
      "align_content": null,
      "align_items": null,
      "align_self": null,
      "border": null,
      "bottom": null,
      "display": null,
      "flex": null,
      "flex_flow": null,
      "grid_area": null,
      "grid_auto_columns": null,
      "grid_auto_flow": null,
      "grid_auto_rows": null,
      "grid_column": null,
      "grid_gap": null,
      "grid_row": null,
      "grid_template_areas": null,
      "grid_template_columns": null,
      "grid_template_rows": null,
      "height": null,
      "justify_content": null,
      "justify_items": null,
      "left": null,
      "margin": null,
      "max_height": null,
      "max_width": null,
      "min_height": null,
      "min_width": null,
      "object_fit": null,
      "object_position": null,
      "order": null,
      "overflow": null,
      "overflow_x": null,
      "overflow_y": null,
      "padding": null,
      "right": null,
      "top": null,
      "visibility": null,
      "width": null
     }
    },
    "7e83495b6d7749b189cfa5aea250ae60": {
     "model_module": "@jupyter-widgets/controls",
     "model_name": "FloatProgressModel",
     "state": {
      "_dom_classes": [],
      "_model_module": "@jupyter-widgets/controls",
      "_model_module_version": "1.5.0",
      "_model_name": "FloatProgressModel",
      "_view_count": null,
      "_view_module": "@jupyter-widgets/controls",
      "_view_module_version": "1.5.0",
      "_view_name": "ProgressView",
      "bar_style": "",
      "description": "",
      "description_tooltip": null,
      "layout": "IPY_MODEL_c12b441719b146b1be880df7d93b0ec7",
      "max": 206,
      "min": 0,
      "orientation": "horizontal",
      "style": "IPY_MODEL_0254a811c551456ea72cef2362a8d2da",
      "value": 0
     }
    },
    "8f12a242d04d4a3dadf321c146a9333d": {
     "model_module": "@jupyter-widgets/controls",
     "model_name": "DescriptionStyleModel",
     "state": {
      "_model_module": "@jupyter-widgets/controls",
      "_model_module_version": "1.5.0",
      "_model_name": "DescriptionStyleModel",
      "_view_count": null,
      "_view_module": "@jupyter-widgets/base",
      "_view_module_version": "1.2.0",
      "_view_name": "StyleView",
      "description_width": ""
     }
    },
    "b45bb3a2b52f4880b0ad58e700721365": {
     "model_module": "@jupyter-widgets/base",
     "model_name": "LayoutModel",
     "state": {
      "_model_module": "@jupyter-widgets/base",
      "_model_module_version": "1.2.0",
      "_model_name": "LayoutModel",
      "_view_count": null,
      "_view_module": "@jupyter-widgets/base",
      "_view_module_version": "1.2.0",
      "_view_name": "LayoutView",
      "align_content": null,
      "align_items": null,
      "align_self": null,
      "border": null,
      "bottom": null,
      "display": null,
      "flex": null,
      "flex_flow": null,
      "grid_area": null,
      "grid_auto_columns": null,
      "grid_auto_flow": null,
      "grid_auto_rows": null,
      "grid_column": null,
      "grid_gap": null,
      "grid_row": null,
      "grid_template_areas": null,
      "grid_template_columns": null,
      "grid_template_rows": null,
      "height": null,
      "justify_content": null,
      "justify_items": null,
      "left": null,
      "margin": null,
      "max_height": null,
      "max_width": null,
      "min_height": null,
      "min_width": null,
      "object_fit": null,
      "object_position": null,
      "order": null,
      "overflow": null,
      "overflow_x": null,
      "overflow_y": null,
      "padding": null,
      "right": null,
      "top": null,
      "visibility": null,
      "width": null
     }
    },
    "ba3f897e98e84be5a180ef100aa6d934": {
     "model_module": "@jupyter-widgets/controls",
     "model_name": "HTMLModel",
     "state": {
      "_dom_classes": [],
      "_model_module": "@jupyter-widgets/controls",
      "_model_module_version": "1.5.0",
      "_model_name": "HTMLModel",
      "_view_count": null,
      "_view_module": "@jupyter-widgets/controls",
      "_view_module_version": "1.5.0",
      "_view_name": "HTMLView",
      "description": "",
      "description_tooltip": null,
      "layout": "IPY_MODEL_7299f41bbc7c493fac12c6500da94599",
      "placeholder": "​",
      "style": "IPY_MODEL_5c177f172ae8443a8b71a76cdff14220",
      "value": "100%"
     }
    },
    "c12b441719b146b1be880df7d93b0ec7": {
     "model_module": "@jupyter-widgets/base",
     "model_name": "LayoutModel",
     "state": {
      "_model_module": "@jupyter-widgets/base",
      "_model_module_version": "1.2.0",
      "_model_name": "LayoutModel",
      "_view_count": null,
      "_view_module": "@jupyter-widgets/base",
      "_view_module_version": "1.2.0",
      "_view_name": "LayoutView",
      "align_content": null,
      "align_items": null,
      "align_self": null,
      "border": null,
      "bottom": null,
      "display": null,
      "flex": null,
      "flex_flow": null,
      "grid_area": null,
      "grid_auto_columns": null,
      "grid_auto_flow": null,
      "grid_auto_rows": null,
      "grid_column": null,
      "grid_gap": null,
      "grid_row": null,
      "grid_template_areas": null,
      "grid_template_columns": null,
      "grid_template_rows": null,
      "height": null,
      "justify_content": null,
      "justify_items": null,
      "left": null,
      "margin": null,
      "max_height": null,
      "max_width": null,
      "min_height": null,
      "min_width": null,
      "object_fit": null,
      "object_position": null,
      "order": null,
      "overflow": null,
      "overflow_x": null,
      "overflow_y": null,
      "padding": null,
      "right": null,
      "top": null,
      "visibility": null,
      "width": null
     }
    }
   }
  }
 },
 "nbformat": 4,
 "nbformat_minor": 4
}
