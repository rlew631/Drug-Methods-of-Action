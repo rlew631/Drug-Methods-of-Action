{
 "cells": [
  {
   "cell_type": "markdown",
   "metadata": {
    "id": "UrajMxg_5d2-"
   },
   "source": [
    "# Testing the different types of scalers with logistic regression\n",
    "\n",
    "- Do Postgresql instead of pickling\n",
    "---"
   ]
  },
  {
   "cell_type": "code",
   "execution_count": 1,
   "metadata": {
    "executionInfo": {
     "elapsed": 1718,
     "status": "ok",
     "timestamp": 1603378654499,
     "user": {
      "displayName": "ryan lewis",
      "photoUrl": "",
      "userId": "09680394787948119906"
     },
     "user_tz": 420
    },
    "id": "Z1hdVobyCcLI"
   },
   "outputs": [],
   "source": [
    "import io, requests\n",
    "\n",
    "import datetime\n",
    "import pandas as pd\n",
    "import numpy as np\n",
    "from time import time\n",
    "from tqdm.notebook import tqdm\n",
    "import matplotlib.pyplot as plt\n",
    "\n",
    "import xgboost as xgb\n",
    "\n",
    "from sklearn.preprocessing import power_transform\n",
    "from sklearn.preprocessing import StandardScaler\n",
    "from sklearn.model_selection import StratifiedKFold\n",
    "from sklearn.svm import NuSVR\n",
    "from sklearn.metrics import log_loss\n",
    "\n",
    "###############################################################################\n",
    "# Undersampling did not show any appreciable improvement in model performance #\n",
    "###############################################################################\n",
    "\n",
    "# from imblearn.under_sampling import TomekLinks # removed 5ish samples and only made a marginal improvement to the logloss values\n",
    "# from imblearn.under_sampling import ClusterCentroids # wasn't useful\n",
    "# from imblearn.under_sampling import NeighbourhoodCleaningRule # made model marginally worse and took significantly longer\n",
    "# from imblearn.under_sampling import InstanceHardnessThreshold #kept getting errors\n",
    "# from imblearn.under_sampling import EditedNearestNeighbours#did not remove any samples\n",
    "# from imblearn.under_sampling import AllKNN#did not remove any samples\n",
    "# from imblearn.under_sampling import CondensedNearestNeighbour#crashed after using all ram\n",
    "# from imblearn.under_sampling import NearMiss# marginally worse after running NearMiss(version=2, n_jobs=2, sampling_strategy=sampling_val)"
   ]
  },
  {
   "cell_type": "markdown",
   "metadata": {
    "id": "7a0LBSJd1vJ7"
   },
   "source": [
    "## Loading the data"
   ]
  },
  {
   "cell_type": "code",
   "execution_count": 2,
   "metadata": {
    "executionInfo": {
     "elapsed": 2313,
     "status": "ok",
     "timestamp": 1603378657832,
     "user": {
      "displayName": "ryan lewis",
      "photoUrl": "",
      "userId": "09680394787948119906"
     },
     "user_tz": 420
    },
    "id": "LINf-Doscml1"
   },
   "outputs": [],
   "source": [
    "def dummy_vars(df):\n",
    "    df.loc[:, 'cp_type'] = df.loc[:, 'cp_type'].map({'trt_cp': 0, 'ctl_vehicle': 1})\n",
    "    # trt_cp is a control and has no MOA, ctl_vehicle indicates a real test\n",
    "    df.loc[:, 'cp_dose'] = df.loc[:, 'cp_dose'].map({'D1': 0, 'D2': 1})\n",
    "    # create columns ['cp_type_24', 'cp_type_48', 'cp_type_72'] which are one hot encoded based on cp_time\n",
    "    df['cp_type_24'] = df['cp_time'].astype(str) == '24'\n",
    "    df['cp_type_48'] = df['cp_time'].astype(str) == '48'\n",
    "    df['cp_type_72'] = df['cp_time'].astype(str) == '72'\n",
    "    df.drop(columns=['sig_id','cp_time'], inplace = True)\n",
    "    return df"
   ]
  },
  {
   "cell_type": "code",
   "execution_count": 3,
   "metadata": {
    "colab": {
     "base_uri": "https://localhost:8080/",
     "height": 104
    },
    "executionInfo": {
     "elapsed": 6428,
     "status": "ok",
     "timestamp": 1603378662286,
     "user": {
      "displayName": "ryan lewis",
      "photoUrl": "",
      "userId": "09680394787948119906"
     },
     "user_tz": 420
    },
    "id": "Gffd7zyYFOF7",
    "outputId": "7207fcc3-2982-4e46-94f7-4379d419396b"
   },
   "outputs": [],
   "source": [
    "def load_files():\n",
    "    # Train Features\n",
    "    train_features = pd.read_csv('train_features.csv')\n",
    "    train_features = dummy_vars(train_features)\n",
    "    print('train_features loaded')\n",
    "\n",
    "    # Train Targets\n",
    "    train_targets = pd.read_csv('train_targets_scored.csv')\n",
    "    train_targets.drop(columns=['sig_id'], inplace = True)\n",
    "    print('train_targets loaded')\n",
    "\n",
    "    # Test Features\n",
    "    test_features = pd.read_csv('test_features.csv')\n",
    "    test_features = dummy_vars(test_features)\n",
    "    #test_features = pd.DataFrame(power_transform(test_features, method='yeo-johnson'))\n",
    "    print('test_features loaded')\n",
    "\n",
    "    # Sample Submission DF (Targets)\n",
    "    ss_lr = pd.read_csv('sample_submission.csv')\n",
    "    ss_lr.drop(columns=['sig_id'], inplace = True)\n",
    "    print('ss_lr loaded')\n",
    "\n",
    "    print('done!')\n",
    "\n",
    "    return train_features, train_targets, test_features, ss_lr"
   ]
  },
  {
   "cell_type": "markdown",
   "metadata": {
    "id": "fahpRhhW3TJq"
   },
   "source": [
    "## Data Pipeline"
   ]
  },
  {
   "cell_type": "code",
   "execution_count": 4,
   "metadata": {
    "executionInfo": {
     "elapsed": 5791,
     "status": "ok",
     "timestamp": 1603378662287,
     "user": {
      "displayName": "ryan lewis",
      "photoUrl": "",
      "userId": "09680394787948119906"
     },
     "user_tz": 420
    },
    "id": "snbrfwC4izZk"
   },
   "outputs": [],
   "source": [
    "def log_loss_metric(y_true, y_pred):\n",
    "    metrics = []\n",
    "    for _target in train_targets.columns:\n",
    "        metrics.append(log_loss(y_true.loc[:, _target], y_pred.loc[:, _target].astype(float), labels = [0,1]))\n",
    "    return np.mean(metrics)"
   ]
  },
  {
   "cell_type": "code",
   "execution_count": 5,
   "metadata": {
    "executionInfo": {
     "elapsed": 5457,
     "status": "ok",
     "timestamp": 1603378662288,
     "user": {
      "displayName": "ryan lewis",
      "photoUrl": "",
      "userId": "09680394787948119906"
     },
     "user_tz": 420
    },
    "id": "rQIRw5YvAaIR"
   },
   "outputs": [],
   "source": [
    "def k_fold_fit_pred(model_train_num, column, x_test, target_vals, N_SPLITS, res, ss):\n",
    "    for rand_state in range(model_train_num):\n",
    "        # train the model for each one of the random states \n",
    "        skf = StratifiedKFold(n_splits = N_SPLITS, random_state = rand_state, shuffle = True)\n",
    "\n",
    "        for (train, val) in skf.split(target_vals, target_vals):\n",
    "        # for each of the train/validate splits...\n",
    "            scaler = StandardScaler()\n",
    "\n",
    "            x_train = X[train, column].reshape(-1, 1).astype(float)\n",
    "            y_train = target_vals[train].astype(float)\n",
    "\n",
    "            x_train = scaler.fit_transform(x_train)\n",
    "\n",
    "            x_val = X[val, column].reshape(-1, 1).astype(float)\n",
    "            y_val = target_vals[val].astype(float)\n",
    "\n",
    "            x_val = scaler.transform(x_val)\n",
    "\n",
    "            model.fit(x_train, y_train)\n",
    "\n",
    "            try:\n",
    "                ss_pred_vals = model.predict_proba(x_test[:, column].reshape(-1,1))[:,1]\n",
    "            except: # For the tree based models\n",
    "                ss_pred_vals = model.predict(x_test[:, column].reshape(-1,1))\n",
    "            ss.loc[:, train_targets.columns[column]] += (\n",
    "                ss_pred_vals / (N_SPLITS * model_train_num))\n",
    "\n",
    "            try:\n",
    "                res_pred_vals = model.predict_proba(x_val)[:,1]\n",
    "            except: # For the tree based models\n",
    "                res_pred_vals = model.predict(x_val)\n",
    "            res.loc[val, train_targets.columns[column]] += (\n",
    "                res_pred_vals / model_train_num)\n",
    "\n",
    "    return res, ss"
   ]
  },
  {
   "cell_type": "code",
   "execution_count": 6,
   "metadata": {
    "executionInfo": {
     "elapsed": 632,
     "status": "ok",
     "timestamp": 1603378797207,
     "user": {
      "displayName": "ryan lewis",
      "photoUrl": "",
      "userId": "09680394787948119906"
     },
     "user_tz": 420
    },
    "id": "mjpia2xNk77Y"
   },
   "outputs": [],
   "source": [
    "# cols = [c for c in ss_lr.columns.values]\n",
    "def run_score(train_targets, X, x_test, res, ss, logloss_vals):\n",
    "# train_targets is the training targets\n",
    "# X is the train features\n",
    "# x_test is the holdout set of features\n",
    "# ss_ is blank since it's the empty sample submission predictions\n",
    "\n",
    "    N_SPLITS = 5 # number of k-fold splits\n",
    "    model_train_num = 2 # number of random states the model is trained on for each target\n",
    "\n",
    "    for column in tqdm(range(train_targets.shape[1])):\n",
    "    # create a model for each of the targets\n",
    "        start_time = time()\n",
    "        target_vals = train_targets.values[:, column]\n",
    "\n",
    "        if target_vals.sum() >= 5:\n",
    "        # split if there's enough positive target values\n",
    "            res, ss = k_fold_fit_pred(model_train_num, column, x_test, target_vals, N_SPLITS, res, ss)\n",
    "\n",
    "        score = log_loss(\n",
    "            train_targets.loc[:, train_targets.columns[column]],\n",
    "            res.loc[:, train_targets.columns[column]])\n",
    "        feat_time = str(datetime.timedelta(seconds = time() - start_time))[2:7]\n",
    "        #print(f'[{feat_time}] Target {column+1}/{train_targets.shape[1]} Log Loss:', score)\n",
    "        target_counts.append(np.sum(target_vals))\n",
    "        logloss_vals.append(score)\n",
    "\n",
    "    print(f'Log Loss: {log_loss_metric(train_targets, res)}')\n",
    "\n",
    "    # these lines automatically set the target values equal to zero if it cp_type = 1 AKA control group  \n",
    "    res.loc[train_features['cp_type'] == 1, train_targets.columns] = 0\n",
    "    ss.loc[test_features['cp_type'] == 1, train_targets.columns] = 0\n",
    "    print(f'After manually eliminating control groups: {log_loss_metric(train_targets, res)}\\n\\n')\n",
    "    \n",
    "    return res, ss, logloss_vals"
   ]
  },
  {
   "cell_type": "code",
   "execution_count": 7,
   "metadata": {
    "tags": []
   },
   "outputs": [
    {
     "output_type": "stream",
     "name": "stdout",
     "text": [
      "train_features loaded\n",
      "train_targets loaded\n",
      "test_features loaded\n",
      "ss_lr loaded\n",
      "done!\n"
     ]
    }
   ],
   "source": [
    "train_features, train_targets, test_features, ss_lr = load_files()\n",
    "\n",
    "# g_tags = [g for g in list(train_features.columns) if g[0]+g[1] == 'g-']\n",
    "# c_tags = [c for c in list(train_features.columns) if c[0]+c[1] == 'c-']\n",
    "\n",
    "# train_features[c_tags] = scaler.fit_transform(train_features[c_tags])\n",
    "# test_features[c_tags] = scaler.fit_transform(test_features[c_tags])\n",
    "\n",
    "# train_features[g_tags] = scaler.fit_transform(train_features[g_tags])\n",
    "# test_features[g_tags] = scaler.fit_transform(test_features[g_tags])\n",
    "\n",
    "\n",
    "X = train_features.values[:,:]\n",
    "x_test = test_features.values[:,:]\n",
    "\n",
    "#This is for the sample_submission.csv df\n",
    "ss_lr.loc[:, train_targets.columns] = 0\n",
    "\n",
    "#These are the target values which are being predicted and tested\n",
    "res_lr = train_targets.copy()\n",
    "res_lr.loc[:, train_targets.columns] = 0\n",
    "\n",
    "cols = ss_lr.columns.values"
   ]
  },
  {
   "source": [
    "## Running and Evaluating the Models"
   ],
   "cell_type": "markdown",
   "metadata": {}
  },
  {
   "cell_type": "code",
   "execution_count": 8,
   "metadata": {
    "colab": {
     "base_uri": "https://localhost:8080/",
     "height": 1000,
     "referenced_widgets": [
      "259ba841852240529c05cb6774efcc3f",
      "0b03083b658f4e478de3b57791f42da8",
      "ba3f897e98e84be5a180ef100aa6d934",
      "6887ebab40d248c2b345cb7417ee2a9a",
      "1abb228a8d164b2a892055bc77aa56fd",
      "5c177f172ae8443a8b71a76cdff14220",
      "7299f41bbc7c493fac12c6500da94599",
      "1f77a084b822458699718400bf5a291b",
      "25286e32af134ccfa3f3770f82a36c16",
      "1e29afe4e9fe43fb8d854cff56fde3af",
      "4baa80741801474695d594eb4f4bb215"
     ]
    },
    "executionInfo": {
     "elapsed": 4020984,
     "status": "ok",
     "timestamp": 1603344676747,
     "user": {
      "displayName": "ryan lewis",
      "photoUrl": "",
      "userId": "09680394787948119906"
     },
     "user_tz": 420
    },
    "id": "PkmwTfogsdbl",
    "outputId": "204ab49d-d1ed-484a-aa9c-03a9920e7b54",
    "tags": []
   },
   "outputs": [
    {
     "output_type": "display_data",
     "data": {
      "text/plain": "HBox(children=(FloatProgress(value=0.0, max=206.0), HTML(value='')))",
      "application/vnd.jupyter.widget-view+json": {
       "version_major": 2,
       "version_minor": 0,
       "model_id": "73acf2b111b041fbaa80457b7c6aca54"
      }
     },
     "metadata": {}
    },
    {
     "output_type": "stream",
     "name": "stdout",
     "text": [
      "\n",
      "Log Loss: 0.0203229575735891\n",
      "After manually eliminating control groups: 0.020062875668869017\n",
      "\n",
      "\n"
     ]
    },
    {
     "output_type": "display_data",
     "data": {
      "text/plain": "<Figure size 432x288 with 1 Axes>",
      "image/svg+xml": "<?xml version=\"1.0\" encoding=\"utf-8\" standalone=\"no\"?>\r\n<!DOCTYPE svg PUBLIC \"-//W3C//DTD SVG 1.1//EN\"\r\n  \"http://www.w3.org/Graphics/SVG/1.1/DTD/svg11.dtd\">\r\n<!-- Created with matplotlib (https://matplotlib.org/) -->\r\n<svg height=\"277.314375pt\" version=\"1.1\" viewBox=\"0 0 392.14375 277.314375\" width=\"392.14375pt\" xmlns=\"http://www.w3.org/2000/svg\" xmlns:xlink=\"http://www.w3.org/1999/xlink\">\r\n <metadata>\r\n  <rdf:RDF xmlns:cc=\"http://creativecommons.org/ns#\" xmlns:dc=\"http://purl.org/dc/elements/1.1/\" xmlns:rdf=\"http://www.w3.org/1999/02/22-rdf-syntax-ns#\">\r\n   <cc:Work>\r\n    <dc:type rdf:resource=\"http://purl.org/dc/dcmitype/StillImage\"/>\r\n    <dc:date>2020-10-26T18:16:44.466486</dc:date>\r\n    <dc:format>image/svg+xml</dc:format>\r\n    <dc:creator>\r\n     <cc:Agent>\r\n      <dc:title>Matplotlib v3.3.1, https://matplotlib.org/</dc:title>\r\n     </cc:Agent>\r\n    </dc:creator>\r\n   </cc:Work>\r\n  </rdf:RDF>\r\n </metadata>\r\n <defs>\r\n  <style type=\"text/css\">*{stroke-linecap:butt;stroke-linejoin:round;}</style>\r\n </defs>\r\n <g id=\"figure_1\">\r\n  <g id=\"patch_1\">\r\n   <path d=\"M 0 277.314375 \r\nL 392.14375 277.314375 \r\nL 392.14375 0 \r\nL 0 0 \r\nz\r\n\" style=\"fill:none;\"/>\r\n  </g>\r\n  <g id=\"axes_1\">\r\n   <g id=\"patch_2\">\r\n    <path d=\"M 50.14375 239.758125 \r\nL 384.94375 239.758125 \r\nL 384.94375 22.318125 \r\nL 50.14375 22.318125 \r\nz\r\n\" style=\"fill:#ffffff;\"/>\r\n   </g>\r\n   <g id=\"PathCollection_1\">\r\n    <defs>\r\n     <path d=\"M 0 3 \r\nC 0.795609 3 1.55874 2.683901 2.12132 2.12132 \r\nC 2.683901 1.55874 3 0.795609 3 0 \r\nC 3 -0.795609 2.683901 -1.55874 2.12132 -2.12132 \r\nC 1.55874 -2.683901 0.795609 -3 0 -3 \r\nC -0.795609 -3 -1.55874 -2.683901 -2.12132 -2.12132 \r\nC -2.683901 -1.55874 -3 -0.795609 -3 0 \r\nC -3 0.795609 -2.683901 1.55874 -2.12132 2.12132 \r\nC -1.55874 2.683901 -0.795609 3 0 3 \r\nz\r\n\" id=\"m0857e3ea11\" style=\"stroke:#1f77b4;\"/>\r\n    </defs>\r\n    <g clip-path=\"url(#p7884289d96)\">\r\n     <use style=\"fill:#1f77b4;stroke:#1f77b4;\" x=\"71.222122\" xlink:href=\"#m0857e3ea11\" y=\"223.430437\"/>\r\n     <use style=\"fill:#1f77b4;stroke:#1f77b4;\" x=\"71.588384\" xlink:href=\"#m0857e3ea11\" y=\"222.833757\"/>\r\n     <use style=\"fill:#1f77b4;stroke:#1f77b4;\" x=\"73.785955\" xlink:href=\"#m0857e3ea11\" y=\"220.271321\"/>\r\n     <use style=\"fill:#1f77b4;stroke:#1f77b4;\" x=\"134.58543\" xlink:href=\"#m0857e3ea11\" y=\"163.560146\"/>\r\n     <use style=\"fill:#1f77b4;stroke:#1f77b4;\" x=\"175.240501\" xlink:href=\"#m0857e3ea11\" y=\"132.460504\"/>\r\n     <use style=\"fill:#1f77b4;stroke:#1f77b4;\" x=\"91.732788\" xlink:href=\"#m0857e3ea11\" y=\"201.532891\"/>\r\n     <use style=\"fill:#1f77b4;stroke:#1f77b4;\" x=\"84.773812\" xlink:href=\"#m0857e3ea11\" y=\"208.385874\"/>\r\n     <use style=\"fill:#1f77b4;stroke:#1f77b4;\" x=\"100.156812\" xlink:href=\"#m0857e3ea11\" y=\"193.454767\"/>\r\n     <use style=\"fill:#1f77b4;stroke:#1f77b4;\" x=\"69.390813\" xlink:href=\"#m0857e3ea11\" y=\"225.542335\"/>\r\n     <use style=\"fill:#1f77b4;stroke:#1f77b4;\" x=\"163.886382\" xlink:href=\"#m0857e3ea11\" y=\"141.417143\"/>\r\n     <use style=\"fill:#1f77b4;stroke:#1f77b4;\" x=\"196.849953\" xlink:href=\"#m0857e3ea11\" y=\"116.876725\"/>\r\n     <use style=\"fill:#1f77b4;stroke:#1f77b4;\" x=\"89.168955\" xlink:href=\"#m0857e3ea11\" y=\"204.092152\"/>\r\n     <use style=\"fill:#1f77b4;stroke:#1f77b4;\" x=\"67.559503\" xlink:href=\"#m0857e3ea11\" y=\"228.087088\"/>\r\n     <use style=\"fill:#1f77b4;stroke:#1f77b4;\" x=\"80.37867\" xlink:href=\"#m0857e3ea11\" y=\"212.855594\"/>\r\n     <use style=\"fill:#1f77b4;stroke:#1f77b4;\" x=\"69.390813\" xlink:href=\"#m0857e3ea11\" y=\"225.622311\"/>\r\n     <use style=\"fill:#1f77b4;stroke:#1f77b4;\" x=\"69.390813\" xlink:href=\"#m0857e3ea11\" y=\"225.755637\"/>\r\n     <use style=\"fill:#1f77b4;stroke:#1f77b4;\" x=\"82.576241\" xlink:href=\"#m0857e3ea11\" y=\"210.643262\"/>\r\n     <use style=\"fill:#1f77b4;stroke:#1f77b4;\" x=\"97.592979\" xlink:href=\"#m0857e3ea11\" y=\"195.731334\"/>\r\n     <use style=\"fill:#1f77b4;stroke:#1f77b4;\" x=\"94.296622\" xlink:href=\"#m0857e3ea11\" y=\"198.906058\"/>\r\n     <use style=\"fill:#1f77b4;stroke:#1f77b4;\" x=\"78.181098\" xlink:href=\"#m0857e3ea11\" y=\"215.334728\"/>\r\n     <use style=\"fill:#1f77b4;stroke:#1f77b4;\" x=\"78.54736\" xlink:href=\"#m0857e3ea11\" y=\"214.940145\"/>\r\n     <use style=\"fill:#1f77b4;stroke:#1f77b4;\" x=\"91.732788\" xlink:href=\"#m0857e3ea11\" y=\"201.359367\"/>\r\n     <use style=\"fill:#1f77b4;stroke:#1f77b4;\" x=\"67.193241\" xlink:href=\"#m0857e3ea11\" y=\"228.542349\"/>\r\n     <use style=\"fill:#1f77b4;stroke:#1f77b4;\" x=\"80.744931\" xlink:href=\"#m0857e3ea11\" y=\"212.709336\"/>\r\n     <use style=\"fill:#1f77b4;stroke:#1f77b4;\" x=\"69.390813\" xlink:href=\"#m0857e3ea11\" y=\"225.581894\"/>\r\n     <use style=\"fill:#1f77b4;stroke:#1f77b4;\" x=\"69.757075\" xlink:href=\"#m0857e3ea11\" y=\"225.16011\"/>\r\n     <use style=\"fill:#1f77b4;stroke:#1f77b4;\" x=\"69.390813\" xlink:href=\"#m0857e3ea11\" y=\"225.607208\"/>\r\n     <use style=\"fill:#1f77b4;stroke:#1f77b4;\" x=\"71.588384\" xlink:href=\"#m0857e3ea11\" y=\"222.873541\"/>\r\n     <use style=\"fill:#1f77b4;stroke:#1f77b4;\" x=\"91.732788\" xlink:href=\"#m0857e3ea11\" y=\"201.529953\"/>\r\n     <use style=\"fill:#1f77b4;stroke:#1f77b4;\" x=\"78.181098\" xlink:href=\"#m0857e3ea11\" y=\"215.319805\"/>\r\n     <use style=\"fill:#1f77b4;stroke:#1f77b4;\" x=\"73.419694\" xlink:href=\"#m0857e3ea11\" y=\"220.717242\"/>\r\n     <use style=\"fill:#1f77b4;stroke:#1f77b4;\" x=\"82.942503\" xlink:href=\"#m0857e3ea11\" y=\"210.112688\"/>\r\n     <use style=\"fill:#1f77b4;stroke:#1f77b4;\" x=\"82.209979\" xlink:href=\"#m0857e3ea11\" y=\"211.18137\"/>\r\n     <use style=\"fill:#1f77b4;stroke:#1f77b4;\" x=\"67.193241\" xlink:href=\"#m0857e3ea11\" y=\"228.550391\"/>\r\n     <use style=\"fill:#1f77b4;stroke:#1f77b4;\" x=\"65.361932\" xlink:href=\"#m0857e3ea11\" y=\"229.874489\"/>\r\n     <use style=\"fill:#1f77b4;stroke:#1f77b4;\" x=\"69.390813\" xlink:href=\"#m0857e3ea11\" y=\"226.004748\"/>\r\n     <use style=\"fill:#1f77b4;stroke:#1f77b4;\" x=\"100.523074\" xlink:href=\"#m0857e3ea11\" y=\"194.019347\"/>\r\n     <use style=\"fill:#1f77b4;stroke:#1f77b4;\" x=\"71.954646\" xlink:href=\"#m0857e3ea11\" y=\"222.451694\"/>\r\n     <use style=\"fill:#1f77b4;stroke:#1f77b4;\" x=\"100.156812\" xlink:href=\"#m0857e3ea11\" y=\"194.66631\"/>\r\n     <use style=\"fill:#1f77b4;stroke:#1f77b4;\" x=\"67.193241\" xlink:href=\"#m0857e3ea11\" y=\"228.664897\"/>\r\n     <use style=\"fill:#1f77b4;stroke:#1f77b4;\" x=\"86.971384\" xlink:href=\"#m0857e3ea11\" y=\"206.441286\"/>\r\n     <use style=\"fill:#1f77b4;stroke:#1f77b4;\" x=\"94.296622\" xlink:href=\"#m0857e3ea11\" y=\"198.970253\"/>\r\n     <use style=\"fill:#1f77b4;stroke:#1f77b4;\" x=\"78.181098\" xlink:href=\"#m0857e3ea11\" y=\"215.319551\"/>\r\n     <use style=\"fill:#1f77b4;stroke:#1f77b4;\" x=\"135.317954\" xlink:href=\"#m0857e3ea11\" y=\"163.154376\"/>\r\n     <use style=\"fill:#1f77b4;stroke:#1f77b4;\" x=\"97.592979\" xlink:href=\"#m0857e3ea11\" y=\"195.830752\"/>\r\n     <use style=\"fill:#1f77b4;stroke:#1f77b4;\" x=\"107.115788\" xlink:href=\"#m0857e3ea11\" y=\"186.961376\"/>\r\n     <use style=\"fill:#1f77b4;stroke:#1f77b4;\" x=\"67.559503\" xlink:href=\"#m0857e3ea11\" y=\"227.970921\"/>\r\n     <use style=\"fill:#1f77b4;stroke:#1f77b4;\" x=\"76.349789\" xlink:href=\"#m0857e3ea11\" y=\"217.458991\"/>\r\n     <use style=\"fill:#1f77b4;stroke:#1f77b4;\" x=\"78.913622\" xlink:href=\"#m0857e3ea11\" y=\"214.508047\"/>\r\n     <use style=\"fill:#1f77b4;stroke:#1f77b4;\" x=\"89.535217\" xlink:href=\"#m0857e3ea11\" y=\"203.558935\"/>\r\n     <use style=\"fill:#1f77b4;stroke:#1f77b4;\" x=\"73.785955\" xlink:href=\"#m0857e3ea11\" y=\"220.290344\"/>\r\n     <use style=\"fill:#1f77b4;stroke:#1f77b4;\" x=\"89.901479\" xlink:href=\"#m0857e3ea11\" y=\"203.161446\"/>\r\n     <use style=\"fill:#1f77b4;stroke:#1f77b4;\" x=\"75.617265\" xlink:href=\"#m0857e3ea11\" y=\"218.305386\"/>\r\n     <use style=\"fill:#1f77b4;stroke:#1f77b4;\" x=\"67.193241\" xlink:href=\"#m0857e3ea11\" y=\"228.571522\"/>\r\n     <use style=\"fill:#1f77b4;stroke:#1f77b4;\" x=\"167.915263\" xlink:href=\"#m0857e3ea11\" y=\"137.786827\"/>\r\n     <use style=\"fill:#1f77b4;stroke:#1f77b4;\" x=\"80.37867\" xlink:href=\"#m0857e3ea11\" y=\"212.951733\"/>\r\n     <use style=\"fill:#1f77b4;stroke:#1f77b4;\" x=\"85.140074\" xlink:href=\"#m0857e3ea11\" y=\"207.951813\"/>\r\n     <use style=\"fill:#1f77b4;stroke:#1f77b4;\" x=\"78.181098\" xlink:href=\"#m0857e3ea11\" y=\"215.319157\"/>\r\n     <use style=\"fill:#1f77b4;stroke:#1f77b4;\" x=\"78.181098\" xlink:href=\"#m0857e3ea11\" y=\"215.35837\"/>\r\n     <use style=\"fill:#1f77b4;stroke:#1f77b4;\" x=\"71.588384\" xlink:href=\"#m0857e3ea11\" y=\"222.91202\"/>\r\n     <use style=\"fill:#1f77b4;stroke:#1f77b4;\" x=\"69.390813\" xlink:href=\"#m0857e3ea11\" y=\"225.703044\"/>\r\n     <use style=\"fill:#1f77b4;stroke:#1f77b4;\" x=\"102.354383\" xlink:href=\"#m0857e3ea11\" y=\"191.376435\"/>\r\n     <use style=\"fill:#1f77b4;stroke:#1f77b4;\" x=\"71.588384\" xlink:href=\"#m0857e3ea11\" y=\"222.929024\"/>\r\n     <use style=\"fill:#1f77b4;stroke:#1f77b4;\" x=\"189.524715\" xlink:href=\"#m0857e3ea11\" y=\"124.123643\"/>\r\n     <use style=\"fill:#1f77b4;stroke:#1f77b4;\" x=\"84.773812\" xlink:href=\"#m0857e3ea11\" y=\"208.472817\"/>\r\n     <use style=\"fill:#1f77b4;stroke:#1f77b4;\" x=\"73.785955\" xlink:href=\"#m0857e3ea11\" y=\"220.487281\"/>\r\n     <use style=\"fill:#1f77b4;stroke:#1f77b4;\" x=\"80.37867\" xlink:href=\"#m0857e3ea11\" y=\"213.173144\"/>\r\n     <use style=\"fill:#1f77b4;stroke:#1f77b4;\" x=\"82.576241\" xlink:href=\"#m0857e3ea11\" y=\"210.844923\"/>\r\n     <use style=\"fill:#1f77b4;stroke:#1f77b4;\" x=\"84.773812\" xlink:href=\"#m0857e3ea11\" y=\"208.490153\"/>\r\n     <use style=\"fill:#1f77b4;stroke:#1f77b4;\" x=\"67.193241\" xlink:href=\"#m0857e3ea11\" y=\"228.518887\"/>\r\n     <use style=\"fill:#1f77b4;stroke:#1f77b4;\" x=\"78.181098\" xlink:href=\"#m0857e3ea11\" y=\"215.330112\"/>\r\n     <use style=\"fill:#1f77b4;stroke:#1f77b4;\" x=\"224.319595\" xlink:href=\"#m0857e3ea11\" y=\"98.337074\"/>\r\n     <use style=\"fill:#1f77b4;stroke:#1f77b4;\" x=\"103.086907\" xlink:href=\"#m0857e3ea11\" y=\"190.727084\"/>\r\n     <use style=\"fill:#1f77b4;stroke:#1f77b4;\" x=\"78.181098\" xlink:href=\"#m0857e3ea11\" y=\"215.411179\"/>\r\n     <use style=\"fill:#1f77b4;stroke:#1f77b4;\" x=\"74.152217\" xlink:href=\"#m0857e3ea11\" y=\"220.087896\"/>\r\n     <use style=\"fill:#1f77b4;stroke:#1f77b4;\" x=\"67.193241\" xlink:href=\"#m0857e3ea11\" y=\"228.549332\"/>\r\n     <use style=\"fill:#1f77b4;stroke:#1f77b4;\" x=\"82.576241\" xlink:href=\"#m0857e3ea11\" y=\"210.696704\"/>\r\n     <use style=\"fill:#1f77b4;stroke:#1f77b4;\" x=\"212.232952\" xlink:href=\"#m0857e3ea11\" y=\"106.010146\"/>\r\n     <use style=\"fill:#1f77b4;stroke:#1f77b4;\" x=\"109.313359\" xlink:href=\"#m0857e3ea11\" y=\"185.066058\"/>\r\n     <use style=\"fill:#1f77b4;stroke:#1f77b4;\" x=\"220.290714\" xlink:href=\"#m0857e3ea11\" y=\"100.501878\"/>\r\n     <use style=\"fill:#1f77b4;stroke:#1f77b4;\" x=\"188.059667\" xlink:href=\"#m0857e3ea11\" y=\"123.83185\"/>\r\n     <use style=\"fill:#1f77b4;stroke:#1f77b4;\" x=\"67.193241\" xlink:href=\"#m0857e3ea11\" y=\"228.548422\"/>\r\n     <use style=\"fill:#1f77b4;stroke:#1f77b4;\" x=\"65.361932\" xlink:href=\"#m0857e3ea11\" y=\"229.874489\"/>\r\n     <use style=\"fill:#1f77b4;stroke:#1f77b4;\" x=\"122.86505\" xlink:href=\"#m0857e3ea11\" y=\"173.313916\"/>\r\n     <use style=\"fill:#1f77b4;stroke:#1f77b4;\" x=\"82.576241\" xlink:href=\"#m0857e3ea11\" y=\"210.62854\"/>\r\n     <use style=\"fill:#1f77b4;stroke:#1f77b4;\" x=\"78.181098\" xlink:href=\"#m0857e3ea11\" y=\"215.530371\"/>\r\n     <use style=\"fill:#1f77b4;stroke:#1f77b4;\" x=\"71.588384\" xlink:href=\"#m0857e3ea11\" y=\"223.161524\"/>\r\n     <use style=\"fill:#1f77b4;stroke:#1f77b4;\" x=\"74.152217\" xlink:href=\"#m0857e3ea11\" y=\"219.936749\"/>\r\n     <use style=\"fill:#1f77b4;stroke:#1f77b4;\" x=\"83.308765\" xlink:href=\"#m0857e3ea11\" y=\"209.835585\"/>\r\n     <use style=\"fill:#1f77b4;stroke:#1f77b4;\" x=\"167.182739\" xlink:href=\"#m0857e3ea11\" y=\"138.212633\"/>\r\n     <use style=\"fill:#1f77b4;stroke:#1f77b4;\" x=\"71.588384\" xlink:href=\"#m0857e3ea11\" y=\"223.02431\"/>\r\n     <use style=\"fill:#1f77b4;stroke:#1f77b4;\" x=\"71.588384\" xlink:href=\"#m0857e3ea11\" y=\"222.886783\"/>\r\n     <use style=\"fill:#1f77b4;stroke:#1f77b4;\" x=\"73.419694\" xlink:href=\"#m0857e3ea11\" y=\"220.737398\"/>\r\n     <use style=\"fill:#1f77b4;stroke:#1f77b4;\" x=\"103.819431\" xlink:href=\"#m0857e3ea11\" y=\"190.21561\"/>\r\n     <use style=\"fill:#1f77b4;stroke:#1f77b4;\" x=\"125.428883\" xlink:href=\"#m0857e3ea11\" y=\"171.248378\"/>\r\n     <use style=\"fill:#1f77b4;stroke:#1f77b4;\" x=\"85.506336\" xlink:href=\"#m0857e3ea11\" y=\"207.725766\"/>\r\n     <use style=\"fill:#1f77b4;stroke:#1f77b4;\" x=\"162.421335\" xlink:href=\"#m0857e3ea11\" y=\"142.214327\"/>\r\n     <use style=\"fill:#1f77b4;stroke:#1f77b4;\" x=\"69.757075\" xlink:href=\"#m0857e3ea11\" y=\"225.153444\"/>\r\n     <use style=\"fill:#1f77b4;stroke:#1f77b4;\" x=\"92.09905\" xlink:href=\"#m0857e3ea11\" y=\"201.101299\"/>\r\n     <use style=\"fill:#1f77b4;stroke:#1f77b4;\" x=\"199.413786\" xlink:href=\"#m0857e3ea11\" y=\"116.056113\"/>\r\n     <use style=\"fill:#1f77b4;stroke:#1f77b4;\" x=\"71.588384\" xlink:href=\"#m0857e3ea11\" y=\"222.918907\"/>\r\n     <use style=\"fill:#1f77b4;stroke:#1f77b4;\" x=\"86.971384\" xlink:href=\"#m0857e3ea11\" y=\"206.116051\"/>\r\n     <use style=\"fill:#1f77b4;stroke:#1f77b4;\" x=\"91.366527\" xlink:href=\"#m0857e3ea11\" y=\"201.94024\"/>\r\n     <use style=\"fill:#1f77b4;stroke:#1f77b4;\" x=\"103.819431\" xlink:href=\"#m0857e3ea11\" y=\"190.432706\"/>\r\n     <use style=\"fill:#1f77b4;stroke:#1f77b4;\" x=\"86.605122\" xlink:href=\"#m0857e3ea11\" y=\"206.589739\"/>\r\n     <use style=\"fill:#1f77b4;stroke:#1f77b4;\" x=\"153.264787\" xlink:href=\"#m0857e3ea11\" y=\"148.886276\"/>\r\n     <use style=\"fill:#1f77b4;stroke:#1f77b4;\" x=\"73.785955\" xlink:href=\"#m0857e3ea11\" y=\"220.283126\"/>\r\n     <use style=\"fill:#1f77b4;stroke:#1f77b4;\" x=\"76.716051\" xlink:href=\"#m0857e3ea11\" y=\"217.281528\"/>\r\n     <use style=\"fill:#1f77b4;stroke:#1f77b4;\" x=\"91.366527\" xlink:href=\"#m0857e3ea11\" y=\"202.010966\"/>\r\n     <use style=\"fill:#1f77b4;stroke:#1f77b4;\" x=\"168.647787\" xlink:href=\"#m0857e3ea11\" y=\"137.433841\"/>\r\n     <use style=\"fill:#1f77b4;stroke:#1f77b4;\" x=\"99.058026\" xlink:href=\"#m0857e3ea11\" y=\"196.636236\"/>\r\n     <use style=\"fill:#1f77b4;stroke:#1f77b4;\" x=\"78.54736\" xlink:href=\"#m0857e3ea11\" y=\"215.130873\"/>\r\n     <use style=\"fill:#1f77b4;stroke:#1f77b4;\" x=\"75.983527\" xlink:href=\"#m0857e3ea11\" y=\"217.745389\"/>\r\n     <use style=\"fill:#1f77b4;stroke:#1f77b4;\" x=\"76.349789\" xlink:href=\"#m0857e3ea11\" y=\"217.41926\"/>\r\n     <use style=\"fill:#1f77b4;stroke:#1f77b4;\" x=\"91.732788\" xlink:href=\"#m0857e3ea11\" y=\"201.41607\"/>\r\n     <use style=\"fill:#1f77b4;stroke:#1f77b4;\" x=\"75.983527\" xlink:href=\"#m0857e3ea11\" y=\"217.763396\"/>\r\n     <use style=\"fill:#1f77b4;stroke:#1f77b4;\" x=\"83.675027\" xlink:href=\"#m0857e3ea11\" y=\"209.519649\"/>\r\n     <use style=\"fill:#1f77b4;stroke:#1f77b4;\" x=\"80.37867\" xlink:href=\"#m0857e3ea11\" y=\"212.904432\"/>\r\n     <use style=\"fill:#1f77b4;stroke:#1f77b4;\" x=\"98.691764\" xlink:href=\"#m0857e3ea11\" y=\"194.764385\"/>\r\n     <use style=\"fill:#1f77b4;stroke:#1f77b4;\" x=\"164.985168\" xlink:href=\"#m0857e3ea11\" y=\"140.051729\"/>\r\n     <use style=\"fill:#1f77b4;stroke:#1f77b4;\" x=\"67.193241\" xlink:href=\"#m0857e3ea11\" y=\"228.462577\"/>\r\n     <use style=\"fill:#1f77b4;stroke:#1f77b4;\" x=\"67.193241\" xlink:href=\"#m0857e3ea11\" y=\"228.541289\"/>\r\n     <use style=\"fill:#1f77b4;stroke:#1f77b4;\" x=\"87.703908\" xlink:href=\"#m0857e3ea11\" y=\"205.427551\"/>\r\n     <use style=\"fill:#1f77b4;stroke:#1f77b4;\" x=\"69.390813\" xlink:href=\"#m0857e3ea11\" y=\"225.757392\"/>\r\n     <use style=\"fill:#1f77b4;stroke:#1f77b4;\" x=\"87.337646\" xlink:href=\"#m0857e3ea11\" y=\"206.194286\"/>\r\n     <use style=\"fill:#1f77b4;stroke:#1f77b4;\" x=\"67.193241\" xlink:href=\"#m0857e3ea11\" y=\"228.550871\"/>\r\n     <use style=\"fill:#1f77b4;stroke:#1f77b4;\" x=\"76.349789\" xlink:href=\"#m0857e3ea11\" y=\"217.360211\"/>\r\n     <use style=\"fill:#1f77b4;stroke:#1f77b4;\" x=\"91.366527\" xlink:href=\"#m0857e3ea11\" y=\"202.416791\"/>\r\n     <use style=\"fill:#1f77b4;stroke:#1f77b4;\" x=\"92.09905\" xlink:href=\"#m0857e3ea11\" y=\"201.10785\"/>\r\n     <use style=\"fill:#1f77b4;stroke:#1f77b4;\" x=\"74.152217\" xlink:href=\"#m0857e3ea11\" y=\"219.888456\"/>\r\n     <use style=\"fill:#1f77b4;stroke:#1f77b4;\" x=\"69.390813\" xlink:href=\"#m0857e3ea11\" y=\"225.637553\"/>\r\n     <use style=\"fill:#1f77b4;stroke:#1f77b4;\" x=\"96.127931\" xlink:href=\"#m0857e3ea11\" y=\"197.181373\"/>\r\n     <use style=\"fill:#1f77b4;stroke:#1f77b4;\" x=\"71.588384\" xlink:href=\"#m0857e3ea11\" y=\"222.862687\"/>\r\n     <use style=\"fill:#1f77b4;stroke:#1f77b4;\" x=\"112.609717\" xlink:href=\"#m0857e3ea11\" y=\"184.019475\"/>\r\n     <use style=\"fill:#1f77b4;stroke:#1f77b4;\" x=\"82.576241\" xlink:href=\"#m0857e3ea11\" y=\"210.732714\"/>\r\n     <use style=\"fill:#1f77b4;stroke:#1f77b4;\" x=\"78.54736\" xlink:href=\"#m0857e3ea11\" y=\"214.931847\"/>\r\n     <use style=\"fill:#1f77b4;stroke:#1f77b4;\" x=\"369.725568\" xlink:href=\"#m0857e3ea11\" y=\"90.244107\"/>\r\n     <use style=\"fill:#1f77b4;stroke:#1f77b4;\" x=\"67.193241\" xlink:href=\"#m0857e3ea11\" y=\"228.502156\"/>\r\n     <use style=\"fill:#1f77b4;stroke:#1f77b4;\" x=\"74.518479\" xlink:href=\"#m0857e3ea11\" y=\"219.482548\"/>\r\n     <use style=\"fill:#1f77b4;stroke:#1f77b4;\" x=\"69.390813\" xlink:href=\"#m0857e3ea11\" y=\"225.742628\"/>\r\n     <use style=\"fill:#1f77b4;stroke:#1f77b4;\" x=\"74.518479\" xlink:href=\"#m0857e3ea11\" y=\"219.440957\"/>\r\n     <use style=\"fill:#1f77b4;stroke:#1f77b4;\" x=\"67.559503\" xlink:href=\"#m0857e3ea11\" y=\"228.081298\"/>\r\n     <use style=\"fill:#1f77b4;stroke:#1f77b4;\" x=\"71.588384\" xlink:href=\"#m0857e3ea11\" y=\"223.804725\"/>\r\n     <use style=\"fill:#1f77b4;stroke:#1f77b4;\" x=\"87.337646\" xlink:href=\"#m0857e3ea11\" y=\"205.753134\"/>\r\n     <use style=\"fill:#1f77b4;stroke:#1f77b4;\" x=\"100.156812\" xlink:href=\"#m0857e3ea11\" y=\"193.500969\"/>\r\n     <use style=\"fill:#1f77b4;stroke:#1f77b4;\" x=\"78.54736\" xlink:href=\"#m0857e3ea11\" y=\"214.848996\"/>\r\n     <use style=\"fill:#1f77b4;stroke:#1f77b4;\" x=\"87.703908\" xlink:href=\"#m0857e3ea11\" y=\"205.344855\"/>\r\n     <use style=\"fill:#1f77b4;stroke:#1f77b4;\" x=\"73.785955\" xlink:href=\"#m0857e3ea11\" y=\"220.187394\"/>\r\n     <use style=\"fill:#1f77b4;stroke:#1f77b4;\" x=\"87.337646\" xlink:href=\"#m0857e3ea11\" y=\"205.876634\"/>\r\n     <use style=\"fill:#1f77b4;stroke:#1f77b4;\" x=\"173.775453\" xlink:href=\"#m0857e3ea11\" y=\"133.326522\"/>\r\n     <use style=\"fill:#1f77b4;stroke:#1f77b4;\" x=\"71.588384\" xlink:href=\"#m0857e3ea11\" y=\"222.886406\"/>\r\n     <use style=\"fill:#1f77b4;stroke:#1f77b4;\" x=\"161.688811\" xlink:href=\"#m0857e3ea11\" y=\"142.324863\"/>\r\n     <use style=\"fill:#1f77b4;stroke:#1f77b4;\" x=\"74.152217\" xlink:href=\"#m0857e3ea11\" y=\"219.933293\"/>\r\n     <use style=\"fill:#1f77b4;stroke:#1f77b4;\" x=\"120.301216\" xlink:href=\"#m0857e3ea11\" y=\"178.039431\"/>\r\n     <use style=\"fill:#1f77b4;stroke:#1f77b4;\" x=\"76.349789\" xlink:href=\"#m0857e3ea11\" y=\"217.364362\"/>\r\n     <use style=\"fill:#1f77b4;stroke:#1f77b4;\" x=\"85.140074\" xlink:href=\"#m0857e3ea11\" y=\"207.982439\"/>\r\n     <use style=\"fill:#1f77b4;stroke:#1f77b4;\" x=\"100.889336\" xlink:href=\"#m0857e3ea11\" y=\"192.659561\"/>\r\n     <use style=\"fill:#1f77b4;stroke:#1f77b4;\" x=\"107.115788\" xlink:href=\"#m0857e3ea11\" y=\"186.927798\"/>\r\n     <use style=\"fill:#1f77b4;stroke:#1f77b4;\" x=\"75.983527\" xlink:href=\"#m0857e3ea11\" y=\"217.740439\"/>\r\n     <use style=\"fill:#1f77b4;stroke:#1f77b4;\" x=\"108.580836\" xlink:href=\"#m0857e3ea11\" y=\"185.72441\"/>\r\n     <use style=\"fill:#1f77b4;stroke:#1f77b4;\" x=\"71.588384\" xlink:href=\"#m0857e3ea11\" y=\"222.911235\"/>\r\n     <use style=\"fill:#1f77b4;stroke:#1f77b4;\" x=\"78.181098\" xlink:href=\"#m0857e3ea11\" y=\"215.339401\"/>\r\n     <use style=\"fill:#1f77b4;stroke:#1f77b4;\" x=\"95.761669\" xlink:href=\"#m0857e3ea11\" y=\"197.671964\"/>\r\n     <use style=\"fill:#1f77b4;stroke:#1f77b4;\" x=\"330.901807\" xlink:href=\"#m0857e3ea11\" y=\"32.201761\"/>\r\n     <use style=\"fill:#1f77b4;stroke:#1f77b4;\" x=\"82.576241\" xlink:href=\"#m0857e3ea11\" y=\"210.696476\"/>\r\n     <use style=\"fill:#1f77b4;stroke:#1f77b4;\" x=\"67.193241\" xlink:href=\"#m0857e3ea11\" y=\"228.559666\"/>\r\n     <use style=\"fill:#1f77b4;stroke:#1f77b4;\" x=\"102.720645\" xlink:href=\"#m0857e3ea11\" y=\"190.962712\"/>\r\n     <use style=\"fill:#1f77b4;stroke:#1f77b4;\" x=\"71.954646\" xlink:href=\"#m0857e3ea11\" y=\"222.490289\"/>\r\n     <use style=\"fill:#1f77b4;stroke:#1f77b4;\" x=\"85.506336\" xlink:href=\"#m0857e3ea11\" y=\"207.621498\"/>\r\n     <use style=\"fill:#1f77b4;stroke:#1f77b4;\" x=\"146.672073\" xlink:href=\"#m0857e3ea11\" y=\"175.219163\"/>\r\n     <use style=\"fill:#1f77b4;stroke:#1f77b4;\" x=\"69.390813\" xlink:href=\"#m0857e3ea11\" y=\"225.603985\"/>\r\n     <use style=\"fill:#1f77b4;stroke:#1f77b4;\" x=\"89.535217\" xlink:href=\"#m0857e3ea11\" y=\"203.996362\"/>\r\n     <use style=\"fill:#1f77b4;stroke:#1f77b4;\" x=\"67.193241\" xlink:href=\"#m0857e3ea11\" y=\"228.600364\"/>\r\n     <use style=\"fill:#1f77b4;stroke:#1f77b4;\" x=\"77.814836\" xlink:href=\"#m0857e3ea11\" y=\"215.73181\"/>\r\n     <use style=\"fill:#1f77b4;stroke:#1f77b4;\" x=\"78.54736\" xlink:href=\"#m0857e3ea11\" y=\"214.93165\"/>\r\n     <use style=\"fill:#1f77b4;stroke:#1f77b4;\" x=\"74.152217\" xlink:href=\"#m0857e3ea11\" y=\"220.215389\"/>\r\n     <use style=\"fill:#1f77b4;stroke:#1f77b4;\" x=\"151.433478\" xlink:href=\"#m0857e3ea11\" y=\"150.362421\"/>\r\n     <use style=\"fill:#1f77b4;stroke:#1f77b4;\" x=\"212.965476\" xlink:href=\"#m0857e3ea11\" y=\"105.563048\"/>\r\n     <use style=\"fill:#1f77b4;stroke:#1f77b4;\" x=\"81.111193\" xlink:href=\"#m0857e3ea11\" y=\"212.194476\"/>\r\n     <use style=\"fill:#1f77b4;stroke:#1f77b4;\" x=\"78.181098\" xlink:href=\"#m0857e3ea11\" y=\"215.368172\"/>\r\n     <use style=\"fill:#1f77b4;stroke:#1f77b4;\" x=\"78.181098\" xlink:href=\"#m0857e3ea11\" y=\"215.315465\"/>\r\n     <use style=\"fill:#1f77b4;stroke:#1f77b4;\" x=\"74.152217\" xlink:href=\"#m0857e3ea11\" y=\"219.833995\"/>\r\n     <use style=\"fill:#1f77b4;stroke:#1f77b4;\" x=\"162.787596\" xlink:href=\"#m0857e3ea11\" y=\"141.497789\"/>\r\n     <use style=\"fill:#1f77b4;stroke:#1f77b4;\" x=\"74.152217\" xlink:href=\"#m0857e3ea11\" y=\"219.876375\"/>\r\n     <use style=\"fill:#1f77b4;stroke:#1f77b4;\" x=\"91.000265\" xlink:href=\"#m0857e3ea11\" y=\"202.114016\"/>\r\n     <use style=\"fill:#1f77b4;stroke:#1f77b4;\" x=\"67.193241\" xlink:href=\"#m0857e3ea11\" y=\"228.548978\"/>\r\n     <use style=\"fill:#1f77b4;stroke:#1f77b4;\" x=\"71.954646\" xlink:href=\"#m0857e3ea11\" y=\"222.408663\"/>\r\n     <use style=\"fill:#1f77b4;stroke:#1f77b4;\" x=\"86.971384\" xlink:href=\"#m0857e3ea11\" y=\"206.183534\"/>\r\n     <use style=\"fill:#1f77b4;stroke:#1f77b4;\" x=\"75.983527\" xlink:href=\"#m0857e3ea11\" y=\"218.422545\"/>\r\n     <use style=\"fill:#1f77b4;stroke:#1f77b4;\" x=\"71.954646\" xlink:href=\"#m0857e3ea11\" y=\"222.453187\"/>\r\n     <use style=\"fill:#1f77b4;stroke:#1f77b4;\" x=\"78.54736\" xlink:href=\"#m0857e3ea11\" y=\"215.0055\"/>\r\n     <use style=\"fill:#1f77b4;stroke:#1f77b4;\" x=\"75.983527\" xlink:href=\"#m0857e3ea11\" y=\"217.816033\"/>\r\n     <use style=\"fill:#1f77b4;stroke:#1f77b4;\" x=\"67.559503\" xlink:href=\"#m0857e3ea11\" y=\"228.010135\"/>\r\n     <use style=\"fill:#1f77b4;stroke:#1f77b4;\" x=\"78.181098\" xlink:href=\"#m0857e3ea11\" y=\"215.306864\"/>\r\n     <use style=\"fill:#1f77b4;stroke:#1f77b4;\" x=\"111.510931\" xlink:href=\"#m0857e3ea11\" y=\"184.415134\"/>\r\n     <use style=\"fill:#1f77b4;stroke:#1f77b4;\" x=\"71.588384\" xlink:href=\"#m0857e3ea11\" y=\"222.916577\"/>\r\n     <use style=\"fill:#1f77b4;stroke:#1f77b4;\" x=\"67.193241\" xlink:href=\"#m0857e3ea11\" y=\"228.522155\"/>\r\n     <use style=\"fill:#1f77b4;stroke:#1f77b4;\" x=\"74.152217\" xlink:href=\"#m0857e3ea11\" y=\"219.810516\"/>\r\n     <use style=\"fill:#1f77b4;stroke:#1f77b4;\" x=\"82.576241\" xlink:href=\"#m0857e3ea11\" y=\"210.639959\"/>\r\n     <use style=\"fill:#1f77b4;stroke:#1f77b4;\" x=\"180.734429\" xlink:href=\"#m0857e3ea11\" y=\"129.030801\"/>\r\n     <use style=\"fill:#1f77b4;stroke:#1f77b4;\" x=\"91.732788\" xlink:href=\"#m0857e3ea11\" y=\"201.629829\"/>\r\n     <use style=\"fill:#1f77b4;stroke:#1f77b4;\" x=\"67.193241\" xlink:href=\"#m0857e3ea11\" y=\"228.544919\"/>\r\n     <use style=\"fill:#1f77b4;stroke:#1f77b4;\" x=\"127.260192\" xlink:href=\"#m0857e3ea11\" y=\"169.592486\"/>\r\n     <use style=\"fill:#1f77b4;stroke:#1f77b4;\" x=\"74.518479\" xlink:href=\"#m0857e3ea11\" y=\"219.473577\"/>\r\n     <use style=\"fill:#1f77b4;stroke:#1f77b4;\" x=\"79.279884\" xlink:href=\"#m0857e3ea11\" y=\"214.401925\"/>\r\n     <use style=\"fill:#1f77b4;stroke:#1f77b4;\" x=\"75.983527\" xlink:href=\"#m0857e3ea11\" y=\"217.767748\"/>\r\n    </g>\r\n   </g>\r\n   <g id=\"matplotlib.axis_1\">\r\n    <g id=\"xtick_1\">\r\n     <g id=\"line2d_1\">\r\n      <defs>\r\n       <path d=\"M 0 0 \r\nL 0 3.5 \r\n\" id=\"m30cd091414\" style=\"stroke:#000000;stroke-width:0.8;\"/>\r\n      </defs>\r\n      <g>\r\n       <use style=\"stroke:#000000;stroke-width:0.8;\" x=\"64.99567\" xlink:href=\"#m30cd091414\" y=\"239.758125\"/>\r\n      </g>\r\n     </g>\r\n     <g id=\"text_1\">\r\n      <!-- 0 -->\r\n      <g transform=\"translate(61.81442 254.356562)scale(0.1 -0.1)\">\r\n       <defs>\r\n        <path d=\"M 31.78125 66.40625 \r\nQ 24.171875 66.40625 20.328125 58.90625 \r\nQ 16.5 51.421875 16.5 36.375 \r\nQ 16.5 21.390625 20.328125 13.890625 \r\nQ 24.171875 6.390625 31.78125 6.390625 \r\nQ 39.453125 6.390625 43.28125 13.890625 \r\nQ 47.125 21.390625 47.125 36.375 \r\nQ 47.125 51.421875 43.28125 58.90625 \r\nQ 39.453125 66.40625 31.78125 66.40625 \r\nz\r\nM 31.78125 74.21875 \r\nQ 44.046875 74.21875 50.515625 64.515625 \r\nQ 56.984375 54.828125 56.984375 36.375 \r\nQ 56.984375 17.96875 50.515625 8.265625 \r\nQ 44.046875 -1.421875 31.78125 -1.421875 \r\nQ 19.53125 -1.421875 13.0625 8.265625 \r\nQ 6.59375 17.96875 6.59375 36.375 \r\nQ 6.59375 54.828125 13.0625 64.515625 \r\nQ 19.53125 74.21875 31.78125 74.21875 \r\nz\r\n\" id=\"DejaVuSans-48\"/>\r\n       </defs>\r\n       <use xlink:href=\"#DejaVuSans-48\"/>\r\n      </g>\r\n     </g>\r\n    </g>\r\n    <g id=\"xtick_2\">\r\n     <g id=\"line2d_2\">\r\n      <g>\r\n       <use style=\"stroke:#000000;stroke-width:0.8;\" x=\"138.248049\" xlink:href=\"#m30cd091414\" y=\"239.758125\"/>\r\n      </g>\r\n     </g>\r\n     <g id=\"text_2\">\r\n      <!-- 200 -->\r\n      <g transform=\"translate(128.704299 254.356562)scale(0.1 -0.1)\">\r\n       <defs>\r\n        <path d=\"M 19.1875 8.296875 \r\nL 53.609375 8.296875 \r\nL 53.609375 0 \r\nL 7.328125 0 \r\nL 7.328125 8.296875 \r\nQ 12.9375 14.109375 22.625 23.890625 \r\nQ 32.328125 33.6875 34.8125 36.53125 \r\nQ 39.546875 41.84375 41.421875 45.53125 \r\nQ 43.3125 49.21875 43.3125 52.78125 \r\nQ 43.3125 58.59375 39.234375 62.25 \r\nQ 35.15625 65.921875 28.609375 65.921875 \r\nQ 23.96875 65.921875 18.8125 64.3125 \r\nQ 13.671875 62.703125 7.8125 59.421875 \r\nL 7.8125 69.390625 \r\nQ 13.765625 71.78125 18.9375 73 \r\nQ 24.125 74.21875 28.421875 74.21875 \r\nQ 39.75 74.21875 46.484375 68.546875 \r\nQ 53.21875 62.890625 53.21875 53.421875 \r\nQ 53.21875 48.921875 51.53125 44.890625 \r\nQ 49.859375 40.875 45.40625 35.40625 \r\nQ 44.1875 33.984375 37.640625 27.21875 \r\nQ 31.109375 20.453125 19.1875 8.296875 \r\nz\r\n\" id=\"DejaVuSans-50\"/>\r\n       </defs>\r\n       <use xlink:href=\"#DejaVuSans-50\"/>\r\n       <use x=\"63.623047\" xlink:href=\"#DejaVuSans-48\"/>\r\n       <use x=\"127.246094\" xlink:href=\"#DejaVuSans-48\"/>\r\n      </g>\r\n     </g>\r\n    </g>\r\n    <g id=\"xtick_3\">\r\n     <g id=\"line2d_3\">\r\n      <g>\r\n       <use style=\"stroke:#000000;stroke-width:0.8;\" x=\"211.500429\" xlink:href=\"#m30cd091414\" y=\"239.758125\"/>\r\n      </g>\r\n     </g>\r\n     <g id=\"text_3\">\r\n      <!-- 400 -->\r\n      <g transform=\"translate(201.956679 254.356562)scale(0.1 -0.1)\">\r\n       <defs>\r\n        <path d=\"M 37.796875 64.3125 \r\nL 12.890625 25.390625 \r\nL 37.796875 25.390625 \r\nz\r\nM 35.203125 72.90625 \r\nL 47.609375 72.90625 \r\nL 47.609375 25.390625 \r\nL 58.015625 25.390625 \r\nL 58.015625 17.1875 \r\nL 47.609375 17.1875 \r\nL 47.609375 0 \r\nL 37.796875 0 \r\nL 37.796875 17.1875 \r\nL 4.890625 17.1875 \r\nL 4.890625 26.703125 \r\nz\r\n\" id=\"DejaVuSans-52\"/>\r\n       </defs>\r\n       <use xlink:href=\"#DejaVuSans-52\"/>\r\n       <use x=\"63.623047\" xlink:href=\"#DejaVuSans-48\"/>\r\n       <use x=\"127.246094\" xlink:href=\"#DejaVuSans-48\"/>\r\n      </g>\r\n     </g>\r\n    </g>\r\n    <g id=\"xtick_4\">\r\n     <g id=\"line2d_4\">\r\n      <g>\r\n       <use style=\"stroke:#000000;stroke-width:0.8;\" x=\"284.752808\" xlink:href=\"#m30cd091414\" y=\"239.758125\"/>\r\n      </g>\r\n     </g>\r\n     <g id=\"text_4\">\r\n      <!-- 600 -->\r\n      <g transform=\"translate(275.209058 254.356562)scale(0.1 -0.1)\">\r\n       <defs>\r\n        <path d=\"M 33.015625 40.375 \r\nQ 26.375 40.375 22.484375 35.828125 \r\nQ 18.609375 31.296875 18.609375 23.390625 \r\nQ 18.609375 15.53125 22.484375 10.953125 \r\nQ 26.375 6.390625 33.015625 6.390625 \r\nQ 39.65625 6.390625 43.53125 10.953125 \r\nQ 47.40625 15.53125 47.40625 23.390625 \r\nQ 47.40625 31.296875 43.53125 35.828125 \r\nQ 39.65625 40.375 33.015625 40.375 \r\nz\r\nM 52.59375 71.296875 \r\nL 52.59375 62.3125 \r\nQ 48.875 64.0625 45.09375 64.984375 \r\nQ 41.3125 65.921875 37.59375 65.921875 \r\nQ 27.828125 65.921875 22.671875 59.328125 \r\nQ 17.53125 52.734375 16.796875 39.40625 \r\nQ 19.671875 43.65625 24.015625 45.921875 \r\nQ 28.375 48.1875 33.59375 48.1875 \r\nQ 44.578125 48.1875 50.953125 41.515625 \r\nQ 57.328125 34.859375 57.328125 23.390625 \r\nQ 57.328125 12.15625 50.6875 5.359375 \r\nQ 44.046875 -1.421875 33.015625 -1.421875 \r\nQ 20.359375 -1.421875 13.671875 8.265625 \r\nQ 6.984375 17.96875 6.984375 36.375 \r\nQ 6.984375 53.65625 15.1875 63.9375 \r\nQ 23.390625 74.21875 37.203125 74.21875 \r\nQ 40.921875 74.21875 44.703125 73.484375 \r\nQ 48.484375 72.75 52.59375 71.296875 \r\nz\r\n\" id=\"DejaVuSans-54\"/>\r\n       </defs>\r\n       <use xlink:href=\"#DejaVuSans-54\"/>\r\n       <use x=\"63.623047\" xlink:href=\"#DejaVuSans-48\"/>\r\n       <use x=\"127.246094\" xlink:href=\"#DejaVuSans-48\"/>\r\n      </g>\r\n     </g>\r\n    </g>\r\n    <g id=\"xtick_5\">\r\n     <g id=\"line2d_5\">\r\n      <g>\r\n       <use style=\"stroke:#000000;stroke-width:0.8;\" x=\"358.005187\" xlink:href=\"#m30cd091414\" y=\"239.758125\"/>\r\n      </g>\r\n     </g>\r\n     <g id=\"text_5\">\r\n      <!-- 800 -->\r\n      <g transform=\"translate(348.461437 254.356562)scale(0.1 -0.1)\">\r\n       <defs>\r\n        <path d=\"M 31.78125 34.625 \r\nQ 24.75 34.625 20.71875 30.859375 \r\nQ 16.703125 27.09375 16.703125 20.515625 \r\nQ 16.703125 13.921875 20.71875 10.15625 \r\nQ 24.75 6.390625 31.78125 6.390625 \r\nQ 38.8125 6.390625 42.859375 10.171875 \r\nQ 46.921875 13.96875 46.921875 20.515625 \r\nQ 46.921875 27.09375 42.890625 30.859375 \r\nQ 38.875 34.625 31.78125 34.625 \r\nz\r\nM 21.921875 38.8125 \r\nQ 15.578125 40.375 12.03125 44.71875 \r\nQ 8.5 49.078125 8.5 55.328125 \r\nQ 8.5 64.0625 14.71875 69.140625 \r\nQ 20.953125 74.21875 31.78125 74.21875 \r\nQ 42.671875 74.21875 48.875 69.140625 \r\nQ 55.078125 64.0625 55.078125 55.328125 \r\nQ 55.078125 49.078125 51.53125 44.71875 \r\nQ 48 40.375 41.703125 38.8125 \r\nQ 48.828125 37.15625 52.796875 32.3125 \r\nQ 56.78125 27.484375 56.78125 20.515625 \r\nQ 56.78125 9.90625 50.3125 4.234375 \r\nQ 43.84375 -1.421875 31.78125 -1.421875 \r\nQ 19.734375 -1.421875 13.25 4.234375 \r\nQ 6.78125 9.90625 6.78125 20.515625 \r\nQ 6.78125 27.484375 10.78125 32.3125 \r\nQ 14.796875 37.15625 21.921875 38.8125 \r\nz\r\nM 18.3125 54.390625 \r\nQ 18.3125 48.734375 21.84375 45.5625 \r\nQ 25.390625 42.390625 31.78125 42.390625 \r\nQ 38.140625 42.390625 41.71875 45.5625 \r\nQ 45.3125 48.734375 45.3125 54.390625 \r\nQ 45.3125 60.0625 41.71875 63.234375 \r\nQ 38.140625 66.40625 31.78125 66.40625 \r\nQ 25.390625 66.40625 21.84375 63.234375 \r\nQ 18.3125 60.0625 18.3125 54.390625 \r\nz\r\n\" id=\"DejaVuSans-56\"/>\r\n       </defs>\r\n       <use xlink:href=\"#DejaVuSans-56\"/>\r\n       <use x=\"63.623047\" xlink:href=\"#DejaVuSans-48\"/>\r\n       <use x=\"127.246094\" xlink:href=\"#DejaVuSans-48\"/>\r\n      </g>\r\n     </g>\r\n    </g>\r\n    <g id=\"text_6\">\r\n     <!-- target_counts -->\r\n     <g transform=\"translate(183.129688 267.756562)scale(0.1 -0.1)\">\r\n      <defs>\r\n       <path d=\"M 18.3125 70.21875 \r\nL 18.3125 54.6875 \r\nL 36.8125 54.6875 \r\nL 36.8125 47.703125 \r\nL 18.3125 47.703125 \r\nL 18.3125 18.015625 \r\nQ 18.3125 11.328125 20.140625 9.421875 \r\nQ 21.96875 7.515625 27.59375 7.515625 \r\nL 36.8125 7.515625 \r\nL 36.8125 0 \r\nL 27.59375 0 \r\nQ 17.1875 0 13.234375 3.875 \r\nQ 9.28125 7.765625 9.28125 18.015625 \r\nL 9.28125 47.703125 \r\nL 2.6875 47.703125 \r\nL 2.6875 54.6875 \r\nL 9.28125 54.6875 \r\nL 9.28125 70.21875 \r\nz\r\n\" id=\"DejaVuSans-116\"/>\r\n       <path d=\"M 34.28125 27.484375 \r\nQ 23.390625 27.484375 19.1875 25 \r\nQ 14.984375 22.515625 14.984375 16.5 \r\nQ 14.984375 11.71875 18.140625 8.90625 \r\nQ 21.296875 6.109375 26.703125 6.109375 \r\nQ 34.1875 6.109375 38.703125 11.40625 \r\nQ 43.21875 16.703125 43.21875 25.484375 \r\nL 43.21875 27.484375 \r\nz\r\nM 52.203125 31.203125 \r\nL 52.203125 0 \r\nL 43.21875 0 \r\nL 43.21875 8.296875 \r\nQ 40.140625 3.328125 35.546875 0.953125 \r\nQ 30.953125 -1.421875 24.3125 -1.421875 \r\nQ 15.921875 -1.421875 10.953125 3.296875 \r\nQ 6 8.015625 6 15.921875 \r\nQ 6 25.140625 12.171875 29.828125 \r\nQ 18.359375 34.515625 30.609375 34.515625 \r\nL 43.21875 34.515625 \r\nL 43.21875 35.40625 \r\nQ 43.21875 41.609375 39.140625 45 \r\nQ 35.0625 48.390625 27.6875 48.390625 \r\nQ 23 48.390625 18.546875 47.265625 \r\nQ 14.109375 46.140625 10.015625 43.890625 \r\nL 10.015625 52.203125 \r\nQ 14.9375 54.109375 19.578125 55.046875 \r\nQ 24.21875 56 28.609375 56 \r\nQ 40.484375 56 46.34375 49.84375 \r\nQ 52.203125 43.703125 52.203125 31.203125 \r\nz\r\n\" id=\"DejaVuSans-97\"/>\r\n       <path d=\"M 41.109375 46.296875 \r\nQ 39.59375 47.171875 37.8125 47.578125 \r\nQ 36.03125 48 33.890625 48 \r\nQ 26.265625 48 22.1875 43.046875 \r\nQ 18.109375 38.09375 18.109375 28.8125 \r\nL 18.109375 0 \r\nL 9.078125 0 \r\nL 9.078125 54.6875 \r\nL 18.109375 54.6875 \r\nL 18.109375 46.1875 \r\nQ 20.953125 51.171875 25.484375 53.578125 \r\nQ 30.03125 56 36.53125 56 \r\nQ 37.453125 56 38.578125 55.875 \r\nQ 39.703125 55.765625 41.0625 55.515625 \r\nz\r\n\" id=\"DejaVuSans-114\"/>\r\n       <path d=\"M 45.40625 27.984375 \r\nQ 45.40625 37.75 41.375 43.109375 \r\nQ 37.359375 48.484375 30.078125 48.484375 \r\nQ 22.859375 48.484375 18.828125 43.109375 \r\nQ 14.796875 37.75 14.796875 27.984375 \r\nQ 14.796875 18.265625 18.828125 12.890625 \r\nQ 22.859375 7.515625 30.078125 7.515625 \r\nQ 37.359375 7.515625 41.375 12.890625 \r\nQ 45.40625 18.265625 45.40625 27.984375 \r\nz\r\nM 54.390625 6.78125 \r\nQ 54.390625 -7.171875 48.1875 -13.984375 \r\nQ 42 -20.796875 29.203125 -20.796875 \r\nQ 24.46875 -20.796875 20.265625 -20.09375 \r\nQ 16.0625 -19.390625 12.109375 -17.921875 \r\nL 12.109375 -9.1875 \r\nQ 16.0625 -11.328125 19.921875 -12.34375 \r\nQ 23.78125 -13.375 27.78125 -13.375 \r\nQ 36.625 -13.375 41.015625 -8.765625 \r\nQ 45.40625 -4.15625 45.40625 5.171875 \r\nL 45.40625 9.625 \r\nQ 42.625 4.78125 38.28125 2.390625 \r\nQ 33.9375 0 27.875 0 \r\nQ 17.828125 0 11.671875 7.65625 \r\nQ 5.515625 15.328125 5.515625 27.984375 \r\nQ 5.515625 40.671875 11.671875 48.328125 \r\nQ 17.828125 56 27.875 56 \r\nQ 33.9375 56 38.28125 53.609375 \r\nQ 42.625 51.21875 45.40625 46.390625 \r\nL 45.40625 54.6875 \r\nL 54.390625 54.6875 \r\nz\r\n\" id=\"DejaVuSans-103\"/>\r\n       <path d=\"M 56.203125 29.59375 \r\nL 56.203125 25.203125 \r\nL 14.890625 25.203125 \r\nQ 15.484375 15.921875 20.484375 11.0625 \r\nQ 25.484375 6.203125 34.421875 6.203125 \r\nQ 39.59375 6.203125 44.453125 7.46875 \r\nQ 49.3125 8.734375 54.109375 11.28125 \r\nL 54.109375 2.78125 \r\nQ 49.265625 0.734375 44.1875 -0.34375 \r\nQ 39.109375 -1.421875 33.890625 -1.421875 \r\nQ 20.796875 -1.421875 13.15625 6.1875 \r\nQ 5.515625 13.8125 5.515625 26.8125 \r\nQ 5.515625 40.234375 12.765625 48.109375 \r\nQ 20.015625 56 32.328125 56 \r\nQ 43.359375 56 49.78125 48.890625 \r\nQ 56.203125 41.796875 56.203125 29.59375 \r\nz\r\nM 47.21875 32.234375 \r\nQ 47.125 39.59375 43.09375 43.984375 \r\nQ 39.0625 48.390625 32.421875 48.390625 \r\nQ 24.90625 48.390625 20.390625 44.140625 \r\nQ 15.875 39.890625 15.1875 32.171875 \r\nz\r\n\" id=\"DejaVuSans-101\"/>\r\n       <path d=\"M 50.984375 -16.609375 \r\nL 50.984375 -23.578125 \r\nL -0.984375 -23.578125 \r\nL -0.984375 -16.609375 \r\nz\r\n\" id=\"DejaVuSans-95\"/>\r\n       <path d=\"M 48.78125 52.59375 \r\nL 48.78125 44.1875 \r\nQ 44.96875 46.296875 41.140625 47.34375 \r\nQ 37.3125 48.390625 33.40625 48.390625 \r\nQ 24.65625 48.390625 19.8125 42.84375 \r\nQ 14.984375 37.3125 14.984375 27.296875 \r\nQ 14.984375 17.28125 19.8125 11.734375 \r\nQ 24.65625 6.203125 33.40625 6.203125 \r\nQ 37.3125 6.203125 41.140625 7.25 \r\nQ 44.96875 8.296875 48.78125 10.40625 \r\nL 48.78125 2.09375 \r\nQ 45.015625 0.34375 40.984375 -0.53125 \r\nQ 36.96875 -1.421875 32.421875 -1.421875 \r\nQ 20.0625 -1.421875 12.78125 6.34375 \r\nQ 5.515625 14.109375 5.515625 27.296875 \r\nQ 5.515625 40.671875 12.859375 48.328125 \r\nQ 20.21875 56 33.015625 56 \r\nQ 37.15625 56 41.109375 55.140625 \r\nQ 45.0625 54.296875 48.78125 52.59375 \r\nz\r\n\" id=\"DejaVuSans-99\"/>\r\n       <path d=\"M 30.609375 48.390625 \r\nQ 23.390625 48.390625 19.1875 42.75 \r\nQ 14.984375 37.109375 14.984375 27.296875 \r\nQ 14.984375 17.484375 19.15625 11.84375 \r\nQ 23.34375 6.203125 30.609375 6.203125 \r\nQ 37.796875 6.203125 41.984375 11.859375 \r\nQ 46.1875 17.53125 46.1875 27.296875 \r\nQ 46.1875 37.015625 41.984375 42.703125 \r\nQ 37.796875 48.390625 30.609375 48.390625 \r\nz\r\nM 30.609375 56 \r\nQ 42.328125 56 49.015625 48.375 \r\nQ 55.71875 40.765625 55.71875 27.296875 \r\nQ 55.71875 13.875 49.015625 6.21875 \r\nQ 42.328125 -1.421875 30.609375 -1.421875 \r\nQ 18.84375 -1.421875 12.171875 6.21875 \r\nQ 5.515625 13.875 5.515625 27.296875 \r\nQ 5.515625 40.765625 12.171875 48.375 \r\nQ 18.84375 56 30.609375 56 \r\nz\r\n\" id=\"DejaVuSans-111\"/>\r\n       <path d=\"M 8.5 21.578125 \r\nL 8.5 54.6875 \r\nL 17.484375 54.6875 \r\nL 17.484375 21.921875 \r\nQ 17.484375 14.15625 20.5 10.265625 \r\nQ 23.53125 6.390625 29.59375 6.390625 \r\nQ 36.859375 6.390625 41.078125 11.03125 \r\nQ 45.3125 15.671875 45.3125 23.6875 \r\nL 45.3125 54.6875 \r\nL 54.296875 54.6875 \r\nL 54.296875 0 \r\nL 45.3125 0 \r\nL 45.3125 8.40625 \r\nQ 42.046875 3.421875 37.71875 1 \r\nQ 33.40625 -1.421875 27.6875 -1.421875 \r\nQ 18.265625 -1.421875 13.375 4.4375 \r\nQ 8.5 10.296875 8.5 21.578125 \r\nz\r\nM 31.109375 56 \r\nz\r\n\" id=\"DejaVuSans-117\"/>\r\n       <path d=\"M 54.890625 33.015625 \r\nL 54.890625 0 \r\nL 45.90625 0 \r\nL 45.90625 32.71875 \r\nQ 45.90625 40.484375 42.875 44.328125 \r\nQ 39.84375 48.1875 33.796875 48.1875 \r\nQ 26.515625 48.1875 22.3125 43.546875 \r\nQ 18.109375 38.921875 18.109375 30.90625 \r\nL 18.109375 0 \r\nL 9.078125 0 \r\nL 9.078125 54.6875 \r\nL 18.109375 54.6875 \r\nL 18.109375 46.1875 \r\nQ 21.34375 51.125 25.703125 53.5625 \r\nQ 30.078125 56 35.796875 56 \r\nQ 45.21875 56 50.046875 50.171875 \r\nQ 54.890625 44.34375 54.890625 33.015625 \r\nz\r\n\" id=\"DejaVuSans-110\"/>\r\n       <path d=\"M 44.28125 53.078125 \r\nL 44.28125 44.578125 \r\nQ 40.484375 46.53125 36.375 47.5 \r\nQ 32.28125 48.484375 27.875 48.484375 \r\nQ 21.1875 48.484375 17.84375 46.4375 \r\nQ 14.5 44.390625 14.5 40.28125 \r\nQ 14.5 37.15625 16.890625 35.375 \r\nQ 19.28125 33.59375 26.515625 31.984375 \r\nL 29.59375 31.296875 \r\nQ 39.15625 29.25 43.1875 25.515625 \r\nQ 47.21875 21.78125 47.21875 15.09375 \r\nQ 47.21875 7.46875 41.1875 3.015625 \r\nQ 35.15625 -1.421875 24.609375 -1.421875 \r\nQ 20.21875 -1.421875 15.453125 -0.5625 \r\nQ 10.6875 0.296875 5.421875 2 \r\nL 5.421875 11.28125 \r\nQ 10.40625 8.6875 15.234375 7.390625 \r\nQ 20.0625 6.109375 24.8125 6.109375 \r\nQ 31.15625 6.109375 34.5625 8.28125 \r\nQ 37.984375 10.453125 37.984375 14.40625 \r\nQ 37.984375 18.0625 35.515625 20.015625 \r\nQ 33.0625 21.96875 24.703125 23.78125 \r\nL 21.578125 24.515625 \r\nQ 13.234375 26.265625 9.515625 29.90625 \r\nQ 5.8125 33.546875 5.8125 39.890625 \r\nQ 5.8125 47.609375 11.28125 51.796875 \r\nQ 16.75 56 26.8125 56 \r\nQ 31.78125 56 36.171875 55.265625 \r\nQ 40.578125 54.546875 44.28125 53.078125 \r\nz\r\n\" id=\"DejaVuSans-115\"/>\r\n      </defs>\r\n      <use xlink:href=\"#DejaVuSans-116\"/>\r\n      <use x=\"39.208984\" xlink:href=\"#DejaVuSans-97\"/>\r\n      <use x=\"100.488281\" xlink:href=\"#DejaVuSans-114\"/>\r\n      <use x=\"139.851562\" xlink:href=\"#DejaVuSans-103\"/>\r\n      <use x=\"203.328125\" xlink:href=\"#DejaVuSans-101\"/>\r\n      <use x=\"264.851562\" xlink:href=\"#DejaVuSans-116\"/>\r\n      <use x=\"304.060547\" xlink:href=\"#DejaVuSans-95\"/>\r\n      <use x=\"354.060547\" xlink:href=\"#DejaVuSans-99\"/>\r\n      <use x=\"409.041016\" xlink:href=\"#DejaVuSans-111\"/>\r\n      <use x=\"470.222656\" xlink:href=\"#DejaVuSans-117\"/>\r\n      <use x=\"533.601562\" xlink:href=\"#DejaVuSans-110\"/>\r\n      <use x=\"596.980469\" xlink:href=\"#DejaVuSans-116\"/>\r\n      <use x=\"636.189453\" xlink:href=\"#DejaVuSans-115\"/>\r\n     </g>\r\n    </g>\r\n   </g>\r\n   <g id=\"matplotlib.axis_2\">\r\n    <g id=\"ytick_1\">\r\n     <g id=\"line2d_6\">\r\n      <defs>\r\n       <path d=\"M 0 0 \r\nL -3.5 0 \r\n\" id=\"m36c1767095\" style=\"stroke:#000000;stroke-width:0.8;\"/>\r\n      </defs>\r\n      <g>\r\n       <use style=\"stroke:#000000;stroke-width:0.8;\" x=\"50.14375\" xlink:href=\"#m36c1767095\" y=\"232.007932\"/>\r\n      </g>\r\n     </g>\r\n     <g id=\"text_7\">\r\n      <!-- 0.00 -->\r\n      <g transform=\"translate(20.878125 235.807151)scale(0.1 -0.1)\">\r\n       <defs>\r\n        <path d=\"M 10.6875 12.40625 \r\nL 21 12.40625 \r\nL 21 0 \r\nL 10.6875 0 \r\nz\r\n\" id=\"DejaVuSans-46\"/>\r\n       </defs>\r\n       <use xlink:href=\"#DejaVuSans-48\"/>\r\n       <use x=\"63.623047\" xlink:href=\"#DejaVuSans-46\"/>\r\n       <use x=\"95.410156\" xlink:href=\"#DejaVuSans-48\"/>\r\n       <use x=\"159.033203\" xlink:href=\"#DejaVuSans-48\"/>\r\n      </g>\r\n     </g>\r\n    </g>\r\n    <g id=\"ytick_2\">\r\n     <g id=\"line2d_7\">\r\n      <g>\r\n       <use style=\"stroke:#000000;stroke-width:0.8;\" x=\"50.14375\" xlink:href=\"#m36c1767095\" y=\"202.588348\"/>\r\n      </g>\r\n     </g>\r\n     <g id=\"text_8\">\r\n      <!-- 0.02 -->\r\n      <g transform=\"translate(20.878125 206.387567)scale(0.1 -0.1)\">\r\n       <use xlink:href=\"#DejaVuSans-48\"/>\r\n       <use x=\"63.623047\" xlink:href=\"#DejaVuSans-46\"/>\r\n       <use x=\"95.410156\" xlink:href=\"#DejaVuSans-48\"/>\r\n       <use x=\"159.033203\" xlink:href=\"#DejaVuSans-50\"/>\r\n      </g>\r\n     </g>\r\n    </g>\r\n    <g id=\"ytick_3\">\r\n     <g id=\"line2d_8\">\r\n      <g>\r\n       <use style=\"stroke:#000000;stroke-width:0.8;\" x=\"50.14375\" xlink:href=\"#m36c1767095\" y=\"173.168764\"/>\r\n      </g>\r\n     </g>\r\n     <g id=\"text_9\">\r\n      <!-- 0.04 -->\r\n      <g transform=\"translate(20.878125 176.967983)scale(0.1 -0.1)\">\r\n       <use xlink:href=\"#DejaVuSans-48\"/>\r\n       <use x=\"63.623047\" xlink:href=\"#DejaVuSans-46\"/>\r\n       <use x=\"95.410156\" xlink:href=\"#DejaVuSans-48\"/>\r\n       <use x=\"159.033203\" xlink:href=\"#DejaVuSans-52\"/>\r\n      </g>\r\n     </g>\r\n    </g>\r\n    <g id=\"ytick_4\">\r\n     <g id=\"line2d_9\">\r\n      <g>\r\n       <use style=\"stroke:#000000;stroke-width:0.8;\" x=\"50.14375\" xlink:href=\"#m36c1767095\" y=\"143.749181\"/>\r\n      </g>\r\n     </g>\r\n     <g id=\"text_10\">\r\n      <!-- 0.06 -->\r\n      <g transform=\"translate(20.878125 147.548399)scale(0.1 -0.1)\">\r\n       <use xlink:href=\"#DejaVuSans-48\"/>\r\n       <use x=\"63.623047\" xlink:href=\"#DejaVuSans-46\"/>\r\n       <use x=\"95.410156\" xlink:href=\"#DejaVuSans-48\"/>\r\n       <use x=\"159.033203\" xlink:href=\"#DejaVuSans-54\"/>\r\n      </g>\r\n     </g>\r\n    </g>\r\n    <g id=\"ytick_5\">\r\n     <g id=\"line2d_10\">\r\n      <g>\r\n       <use style=\"stroke:#000000;stroke-width:0.8;\" x=\"50.14375\" xlink:href=\"#m36c1767095\" y=\"114.329597\"/>\r\n      </g>\r\n     </g>\r\n     <g id=\"text_11\">\r\n      <!-- 0.08 -->\r\n      <g transform=\"translate(20.878125 118.128815)scale(0.1 -0.1)\">\r\n       <use xlink:href=\"#DejaVuSans-48\"/>\r\n       <use x=\"63.623047\" xlink:href=\"#DejaVuSans-46\"/>\r\n       <use x=\"95.410156\" xlink:href=\"#DejaVuSans-48\"/>\r\n       <use x=\"159.033203\" xlink:href=\"#DejaVuSans-56\"/>\r\n      </g>\r\n     </g>\r\n    </g>\r\n    <g id=\"ytick_6\">\r\n     <g id=\"line2d_11\">\r\n      <g>\r\n       <use style=\"stroke:#000000;stroke-width:0.8;\" x=\"50.14375\" xlink:href=\"#m36c1767095\" y=\"84.910013\"/>\r\n      </g>\r\n     </g>\r\n     <g id=\"text_12\">\r\n      <!-- 0.10 -->\r\n      <g transform=\"translate(20.878125 88.709232)scale(0.1 -0.1)\">\r\n       <defs>\r\n        <path d=\"M 12.40625 8.296875 \r\nL 28.515625 8.296875 \r\nL 28.515625 63.921875 \r\nL 10.984375 60.40625 \r\nL 10.984375 69.390625 \r\nL 28.421875 72.90625 \r\nL 38.28125 72.90625 \r\nL 38.28125 8.296875 \r\nL 54.390625 8.296875 \r\nL 54.390625 0 \r\nL 12.40625 0 \r\nz\r\n\" id=\"DejaVuSans-49\"/>\r\n       </defs>\r\n       <use xlink:href=\"#DejaVuSans-48\"/>\r\n       <use x=\"63.623047\" xlink:href=\"#DejaVuSans-46\"/>\r\n       <use x=\"95.410156\" xlink:href=\"#DejaVuSans-49\"/>\r\n       <use x=\"159.033203\" xlink:href=\"#DejaVuSans-48\"/>\r\n      </g>\r\n     </g>\r\n    </g>\r\n    <g id=\"ytick_7\">\r\n     <g id=\"line2d_12\">\r\n      <g>\r\n       <use style=\"stroke:#000000;stroke-width:0.8;\" x=\"50.14375\" xlink:href=\"#m36c1767095\" y=\"55.490429\"/>\r\n      </g>\r\n     </g>\r\n     <g id=\"text_13\">\r\n      <!-- 0.12 -->\r\n      <g transform=\"translate(20.878125 59.289648)scale(0.1 -0.1)\">\r\n       <use xlink:href=\"#DejaVuSans-48\"/>\r\n       <use x=\"63.623047\" xlink:href=\"#DejaVuSans-46\"/>\r\n       <use x=\"95.410156\" xlink:href=\"#DejaVuSans-49\"/>\r\n       <use x=\"159.033203\" xlink:href=\"#DejaVuSans-50\"/>\r\n      </g>\r\n     </g>\r\n    </g>\r\n    <g id=\"ytick_8\">\r\n     <g id=\"line2d_13\">\r\n      <g>\r\n       <use style=\"stroke:#000000;stroke-width:0.8;\" x=\"50.14375\" xlink:href=\"#m36c1767095\" y=\"26.070845\"/>\r\n      </g>\r\n     </g>\r\n     <g id=\"text_14\">\r\n      <!-- 0.14 -->\r\n      <g transform=\"translate(20.878125 29.870064)scale(0.1 -0.1)\">\r\n       <use xlink:href=\"#DejaVuSans-48\"/>\r\n       <use x=\"63.623047\" xlink:href=\"#DejaVuSans-46\"/>\r\n       <use x=\"95.410156\" xlink:href=\"#DejaVuSans-49\"/>\r\n       <use x=\"159.033203\" xlink:href=\"#DejaVuSans-52\"/>\r\n      </g>\r\n     </g>\r\n    </g>\r\n    <g id=\"text_15\">\r\n     <!-- log loss values -->\r\n     <g transform=\"translate(14.798438 167.759219)rotate(-90)scale(0.1 -0.1)\">\r\n      <defs>\r\n       <path d=\"M 9.421875 75.984375 \r\nL 18.40625 75.984375 \r\nL 18.40625 0 \r\nL 9.421875 0 \r\nz\r\n\" id=\"DejaVuSans-108\"/>\r\n       <path id=\"DejaVuSans-32\"/>\r\n       <path d=\"M 2.984375 54.6875 \r\nL 12.5 54.6875 \r\nL 29.59375 8.796875 \r\nL 46.6875 54.6875 \r\nL 56.203125 54.6875 \r\nL 35.6875 0 \r\nL 23.484375 0 \r\nz\r\n\" id=\"DejaVuSans-118\"/>\r\n      </defs>\r\n      <use xlink:href=\"#DejaVuSans-108\"/>\r\n      <use x=\"27.783203\" xlink:href=\"#DejaVuSans-111\"/>\r\n      <use x=\"88.964844\" xlink:href=\"#DejaVuSans-103\"/>\r\n      <use x=\"152.441406\" xlink:href=\"#DejaVuSans-32\"/>\r\n      <use x=\"184.228516\" xlink:href=\"#DejaVuSans-108\"/>\r\n      <use x=\"212.011719\" xlink:href=\"#DejaVuSans-111\"/>\r\n      <use x=\"273.193359\" xlink:href=\"#DejaVuSans-115\"/>\r\n      <use x=\"325.292969\" xlink:href=\"#DejaVuSans-115\"/>\r\n      <use x=\"377.392578\" xlink:href=\"#DejaVuSans-32\"/>\r\n      <use x=\"409.179688\" xlink:href=\"#DejaVuSans-118\"/>\r\n      <use x=\"468.359375\" xlink:href=\"#DejaVuSans-97\"/>\r\n      <use x=\"529.638672\" xlink:href=\"#DejaVuSans-108\"/>\r\n      <use x=\"557.421875\" xlink:href=\"#DejaVuSans-117\"/>\r\n      <use x=\"620.800781\" xlink:href=\"#DejaVuSans-101\"/>\r\n      <use x=\"682.324219\" xlink:href=\"#DejaVuSans-115\"/>\r\n     </g>\r\n    </g>\r\n   </g>\r\n   <g id=\"patch_3\">\r\n    <path d=\"M 50.14375 239.758125 \r\nL 50.14375 22.318125 \r\n\" style=\"fill:none;stroke:#000000;stroke-linecap:square;stroke-linejoin:miter;stroke-width:0.8;\"/>\r\n   </g>\r\n   <g id=\"patch_4\">\r\n    <path d=\"M 384.94375 239.758125 \r\nL 384.94375 22.318125 \r\n\" style=\"fill:none;stroke:#000000;stroke-linecap:square;stroke-linejoin:miter;stroke-width:0.8;\"/>\r\n   </g>\r\n   <g id=\"patch_5\">\r\n    <path d=\"M 50.14375 239.758125 \r\nL 384.94375 239.758125 \r\n\" style=\"fill:none;stroke:#000000;stroke-linecap:square;stroke-linejoin:miter;stroke-width:0.8;\"/>\r\n   </g>\r\n   <g id=\"patch_6\">\r\n    <path d=\"M 50.14375 22.318125 \r\nL 384.94375 22.318125 \r\n\" style=\"fill:none;stroke:#000000;stroke-linecap:square;stroke-linejoin:miter;stroke-width:0.8;\"/>\r\n   </g>\r\n   <g id=\"text_16\">\r\n    <!-- SKLearn Logistic Regression -->\r\n    <g transform=\"translate(133.570938 16.318125)scale(0.12 -0.12)\">\r\n     <defs>\r\n      <path d=\"M 53.515625 70.515625 \r\nL 53.515625 60.890625 \r\nQ 47.90625 63.578125 42.921875 64.890625 \r\nQ 37.9375 66.21875 33.296875 66.21875 \r\nQ 25.25 66.21875 20.875 63.09375 \r\nQ 16.5 59.96875 16.5 54.203125 \r\nQ 16.5 49.359375 19.40625 46.890625 \r\nQ 22.3125 44.4375 30.421875 42.921875 \r\nL 36.375 41.703125 \r\nQ 47.40625 39.59375 52.65625 34.296875 \r\nQ 57.90625 29 57.90625 20.125 \r\nQ 57.90625 9.515625 50.796875 4.046875 \r\nQ 43.703125 -1.421875 29.984375 -1.421875 \r\nQ 24.8125 -1.421875 18.96875 -0.25 \r\nQ 13.140625 0.921875 6.890625 3.21875 \r\nL 6.890625 13.375 \r\nQ 12.890625 10.015625 18.65625 8.296875 \r\nQ 24.421875 6.59375 29.984375 6.59375 \r\nQ 38.421875 6.59375 43.015625 9.90625 \r\nQ 47.609375 13.234375 47.609375 19.390625 \r\nQ 47.609375 24.75 44.3125 27.78125 \r\nQ 41.015625 30.8125 33.5 32.328125 \r\nL 27.484375 33.5 \r\nQ 16.453125 35.6875 11.515625 40.375 \r\nQ 6.59375 45.0625 6.59375 53.421875 \r\nQ 6.59375 63.09375 13.40625 68.65625 \r\nQ 20.21875 74.21875 32.171875 74.21875 \r\nQ 37.3125 74.21875 42.625 73.28125 \r\nQ 47.953125 72.359375 53.515625 70.515625 \r\nz\r\n\" id=\"DejaVuSans-83\"/>\r\n      <path d=\"M 9.8125 72.90625 \r\nL 19.671875 72.90625 \r\nL 19.671875 42.09375 \r\nL 52.390625 72.90625 \r\nL 65.09375 72.90625 \r\nL 28.90625 38.921875 \r\nL 67.671875 0 \r\nL 54.6875 0 \r\nL 19.671875 35.109375 \r\nL 19.671875 0 \r\nL 9.8125 0 \r\nz\r\n\" id=\"DejaVuSans-75\"/>\r\n      <path d=\"M 9.8125 72.90625 \r\nL 19.671875 72.90625 \r\nL 19.671875 8.296875 \r\nL 55.171875 8.296875 \r\nL 55.171875 0 \r\nL 9.8125 0 \r\nz\r\n\" id=\"DejaVuSans-76\"/>\r\n      <path d=\"M 9.421875 54.6875 \r\nL 18.40625 54.6875 \r\nL 18.40625 0 \r\nL 9.421875 0 \r\nz\r\nM 9.421875 75.984375 \r\nL 18.40625 75.984375 \r\nL 18.40625 64.59375 \r\nL 9.421875 64.59375 \r\nz\r\n\" id=\"DejaVuSans-105\"/>\r\n      <path d=\"M 44.390625 34.1875 \r\nQ 47.5625 33.109375 50.5625 29.59375 \r\nQ 53.5625 26.078125 56.59375 19.921875 \r\nL 66.609375 0 \r\nL 56 0 \r\nL 46.6875 18.703125 \r\nQ 43.0625 26.03125 39.671875 28.421875 \r\nQ 36.28125 30.8125 30.421875 30.8125 \r\nL 19.671875 30.8125 \r\nL 19.671875 0 \r\nL 9.8125 0 \r\nL 9.8125 72.90625 \r\nL 32.078125 72.90625 \r\nQ 44.578125 72.90625 50.734375 67.671875 \r\nQ 56.890625 62.453125 56.890625 51.90625 \r\nQ 56.890625 45.015625 53.6875 40.46875 \r\nQ 50.484375 35.9375 44.390625 34.1875 \r\nz\r\nM 19.671875 64.796875 \r\nL 19.671875 38.921875 \r\nL 32.078125 38.921875 \r\nQ 39.203125 38.921875 42.84375 42.21875 \r\nQ 46.484375 45.515625 46.484375 51.90625 \r\nQ 46.484375 58.296875 42.84375 61.546875 \r\nQ 39.203125 64.796875 32.078125 64.796875 \r\nz\r\n\" id=\"DejaVuSans-82\"/>\r\n     </defs>\r\n     <use xlink:href=\"#DejaVuSans-83\"/>\r\n     <use x=\"63.476562\" xlink:href=\"#DejaVuSans-75\"/>\r\n     <use x=\"129.052734\" xlink:href=\"#DejaVuSans-76\"/>\r\n     <use x=\"183.015625\" xlink:href=\"#DejaVuSans-101\"/>\r\n     <use x=\"244.539062\" xlink:href=\"#DejaVuSans-97\"/>\r\n     <use x=\"305.818359\" xlink:href=\"#DejaVuSans-114\"/>\r\n     <use x=\"345.181641\" xlink:href=\"#DejaVuSans-110\"/>\r\n     <use x=\"408.560547\" xlink:href=\"#DejaVuSans-32\"/>\r\n     <use x=\"440.347656\" xlink:href=\"#DejaVuSans-76\"/>\r\n     <use x=\"494.310547\" xlink:href=\"#DejaVuSans-111\"/>\r\n     <use x=\"555.492188\" xlink:href=\"#DejaVuSans-103\"/>\r\n     <use x=\"618.96875\" xlink:href=\"#DejaVuSans-105\"/>\r\n     <use x=\"646.751953\" xlink:href=\"#DejaVuSans-115\"/>\r\n     <use x=\"698.851562\" xlink:href=\"#DejaVuSans-116\"/>\r\n     <use x=\"738.060547\" xlink:href=\"#DejaVuSans-105\"/>\r\n     <use x=\"765.84375\" xlink:href=\"#DejaVuSans-99\"/>\r\n     <use x=\"820.824219\" xlink:href=\"#DejaVuSans-32\"/>\r\n     <use x=\"852.611328\" xlink:href=\"#DejaVuSans-82\"/>\r\n     <use x=\"917.59375\" xlink:href=\"#DejaVuSans-101\"/>\r\n     <use x=\"979.117188\" xlink:href=\"#DejaVuSans-103\"/>\r\n     <use x=\"1042.59375\" xlink:href=\"#DejaVuSans-114\"/>\r\n     <use x=\"1081.457031\" xlink:href=\"#DejaVuSans-101\"/>\r\n     <use x=\"1142.980469\" xlink:href=\"#DejaVuSans-115\"/>\r\n     <use x=\"1195.080078\" xlink:href=\"#DejaVuSans-115\"/>\r\n     <use x=\"1247.179688\" xlink:href=\"#DejaVuSans-105\"/>\r\n     <use x=\"1274.962891\" xlink:href=\"#DejaVuSans-111\"/>\r\n     <use x=\"1336.144531\" xlink:href=\"#DejaVuSans-110\"/>\r\n    </g>\r\n   </g>\r\n  </g>\r\n </g>\r\n <defs>\r\n  <clipPath id=\"p7884289d96\">\r\n   <rect height=\"217.44\" width=\"334.8\" x=\"50.14375\" y=\"22.318125\"/>\r\n  </clipPath>\r\n </defs>\r\n</svg>\r\n",
      "image/png": "[encoded data removed]"
     },
     "metadata": {
      "needs_background": "light"
     }
    }
   ],
   "source": [
    "#model = SVR(kernel='poly', gamma='auto', C=200, cache_size=14000) #had estimated finish time of 12 hrs\n",
    "#model = SVR(kernel='rbf', gamma='scale', C=10, epsilon=0.1)# slooowwwww\n",
    "#model = NuSVR(C=1, nu=0.1) # The default kernel is RBF\n",
    "#model = LogisticRegression(C = 128, max_iter = 100000) #128 is the ideal value for cuml using standard scaler\n",
    "#model = LogisticRegression(C = 128, solver = 'lbfgs', warm_start=True, n_jobs=-1 max_iter = 10000)\n",
    "try:\n",
    "    res_lr = pd.from_pickle('pickles/res_lr.p')\n",
    "    ss_lr = pd.from_pickle('pickles/ss_lr.p')\n",
    "except:\n",
    "    from sklearn.linear_model import LogisticRegression\n",
    "    for i in [256]: # left for further hyperparameter tuning\n",
    "        model = LogisticRegression(C = i, solver = 'saga', warm_start=True, n_jobs=-1, max_iter = 100000)\n",
    "        target_counts = []\n",
    "        logistic_regr_loss_vals = []\n",
    "        ss_lr.loc[:, train_targets.columns] = 0\n",
    "        res_lr.loc[:, train_targets.columns] = 0\n",
    "        res_lr, ss_lr, logistic_regr_loss_vals = run_score(train_targets, X, x_test, res_lr, ss_lr, logistic_regr_loss_vals)\n",
    "    plt.scatter(target_counts,logistic_regr_loss_vals)\n",
    "    plt.xlabel('target_counts')\n",
    "    plt.ylabel('log loss values')\n",
    "    plt.title('SKLearn Logistic Regression')\n",
    "    plt.show()\n",
    "    res_lr.to_pickle('pickles/res_lr.p')\n",
    "    ss_lr.to_pickle('pickles/ss_lr.p')"
   ]
  },
  {
   "cell_type": "code",
   "execution_count": 10,
   "metadata": {
    "executionInfo": {
     "elapsed": 2717,
     "status": "ok",
     "timestamp": 1603378666806,
     "user": {
      "displayName": "ryan lewis",
      "photoUrl": "",
      "userId": "09680394787948119906"
     },
     "user_tz": 420
    },
    "id": "oTO2xR4ViYKX",
    "tags": []
   },
   "outputs": [
    {
     "output_type": "display_data",
     "data": {
      "text/plain": "HBox(children=(FloatProgress(value=0.0, max=206.0), HTML(value='')))",
      "application/vnd.jupyter.widget-view+json": {
       "version_major": 2,
       "version_minor": 0,
       "model_id": "6f8640820aac4c75bc38b6e451f7d072"
      }
     },
     "metadata": {}
    },
    {
     "output_type": "stream",
     "name": "stdout",
     "text": [
      "\n",
      "Log Loss: 0.02057811196127215\n",
      "After manually eliminating control groups: 0.020319038635256567\n",
      "\n",
      "\n"
     ]
    },
    {
     "output_type": "display_data",
     "data": {
      "text/plain": "<Figure size 432x288 with 1 Axes>",
      "image/svg+xml": "<?xml version=\"1.0\" encoding=\"utf-8\" standalone=\"no\"?>\r\n<!DOCTYPE svg PUBLIC \"-//W3C//DTD SVG 1.1//EN\"\r\n  \"http://www.w3.org/Graphics/SVG/1.1/DTD/svg11.dtd\">\r\n<!-- Created with matplotlib (https://matplotlib.org/) -->\r\n<svg height=\"277.314375pt\" version=\"1.1\" viewBox=\"0 0 392.14375 277.314375\" width=\"392.14375pt\" xmlns=\"http://www.w3.org/2000/svg\" xmlns:xlink=\"http://www.w3.org/1999/xlink\">\r\n <metadata>\r\n  <rdf:RDF xmlns:cc=\"http://creativecommons.org/ns#\" xmlns:dc=\"http://purl.org/dc/elements/1.1/\" xmlns:rdf=\"http://www.w3.org/1999/02/22-rdf-syntax-ns#\">\r\n   <cc:Work>\r\n    <dc:type rdf:resource=\"http://purl.org/dc/dcmitype/StillImage\"/>\r\n    <dc:date>2020-10-26T18:44:23.090429</dc:date>\r\n    <dc:format>image/svg+xml</dc:format>\r\n    <dc:creator>\r\n     <cc:Agent>\r\n      <dc:title>Matplotlib v3.3.1, https://matplotlib.org/</dc:title>\r\n     </cc:Agent>\r\n    </dc:creator>\r\n   </cc:Work>\r\n  </rdf:RDF>\r\n </metadata>\r\n <defs>\r\n  <style type=\"text/css\">*{stroke-linecap:butt;stroke-linejoin:round;}</style>\r\n </defs>\r\n <g id=\"figure_1\">\r\n  <g id=\"patch_1\">\r\n   <path d=\"M 0 277.314375 \r\nL 392.14375 277.314375 \r\nL 392.14375 0 \r\nL 0 0 \r\nz\r\n\" style=\"fill:none;\"/>\r\n  </g>\r\n  <g id=\"axes_1\">\r\n   <g id=\"patch_2\">\r\n    <path d=\"M 50.14375 239.758125 \r\nL 384.94375 239.758125 \r\nL 384.94375 22.318125 \r\nL 50.14375 22.318125 \r\nz\r\n\" style=\"fill:#ffffff;\"/>\r\n   </g>\r\n   <g id=\"PathCollection_1\">\r\n    <defs>\r\n     <path d=\"M 0 3 \r\nC 0.795609 3 1.55874 2.683901 2.12132 2.12132 \r\nC 2.683901 1.55874 3 0.795609 3 0 \r\nC 3 -0.795609 2.683901 -1.55874 2.12132 -2.12132 \r\nC 1.55874 -2.683901 0.795609 -3 0 -3 \r\nC -0.795609 -3 -1.55874 -2.683901 -2.12132 -2.12132 \r\nC -2.683901 -1.55874 -3 -0.795609 -3 0 \r\nC -3 0.795609 -2.683901 1.55874 -2.12132 2.12132 \r\nC -1.55874 2.683901 -0.795609 3 0 3 \r\nz\r\n\" id=\"m3130474077\" style=\"stroke:#1f77b4;\"/>\r\n    </defs>\r\n    <g clip-path=\"url(#p4975427ba5)\">\r\n     <use style=\"fill:#1f77b4;stroke:#1f77b4;\" x=\"71.222122\" xlink:href=\"#m3130474077\" y=\"223.205822\"/>\r\n     <use style=\"fill:#1f77b4;stroke:#1f77b4;\" x=\"71.588384\" xlink:href=\"#m3130474077\" y=\"222.590109\"/>\r\n     <use style=\"fill:#1f77b4;stroke:#1f77b4;\" x=\"73.785955\" xlink:href=\"#m3130474077\" y=\"219.613483\"/>\r\n     <use style=\"fill:#1f77b4;stroke:#1f77b4;\" x=\"134.58543\" xlink:href=\"#m3130474077\" y=\"161.25534\"/>\r\n     <use style=\"fill:#1f77b4;stroke:#1f77b4;\" x=\"175.240501\" xlink:href=\"#m3130474077\" y=\"128.901879\"/>\r\n     <use style=\"fill:#1f77b4;stroke:#1f77b4;\" x=\"91.732788\" xlink:href=\"#m3130474077\" y=\"199.920138\"/>\r\n     <use style=\"fill:#1f77b4;stroke:#1f77b4;\" x=\"84.773812\" xlink:href=\"#m3130474077\" y=\"207.148115\"/>\r\n     <use style=\"fill:#1f77b4;stroke:#1f77b4;\" x=\"100.156812\" xlink:href=\"#m3130474077\" y=\"191.659723\"/>\r\n     <use style=\"fill:#1f77b4;stroke:#1f77b4;\" x=\"69.390813\" xlink:href=\"#m3130474077\" y=\"224.607665\"/>\r\n     <use style=\"fill:#1f77b4;stroke:#1f77b4;\" x=\"163.886382\" xlink:href=\"#m3130474077\" y=\"137.944614\"/>\r\n     <use style=\"fill:#1f77b4;stroke:#1f77b4;\" x=\"196.849953\" xlink:href=\"#m3130474077\" y=\"114.185043\"/>\r\n     <use style=\"fill:#1f77b4;stroke:#1f77b4;\" x=\"89.168955\" xlink:href=\"#m3130474077\" y=\"203.355901\"/>\r\n     <use style=\"fill:#1f77b4;stroke:#1f77b4;\" x=\"67.559503\" xlink:href=\"#m3130474077\" y=\"226.157401\"/>\r\n     <use style=\"fill:#1f77b4;stroke:#1f77b4;\" x=\"80.37867\" xlink:href=\"#m3130474077\" y=\"211.902702\"/>\r\n     <use style=\"fill:#1f77b4;stroke:#1f77b4;\" x=\"69.390813\" xlink:href=\"#m3130474077\" y=\"224.957799\"/>\r\n     <use style=\"fill:#1f77b4;stroke:#1f77b4;\" x=\"69.390813\" xlink:href=\"#m3130474077\" y=\"224.866142\"/>\r\n     <use style=\"fill:#1f77b4;stroke:#1f77b4;\" x=\"82.576241\" xlink:href=\"#m3130474077\" y=\"209.454482\"/>\r\n     <use style=\"fill:#1f77b4;stroke:#1f77b4;\" x=\"97.592979\" xlink:href=\"#m3130474077\" y=\"194.37246\"/>\r\n     <use style=\"fill:#1f77b4;stroke:#1f77b4;\" x=\"94.296622\" xlink:href=\"#m3130474077\" y=\"197.329602\"/>\r\n     <use style=\"fill:#1f77b4;stroke:#1f77b4;\" x=\"78.181098\" xlink:href=\"#m3130474077\" y=\"214.452481\"/>\r\n     <use style=\"fill:#1f77b4;stroke:#1f77b4;\" x=\"78.54736\" xlink:href=\"#m3130474077\" y=\"213.693374\"/>\r\n     <use style=\"fill:#1f77b4;stroke:#1f77b4;\" x=\"91.732788\" xlink:href=\"#m3130474077\" y=\"200.084706\"/>\r\n     <use style=\"fill:#1f77b4;stroke:#1f77b4;\" x=\"67.193241\" xlink:href=\"#m3130474077\" y=\"227.518025\"/>\r\n     <use style=\"fill:#1f77b4;stroke:#1f77b4;\" x=\"80.744931\" xlink:href=\"#m3130474077\" y=\"211.595969\"/>\r\n     <use style=\"fill:#1f77b4;stroke:#1f77b4;\" x=\"69.390813\" xlink:href=\"#m3130474077\" y=\"224.646505\"/>\r\n     <use style=\"fill:#1f77b4;stroke:#1f77b4;\" x=\"69.757075\" xlink:href=\"#m3130474077\" y=\"223.183566\"/>\r\n     <use style=\"fill:#1f77b4;stroke:#1f77b4;\" x=\"69.390813\" xlink:href=\"#m3130474077\" y=\"224.974703\"/>\r\n     <use style=\"fill:#1f77b4;stroke:#1f77b4;\" x=\"71.588384\" xlink:href=\"#m3130474077\" y=\"222.249437\"/>\r\n     <use style=\"fill:#1f77b4;stroke:#1f77b4;\" x=\"91.732788\" xlink:href=\"#m3130474077\" y=\"200.004303\"/>\r\n     <use style=\"fill:#1f77b4;stroke:#1f77b4;\" x=\"78.181098\" xlink:href=\"#m3130474077\" y=\"214.408911\"/>\r\n     <use style=\"fill:#1f77b4;stroke:#1f77b4;\" x=\"73.419694\" xlink:href=\"#m3130474077\" y=\"219.913691\"/>\r\n     <use style=\"fill:#1f77b4;stroke:#1f77b4;\" x=\"82.942503\" xlink:href=\"#m3130474077\" y=\"208.813243\"/>\r\n     <use style=\"fill:#1f77b4;stroke:#1f77b4;\" x=\"82.209979\" xlink:href=\"#m3130474077\" y=\"209.888085\"/>\r\n     <use style=\"fill:#1f77b4;stroke:#1f77b4;\" x=\"67.193241\" xlink:href=\"#m3130474077\" y=\"224.88832\"/>\r\n     <use style=\"fill:#1f77b4;stroke:#1f77b4;\" x=\"65.361932\" xlink:href=\"#m3130474077\" y=\"229.874489\"/>\r\n     <use style=\"fill:#1f77b4;stroke:#1f77b4;\" x=\"69.390813\" xlink:href=\"#m3130474077\" y=\"223.790116\"/>\r\n     <use style=\"fill:#1f77b4;stroke:#1f77b4;\" x=\"100.523074\" xlink:href=\"#m3130474077\" y=\"192.861944\"/>\r\n     <use style=\"fill:#1f77b4;stroke:#1f77b4;\" x=\"71.954646\" xlink:href=\"#m3130474077\" y=\"221.343771\"/>\r\n     <use style=\"fill:#1f77b4;stroke:#1f77b4;\" x=\"100.156812\" xlink:href=\"#m3130474077\" y=\"194.48263\"/>\r\n     <use style=\"fill:#1f77b4;stroke:#1f77b4;\" x=\"67.193241\" xlink:href=\"#m3130474077\" y=\"226.781681\"/>\r\n     <use style=\"fill:#1f77b4;stroke:#1f77b4;\" x=\"86.971384\" xlink:href=\"#m3130474077\" y=\"205.090773\"/>\r\n     <use style=\"fill:#1f77b4;stroke:#1f77b4;\" x=\"94.296622\" xlink:href=\"#m3130474077\" y=\"197.410089\"/>\r\n     <use style=\"fill:#1f77b4;stroke:#1f77b4;\" x=\"78.181098\" xlink:href=\"#m3130474077\" y=\"214.104874\"/>\r\n     <use style=\"fill:#1f77b4;stroke:#1f77b4;\" x=\"135.317954\" xlink:href=\"#m3130474077\" y=\"161.036145\"/>\r\n     <use style=\"fill:#1f77b4;stroke:#1f77b4;\" x=\"97.592979\" xlink:href=\"#m3130474077\" y=\"194.175814\"/>\r\n     <use style=\"fill:#1f77b4;stroke:#1f77b4;\" x=\"107.115788\" xlink:href=\"#m3130474077\" y=\"185.140196\"/>\r\n     <use style=\"fill:#1f77b4;stroke:#1f77b4;\" x=\"67.559503\" xlink:href=\"#m3130474077\" y=\"226.001008\"/>\r\n     <use style=\"fill:#1f77b4;stroke:#1f77b4;\" x=\"76.349789\" xlink:href=\"#m3130474077\" y=\"216.515022\"/>\r\n     <use style=\"fill:#1f77b4;stroke:#1f77b4;\" x=\"78.913622\" xlink:href=\"#m3130474077\" y=\"213.955175\"/>\r\n     <use style=\"fill:#1f77b4;stroke:#1f77b4;\" x=\"89.535217\" xlink:href=\"#m3130474077\" y=\"202.424354\"/>\r\n     <use style=\"fill:#1f77b4;stroke:#1f77b4;\" x=\"73.785955\" xlink:href=\"#m3130474077\" y=\"219.469524\"/>\r\n     <use style=\"fill:#1f77b4;stroke:#1f77b4;\" x=\"89.901479\" xlink:href=\"#m3130474077\" y=\"202.389158\"/>\r\n     <use style=\"fill:#1f77b4;stroke:#1f77b4;\" x=\"75.617265\" xlink:href=\"#m3130474077\" y=\"217.662532\"/>\r\n     <use style=\"fill:#1f77b4;stroke:#1f77b4;\" x=\"67.193241\" xlink:href=\"#m3130474077\" y=\"225.05295\"/>\r\n     <use style=\"fill:#1f77b4;stroke:#1f77b4;\" x=\"167.915263\" xlink:href=\"#m3130474077\" y=\"134.68976\"/>\r\n     <use style=\"fill:#1f77b4;stroke:#1f77b4;\" x=\"80.37867\" xlink:href=\"#m3130474077\" y=\"212.422404\"/>\r\n     <use style=\"fill:#1f77b4;stroke:#1f77b4;\" x=\"85.140074\" xlink:href=\"#m3130474077\" y=\"206.469978\"/>\r\n     <use style=\"fill:#1f77b4;stroke:#1f77b4;\" x=\"78.181098\" xlink:href=\"#m3130474077\" y=\"214.195041\"/>\r\n     <use style=\"fill:#1f77b4;stroke:#1f77b4;\" x=\"78.181098\" xlink:href=\"#m3130474077\" y=\"214.273991\"/>\r\n     <use style=\"fill:#1f77b4;stroke:#1f77b4;\" x=\"71.588384\" xlink:href=\"#m3130474077\" y=\"222.069124\"/>\r\n     <use style=\"fill:#1f77b4;stroke:#1f77b4;\" x=\"69.390813\" xlink:href=\"#m3130474077\" y=\"223.651608\"/>\r\n     <use style=\"fill:#1f77b4;stroke:#1f77b4;\" x=\"102.354383\" xlink:href=\"#m3130474077\" y=\"189.898182\"/>\r\n     <use style=\"fill:#1f77b4;stroke:#1f77b4;\" x=\"71.588384\" xlink:href=\"#m3130474077\" y=\"222.378265\"/>\r\n     <use style=\"fill:#1f77b4;stroke:#1f77b4;\" x=\"189.524715\" xlink:href=\"#m3130474077\" y=\"121.234499\"/>\r\n     <use style=\"fill:#1f77b4;stroke:#1f77b4;\" x=\"84.773812\" xlink:href=\"#m3130474077\" y=\"207.17537\"/>\r\n     <use style=\"fill:#1f77b4;stroke:#1f77b4;\" x=\"73.785955\" xlink:href=\"#m3130474077\" y=\"219.287726\"/>\r\n     <use style=\"fill:#1f77b4;stroke:#1f77b4;\" x=\"80.37867\" xlink:href=\"#m3130474077\" y=\"212.572528\"/>\r\n     <use style=\"fill:#1f77b4;stroke:#1f77b4;\" x=\"82.576241\" xlink:href=\"#m3130474077\" y=\"209.736635\"/>\r\n     <use style=\"fill:#1f77b4;stroke:#1f77b4;\" x=\"84.773812\" xlink:href=\"#m3130474077\" y=\"207.15481\"/>\r\n     <use style=\"fill:#1f77b4;stroke:#1f77b4;\" x=\"67.193241\" xlink:href=\"#m3130474077\" y=\"224.910947\"/>\r\n     <use style=\"fill:#1f77b4;stroke:#1f77b4;\" x=\"78.181098\" xlink:href=\"#m3130474077\" y=\"214.358284\"/>\r\n     <use style=\"fill:#1f77b4;stroke:#1f77b4;\" x=\"224.319595\" xlink:href=\"#m3130474077\" y=\"93.530017\"/>\r\n     <use style=\"fill:#1f77b4;stroke:#1f77b4;\" x=\"103.086907\" xlink:href=\"#m3130474077\" y=\"188.689184\"/>\r\n     <use style=\"fill:#1f77b4;stroke:#1f77b4;\" x=\"78.181098\" xlink:href=\"#m3130474077\" y=\"214.136667\"/>\r\n     <use style=\"fill:#1f77b4;stroke:#1f77b4;\" x=\"74.152217\" xlink:href=\"#m3130474077\" y=\"217.707852\"/>\r\n     <use style=\"fill:#1f77b4;stroke:#1f77b4;\" x=\"67.193241\" xlink:href=\"#m3130474077\" y=\"225.050692\"/>\r\n     <use style=\"fill:#1f77b4;stroke:#1f77b4;\" x=\"82.576241\" xlink:href=\"#m3130474077\" y=\"209.616096\"/>\r\n     <use style=\"fill:#1f77b4;stroke:#1f77b4;\" x=\"212.232952\" xlink:href=\"#m3130474077\" y=\"101.562856\"/>\r\n     <use style=\"fill:#1f77b4;stroke:#1f77b4;\" x=\"109.313359\" xlink:href=\"#m3130474077\" y=\"183.016968\"/>\r\n     <use style=\"fill:#1f77b4;stroke:#1f77b4;\" x=\"220.290714\" xlink:href=\"#m3130474077\" y=\"95.978555\"/>\r\n     <use style=\"fill:#1f77b4;stroke:#1f77b4;\" x=\"188.059667\" xlink:href=\"#m3130474077\" y=\"119.984369\"/>\r\n     <use style=\"fill:#1f77b4;stroke:#1f77b4;\" x=\"67.193241\" xlink:href=\"#m3130474077\" y=\"225.033521\"/>\r\n     <use style=\"fill:#1f77b4;stroke:#1f77b4;\" x=\"65.361932\" xlink:href=\"#m3130474077\" y=\"229.874489\"/>\r\n     <use style=\"fill:#1f77b4;stroke:#1f77b4;\" x=\"122.86505\" xlink:href=\"#m3130474077\" y=\"171.239963\"/>\r\n     <use style=\"fill:#1f77b4;stroke:#1f77b4;\" x=\"82.576241\" xlink:href=\"#m3130474077\" y=\"209.526847\"/>\r\n     <use style=\"fill:#1f77b4;stroke:#1f77b4;\" x=\"78.181098\" xlink:href=\"#m3130474077\" y=\"214.471139\"/>\r\n     <use style=\"fill:#1f77b4;stroke:#1f77b4;\" x=\"71.588384\" xlink:href=\"#m3130474077\" y=\"222.431974\"/>\r\n     <use style=\"fill:#1f77b4;stroke:#1f77b4;\" x=\"74.152217\" xlink:href=\"#m3130474077\" y=\"218.887958\"/>\r\n     <use style=\"fill:#1f77b4;stroke:#1f77b4;\" x=\"83.308765\" xlink:href=\"#m3130474077\" y=\"208.653809\"/>\r\n     <use style=\"fill:#1f77b4;stroke:#1f77b4;\" x=\"167.182739\" xlink:href=\"#m3130474077\" y=\"134.979751\"/>\r\n     <use style=\"fill:#1f77b4;stroke:#1f77b4;\" x=\"71.588384\" xlink:href=\"#m3130474077\" y=\"222.226602\"/>\r\n     <use style=\"fill:#1f77b4;stroke:#1f77b4;\" x=\"71.588384\" xlink:href=\"#m3130474077\" y=\"222.40523\"/>\r\n     <use style=\"fill:#1f77b4;stroke:#1f77b4;\" x=\"73.419694\" xlink:href=\"#m3130474077\" y=\"220.062383\"/>\r\n     <use style=\"fill:#1f77b4;stroke:#1f77b4;\" x=\"103.819431\" xlink:href=\"#m3130474077\" y=\"188.300892\"/>\r\n     <use style=\"fill:#1f77b4;stroke:#1f77b4;\" x=\"125.428883\" xlink:href=\"#m3130474077\" y=\"168.714534\"/>\r\n     <use style=\"fill:#1f77b4;stroke:#1f77b4;\" x=\"85.506336\" xlink:href=\"#m3130474077\" y=\"206.388137\"/>\r\n     <use style=\"fill:#1f77b4;stroke:#1f77b4;\" x=\"162.421335\" xlink:href=\"#m3130474077\" y=\"139.061591\"/>\r\n     <use style=\"fill:#1f77b4;stroke:#1f77b4;\" x=\"69.757075\" xlink:href=\"#m3130474077\" y=\"224.545959\"/>\r\n     <use style=\"fill:#1f77b4;stroke:#1f77b4;\" x=\"92.09905\" xlink:href=\"#m3130474077\" y=\"199.829263\"/>\r\n     <use style=\"fill:#1f77b4;stroke:#1f77b4;\" x=\"199.413786\" xlink:href=\"#m3130474077\" y=\"112.61438\"/>\r\n     <use style=\"fill:#1f77b4;stroke:#1f77b4;\" x=\"71.588384\" xlink:href=\"#m3130474077\" y=\"222.134808\"/>\r\n     <use style=\"fill:#1f77b4;stroke:#1f77b4;\" x=\"86.971384\" xlink:href=\"#m3130474077\" y=\"204.699993\"/>\r\n     <use style=\"fill:#1f77b4;stroke:#1f77b4;\" x=\"91.366527\" xlink:href=\"#m3130474077\" y=\"200.477239\"/>\r\n     <use style=\"fill:#1f77b4;stroke:#1f77b4;\" x=\"103.819431\" xlink:href=\"#m3130474077\" y=\"189.142093\"/>\r\n     <use style=\"fill:#1f77b4;stroke:#1f77b4;\" x=\"86.605122\" xlink:href=\"#m3130474077\" y=\"205.484814\"/>\r\n     <use style=\"fill:#1f77b4;stroke:#1f77b4;\" x=\"153.264787\" xlink:href=\"#m3130474077\" y=\"146.238938\"/>\r\n     <use style=\"fill:#1f77b4;stroke:#1f77b4;\" x=\"73.785955\" xlink:href=\"#m3130474077\" y=\"219.49516\"/>\r\n     <use style=\"fill:#1f77b4;stroke:#1f77b4;\" x=\"76.716051\" xlink:href=\"#m3130474077\" y=\"215.97947\"/>\r\n     <use style=\"fill:#1f77b4;stroke:#1f77b4;\" x=\"91.366527\" xlink:href=\"#m3130474077\" y=\"200.378635\"/>\r\n     <use style=\"fill:#1f77b4;stroke:#1f77b4;\" x=\"168.647787\" xlink:href=\"#m3130474077\" y=\"135.399076\"/>\r\n     <use style=\"fill:#1f77b4;stroke:#1f77b4;\" x=\"99.058026\" xlink:href=\"#m3130474077\" y=\"195.570092\"/>\r\n     <use style=\"fill:#1f77b4;stroke:#1f77b4;\" x=\"78.54736\" xlink:href=\"#m3130474077\" y=\"214.284872\"/>\r\n     <use style=\"fill:#1f77b4;stroke:#1f77b4;\" x=\"75.983527\" xlink:href=\"#m3130474077\" y=\"216.944387\"/>\r\n     <use style=\"fill:#1f77b4;stroke:#1f77b4;\" x=\"76.349789\" xlink:href=\"#m3130474077\" y=\"216.604415\"/>\r\n     <use style=\"fill:#1f77b4;stroke:#1f77b4;\" x=\"91.732788\" xlink:href=\"#m3130474077\" y=\"200.006935\"/>\r\n     <use style=\"fill:#1f77b4;stroke:#1f77b4;\" x=\"75.983527\" xlink:href=\"#m3130474077\" y=\"216.800562\"/>\r\n     <use style=\"fill:#1f77b4;stroke:#1f77b4;\" x=\"83.675027\" xlink:href=\"#m3130474077\" y=\"208.51235\"/>\r\n     <use style=\"fill:#1f77b4;stroke:#1f77b4;\" x=\"80.37867\" xlink:href=\"#m3130474077\" y=\"211.931429\"/>\r\n     <use style=\"fill:#1f77b4;stroke:#1f77b4;\" x=\"98.691764\" xlink:href=\"#m3130474077\" y=\"193.172692\"/>\r\n     <use style=\"fill:#1f77b4;stroke:#1f77b4;\" x=\"164.985168\" xlink:href=\"#m3130474077\" y=\"136.677903\"/>\r\n     <use style=\"fill:#1f77b4;stroke:#1f77b4;\" x=\"67.193241\" xlink:href=\"#m3130474077\" y=\"226.279161\"/>\r\n     <use style=\"fill:#1f77b4;stroke:#1f77b4;\" x=\"67.193241\" xlink:href=\"#m3130474077\" y=\"227.726073\"/>\r\n     <use style=\"fill:#1f77b4;stroke:#1f77b4;\" x=\"87.703908\" xlink:href=\"#m3130474077\" y=\"204.14314\"/>\r\n     <use style=\"fill:#1f77b4;stroke:#1f77b4;\" x=\"69.390813\" xlink:href=\"#m3130474077\" y=\"224.753525\"/>\r\n     <use style=\"fill:#1f77b4;stroke:#1f77b4;\" x=\"87.337646\" xlink:href=\"#m3130474077\" y=\"205.462915\"/>\r\n     <use style=\"fill:#1f77b4;stroke:#1f77b4;\" x=\"67.193241\" xlink:href=\"#m3130474077\" y=\"225.027682\"/>\r\n     <use style=\"fill:#1f77b4;stroke:#1f77b4;\" x=\"76.349789\" xlink:href=\"#m3130474077\" y=\"216.572766\"/>\r\n     <use style=\"fill:#1f77b4;stroke:#1f77b4;\" x=\"91.366527\" xlink:href=\"#m3130474077\" y=\"201.370803\"/>\r\n     <use style=\"fill:#1f77b4;stroke:#1f77b4;\" x=\"92.09905\" xlink:href=\"#m3130474077\" y=\"199.814856\"/>\r\n     <use style=\"fill:#1f77b4;stroke:#1f77b4;\" x=\"74.152217\" xlink:href=\"#m3130474077\" y=\"218.921806\"/>\r\n     <use style=\"fill:#1f77b4;stroke:#1f77b4;\" x=\"69.390813\" xlink:href=\"#m3130474077\" y=\"224.914002\"/>\r\n     <use style=\"fill:#1f77b4;stroke:#1f77b4;\" x=\"96.127931\" xlink:href=\"#m3130474077\" y=\"195.974133\"/>\r\n     <use style=\"fill:#1f77b4;stroke:#1f77b4;\" x=\"71.588384\" xlink:href=\"#m3130474077\" y=\"222.605205\"/>\r\n     <use style=\"fill:#1f77b4;stroke:#1f77b4;\" x=\"112.609717\" xlink:href=\"#m3130474077\" y=\"188.229962\"/>\r\n     <use style=\"fill:#1f77b4;stroke:#1f77b4;\" x=\"82.576241\" xlink:href=\"#m3130474077\" y=\"209.344816\"/>\r\n     <use style=\"fill:#1f77b4;stroke:#1f77b4;\" x=\"78.54736\" xlink:href=\"#m3130474077\" y=\"213.980841\"/>\r\n     <use style=\"fill:#1f77b4;stroke:#1f77b4;\" x=\"369.725568\" xlink:href=\"#m3130474077\" y=\"93.266295\"/>\r\n     <use style=\"fill:#1f77b4;stroke:#1f77b4;\" x=\"67.193241\" xlink:href=\"#m3130474077\" y=\"227.534204\"/>\r\n     <use style=\"fill:#1f77b4;stroke:#1f77b4;\" x=\"74.518479\" xlink:href=\"#m3130474077\" y=\"218.521046\"/>\r\n     <use style=\"fill:#1f77b4;stroke:#1f77b4;\" x=\"69.390813\" xlink:href=\"#m3130474077\" y=\"224.812144\"/>\r\n     <use style=\"fill:#1f77b4;stroke:#1f77b4;\" x=\"74.518479\" xlink:href=\"#m3130474077\" y=\"218.807032\"/>\r\n     <use style=\"fill:#1f77b4;stroke:#1f77b4;\" x=\"67.559503\" xlink:href=\"#m3130474077\" y=\"225.87969\"/>\r\n     <use style=\"fill:#1f77b4;stroke:#1f77b4;\" x=\"71.588384\" xlink:href=\"#m3130474077\" y=\"223.111333\"/>\r\n     <use style=\"fill:#1f77b4;stroke:#1f77b4;\" x=\"87.337646\" xlink:href=\"#m3130474077\" y=\"204.633632\"/>\r\n     <use style=\"fill:#1f77b4;stroke:#1f77b4;\" x=\"100.156812\" xlink:href=\"#m3130474077\" y=\"191.833705\"/>\r\n     <use style=\"fill:#1f77b4;stroke:#1f77b4;\" x=\"78.54736\" xlink:href=\"#m3130474077\" y=\"213.874271\"/>\r\n     <use style=\"fill:#1f77b4;stroke:#1f77b4;\" x=\"87.703908\" xlink:href=\"#m3130474077\" y=\"203.887231\"/>\r\n     <use style=\"fill:#1f77b4;stroke:#1f77b4;\" x=\"73.785955\" xlink:href=\"#m3130474077\" y=\"219.5173\"/>\r\n     <use style=\"fill:#1f77b4;stroke:#1f77b4;\" x=\"87.337646\" xlink:href=\"#m3130474077\" y=\"204.91431\"/>\r\n     <use style=\"fill:#1f77b4;stroke:#1f77b4;\" x=\"173.775453\" xlink:href=\"#m3130474077\" y=\"129.947901\"/>\r\n     <use style=\"fill:#1f77b4;stroke:#1f77b4;\" x=\"71.588384\" xlink:href=\"#m3130474077\" y=\"222.053257\"/>\r\n     <use style=\"fill:#1f77b4;stroke:#1f77b4;\" x=\"161.688811\" xlink:href=\"#m3130474077\" y=\"139.318029\"/>\r\n     <use style=\"fill:#1f77b4;stroke:#1f77b4;\" x=\"74.152217\" xlink:href=\"#m3130474077\" y=\"219.171915\"/>\r\n     <use style=\"fill:#1f77b4;stroke:#1f77b4;\" x=\"120.301216\" xlink:href=\"#m3130474077\" y=\"175.895408\"/>\r\n     <use style=\"fill:#1f77b4;stroke:#1f77b4;\" x=\"76.349789\" xlink:href=\"#m3130474077\" y=\"216.480447\"/>\r\n     <use style=\"fill:#1f77b4;stroke:#1f77b4;\" x=\"85.140074\" xlink:href=\"#m3130474077\" y=\"207.240552\"/>\r\n     <use style=\"fill:#1f77b4;stroke:#1f77b4;\" x=\"100.889336\" xlink:href=\"#m3130474077\" y=\"191.366794\"/>\r\n     <use style=\"fill:#1f77b4;stroke:#1f77b4;\" x=\"107.115788\" xlink:href=\"#m3130474077\" y=\"184.986458\"/>\r\n     <use style=\"fill:#1f77b4;stroke:#1f77b4;\" x=\"75.983527\" xlink:href=\"#m3130474077\" y=\"216.693487\"/>\r\n     <use style=\"fill:#1f77b4;stroke:#1f77b4;\" x=\"108.580836\" xlink:href=\"#m3130474077\" y=\"184.437569\"/>\r\n     <use style=\"fill:#1f77b4;stroke:#1f77b4;\" x=\"71.588384\" xlink:href=\"#m3130474077\" y=\"222.090273\"/>\r\n     <use style=\"fill:#1f77b4;stroke:#1f77b4;\" x=\"78.181098\" xlink:href=\"#m3130474077\" y=\"214.14025\"/>\r\n     <use style=\"fill:#1f77b4;stroke:#1f77b4;\" x=\"95.761669\" xlink:href=\"#m3130474077\" y=\"196.366765\"/>\r\n     <use style=\"fill:#1f77b4;stroke:#1f77b4;\" x=\"330.901807\" xlink:href=\"#m3130474077\" y=\"32.201761\"/>\r\n     <use style=\"fill:#1f77b4;stroke:#1f77b4;\" x=\"82.576241\" xlink:href=\"#m3130474077\" y=\"209.349984\"/>\r\n     <use style=\"fill:#1f77b4;stroke:#1f77b4;\" x=\"67.193241\" xlink:href=\"#m3130474077\" y=\"224.862027\"/>\r\n     <use style=\"fill:#1f77b4;stroke:#1f77b4;\" x=\"102.720645\" xlink:href=\"#m3130474077\" y=\"189.372875\"/>\r\n     <use style=\"fill:#1f77b4;stroke:#1f77b4;\" x=\"71.954646\" xlink:href=\"#m3130474077\" y=\"221.592788\"/>\r\n     <use style=\"fill:#1f77b4;stroke:#1f77b4;\" x=\"85.506336\" xlink:href=\"#m3130474077\" y=\"206.599592\"/>\r\n     <use style=\"fill:#1f77b4;stroke:#1f77b4;\" x=\"146.672073\" xlink:href=\"#m3130474077\" y=\"183.782795\"/>\r\n     <use style=\"fill:#1f77b4;stroke:#1f77b4;\" x=\"69.390813\" xlink:href=\"#m3130474077\" y=\"225.082445\"/>\r\n     <use style=\"fill:#1f77b4;stroke:#1f77b4;\" x=\"89.535217\" xlink:href=\"#m3130474077\" y=\"202.970713\"/>\r\n     <use style=\"fill:#1f77b4;stroke:#1f77b4;\" x=\"67.193241\" xlink:href=\"#m3130474077\" y=\"226.58174\"/>\r\n     <use style=\"fill:#1f77b4;stroke:#1f77b4;\" x=\"77.814836\" xlink:href=\"#m3130474077\" y=\"214.870497\"/>\r\n     <use style=\"fill:#1f77b4;stroke:#1f77b4;\" x=\"78.54736\" xlink:href=\"#m3130474077\" y=\"213.860452\"/>\r\n     <use style=\"fill:#1f77b4;stroke:#1f77b4;\" x=\"74.152217\" xlink:href=\"#m3130474077\" y=\"219.232312\"/>\r\n     <use style=\"fill:#1f77b4;stroke:#1f77b4;\" x=\"151.433478\" xlink:href=\"#m3130474077\" y=\"147.666125\"/>\r\n     <use style=\"fill:#1f77b4;stroke:#1f77b4;\" x=\"212.965476\" xlink:href=\"#m3130474077\" y=\"103.377201\"/>\r\n     <use style=\"fill:#1f77b4;stroke:#1f77b4;\" x=\"81.111193\" xlink:href=\"#m3130474077\" y=\"211.850019\"/>\r\n     <use style=\"fill:#1f77b4;stroke:#1f77b4;\" x=\"78.181098\" xlink:href=\"#m3130474077\" y=\"214.400863\"/>\r\n     <use style=\"fill:#1f77b4;stroke:#1f77b4;\" x=\"78.181098\" xlink:href=\"#m3130474077\" y=\"214.370411\"/>\r\n     <use style=\"fill:#1f77b4;stroke:#1f77b4;\" x=\"74.152217\" xlink:href=\"#m3130474077\" y=\"219.019196\"/>\r\n     <use style=\"fill:#1f77b4;stroke:#1f77b4;\" x=\"162.787596\" xlink:href=\"#m3130474077\" y=\"138.233556\"/>\r\n     <use style=\"fill:#1f77b4;stroke:#1f77b4;\" x=\"74.152217\" xlink:href=\"#m3130474077\" y=\"219.405214\"/>\r\n     <use style=\"fill:#1f77b4;stroke:#1f77b4;\" x=\"91.000265\" xlink:href=\"#m3130474077\" y=\"200.997618\"/>\r\n     <use style=\"fill:#1f77b4;stroke:#1f77b4;\" x=\"67.193241\" xlink:href=\"#m3130474077\" y=\"225.11714\"/>\r\n     <use style=\"fill:#1f77b4;stroke:#1f77b4;\" x=\"71.954646\" xlink:href=\"#m3130474077\" y=\"221.859763\"/>\r\n     <use style=\"fill:#1f77b4;stroke:#1f77b4;\" x=\"86.971384\" xlink:href=\"#m3130474077\" y=\"204.854807\"/>\r\n     <use style=\"fill:#1f77b4;stroke:#1f77b4;\" x=\"75.983527\" xlink:href=\"#m3130474077\" y=\"217.555535\"/>\r\n     <use style=\"fill:#1f77b4;stroke:#1f77b4;\" x=\"71.954646\" xlink:href=\"#m3130474077\" y=\"221.768931\"/>\r\n     <use style=\"fill:#1f77b4;stroke:#1f77b4;\" x=\"78.54736\" xlink:href=\"#m3130474077\" y=\"214.063689\"/>\r\n     <use style=\"fill:#1f77b4;stroke:#1f77b4;\" x=\"75.983527\" xlink:href=\"#m3130474077\" y=\"217.33963\"/>\r\n     <use style=\"fill:#1f77b4;stroke:#1f77b4;\" x=\"67.559503\" xlink:href=\"#m3130474077\" y=\"225.691576\"/>\r\n     <use style=\"fill:#1f77b4;stroke:#1f77b4;\" x=\"78.181098\" xlink:href=\"#m3130474077\" y=\"214.379296\"/>\r\n     <use style=\"fill:#1f77b4;stroke:#1f77b4;\" x=\"111.510931\" xlink:href=\"#m3130474077\" y=\"183.798841\"/>\r\n     <use style=\"fill:#1f77b4;stroke:#1f77b4;\" x=\"71.588384\" xlink:href=\"#m3130474077\" y=\"222.041132\"/>\r\n     <use style=\"fill:#1f77b4;stroke:#1f77b4;\" x=\"67.193241\" xlink:href=\"#m3130474077\" y=\"224.86145\"/>\r\n     <use style=\"fill:#1f77b4;stroke:#1f77b4;\" x=\"74.152217\" xlink:href=\"#m3130474077\" y=\"218.948164\"/>\r\n     <use style=\"fill:#1f77b4;stroke:#1f77b4;\" x=\"82.576241\" xlink:href=\"#m3130474077\" y=\"209.387332\"/>\r\n     <use style=\"fill:#1f77b4;stroke:#1f77b4;\" x=\"180.734429\" xlink:href=\"#m3130474077\" y=\"130.247795\"/>\r\n     <use style=\"fill:#1f77b4;stroke:#1f77b4;\" x=\"91.732788\" xlink:href=\"#m3130474077\" y=\"200.164631\"/>\r\n     <use style=\"fill:#1f77b4;stroke:#1f77b4;\" x=\"67.193241\" xlink:href=\"#m3130474077\" y=\"226.595287\"/>\r\n     <use style=\"fill:#1f77b4;stroke:#1f77b4;\" x=\"127.260192\" xlink:href=\"#m3130474077\" y=\"166.990624\"/>\r\n     <use style=\"fill:#1f77b4;stroke:#1f77b4;\" x=\"74.518479\" xlink:href=\"#m3130474077\" y=\"218.554053\"/>\r\n     <use style=\"fill:#1f77b4;stroke:#1f77b4;\" x=\"79.279884\" xlink:href=\"#m3130474077\" y=\"213.004306\"/>\r\n     <use style=\"fill:#1f77b4;stroke:#1f77b4;\" x=\"75.983527\" xlink:href=\"#m3130474077\" y=\"216.963815\"/>\r\n    </g>\r\n   </g>\r\n   <g id=\"matplotlib.axis_1\">\r\n    <g id=\"xtick_1\">\r\n     <g id=\"line2d_1\">\r\n      <defs>\r\n       <path d=\"M 0 0 \r\nL 0 3.5 \r\n\" id=\"mf4c7390dba\" style=\"stroke:#000000;stroke-width:0.8;\"/>\r\n      </defs>\r\n      <g>\r\n       <use style=\"stroke:#000000;stroke-width:0.8;\" x=\"64.99567\" xlink:href=\"#mf4c7390dba\" y=\"239.758125\"/>\r\n      </g>\r\n     </g>\r\n     <g id=\"text_1\">\r\n      <!-- 0 -->\r\n      <g transform=\"translate(61.81442 254.356562)scale(0.1 -0.1)\">\r\n       <defs>\r\n        <path d=\"M 31.78125 66.40625 \r\nQ 24.171875 66.40625 20.328125 58.90625 \r\nQ 16.5 51.421875 16.5 36.375 \r\nQ 16.5 21.390625 20.328125 13.890625 \r\nQ 24.171875 6.390625 31.78125 6.390625 \r\nQ 39.453125 6.390625 43.28125 13.890625 \r\nQ 47.125 21.390625 47.125 36.375 \r\nQ 47.125 51.421875 43.28125 58.90625 \r\nQ 39.453125 66.40625 31.78125 66.40625 \r\nz\r\nM 31.78125 74.21875 \r\nQ 44.046875 74.21875 50.515625 64.515625 \r\nQ 56.984375 54.828125 56.984375 36.375 \r\nQ 56.984375 17.96875 50.515625 8.265625 \r\nQ 44.046875 -1.421875 31.78125 -1.421875 \r\nQ 19.53125 -1.421875 13.0625 8.265625 \r\nQ 6.59375 17.96875 6.59375 36.375 \r\nQ 6.59375 54.828125 13.0625 64.515625 \r\nQ 19.53125 74.21875 31.78125 74.21875 \r\nz\r\n\" id=\"DejaVuSans-48\"/>\r\n       </defs>\r\n       <use xlink:href=\"#DejaVuSans-48\"/>\r\n      </g>\r\n     </g>\r\n    </g>\r\n    <g id=\"xtick_2\">\r\n     <g id=\"line2d_2\">\r\n      <g>\r\n       <use style=\"stroke:#000000;stroke-width:0.8;\" x=\"138.248049\" xlink:href=\"#mf4c7390dba\" y=\"239.758125\"/>\r\n      </g>\r\n     </g>\r\n     <g id=\"text_2\">\r\n      <!-- 200 -->\r\n      <g transform=\"translate(128.704299 254.356562)scale(0.1 -0.1)\">\r\n       <defs>\r\n        <path d=\"M 19.1875 8.296875 \r\nL 53.609375 8.296875 \r\nL 53.609375 0 \r\nL 7.328125 0 \r\nL 7.328125 8.296875 \r\nQ 12.9375 14.109375 22.625 23.890625 \r\nQ 32.328125 33.6875 34.8125 36.53125 \r\nQ 39.546875 41.84375 41.421875 45.53125 \r\nQ 43.3125 49.21875 43.3125 52.78125 \r\nQ 43.3125 58.59375 39.234375 62.25 \r\nQ 35.15625 65.921875 28.609375 65.921875 \r\nQ 23.96875 65.921875 18.8125 64.3125 \r\nQ 13.671875 62.703125 7.8125 59.421875 \r\nL 7.8125 69.390625 \r\nQ 13.765625 71.78125 18.9375 73 \r\nQ 24.125 74.21875 28.421875 74.21875 \r\nQ 39.75 74.21875 46.484375 68.546875 \r\nQ 53.21875 62.890625 53.21875 53.421875 \r\nQ 53.21875 48.921875 51.53125 44.890625 \r\nQ 49.859375 40.875 45.40625 35.40625 \r\nQ 44.1875 33.984375 37.640625 27.21875 \r\nQ 31.109375 20.453125 19.1875 8.296875 \r\nz\r\n\" id=\"DejaVuSans-50\"/>\r\n       </defs>\r\n       <use xlink:href=\"#DejaVuSans-50\"/>\r\n       <use x=\"63.623047\" xlink:href=\"#DejaVuSans-48\"/>\r\n       <use x=\"127.246094\" xlink:href=\"#DejaVuSans-48\"/>\r\n      </g>\r\n     </g>\r\n    </g>\r\n    <g id=\"xtick_3\">\r\n     <g id=\"line2d_3\">\r\n      <g>\r\n       <use style=\"stroke:#000000;stroke-width:0.8;\" x=\"211.500429\" xlink:href=\"#mf4c7390dba\" y=\"239.758125\"/>\r\n      </g>\r\n     </g>\r\n     <g id=\"text_3\">\r\n      <!-- 400 -->\r\n      <g transform=\"translate(201.956679 254.356562)scale(0.1 -0.1)\">\r\n       <defs>\r\n        <path d=\"M 37.796875 64.3125 \r\nL 12.890625 25.390625 \r\nL 37.796875 25.390625 \r\nz\r\nM 35.203125 72.90625 \r\nL 47.609375 72.90625 \r\nL 47.609375 25.390625 \r\nL 58.015625 25.390625 \r\nL 58.015625 17.1875 \r\nL 47.609375 17.1875 \r\nL 47.609375 0 \r\nL 37.796875 0 \r\nL 37.796875 17.1875 \r\nL 4.890625 17.1875 \r\nL 4.890625 26.703125 \r\nz\r\n\" id=\"DejaVuSans-52\"/>\r\n       </defs>\r\n       <use xlink:href=\"#DejaVuSans-52\"/>\r\n       <use x=\"63.623047\" xlink:href=\"#DejaVuSans-48\"/>\r\n       <use x=\"127.246094\" xlink:href=\"#DejaVuSans-48\"/>\r\n      </g>\r\n     </g>\r\n    </g>\r\n    <g id=\"xtick_4\">\r\n     <g id=\"line2d_4\">\r\n      <g>\r\n       <use style=\"stroke:#000000;stroke-width:0.8;\" x=\"284.752808\" xlink:href=\"#mf4c7390dba\" y=\"239.758125\"/>\r\n      </g>\r\n     </g>\r\n     <g id=\"text_4\">\r\n      <!-- 600 -->\r\n      <g transform=\"translate(275.209058 254.356562)scale(0.1 -0.1)\">\r\n       <defs>\r\n        <path d=\"M 33.015625 40.375 \r\nQ 26.375 40.375 22.484375 35.828125 \r\nQ 18.609375 31.296875 18.609375 23.390625 \r\nQ 18.609375 15.53125 22.484375 10.953125 \r\nQ 26.375 6.390625 33.015625 6.390625 \r\nQ 39.65625 6.390625 43.53125 10.953125 \r\nQ 47.40625 15.53125 47.40625 23.390625 \r\nQ 47.40625 31.296875 43.53125 35.828125 \r\nQ 39.65625 40.375 33.015625 40.375 \r\nz\r\nM 52.59375 71.296875 \r\nL 52.59375 62.3125 \r\nQ 48.875 64.0625 45.09375 64.984375 \r\nQ 41.3125 65.921875 37.59375 65.921875 \r\nQ 27.828125 65.921875 22.671875 59.328125 \r\nQ 17.53125 52.734375 16.796875 39.40625 \r\nQ 19.671875 43.65625 24.015625 45.921875 \r\nQ 28.375 48.1875 33.59375 48.1875 \r\nQ 44.578125 48.1875 50.953125 41.515625 \r\nQ 57.328125 34.859375 57.328125 23.390625 \r\nQ 57.328125 12.15625 50.6875 5.359375 \r\nQ 44.046875 -1.421875 33.015625 -1.421875 \r\nQ 20.359375 -1.421875 13.671875 8.265625 \r\nQ 6.984375 17.96875 6.984375 36.375 \r\nQ 6.984375 53.65625 15.1875 63.9375 \r\nQ 23.390625 74.21875 37.203125 74.21875 \r\nQ 40.921875 74.21875 44.703125 73.484375 \r\nQ 48.484375 72.75 52.59375 71.296875 \r\nz\r\n\" id=\"DejaVuSans-54\"/>\r\n       </defs>\r\n       <use xlink:href=\"#DejaVuSans-54\"/>\r\n       <use x=\"63.623047\" xlink:href=\"#DejaVuSans-48\"/>\r\n       <use x=\"127.246094\" xlink:href=\"#DejaVuSans-48\"/>\r\n      </g>\r\n     </g>\r\n    </g>\r\n    <g id=\"xtick_5\">\r\n     <g id=\"line2d_5\">\r\n      <g>\r\n       <use style=\"stroke:#000000;stroke-width:0.8;\" x=\"358.005187\" xlink:href=\"#mf4c7390dba\" y=\"239.758125\"/>\r\n      </g>\r\n     </g>\r\n     <g id=\"text_5\">\r\n      <!-- 800 -->\r\n      <g transform=\"translate(348.461437 254.356562)scale(0.1 -0.1)\">\r\n       <defs>\r\n        <path d=\"M 31.78125 34.625 \r\nQ 24.75 34.625 20.71875 30.859375 \r\nQ 16.703125 27.09375 16.703125 20.515625 \r\nQ 16.703125 13.921875 20.71875 10.15625 \r\nQ 24.75 6.390625 31.78125 6.390625 \r\nQ 38.8125 6.390625 42.859375 10.171875 \r\nQ 46.921875 13.96875 46.921875 20.515625 \r\nQ 46.921875 27.09375 42.890625 30.859375 \r\nQ 38.875 34.625 31.78125 34.625 \r\nz\r\nM 21.921875 38.8125 \r\nQ 15.578125 40.375 12.03125 44.71875 \r\nQ 8.5 49.078125 8.5 55.328125 \r\nQ 8.5 64.0625 14.71875 69.140625 \r\nQ 20.953125 74.21875 31.78125 74.21875 \r\nQ 42.671875 74.21875 48.875 69.140625 \r\nQ 55.078125 64.0625 55.078125 55.328125 \r\nQ 55.078125 49.078125 51.53125 44.71875 \r\nQ 48 40.375 41.703125 38.8125 \r\nQ 48.828125 37.15625 52.796875 32.3125 \r\nQ 56.78125 27.484375 56.78125 20.515625 \r\nQ 56.78125 9.90625 50.3125 4.234375 \r\nQ 43.84375 -1.421875 31.78125 -1.421875 \r\nQ 19.734375 -1.421875 13.25 4.234375 \r\nQ 6.78125 9.90625 6.78125 20.515625 \r\nQ 6.78125 27.484375 10.78125 32.3125 \r\nQ 14.796875 37.15625 21.921875 38.8125 \r\nz\r\nM 18.3125 54.390625 \r\nQ 18.3125 48.734375 21.84375 45.5625 \r\nQ 25.390625 42.390625 31.78125 42.390625 \r\nQ 38.140625 42.390625 41.71875 45.5625 \r\nQ 45.3125 48.734375 45.3125 54.390625 \r\nQ 45.3125 60.0625 41.71875 63.234375 \r\nQ 38.140625 66.40625 31.78125 66.40625 \r\nQ 25.390625 66.40625 21.84375 63.234375 \r\nQ 18.3125 60.0625 18.3125 54.390625 \r\nz\r\n\" id=\"DejaVuSans-56\"/>\r\n       </defs>\r\n       <use xlink:href=\"#DejaVuSans-56\"/>\r\n       <use x=\"63.623047\" xlink:href=\"#DejaVuSans-48\"/>\r\n       <use x=\"127.246094\" xlink:href=\"#DejaVuSans-48\"/>\r\n      </g>\r\n     </g>\r\n    </g>\r\n    <g id=\"text_6\">\r\n     <!-- target_counts -->\r\n     <g transform=\"translate(183.129688 267.756562)scale(0.1 -0.1)\">\r\n      <defs>\r\n       <path d=\"M 18.3125 70.21875 \r\nL 18.3125 54.6875 \r\nL 36.8125 54.6875 \r\nL 36.8125 47.703125 \r\nL 18.3125 47.703125 \r\nL 18.3125 18.015625 \r\nQ 18.3125 11.328125 20.140625 9.421875 \r\nQ 21.96875 7.515625 27.59375 7.515625 \r\nL 36.8125 7.515625 \r\nL 36.8125 0 \r\nL 27.59375 0 \r\nQ 17.1875 0 13.234375 3.875 \r\nQ 9.28125 7.765625 9.28125 18.015625 \r\nL 9.28125 47.703125 \r\nL 2.6875 47.703125 \r\nL 2.6875 54.6875 \r\nL 9.28125 54.6875 \r\nL 9.28125 70.21875 \r\nz\r\n\" id=\"DejaVuSans-116\"/>\r\n       <path d=\"M 34.28125 27.484375 \r\nQ 23.390625 27.484375 19.1875 25 \r\nQ 14.984375 22.515625 14.984375 16.5 \r\nQ 14.984375 11.71875 18.140625 8.90625 \r\nQ 21.296875 6.109375 26.703125 6.109375 \r\nQ 34.1875 6.109375 38.703125 11.40625 \r\nQ 43.21875 16.703125 43.21875 25.484375 \r\nL 43.21875 27.484375 \r\nz\r\nM 52.203125 31.203125 \r\nL 52.203125 0 \r\nL 43.21875 0 \r\nL 43.21875 8.296875 \r\nQ 40.140625 3.328125 35.546875 0.953125 \r\nQ 30.953125 -1.421875 24.3125 -1.421875 \r\nQ 15.921875 -1.421875 10.953125 3.296875 \r\nQ 6 8.015625 6 15.921875 \r\nQ 6 25.140625 12.171875 29.828125 \r\nQ 18.359375 34.515625 30.609375 34.515625 \r\nL 43.21875 34.515625 \r\nL 43.21875 35.40625 \r\nQ 43.21875 41.609375 39.140625 45 \r\nQ 35.0625 48.390625 27.6875 48.390625 \r\nQ 23 48.390625 18.546875 47.265625 \r\nQ 14.109375 46.140625 10.015625 43.890625 \r\nL 10.015625 52.203125 \r\nQ 14.9375 54.109375 19.578125 55.046875 \r\nQ 24.21875 56 28.609375 56 \r\nQ 40.484375 56 46.34375 49.84375 \r\nQ 52.203125 43.703125 52.203125 31.203125 \r\nz\r\n\" id=\"DejaVuSans-97\"/>\r\n       <path d=\"M 41.109375 46.296875 \r\nQ 39.59375 47.171875 37.8125 47.578125 \r\nQ 36.03125 48 33.890625 48 \r\nQ 26.265625 48 22.1875 43.046875 \r\nQ 18.109375 38.09375 18.109375 28.8125 \r\nL 18.109375 0 \r\nL 9.078125 0 \r\nL 9.078125 54.6875 \r\nL 18.109375 54.6875 \r\nL 18.109375 46.1875 \r\nQ 20.953125 51.171875 25.484375 53.578125 \r\nQ 30.03125 56 36.53125 56 \r\nQ 37.453125 56 38.578125 55.875 \r\nQ 39.703125 55.765625 41.0625 55.515625 \r\nz\r\n\" id=\"DejaVuSans-114\"/>\r\n       <path d=\"M 45.40625 27.984375 \r\nQ 45.40625 37.75 41.375 43.109375 \r\nQ 37.359375 48.484375 30.078125 48.484375 \r\nQ 22.859375 48.484375 18.828125 43.109375 \r\nQ 14.796875 37.75 14.796875 27.984375 \r\nQ 14.796875 18.265625 18.828125 12.890625 \r\nQ 22.859375 7.515625 30.078125 7.515625 \r\nQ 37.359375 7.515625 41.375 12.890625 \r\nQ 45.40625 18.265625 45.40625 27.984375 \r\nz\r\nM 54.390625 6.78125 \r\nQ 54.390625 -7.171875 48.1875 -13.984375 \r\nQ 42 -20.796875 29.203125 -20.796875 \r\nQ 24.46875 -20.796875 20.265625 -20.09375 \r\nQ 16.0625 -19.390625 12.109375 -17.921875 \r\nL 12.109375 -9.1875 \r\nQ 16.0625 -11.328125 19.921875 -12.34375 \r\nQ 23.78125 -13.375 27.78125 -13.375 \r\nQ 36.625 -13.375 41.015625 -8.765625 \r\nQ 45.40625 -4.15625 45.40625 5.171875 \r\nL 45.40625 9.625 \r\nQ 42.625 4.78125 38.28125 2.390625 \r\nQ 33.9375 0 27.875 0 \r\nQ 17.828125 0 11.671875 7.65625 \r\nQ 5.515625 15.328125 5.515625 27.984375 \r\nQ 5.515625 40.671875 11.671875 48.328125 \r\nQ 17.828125 56 27.875 56 \r\nQ 33.9375 56 38.28125 53.609375 \r\nQ 42.625 51.21875 45.40625 46.390625 \r\nL 45.40625 54.6875 \r\nL 54.390625 54.6875 \r\nz\r\n\" id=\"DejaVuSans-103\"/>\r\n       <path d=\"M 56.203125 29.59375 \r\nL 56.203125 25.203125 \r\nL 14.890625 25.203125 \r\nQ 15.484375 15.921875 20.484375 11.0625 \r\nQ 25.484375 6.203125 34.421875 6.203125 \r\nQ 39.59375 6.203125 44.453125 7.46875 \r\nQ 49.3125 8.734375 54.109375 11.28125 \r\nL 54.109375 2.78125 \r\nQ 49.265625 0.734375 44.1875 -0.34375 \r\nQ 39.109375 -1.421875 33.890625 -1.421875 \r\nQ 20.796875 -1.421875 13.15625 6.1875 \r\nQ 5.515625 13.8125 5.515625 26.8125 \r\nQ 5.515625 40.234375 12.765625 48.109375 \r\nQ 20.015625 56 32.328125 56 \r\nQ 43.359375 56 49.78125 48.890625 \r\nQ 56.203125 41.796875 56.203125 29.59375 \r\nz\r\nM 47.21875 32.234375 \r\nQ 47.125 39.59375 43.09375 43.984375 \r\nQ 39.0625 48.390625 32.421875 48.390625 \r\nQ 24.90625 48.390625 20.390625 44.140625 \r\nQ 15.875 39.890625 15.1875 32.171875 \r\nz\r\n\" id=\"DejaVuSans-101\"/>\r\n       <path d=\"M 50.984375 -16.609375 \r\nL 50.984375 -23.578125 \r\nL -0.984375 -23.578125 \r\nL -0.984375 -16.609375 \r\nz\r\n\" id=\"DejaVuSans-95\"/>\r\n       <path d=\"M 48.78125 52.59375 \r\nL 48.78125 44.1875 \r\nQ 44.96875 46.296875 41.140625 47.34375 \r\nQ 37.3125 48.390625 33.40625 48.390625 \r\nQ 24.65625 48.390625 19.8125 42.84375 \r\nQ 14.984375 37.3125 14.984375 27.296875 \r\nQ 14.984375 17.28125 19.8125 11.734375 \r\nQ 24.65625 6.203125 33.40625 6.203125 \r\nQ 37.3125 6.203125 41.140625 7.25 \r\nQ 44.96875 8.296875 48.78125 10.40625 \r\nL 48.78125 2.09375 \r\nQ 45.015625 0.34375 40.984375 -0.53125 \r\nQ 36.96875 -1.421875 32.421875 -1.421875 \r\nQ 20.0625 -1.421875 12.78125 6.34375 \r\nQ 5.515625 14.109375 5.515625 27.296875 \r\nQ 5.515625 40.671875 12.859375 48.328125 \r\nQ 20.21875 56 33.015625 56 \r\nQ 37.15625 56 41.109375 55.140625 \r\nQ 45.0625 54.296875 48.78125 52.59375 \r\nz\r\n\" id=\"DejaVuSans-99\"/>\r\n       <path d=\"M 30.609375 48.390625 \r\nQ 23.390625 48.390625 19.1875 42.75 \r\nQ 14.984375 37.109375 14.984375 27.296875 \r\nQ 14.984375 17.484375 19.15625 11.84375 \r\nQ 23.34375 6.203125 30.609375 6.203125 \r\nQ 37.796875 6.203125 41.984375 11.859375 \r\nQ 46.1875 17.53125 46.1875 27.296875 \r\nQ 46.1875 37.015625 41.984375 42.703125 \r\nQ 37.796875 48.390625 30.609375 48.390625 \r\nz\r\nM 30.609375 56 \r\nQ 42.328125 56 49.015625 48.375 \r\nQ 55.71875 40.765625 55.71875 27.296875 \r\nQ 55.71875 13.875 49.015625 6.21875 \r\nQ 42.328125 -1.421875 30.609375 -1.421875 \r\nQ 18.84375 -1.421875 12.171875 6.21875 \r\nQ 5.515625 13.875 5.515625 27.296875 \r\nQ 5.515625 40.765625 12.171875 48.375 \r\nQ 18.84375 56 30.609375 56 \r\nz\r\n\" id=\"DejaVuSans-111\"/>\r\n       <path d=\"M 8.5 21.578125 \r\nL 8.5 54.6875 \r\nL 17.484375 54.6875 \r\nL 17.484375 21.921875 \r\nQ 17.484375 14.15625 20.5 10.265625 \r\nQ 23.53125 6.390625 29.59375 6.390625 \r\nQ 36.859375 6.390625 41.078125 11.03125 \r\nQ 45.3125 15.671875 45.3125 23.6875 \r\nL 45.3125 54.6875 \r\nL 54.296875 54.6875 \r\nL 54.296875 0 \r\nL 45.3125 0 \r\nL 45.3125 8.40625 \r\nQ 42.046875 3.421875 37.71875 1 \r\nQ 33.40625 -1.421875 27.6875 -1.421875 \r\nQ 18.265625 -1.421875 13.375 4.4375 \r\nQ 8.5 10.296875 8.5 21.578125 \r\nz\r\nM 31.109375 56 \r\nz\r\n\" id=\"DejaVuSans-117\"/>\r\n       <path d=\"M 54.890625 33.015625 \r\nL 54.890625 0 \r\nL 45.90625 0 \r\nL 45.90625 32.71875 \r\nQ 45.90625 40.484375 42.875 44.328125 \r\nQ 39.84375 48.1875 33.796875 48.1875 \r\nQ 26.515625 48.1875 22.3125 43.546875 \r\nQ 18.109375 38.921875 18.109375 30.90625 \r\nL 18.109375 0 \r\nL 9.078125 0 \r\nL 9.078125 54.6875 \r\nL 18.109375 54.6875 \r\nL 18.109375 46.1875 \r\nQ 21.34375 51.125 25.703125 53.5625 \r\nQ 30.078125 56 35.796875 56 \r\nQ 45.21875 56 50.046875 50.171875 \r\nQ 54.890625 44.34375 54.890625 33.015625 \r\nz\r\n\" id=\"DejaVuSans-110\"/>\r\n       <path d=\"M 44.28125 53.078125 \r\nL 44.28125 44.578125 \r\nQ 40.484375 46.53125 36.375 47.5 \r\nQ 32.28125 48.484375 27.875 48.484375 \r\nQ 21.1875 48.484375 17.84375 46.4375 \r\nQ 14.5 44.390625 14.5 40.28125 \r\nQ 14.5 37.15625 16.890625 35.375 \r\nQ 19.28125 33.59375 26.515625 31.984375 \r\nL 29.59375 31.296875 \r\nQ 39.15625 29.25 43.1875 25.515625 \r\nQ 47.21875 21.78125 47.21875 15.09375 \r\nQ 47.21875 7.46875 41.1875 3.015625 \r\nQ 35.15625 -1.421875 24.609375 -1.421875 \r\nQ 20.21875 -1.421875 15.453125 -0.5625 \r\nQ 10.6875 0.296875 5.421875 2 \r\nL 5.421875 11.28125 \r\nQ 10.40625 8.6875 15.234375 7.390625 \r\nQ 20.0625 6.109375 24.8125 6.109375 \r\nQ 31.15625 6.109375 34.5625 8.28125 \r\nQ 37.984375 10.453125 37.984375 14.40625 \r\nQ 37.984375 18.0625 35.515625 20.015625 \r\nQ 33.0625 21.96875 24.703125 23.78125 \r\nL 21.578125 24.515625 \r\nQ 13.234375 26.265625 9.515625 29.90625 \r\nQ 5.8125 33.546875 5.8125 39.890625 \r\nQ 5.8125 47.609375 11.28125 51.796875 \r\nQ 16.75 56 26.8125 56 \r\nQ 31.78125 56 36.171875 55.265625 \r\nQ 40.578125 54.546875 44.28125 53.078125 \r\nz\r\n\" id=\"DejaVuSans-115\"/>\r\n      </defs>\r\n      <use xlink:href=\"#DejaVuSans-116\"/>\r\n      <use x=\"39.208984\" xlink:href=\"#DejaVuSans-97\"/>\r\n      <use x=\"100.488281\" xlink:href=\"#DejaVuSans-114\"/>\r\n      <use x=\"139.851562\" xlink:href=\"#DejaVuSans-103\"/>\r\n      <use x=\"203.328125\" xlink:href=\"#DejaVuSans-101\"/>\r\n      <use x=\"264.851562\" xlink:href=\"#DejaVuSans-116\"/>\r\n      <use x=\"304.060547\" xlink:href=\"#DejaVuSans-95\"/>\r\n      <use x=\"354.060547\" xlink:href=\"#DejaVuSans-99\"/>\r\n      <use x=\"409.041016\" xlink:href=\"#DejaVuSans-111\"/>\r\n      <use x=\"470.222656\" xlink:href=\"#DejaVuSans-117\"/>\r\n      <use x=\"533.601562\" xlink:href=\"#DejaVuSans-110\"/>\r\n      <use x=\"596.980469\" xlink:href=\"#DejaVuSans-116\"/>\r\n      <use x=\"636.189453\" xlink:href=\"#DejaVuSans-115\"/>\r\n     </g>\r\n    </g>\r\n   </g>\r\n   <g id=\"matplotlib.axis_2\">\r\n    <g id=\"ytick_1\">\r\n     <g id=\"line2d_6\">\r\n      <defs>\r\n       <path d=\"M 0 0 \r\nL -3.5 0 \r\n\" id=\"m1158c13ac6\" style=\"stroke:#000000;stroke-width:0.8;\"/>\r\n      </defs>\r\n      <g>\r\n       <use style=\"stroke:#000000;stroke-width:0.8;\" x=\"50.14375\" xlink:href=\"#m1158c13ac6\" y=\"232.08155\"/>\r\n      </g>\r\n     </g>\r\n     <g id=\"text_7\">\r\n      <!-- 0.00 -->\r\n      <g transform=\"translate(20.878125 235.880769)scale(0.1 -0.1)\">\r\n       <defs>\r\n        <path d=\"M 10.6875 12.40625 \r\nL 21 12.40625 \r\nL 21 0 \r\nL 10.6875 0 \r\nz\r\n\" id=\"DejaVuSans-46\"/>\r\n       </defs>\r\n       <use xlink:href=\"#DejaVuSans-48\"/>\r\n       <use x=\"63.623047\" xlink:href=\"#DejaVuSans-46\"/>\r\n       <use x=\"95.410156\" xlink:href=\"#DejaVuSans-48\"/>\r\n       <use x=\"159.033203\" xlink:href=\"#DejaVuSans-48\"/>\r\n      </g>\r\n     </g>\r\n    </g>\r\n    <g id=\"ytick_2\">\r\n     <g id=\"line2d_7\">\r\n      <g>\r\n       <use style=\"stroke:#000000;stroke-width:0.8;\" x=\"50.14375\" xlink:href=\"#m1158c13ac6\" y=\"201.646791\"/>\r\n      </g>\r\n     </g>\r\n     <g id=\"text_8\">\r\n      <!-- 0.02 -->\r\n      <g transform=\"translate(20.878125 205.44601)scale(0.1 -0.1)\">\r\n       <use xlink:href=\"#DejaVuSans-48\"/>\r\n       <use x=\"63.623047\" xlink:href=\"#DejaVuSans-46\"/>\r\n       <use x=\"95.410156\" xlink:href=\"#DejaVuSans-48\"/>\r\n       <use x=\"159.033203\" xlink:href=\"#DejaVuSans-50\"/>\r\n      </g>\r\n     </g>\r\n    </g>\r\n    <g id=\"ytick_3\">\r\n     <g id=\"line2d_8\">\r\n      <g>\r\n       <use style=\"stroke:#000000;stroke-width:0.8;\" x=\"50.14375\" xlink:href=\"#m1158c13ac6\" y=\"171.212033\"/>\r\n      </g>\r\n     </g>\r\n     <g id=\"text_9\">\r\n      <!-- 0.04 -->\r\n      <g transform=\"translate(20.878125 175.011251)scale(0.1 -0.1)\">\r\n       <use xlink:href=\"#DejaVuSans-48\"/>\r\n       <use x=\"63.623047\" xlink:href=\"#DejaVuSans-46\"/>\r\n       <use x=\"95.410156\" xlink:href=\"#DejaVuSans-48\"/>\r\n       <use x=\"159.033203\" xlink:href=\"#DejaVuSans-52\"/>\r\n      </g>\r\n     </g>\r\n    </g>\r\n    <g id=\"ytick_4\">\r\n     <g id=\"line2d_9\">\r\n      <g>\r\n       <use style=\"stroke:#000000;stroke-width:0.8;\" x=\"50.14375\" xlink:href=\"#m1158c13ac6\" y=\"140.777274\"/>\r\n      </g>\r\n     </g>\r\n     <g id=\"text_10\">\r\n      <!-- 0.06 -->\r\n      <g transform=\"translate(20.878125 144.576492)scale(0.1 -0.1)\">\r\n       <use xlink:href=\"#DejaVuSans-48\"/>\r\n       <use x=\"63.623047\" xlink:href=\"#DejaVuSans-46\"/>\r\n       <use x=\"95.410156\" xlink:href=\"#DejaVuSans-48\"/>\r\n       <use x=\"159.033203\" xlink:href=\"#DejaVuSans-54\"/>\r\n      </g>\r\n     </g>\r\n    </g>\r\n    <g id=\"ytick_5\">\r\n     <g id=\"line2d_10\">\r\n      <g>\r\n       <use style=\"stroke:#000000;stroke-width:0.8;\" x=\"50.14375\" xlink:href=\"#m1158c13ac6\" y=\"110.342515\"/>\r\n      </g>\r\n     </g>\r\n     <g id=\"text_11\">\r\n      <!-- 0.08 -->\r\n      <g transform=\"translate(20.878125 114.141733)scale(0.1 -0.1)\">\r\n       <use xlink:href=\"#DejaVuSans-48\"/>\r\n       <use x=\"63.623047\" xlink:href=\"#DejaVuSans-46\"/>\r\n       <use x=\"95.410156\" xlink:href=\"#DejaVuSans-48\"/>\r\n       <use x=\"159.033203\" xlink:href=\"#DejaVuSans-56\"/>\r\n      </g>\r\n     </g>\r\n    </g>\r\n    <g id=\"ytick_6\">\r\n     <g id=\"line2d_11\">\r\n      <g>\r\n       <use style=\"stroke:#000000;stroke-width:0.8;\" x=\"50.14375\" xlink:href=\"#m1158c13ac6\" y=\"79.907756\"/>\r\n      </g>\r\n     </g>\r\n     <g id=\"text_12\">\r\n      <!-- 0.10 -->\r\n      <g transform=\"translate(20.878125 83.706975)scale(0.1 -0.1)\">\r\n       <defs>\r\n        <path d=\"M 12.40625 8.296875 \r\nL 28.515625 8.296875 \r\nL 28.515625 63.921875 \r\nL 10.984375 60.40625 \r\nL 10.984375 69.390625 \r\nL 28.421875 72.90625 \r\nL 38.28125 72.90625 \r\nL 38.28125 8.296875 \r\nL 54.390625 8.296875 \r\nL 54.390625 0 \r\nL 12.40625 0 \r\nz\r\n\" id=\"DejaVuSans-49\"/>\r\n       </defs>\r\n       <use xlink:href=\"#DejaVuSans-48\"/>\r\n       <use x=\"63.623047\" xlink:href=\"#DejaVuSans-46\"/>\r\n       <use x=\"95.410156\" xlink:href=\"#DejaVuSans-49\"/>\r\n       <use x=\"159.033203\" xlink:href=\"#DejaVuSans-48\"/>\r\n      </g>\r\n     </g>\r\n    </g>\r\n    <g id=\"ytick_7\">\r\n     <g id=\"line2d_12\">\r\n      <g>\r\n       <use style=\"stroke:#000000;stroke-width:0.8;\" x=\"50.14375\" xlink:href=\"#m1158c13ac6\" y=\"49.472997\"/>\r\n      </g>\r\n     </g>\r\n     <g id=\"text_13\">\r\n      <!-- 0.12 -->\r\n      <g transform=\"translate(20.878125 53.272216)scale(0.1 -0.1)\">\r\n       <use xlink:href=\"#DejaVuSans-48\"/>\r\n       <use x=\"63.623047\" xlink:href=\"#DejaVuSans-46\"/>\r\n       <use x=\"95.410156\" xlink:href=\"#DejaVuSans-49\"/>\r\n       <use x=\"159.033203\" xlink:href=\"#DejaVuSans-50\"/>\r\n      </g>\r\n     </g>\r\n    </g>\r\n    <g id=\"text_14\">\r\n     <!-- log loss values -->\r\n     <g transform=\"translate(14.798438 167.759219)rotate(-90)scale(0.1 -0.1)\">\r\n      <defs>\r\n       <path d=\"M 9.421875 75.984375 \r\nL 18.40625 75.984375 \r\nL 18.40625 0 \r\nL 9.421875 0 \r\nz\r\n\" id=\"DejaVuSans-108\"/>\r\n       <path id=\"DejaVuSans-32\"/>\r\n       <path d=\"M 2.984375 54.6875 \r\nL 12.5 54.6875 \r\nL 29.59375 8.796875 \r\nL 46.6875 54.6875 \r\nL 56.203125 54.6875 \r\nL 35.6875 0 \r\nL 23.484375 0 \r\nz\r\n\" id=\"DejaVuSans-118\"/>\r\n      </defs>\r\n      <use xlink:href=\"#DejaVuSans-108\"/>\r\n      <use x=\"27.783203\" xlink:href=\"#DejaVuSans-111\"/>\r\n      <use x=\"88.964844\" xlink:href=\"#DejaVuSans-103\"/>\r\n      <use x=\"152.441406\" xlink:href=\"#DejaVuSans-32\"/>\r\n      <use x=\"184.228516\" xlink:href=\"#DejaVuSans-108\"/>\r\n      <use x=\"212.011719\" xlink:href=\"#DejaVuSans-111\"/>\r\n      <use x=\"273.193359\" xlink:href=\"#DejaVuSans-115\"/>\r\n      <use x=\"325.292969\" xlink:href=\"#DejaVuSans-115\"/>\r\n      <use x=\"377.392578\" xlink:href=\"#DejaVuSans-32\"/>\r\n      <use x=\"409.179688\" xlink:href=\"#DejaVuSans-118\"/>\r\n      <use x=\"468.359375\" xlink:href=\"#DejaVuSans-97\"/>\r\n      <use x=\"529.638672\" xlink:href=\"#DejaVuSans-108\"/>\r\n      <use x=\"557.421875\" xlink:href=\"#DejaVuSans-117\"/>\r\n      <use x=\"620.800781\" xlink:href=\"#DejaVuSans-101\"/>\r\n      <use x=\"682.324219\" xlink:href=\"#DejaVuSans-115\"/>\r\n     </g>\r\n    </g>\r\n   </g>\r\n   <g id=\"patch_3\">\r\n    <path d=\"M 50.14375 239.758125 \r\nL 50.14375 22.318125 \r\n\" style=\"fill:none;stroke:#000000;stroke-linecap:square;stroke-linejoin:miter;stroke-width:0.8;\"/>\r\n   </g>\r\n   <g id=\"patch_4\">\r\n    <path d=\"M 384.94375 239.758125 \r\nL 384.94375 22.318125 \r\n\" style=\"fill:none;stroke:#000000;stroke-linecap:square;stroke-linejoin:miter;stroke-width:0.8;\"/>\r\n   </g>\r\n   <g id=\"patch_5\">\r\n    <path d=\"M 50.14375 239.758125 \r\nL 384.94375 239.758125 \r\n\" style=\"fill:none;stroke:#000000;stroke-linecap:square;stroke-linejoin:miter;stroke-width:0.8;\"/>\r\n   </g>\r\n   <g id=\"patch_6\">\r\n    <path d=\"M 50.14375 22.318125 \r\nL 384.94375 22.318125 \r\n\" style=\"fill:none;stroke:#000000;stroke-linecap:square;stroke-linejoin:miter;stroke-width:0.8;\"/>\r\n   </g>\r\n   <g id=\"text_15\">\r\n    <!-- Random Forest Regression -->\r\n    <g transform=\"translate(137.670625 16.318125)scale(0.12 -0.12)\">\r\n     <defs>\r\n      <path d=\"M 44.390625 34.1875 \r\nQ 47.5625 33.109375 50.5625 29.59375 \r\nQ 53.5625 26.078125 56.59375 19.921875 \r\nL 66.609375 0 \r\nL 56 0 \r\nL 46.6875 18.703125 \r\nQ 43.0625 26.03125 39.671875 28.421875 \r\nQ 36.28125 30.8125 30.421875 30.8125 \r\nL 19.671875 30.8125 \r\nL 19.671875 0 \r\nL 9.8125 0 \r\nL 9.8125 72.90625 \r\nL 32.078125 72.90625 \r\nQ 44.578125 72.90625 50.734375 67.671875 \r\nQ 56.890625 62.453125 56.890625 51.90625 \r\nQ 56.890625 45.015625 53.6875 40.46875 \r\nQ 50.484375 35.9375 44.390625 34.1875 \r\nz\r\nM 19.671875 64.796875 \r\nL 19.671875 38.921875 \r\nL 32.078125 38.921875 \r\nQ 39.203125 38.921875 42.84375 42.21875 \r\nQ 46.484375 45.515625 46.484375 51.90625 \r\nQ 46.484375 58.296875 42.84375 61.546875 \r\nQ 39.203125 64.796875 32.078125 64.796875 \r\nz\r\n\" id=\"DejaVuSans-82\"/>\r\n      <path d=\"M 45.40625 46.390625 \r\nL 45.40625 75.984375 \r\nL 54.390625 75.984375 \r\nL 54.390625 0 \r\nL 45.40625 0 \r\nL 45.40625 8.203125 \r\nQ 42.578125 3.328125 38.25 0.953125 \r\nQ 33.9375 -1.421875 27.875 -1.421875 \r\nQ 17.96875 -1.421875 11.734375 6.484375 \r\nQ 5.515625 14.40625 5.515625 27.296875 \r\nQ 5.515625 40.1875 11.734375 48.09375 \r\nQ 17.96875 56 27.875 56 \r\nQ 33.9375 56 38.25 53.625 \r\nQ 42.578125 51.265625 45.40625 46.390625 \r\nz\r\nM 14.796875 27.296875 \r\nQ 14.796875 17.390625 18.875 11.75 \r\nQ 22.953125 6.109375 30.078125 6.109375 \r\nQ 37.203125 6.109375 41.296875 11.75 \r\nQ 45.40625 17.390625 45.40625 27.296875 \r\nQ 45.40625 37.203125 41.296875 42.84375 \r\nQ 37.203125 48.484375 30.078125 48.484375 \r\nQ 22.953125 48.484375 18.875 42.84375 \r\nQ 14.796875 37.203125 14.796875 27.296875 \r\nz\r\n\" id=\"DejaVuSans-100\"/>\r\n      <path d=\"M 52 44.1875 \r\nQ 55.375 50.25 60.0625 53.125 \r\nQ 64.75 56 71.09375 56 \r\nQ 79.640625 56 84.28125 50.015625 \r\nQ 88.921875 44.046875 88.921875 33.015625 \r\nL 88.921875 0 \r\nL 79.890625 0 \r\nL 79.890625 32.71875 \r\nQ 79.890625 40.578125 77.09375 44.375 \r\nQ 74.3125 48.1875 68.609375 48.1875 \r\nQ 61.625 48.1875 57.5625 43.546875 \r\nQ 53.515625 38.921875 53.515625 30.90625 \r\nL 53.515625 0 \r\nL 44.484375 0 \r\nL 44.484375 32.71875 \r\nQ 44.484375 40.625 41.703125 44.40625 \r\nQ 38.921875 48.1875 33.109375 48.1875 \r\nQ 26.21875 48.1875 22.15625 43.53125 \r\nQ 18.109375 38.875 18.109375 30.90625 \r\nL 18.109375 0 \r\nL 9.078125 0 \r\nL 9.078125 54.6875 \r\nL 18.109375 54.6875 \r\nL 18.109375 46.1875 \r\nQ 21.1875 51.21875 25.484375 53.609375 \r\nQ 29.78125 56 35.6875 56 \r\nQ 41.65625 56 45.828125 52.96875 \r\nQ 50 49.953125 52 44.1875 \r\nz\r\n\" id=\"DejaVuSans-109\"/>\r\n      <path d=\"M 9.8125 72.90625 \r\nL 51.703125 72.90625 \r\nL 51.703125 64.59375 \r\nL 19.671875 64.59375 \r\nL 19.671875 43.109375 \r\nL 48.578125 43.109375 \r\nL 48.578125 34.8125 \r\nL 19.671875 34.8125 \r\nL 19.671875 0 \r\nL 9.8125 0 \r\nz\r\n\" id=\"DejaVuSans-70\"/>\r\n      <path d=\"M 9.421875 54.6875 \r\nL 18.40625 54.6875 \r\nL 18.40625 0 \r\nL 9.421875 0 \r\nz\r\nM 9.421875 75.984375 \r\nL 18.40625 75.984375 \r\nL 18.40625 64.59375 \r\nL 9.421875 64.59375 \r\nz\r\n\" id=\"DejaVuSans-105\"/>\r\n     </defs>\r\n     <use xlink:href=\"#DejaVuSans-82\"/>\r\n     <use x=\"67.232422\" xlink:href=\"#DejaVuSans-97\"/>\r\n     <use x=\"128.511719\" xlink:href=\"#DejaVuSans-110\"/>\r\n     <use x=\"191.890625\" xlink:href=\"#DejaVuSans-100\"/>\r\n     <use x=\"255.367188\" xlink:href=\"#DejaVuSans-111\"/>\r\n     <use x=\"316.548828\" xlink:href=\"#DejaVuSans-109\"/>\r\n     <use x=\"413.960938\" xlink:href=\"#DejaVuSans-32\"/>\r\n     <use x=\"445.748047\" xlink:href=\"#DejaVuSans-70\"/>\r\n     <use x=\"499.642578\" xlink:href=\"#DejaVuSans-111\"/>\r\n     <use x=\"560.824219\" xlink:href=\"#DejaVuSans-114\"/>\r\n     <use x=\"599.6875\" xlink:href=\"#DejaVuSans-101\"/>\r\n     <use x=\"661.210938\" xlink:href=\"#DejaVuSans-115\"/>\r\n     <use x=\"713.310547\" xlink:href=\"#DejaVuSans-116\"/>\r\n     <use x=\"752.519531\" xlink:href=\"#DejaVuSans-32\"/>\r\n     <use x=\"784.306641\" xlink:href=\"#DejaVuSans-82\"/>\r\n     <use x=\"849.289062\" xlink:href=\"#DejaVuSans-101\"/>\r\n     <use x=\"910.8125\" xlink:href=\"#DejaVuSans-103\"/>\r\n     <use x=\"974.289062\" xlink:href=\"#DejaVuSans-114\"/>\r\n     <use x=\"1013.152344\" xlink:href=\"#DejaVuSans-101\"/>\r\n     <use x=\"1074.675781\" xlink:href=\"#DejaVuSans-115\"/>\r\n     <use x=\"1126.775391\" xlink:href=\"#DejaVuSans-115\"/>\r\n     <use x=\"1178.875\" xlink:href=\"#DejaVuSans-105\"/>\r\n     <use x=\"1206.658203\" xlink:href=\"#DejaVuSans-111\"/>\r\n     <use x=\"1267.839844\" xlink:href=\"#DejaVuSans-110\"/>\r\n    </g>\r\n   </g>\r\n  </g>\r\n </g>\r\n <defs>\r\n  <clipPath id=\"p4975427ba5\">\r\n   <rect height=\"217.44\" width=\"334.8\" x=\"50.14375\" y=\"22.318125\"/>\r\n  </clipPath>\r\n </defs>\r\n</svg>\r\n",
      "image/png": "[encoded data removed]"
     },
     "metadata": {
      "needs_background": "light"
     }
    }
   ],
   "source": [
    "try:\n",
    "    res_rfr = pd.from_pickle('pickles/res_rfr.p')\n",
    "    ss_rfr = pd.from_pickle('pickles/ss_rfr.p')\n",
    "except:\n",
    "    from sklearn.ensemble import RandomForestRegressor\n",
    "    for i in [1]: # left for further hyperparameter tuning\n",
    "        model = RandomForestRegressor(max_depth=3, random_state=42)\n",
    "        target_counts = []\n",
    "        rfr_loss_vals = []\n",
    "        ss_rfr = ss_lr.copy()\n",
    "        res_rfr = res_lr.copy()\n",
    "        ss_rfr.loc[:, train_targets.columns] = 0\n",
    "        res_rfr.loc[:, train_targets.columns] = 0\n",
    "        res_rfr, ss_rfr, rfr_loss_vals = run_score(train_targets, X, x_test, res_rfr, ss_rfr, rfr_loss_vals)\n",
    "    plt.scatter(target_counts, rfr_loss_vals)\n",
    "    plt.xlabel('target_counts')\n",
    "    plt.ylabel('log loss values')\n",
    "    plt.title('Random Forest Regression')\n",
    "    plt.show()\n",
    "    res_rfr.to_pickle('pickles/res_rfr.p')\n",
    "    ss_rfr.to_pickle('pickles/ss_rfr.p')"
   ]
  },
  {
   "cell_type": "code",
   "execution_count": 12,
   "metadata": {
    "tags": []
   },
   "outputs": [
    {
     "output_type": "stream",
     "name": "stdout",
     "text": [
      "intercept_scaling = 1\n"
     ]
    },
    {
     "output_type": "display_data",
     "data": {
      "text/plain": "HBox(children=(FloatProgress(value=0.0, max=206.0), HTML(value='')))",
      "application/vnd.jupyter.widget-view+json": {
       "version_major": 2,
       "version_minor": 0,
       "model_id": "6c7e8f50516d4e7a884c634352d5aed3"
      }
     },
     "metadata": {}
    },
    {
     "output_type": "stream",
     "name": "stdout",
     "text": [
      "\n",
      "Log Loss: 0.020862035095834168\n",
      "After manually eliminating control groups: 0.020591874963713896\n",
      "\n",
      "\n"
     ]
    },
    {
     "output_type": "display_data",
     "data": {
      "text/plain": "<Figure size 432x288 with 1 Axes>",
      "image/svg+xml": "<?xml version=\"1.0\" encoding=\"utf-8\" standalone=\"no\"?>\r\n<!DOCTYPE svg PUBLIC \"-//W3C//DTD SVG 1.1//EN\"\r\n  \"http://www.w3.org/Graphics/SVG/1.1/DTD/svg11.dtd\">\r\n<!-- Created with matplotlib (https://matplotlib.org/) -->\r\n<svg height=\"277.314375pt\" version=\"1.1\" viewBox=\"0 0 398.50625 277.314375\" width=\"398.50625pt\" xmlns=\"http://www.w3.org/2000/svg\" xmlns:xlink=\"http://www.w3.org/1999/xlink\">\r\n <metadata>\r\n  <rdf:RDF xmlns:cc=\"http://creativecommons.org/ns#\" xmlns:dc=\"http://purl.org/dc/elements/1.1/\" xmlns:rdf=\"http://www.w3.org/1999/02/22-rdf-syntax-ns#\">\r\n   <cc:Work>\r\n    <dc:type rdf:resource=\"http://purl.org/dc/dcmitype/StillImage\"/>\r\n    <dc:date>2020-10-26T18:45:02.243855</dc:date>\r\n    <dc:format>image/svg+xml</dc:format>\r\n    <dc:creator>\r\n     <cc:Agent>\r\n      <dc:title>Matplotlib v3.3.1, https://matplotlib.org/</dc:title>\r\n     </cc:Agent>\r\n    </dc:creator>\r\n   </cc:Work>\r\n  </rdf:RDF>\r\n </metadata>\r\n <defs>\r\n  <style type=\"text/css\">*{stroke-linecap:butt;stroke-linejoin:round;}</style>\r\n </defs>\r\n <g id=\"figure_1\">\r\n  <g id=\"patch_1\">\r\n   <path d=\"M 0 277.314375 \r\nL 398.50625 277.314375 \r\nL 398.50625 0 \r\nL 0 0 \r\nz\r\n\" style=\"fill:none;\"/>\r\n  </g>\r\n  <g id=\"axes_1\">\r\n   <g id=\"patch_2\">\r\n    <path d=\"M 56.50625 239.758125 \r\nL 391.30625 239.758125 \r\nL 391.30625 22.318125 \r\nL 56.50625 22.318125 \r\nz\r\n\" style=\"fill:#ffffff;\"/>\r\n   </g>\r\n   <g id=\"PathCollection_1\">\r\n    <defs>\r\n     <path d=\"M 0 3 \r\nC 0.795609 3 1.55874 2.683901 2.12132 2.12132 \r\nC 2.683901 1.55874 3 0.795609 3 0 \r\nC 3 -0.795609 2.683901 -1.55874 2.12132 -2.12132 \r\nC 1.55874 -2.683901 0.795609 -3 0 -3 \r\nC -0.795609 -3 -1.55874 -2.683901 -2.12132 -2.12132 \r\nC -2.683901 -1.55874 -3 -0.795609 -3 0 \r\nC -3 0.795609 -2.683901 1.55874 -2.12132 2.12132 \r\nC -1.55874 2.683901 -0.795609 3 0 3 \r\nz\r\n\" id=\"m7bbc68a545\" style=\"stroke:#1f77b4;\"/>\r\n    </defs>\r\n    <g clip-path=\"url(#pcae75cf782)\">\r\n     <use style=\"fill:#1f77b4;stroke:#1f77b4;\" x=\"77.584622\" xlink:href=\"#m7bbc68a545\" y=\"224.705609\"/>\r\n     <use style=\"fill:#1f77b4;stroke:#1f77b4;\" x=\"77.950884\" xlink:href=\"#m7bbc68a545\" y=\"224.226887\"/>\r\n     <use style=\"fill:#1f77b4;stroke:#1f77b4;\" x=\"80.148455\" xlink:href=\"#m7bbc68a545\" y=\"222.171437\"/>\r\n     <use style=\"fill:#1f77b4;stroke:#1f77b4;\" x=\"140.94793\" xlink:href=\"#m7bbc68a545\" y=\"176.681723\"/>\r\n     <use style=\"fill:#1f77b4;stroke:#1f77b4;\" x=\"181.603001\" xlink:href=\"#m7bbc68a545\" y=\"151.770092\"/>\r\n     <use style=\"fill:#1f77b4;stroke:#1f77b4;\" x=\"98.095288\" xlink:href=\"#m7bbc68a545\" y=\"207.191953\"/>\r\n     <use style=\"fill:#1f77b4;stroke:#1f77b4;\" x=\"91.136312\" xlink:href=\"#m7bbc68a545\" y=\"212.65366\"/>\r\n     <use style=\"fill:#1f77b4;stroke:#1f77b4;\" x=\"106.519312\" xlink:href=\"#m7bbc68a545\" y=\"200.696393\"/>\r\n     <use style=\"fill:#1f77b4;stroke:#1f77b4;\" x=\"75.753313\" xlink:href=\"#m7bbc68a545\" y=\"226.38184\"/>\r\n     <use style=\"fill:#1f77b4;stroke:#1f77b4;\" x=\"170.248882\" xlink:href=\"#m7bbc68a545\" y=\"159.061419\"/>\r\n     <use style=\"fill:#1f77b4;stroke:#1f77b4;\" x=\"203.212453\" xlink:href=\"#m7bbc68a545\" y=\"139.323789\"/>\r\n     <use style=\"fill:#1f77b4;stroke:#1f77b4;\" x=\"95.531455\" xlink:href=\"#m7bbc68a545\" y=\"209.251813\"/>\r\n     <use style=\"fill:#1f77b4;stroke:#1f77b4;\" x=\"73.922003\" xlink:href=\"#m7bbc68a545\" y=\"228.477217\"/>\r\n     <use style=\"fill:#1f77b4;stroke:#1f77b4;\" x=\"86.74117\" xlink:href=\"#m7bbc68a545\" y=\"216.24679\"/>\r\n     <use style=\"fill:#1f77b4;stroke:#1f77b4;\" x=\"75.753313\" xlink:href=\"#m7bbc68a545\" y=\"226.472476\"/>\r\n     <use style=\"fill:#1f77b4;stroke:#1f77b4;\" x=\"75.753313\" xlink:href=\"#m7bbc68a545\" y=\"226.573218\"/>\r\n     <use style=\"fill:#1f77b4;stroke:#1f77b4;\" x=\"88.938741\" xlink:href=\"#m7bbc68a545\" y=\"214.473352\"/>\r\n     <use style=\"fill:#1f77b4;stroke:#1f77b4;\" x=\"103.955479\" xlink:href=\"#m7bbc68a545\" y=\"202.488672\"/>\r\n     <use style=\"fill:#1f77b4;stroke:#1f77b4;\" x=\"100.659122\" xlink:href=\"#m7bbc68a545\" y=\"205.044788\"/>\r\n     <use style=\"fill:#1f77b4;stroke:#1f77b4;\" x=\"84.543598\" xlink:href=\"#m7bbc68a545\" y=\"218.256026\"/>\r\n     <use style=\"fill:#1f77b4;stroke:#1f77b4;\" x=\"84.90986\" xlink:href=\"#m7bbc68a545\" y=\"217.899881\"/>\r\n     <use style=\"fill:#1f77b4;stroke:#1f77b4;\" x=\"98.095288\" xlink:href=\"#m7bbc68a545\" y=\"207.007754\"/>\r\n     <use style=\"fill:#1f77b4;stroke:#1f77b4;\" x=\"73.555741\" xlink:href=\"#m7bbc68a545\" y=\"228.81049\"/>\r\n     <use style=\"fill:#1f77b4;stroke:#1f77b4;\" x=\"87.107431\" xlink:href=\"#m7bbc68a545\" y=\"216.024053\"/>\r\n     <use style=\"fill:#1f77b4;stroke:#1f77b4;\" x=\"75.753313\" xlink:href=\"#m7bbc68a545\" y=\"226.430346\"/>\r\n     <use style=\"fill:#1f77b4;stroke:#1f77b4;\" x=\"76.119575\" xlink:href=\"#m7bbc68a545\" y=\"226.098756\"/>\r\n     <use style=\"fill:#1f77b4;stroke:#1f77b4;\" x=\"75.753313\" xlink:href=\"#m7bbc68a545\" y=\"226.484202\"/>\r\n     <use style=\"fill:#1f77b4;stroke:#1f77b4;\" x=\"77.950884\" xlink:href=\"#m7bbc68a545\" y=\"224.253552\"/>\r\n     <use style=\"fill:#1f77b4;stroke:#1f77b4;\" x=\"98.095288\" xlink:href=\"#m7bbc68a545\" y=\"207.203439\"/>\r\n     <use style=\"fill:#1f77b4;stroke:#1f77b4;\" x=\"84.543598\" xlink:href=\"#m7bbc68a545\" y=\"218.202138\"/>\r\n     <use style=\"fill:#1f77b4;stroke:#1f77b4;\" x=\"79.782194\" xlink:href=\"#m7bbc68a545\" y=\"222.532249\"/>\r\n     <use style=\"fill:#1f77b4;stroke:#1f77b4;\" x=\"89.305003\" xlink:href=\"#m7bbc68a545\" y=\"214.016197\"/>\r\n     <use style=\"fill:#1f77b4;stroke:#1f77b4;\" x=\"88.572479\" xlink:href=\"#m7bbc68a545\" y=\"214.930416\"/>\r\n     <use style=\"fill:#1f77b4;stroke:#1f77b4;\" x=\"73.555741\" xlink:href=\"#m7bbc68a545\" y=\"228.818085\"/>\r\n     <use style=\"fill:#1f77b4;stroke:#1f77b4;\" x=\"71.724432\" xlink:href=\"#m7bbc68a545\" y=\"229.874489\"/>\r\n     <use style=\"fill:#1f77b4;stroke:#1f77b4;\" x=\"75.753313\" xlink:href=\"#m7bbc68a545\" y=\"226.788813\"/>\r\n     <use style=\"fill:#1f77b4;stroke:#1f77b4;\" x=\"106.885574\" xlink:href=\"#m7bbc68a545\" y=\"201.008601\"/>\r\n     <use style=\"fill:#1f77b4;stroke:#1f77b4;\" x=\"78.317146\" xlink:href=\"#m7bbc68a545\" y=\"223.92952\"/>\r\n     <use style=\"fill:#1f77b4;stroke:#1f77b4;\" x=\"106.519312\" xlink:href=\"#m7bbc68a545\" y=\"202.380233\"/>\r\n     <use style=\"fill:#1f77b4;stroke:#1f77b4;\" x=\"73.555741\" xlink:href=\"#m7bbc68a545\" y=\"228.870356\"/>\r\n     <use style=\"fill:#1f77b4;stroke:#1f77b4;\" x=\"93.333884\" xlink:href=\"#m7bbc68a545\" y=\"211.090223\"/>\r\n     <use style=\"fill:#1f77b4;stroke:#1f77b4;\" x=\"100.659122\" xlink:href=\"#m7bbc68a545\" y=\"205.117487\"/>\r\n     <use style=\"fill:#1f77b4;stroke:#1f77b4;\" x=\"84.543598\" xlink:href=\"#m7bbc68a545\" y=\"218.200551\"/>\r\n     <use style=\"fill:#1f77b4;stroke:#1f77b4;\" x=\"141.680454\" xlink:href=\"#m7bbc68a545\" y=\"176.418814\"/>\r\n     <use style=\"fill:#1f77b4;stroke:#1f77b4;\" x=\"103.955479\" xlink:href=\"#m7bbc68a545\" y=\"202.598925\"/>\r\n     <use style=\"fill:#1f77b4;stroke:#1f77b4;\" x=\"113.478288\" xlink:href=\"#m7bbc68a545\" y=\"195.444088\"/>\r\n     <use style=\"fill:#1f77b4;stroke:#1f77b4;\" x=\"73.922003\" xlink:href=\"#m7bbc68a545\" y=\"227.148886\"/>\r\n     <use style=\"fill:#1f77b4;stroke:#1f77b4;\" x=\"82.712289\" xlink:href=\"#m7bbc68a545\" y=\"218.63155\"/>\r\n     <use style=\"fill:#1f77b4;stroke:#1f77b4;\" x=\"85.276122\" xlink:href=\"#m7bbc68a545\" y=\"217.548702\"/>\r\n     <use style=\"fill:#1f77b4;stroke:#1f77b4;\" x=\"95.897717\" xlink:href=\"#m7bbc68a545\" y=\"208.766717\"/>\r\n     <use style=\"fill:#1f77b4;stroke:#1f77b4;\" x=\"80.148455\" xlink:href=\"#m7bbc68a545\" y=\"222.193392\"/>\r\n     <use style=\"fill:#1f77b4;stroke:#1f77b4;\" x=\"96.263979\" xlink:href=\"#m7bbc68a545\" y=\"208.417332\"/>\r\n     <use style=\"fill:#1f77b4;stroke:#1f77b4;\" x=\"81.979765\" xlink:href=\"#m7bbc68a545\" y=\"220.622983\"/>\r\n     <use style=\"fill:#1f77b4;stroke:#1f77b4;\" x=\"73.555741\" xlink:href=\"#m7bbc68a545\" y=\"228.836781\"/>\r\n     <use style=\"fill:#1f77b4;stroke:#1f77b4;\" x=\"174.277763\" xlink:href=\"#m7bbc68a545\" y=\"156.05311\"/>\r\n     <use style=\"fill:#1f77b4;stroke:#1f77b4;\" x=\"86.74117\" xlink:href=\"#m7bbc68a545\" y=\"216.303784\"/>\r\n     <use style=\"fill:#1f77b4;stroke:#1f77b4;\" x=\"91.502574\" xlink:href=\"#m7bbc68a545\" y=\"212.289776\"/>\r\n     <use style=\"fill:#1f77b4;stroke:#1f77b4;\" x=\"84.543598\" xlink:href=\"#m7bbc68a545\" y=\"218.218221\"/>\r\n     <use style=\"fill:#1f77b4;stroke:#1f77b4;\" x=\"84.543598\" xlink:href=\"#m7bbc68a545\" y=\"218.237444\"/>\r\n     <use style=\"fill:#1f77b4;stroke:#1f77b4;\" x=\"77.950884\" xlink:href=\"#m7bbc68a545\" y=\"224.30853\"/>\r\n     <use style=\"fill:#1f77b4;stroke:#1f77b4;\" x=\"75.753313\" xlink:href=\"#m7bbc68a545\" y=\"226.537746\"/>\r\n     <use style=\"fill:#1f77b4;stroke:#1f77b4;\" x=\"108.716883\" xlink:href=\"#m7bbc68a545\" y=\"199.033423\"/>\r\n     <use style=\"fill:#1f77b4;stroke:#1f77b4;\" x=\"77.950884\" xlink:href=\"#m7bbc68a545\" y=\"224.3287\"/>\r\n     <use style=\"fill:#1f77b4;stroke:#1f77b4;\" x=\"195.887215\" xlink:href=\"#m7bbc68a545\" y=\"144.871766\"/>\r\n     <use style=\"fill:#1f77b4;stroke:#1f77b4;\" x=\"91.136312\" xlink:href=\"#m7bbc68a545\" y=\"212.744565\"/>\r\n     <use style=\"fill:#1f77b4;stroke:#1f77b4;\" x=\"80.148455\" xlink:href=\"#m7bbc68a545\" y=\"222.548794\"/>\r\n     <use style=\"fill:#1f77b4;stroke:#1f77b4;\" x=\"86.74117\" xlink:href=\"#m7bbc68a545\" y=\"216.551848\"/>\r\n     <use style=\"fill:#1f77b4;stroke:#1f77b4;\" x=\"88.938741\" xlink:href=\"#m7bbc68a545\" y=\"214.664267\"/>\r\n     <use style=\"fill:#1f77b4;stroke:#1f77b4;\" x=\"91.136312\" xlink:href=\"#m7bbc68a545\" y=\"212.787076\"/>\r\n     <use style=\"fill:#1f77b4;stroke:#1f77b4;\" x=\"73.555741\" xlink:href=\"#m7bbc68a545\" y=\"228.821364\"/>\r\n     <use style=\"fill:#1f77b4;stroke:#1f77b4;\" x=\"84.543598\" xlink:href=\"#m7bbc68a545\" y=\"218.212095\"/>\r\n     <use style=\"fill:#1f77b4;stroke:#1f77b4;\" x=\"230.682095\" xlink:href=\"#m7bbc68a545\" y=\"124.474339\"/>\r\n     <use style=\"fill:#1f77b4;stroke:#1f77b4;\" x=\"109.449407\" xlink:href=\"#m7bbc68a545\" y=\"198.497403\"/>\r\n     <use style=\"fill:#1f77b4;stroke:#1f77b4;\" x=\"84.543598\" xlink:href=\"#m7bbc68a545\" y=\"218.28089\"/>\r\n     <use style=\"fill:#1f77b4;stroke:#1f77b4;\" x=\"80.514717\" xlink:href=\"#m7bbc68a545\" y=\"222.012773\"/>\r\n     <use style=\"fill:#1f77b4;stroke:#1f77b4;\" x=\"73.555741\" xlink:href=\"#m7bbc68a545\" y=\"228.803978\"/>\r\n     <use style=\"fill:#1f77b4;stroke:#1f77b4;\" x=\"88.938741\" xlink:href=\"#m7bbc68a545\" y=\"214.514765\"/>\r\n     <use style=\"fill:#1f77b4;stroke:#1f77b4;\" x=\"218.595452\" xlink:href=\"#m7bbc68a545\" y=\"130.520776\"/>\r\n     <use style=\"fill:#1f77b4;stroke:#1f77b4;\" x=\"115.675859\" xlink:href=\"#m7bbc68a545\" y=\"193.949107\"/>\r\n     <use style=\"fill:#1f77b4;stroke:#1f77b4;\" x=\"226.653214\" xlink:href=\"#m7bbc68a545\" y=\"126.103462\"/>\r\n     <use style=\"fill:#1f77b4;stroke:#1f77b4;\" x=\"194.422167\" xlink:href=\"#m7bbc68a545\" y=\"144.812211\"/>\r\n     <use style=\"fill:#1f77b4;stroke:#1f77b4;\" x=\"73.555741\" xlink:href=\"#m7bbc68a545\" y=\"228.808286\"/>\r\n     <use style=\"fill:#1f77b4;stroke:#1f77b4;\" x=\"71.724432\" xlink:href=\"#m7bbc68a545\" y=\"229.874489\"/>\r\n     <use style=\"fill:#1f77b4;stroke:#1f77b4;\" x=\"129.22755\" xlink:href=\"#m7bbc68a545\" y=\"184.523919\"/>\r\n     <use style=\"fill:#1f77b4;stroke:#1f77b4;\" x=\"88.938741\" xlink:href=\"#m7bbc68a545\" y=\"214.446022\"/>\r\n     <use style=\"fill:#1f77b4;stroke:#1f77b4;\" x=\"84.543598\" xlink:href=\"#m7bbc68a545\" y=\"217.071956\"/>\r\n     <use style=\"fill:#1f77b4;stroke:#1f77b4;\" x=\"77.950884\" xlink:href=\"#m7bbc68a545\" y=\"224.465651\"/>\r\n     <use style=\"fill:#1f77b4;stroke:#1f77b4;\" x=\"80.514717\" xlink:href=\"#m7bbc68a545\" y=\"221.940001\"/>\r\n     <use style=\"fill:#1f77b4;stroke:#1f77b4;\" x=\"89.671265\" xlink:href=\"#m7bbc68a545\" y=\"213.80552\"/>\r\n     <use style=\"fill:#1f77b4;stroke:#1f77b4;\" x=\"173.545239\" xlink:href=\"#m7bbc68a545\" y=\"156.349963\"/>\r\n     <use style=\"fill:#1f77b4;stroke:#1f77b4;\" x=\"77.950884\" xlink:href=\"#m7bbc68a545\" y=\"223.131173\"/>\r\n     <use style=\"fill:#1f77b4;stroke:#1f77b4;\" x=\"77.950884\" xlink:href=\"#m7bbc68a545\" y=\"224.270322\"/>\r\n     <use style=\"fill:#1f77b4;stroke:#1f77b4;\" x=\"79.782194\" xlink:href=\"#m7bbc68a545\" y=\"222.565141\"/>\r\n     <use style=\"fill:#1f77b4;stroke:#1f77b4;\" x=\"110.181931\" xlink:href=\"#m7bbc68a545\" y=\"198.074121\"/>\r\n     <use style=\"fill:#1f77b4;stroke:#1f77b4;\" x=\"131.791383\" xlink:href=\"#m7bbc68a545\" y=\"182.88017\"/>\r\n     <use style=\"fill:#1f77b4;stroke:#1f77b4;\" x=\"91.868836\" xlink:href=\"#m7bbc68a545\" y=\"212.182976\"/>\r\n     <use style=\"fill:#1f77b4;stroke:#1f77b4;\" x=\"168.783835\" xlink:href=\"#m7bbc68a545\" y=\"159.729492\"/>\r\n     <use style=\"fill:#1f77b4;stroke:#1f77b4;\" x=\"76.119575\" xlink:href=\"#m7bbc68a545\" y=\"226.095988\"/>\r\n     <use style=\"fill:#1f77b4;stroke:#1f77b4;\" x=\"98.46155\" xlink:href=\"#m7bbc68a545\" y=\"206.826772\"/>\r\n     <use style=\"fill:#1f77b4;stroke:#1f77b4;\" x=\"205.776286\" xlink:href=\"#m7bbc68a545\" y=\"138.641539\"/>\r\n     <use style=\"fill:#1f77b4;stroke:#1f77b4;\" x=\"77.950884\" xlink:href=\"#m7bbc68a545\" y=\"224.312955\"/>\r\n     <use style=\"fill:#1f77b4;stroke:#1f77b4;\" x=\"93.333884\" xlink:href=\"#m7bbc68a545\" y=\"210.822337\"/>\r\n     <use style=\"fill:#1f77b4;stroke:#1f77b4;\" x=\"97.729027\" xlink:href=\"#m7bbc68a545\" y=\"207.509452\"/>\r\n     <use style=\"fill:#1f77b4;stroke:#1f77b4;\" x=\"110.181931\" xlink:href=\"#m7bbc68a545\" y=\"196.764473\"/>\r\n     <use style=\"fill:#1f77b4;stroke:#1f77b4;\" x=\"92.967622\" xlink:href=\"#m7bbc68a545\" y=\"211.237499\"/>\r\n     <use style=\"fill:#1f77b4;stroke:#1f77b4;\" x=\"159.627287\" xlink:href=\"#m7bbc68a545\" y=\"164.948213\"/>\r\n     <use style=\"fill:#1f77b4;stroke:#1f77b4;\" x=\"80.148455\" xlink:href=\"#m7bbc68a545\" y=\"222.18196\"/>\r\n     <use style=\"fill:#1f77b4;stroke:#1f77b4;\" x=\"83.078551\" xlink:href=\"#m7bbc68a545\" y=\"219.778852\"/>\r\n     <use style=\"fill:#1f77b4;stroke:#1f77b4;\" x=\"97.729027\" xlink:href=\"#m7bbc68a545\" y=\"206.220988\"/>\r\n     <use style=\"fill:#1f77b4;stroke:#1f77b4;\" x=\"175.010287\" xlink:href=\"#m7bbc68a545\" y=\"155.88889\"/>\r\n     <use style=\"fill:#1f77b4;stroke:#1f77b4;\" x=\"105.420526\" xlink:href=\"#m7bbc68a545\" y=\"203.438665\"/>\r\n     <use style=\"fill:#1f77b4;stroke:#1f77b4;\" x=\"84.90986\" xlink:href=\"#m7bbc68a545\" y=\"218.124185\"/>\r\n     <use style=\"fill:#1f77b4;stroke:#1f77b4;\" x=\"82.346027\" xlink:href=\"#m7bbc68a545\" y=\"220.108793\"/>\r\n     <use style=\"fill:#1f77b4;stroke:#1f77b4;\" x=\"82.712289\" xlink:href=\"#m7bbc68a545\" y=\"219.900947\"/>\r\n     <use style=\"fill:#1f77b4;stroke:#1f77b4;\" x=\"98.095288\" xlink:href=\"#m7bbc68a545\" y=\"207.062141\"/>\r\n     <use style=\"fill:#1f77b4;stroke:#1f77b4;\" x=\"82.346027\" xlink:href=\"#m7bbc68a545\" y=\"220.16533\"/>\r\n     <use style=\"fill:#1f77b4;stroke:#1f77b4;\" x=\"90.037527\" xlink:href=\"#m7bbc68a545\" y=\"213.574476\"/>\r\n     <use style=\"fill:#1f77b4;stroke:#1f77b4;\" x=\"86.74117\" xlink:href=\"#m7bbc68a545\" y=\"216.244857\"/>\r\n     <use style=\"fill:#1f77b4;stroke:#1f77b4;\" x=\"105.054264\" xlink:href=\"#m7bbc68a545\" y=\"201.709137\"/>\r\n     <use style=\"fill:#1f77b4;stroke:#1f77b4;\" x=\"171.347668\" xlink:href=\"#m7bbc68a545\" y=\"157.882551\"/>\r\n     <use style=\"fill:#1f77b4;stroke:#1f77b4;\" x=\"73.555741\" xlink:href=\"#m7bbc68a545\" y=\"228.642215\"/>\r\n     <use style=\"fill:#1f77b4;stroke:#1f77b4;\" x=\"73.555741\" xlink:href=\"#m7bbc68a545\" y=\"228.806942\"/>\r\n     <use style=\"fill:#1f77b4;stroke:#1f77b4;\" x=\"94.066408\" xlink:href=\"#m7bbc68a545\" y=\"210.305378\"/>\r\n     <use style=\"fill:#1f77b4;stroke:#1f77b4;\" x=\"75.753313\" xlink:href=\"#m7bbc68a545\" y=\"226.56893\"/>\r\n     <use style=\"fill:#1f77b4;stroke:#1f77b4;\" x=\"93.700146\" xlink:href=\"#m7bbc68a545\" y=\"209.449518\"/>\r\n     <use style=\"fill:#1f77b4;stroke:#1f77b4;\" x=\"73.555741\" xlink:href=\"#m7bbc68a545\" y=\"228.827064\"/>\r\n     <use style=\"fill:#1f77b4;stroke:#1f77b4;\" x=\"82.712289\" xlink:href=\"#m7bbc68a545\" y=\"219.836592\"/>\r\n     <use style=\"fill:#1f77b4;stroke:#1f77b4;\" x=\"97.729027\" xlink:href=\"#m7bbc68a545\" y=\"206.35096\"/>\r\n     <use style=\"fill:#1f77b4;stroke:#1f77b4;\" x=\"98.46155\" xlink:href=\"#m7bbc68a545\" y=\"206.829349\"/>\r\n     <use style=\"fill:#1f77b4;stroke:#1f77b4;\" x=\"80.514717\" xlink:href=\"#m7bbc68a545\" y=\"221.877235\"/>\r\n     <use style=\"fill:#1f77b4;stroke:#1f77b4;\" x=\"75.753313\" xlink:href=\"#m7bbc68a545\" y=\"226.486317\"/>\r\n     <use style=\"fill:#1f77b4;stroke:#1f77b4;\" x=\"102.490431\" xlink:href=\"#m7bbc68a545\" y=\"203.660562\"/>\r\n     <use style=\"fill:#1f77b4;stroke:#1f77b4;\" x=\"77.950884\" xlink:href=\"#m7bbc68a545\" y=\"224.248755\"/>\r\n     <use style=\"fill:#1f77b4;stroke:#1f77b4;\" x=\"118.972217\" xlink:href=\"#m7bbc68a545\" y=\"192.835389\"/>\r\n     <use style=\"fill:#1f77b4;stroke:#1f77b4;\" x=\"88.938741\" xlink:href=\"#m7bbc68a545\" y=\"214.540286\"/>\r\n     <use style=\"fill:#1f77b4;stroke:#1f77b4;\" x=\"84.90986\" xlink:href=\"#m7bbc68a545\" y=\"217.894267\"/>\r\n     <use style=\"fill:#1f77b4;stroke:#1f77b4;\" x=\"376.088068\" xlink:href=\"#m7bbc68a545\" y=\"32.201761\"/>\r\n     <use style=\"fill:#1f77b4;stroke:#1f77b4;\" x=\"73.555741\" xlink:href=\"#m7bbc68a545\" y=\"228.787038\"/>\r\n     <use style=\"fill:#1f77b4;stroke:#1f77b4;\" x=\"80.880979\" xlink:href=\"#m7bbc68a545\" y=\"221.565793\"/>\r\n     <use style=\"fill:#1f77b4;stroke:#1f77b4;\" x=\"75.753313\" xlink:href=\"#m7bbc68a545\" y=\"226.597204\"/>\r\n     <use style=\"fill:#1f77b4;stroke:#1f77b4;\" x=\"80.880979\" xlink:href=\"#m7bbc68a545\" y=\"221.506235\"/>\r\n     <use style=\"fill:#1f77b4;stroke:#1f77b4;\" x=\"73.922003\" xlink:href=\"#m7bbc68a545\" y=\"228.448997\"/>\r\n     <use style=\"fill:#1f77b4;stroke:#1f77b4;\" x=\"77.950884\" xlink:href=\"#m7bbc68a545\" y=\"219.759788\"/>\r\n     <use style=\"fill:#1f77b4;stroke:#1f77b4;\" x=\"93.700146\" xlink:href=\"#m7bbc68a545\" y=\"209.187685\"/>\r\n     <use style=\"fill:#1f77b4;stroke:#1f77b4;\" x=\"106.519312\" xlink:href=\"#m7bbc68a545\" y=\"200.561549\"/>\r\n     <use style=\"fill:#1f77b4;stroke:#1f77b4;\" x=\"84.90986\" xlink:href=\"#m7bbc68a545\" y=\"217.833297\"/>\r\n     <use style=\"fill:#1f77b4;stroke:#1f77b4;\" x=\"94.066408\" xlink:href=\"#m7bbc68a545\" y=\"210.206309\"/>\r\n     <use style=\"fill:#1f77b4;stroke:#1f77b4;\" x=\"80.148455\" xlink:href=\"#m7bbc68a545\" y=\"222.080055\"/>\r\n     <use style=\"fill:#1f77b4;stroke:#1f77b4;\" x=\"93.700146\" xlink:href=\"#m7bbc68a545\" y=\"210.6883\"/>\r\n     <use style=\"fill:#1f77b4;stroke:#1f77b4;\" x=\"180.137953\" xlink:href=\"#m7bbc68a545\" y=\"152.409769\"/>\r\n     <use style=\"fill:#1f77b4;stroke:#1f77b4;\" x=\"77.950884\" xlink:href=\"#m7bbc68a545\" y=\"224.270377\"/>\r\n     <use style=\"fill:#1f77b4;stroke:#1f77b4;\" x=\"168.051311\" xlink:href=\"#m7bbc68a545\" y=\"159.651646\"/>\r\n     <use style=\"fill:#1f77b4;stroke:#1f77b4;\" x=\"80.514717\" xlink:href=\"#m7bbc68a545\" y=\"221.937021\"/>\r\n     <use style=\"fill:#1f77b4;stroke:#1f77b4;\" x=\"126.663716\" xlink:href=\"#m7bbc68a545\" y=\"187.043866\"/>\r\n     <use style=\"fill:#1f77b4;stroke:#1f77b4;\" x=\"82.712289\" xlink:href=\"#m7bbc68a545\" y=\"219.852904\"/>\r\n     <use style=\"fill:#1f77b4;stroke:#1f77b4;\" x=\"91.502574\" xlink:href=\"#m7bbc68a545\" y=\"212.331115\"/>\r\n     <use style=\"fill:#1f77b4;stroke:#1f77b4;\" x=\"107.251836\" xlink:href=\"#m7bbc68a545\" y=\"200.023405\"/>\r\n     <use style=\"fill:#1f77b4;stroke:#1f77b4;\" x=\"113.478288\" xlink:href=\"#m7bbc68a545\" y=\"195.413547\"/>\r\n     <use style=\"fill:#1f77b4;stroke:#1f77b4;\" x=\"82.346027\" xlink:href=\"#m7bbc68a545\" y=\"220.14417\"/>\r\n     <use style=\"fill:#1f77b4;stroke:#1f77b4;\" x=\"114.943336\" xlink:href=\"#m7bbc68a545\" y=\"194.464882\"/>\r\n     <use style=\"fill:#1f77b4;stroke:#1f77b4;\" x=\"77.950884\" xlink:href=\"#m7bbc68a545\" y=\"224.300977\"/>\r\n     <use style=\"fill:#1f77b4;stroke:#1f77b4;\" x=\"84.543598\" xlink:href=\"#m7bbc68a545\" y=\"218.220359\"/>\r\n     <use style=\"fill:#1f77b4;stroke:#1f77b4;\" x=\"102.124169\" xlink:href=\"#m7bbc68a545\" y=\"204.030835\"/>\r\n     <use style=\"fill:#1f77b4;stroke:#1f77b4;\" x=\"337.264307\" xlink:href=\"#m7bbc68a545\" y=\"70.232866\"/>\r\n     <use style=\"fill:#1f77b4;stroke:#1f77b4;\" x=\"88.938741\" xlink:href=\"#m7bbc68a545\" y=\"214.518169\"/>\r\n     <use style=\"fill:#1f77b4;stroke:#1f77b4;\" x=\"73.555741\" xlink:href=\"#m7bbc68a545\" y=\"228.837392\"/>\r\n     <use style=\"fill:#1f77b4;stroke:#1f77b4;\" x=\"109.083145\" xlink:href=\"#m7bbc68a545\" y=\"198.641243\"/>\r\n     <use style=\"fill:#1f77b4;stroke:#1f77b4;\" x=\"78.317146\" xlink:href=\"#m7bbc68a545\" y=\"223.978847\"/>\r\n     <use style=\"fill:#1f77b4;stroke:#1f77b4;\" x=\"91.868836\" xlink:href=\"#m7bbc68a545\" y=\"212.048703\"/>\r\n     <use style=\"fill:#1f77b4;stroke:#1f77b4;\" x=\"153.034573\" xlink:href=\"#m7bbc68a545\" y=\"162.524851\"/>\r\n     <use style=\"fill:#1f77b4;stroke:#1f77b4;\" x=\"75.753313\" xlink:href=\"#m7bbc68a545\" y=\"226.4559\"/>\r\n     <use style=\"fill:#1f77b4;stroke:#1f77b4;\" x=\"95.897717\" xlink:href=\"#m7bbc68a545\" y=\"209.291635\"/>\r\n     <use style=\"fill:#1f77b4;stroke:#1f77b4;\" x=\"73.555741\" xlink:href=\"#m7bbc68a545\" y=\"228.861649\"/>\r\n     <use style=\"fill:#1f77b4;stroke:#1f77b4;\" x=\"84.177336\" xlink:href=\"#m7bbc68a545\" y=\"218.534002\"/>\r\n     <use style=\"fill:#1f77b4;stroke:#1f77b4;\" x=\"84.90986\" xlink:href=\"#m7bbc68a545\" y=\"217.891313\"/>\r\n     <use style=\"fill:#1f77b4;stroke:#1f77b4;\" x=\"80.514717\" xlink:href=\"#m7bbc68a545\" y=\"222.04516\"/>\r\n     <use style=\"fill:#1f77b4;stroke:#1f77b4;\" x=\"157.795978\" xlink:href=\"#m7bbc68a545\" y=\"166.151979\"/>\r\n     <use style=\"fill:#1f77b4;stroke:#1f77b4;\" x=\"219.327976\" xlink:href=\"#m7bbc68a545\" y=\"130.196372\"/>\r\n     <use style=\"fill:#1f77b4;stroke:#1f77b4;\" x=\"87.473693\" xlink:href=\"#m7bbc68a545\" y=\"215.717077\"/>\r\n     <use style=\"fill:#1f77b4;stroke:#1f77b4;\" x=\"84.543598\" xlink:href=\"#m7bbc68a545\" y=\"218.26492\"/>\r\n     <use style=\"fill:#1f77b4;stroke:#1f77b4;\" x=\"84.543598\" xlink:href=\"#m7bbc68a545\" y=\"218.194698\"/>\r\n     <use style=\"fill:#1f77b4;stroke:#1f77b4;\" x=\"80.514717\" xlink:href=\"#m7bbc68a545\" y=\"220.502471\"/>\r\n     <use style=\"fill:#1f77b4;stroke:#1f77b4;\" x=\"169.150096\" xlink:href=\"#m7bbc68a545\" y=\"158.990022\"/>\r\n     <use style=\"fill:#1f77b4;stroke:#1f77b4;\" x=\"80.514717\" xlink:href=\"#m7bbc68a545\" y=\"221.86568\"/>\r\n     <use style=\"fill:#1f77b4;stroke:#1f77b4;\" x=\"97.362765\" xlink:href=\"#m7bbc68a545\" y=\"207.584424\"/>\r\n     <use style=\"fill:#1f77b4;stroke:#1f77b4;\" x=\"73.555741\" xlink:href=\"#m7bbc68a545\" y=\"228.811617\"/>\r\n     <use style=\"fill:#1f77b4;stroke:#1f77b4;\" x=\"78.317146\" xlink:href=\"#m7bbc68a545\" y=\"222.703048\"/>\r\n     <use style=\"fill:#1f77b4;stroke:#1f77b4;\" x=\"93.333884\" xlink:href=\"#m7bbc68a545\" y=\"210.919087\"/>\r\n     <use style=\"fill:#1f77b4;stroke:#1f77b4;\" x=\"82.346027\" xlink:href=\"#m7bbc68a545\" y=\"220.518546\"/>\r\n     <use style=\"fill:#1f77b4;stroke:#1f77b4;\" x=\"78.317146\" xlink:href=\"#m7bbc68a545\" y=\"223.932703\"/>\r\n     <use style=\"fill:#1f77b4;stroke:#1f77b4;\" x=\"84.90986\" xlink:href=\"#m7bbc68a545\" y=\"217.976006\"/>\r\n     <use style=\"fill:#1f77b4;stroke:#1f77b4;\" x=\"82.346027\" xlink:href=\"#m7bbc68a545\" y=\"220.222512\"/>\r\n     <use style=\"fill:#1f77b4;stroke:#1f77b4;\" x=\"73.922003\" xlink:href=\"#m7bbc68a545\" y=\"228.378028\"/>\r\n     <use style=\"fill:#1f77b4;stroke:#1f77b4;\" x=\"84.543598\" xlink:href=\"#m7bbc68a545\" y=\"218.193468\"/>\r\n     <use style=\"fill:#1f77b4;stroke:#1f77b4;\" x=\"117.873431\" xlink:href=\"#m7bbc68a545\" y=\"190.98432\"/>\r\n     <use style=\"fill:#1f77b4;stroke:#1f77b4;\" x=\"77.950884\" xlink:href=\"#m7bbc68a545\" y=\"224.309329\"/>\r\n     <use style=\"fill:#1f77b4;stroke:#1f77b4;\" x=\"73.555741\" xlink:href=\"#m7bbc68a545\" y=\"228.777008\"/>\r\n     <use style=\"fill:#1f77b4;stroke:#1f77b4;\" x=\"80.514717\" xlink:href=\"#m7bbc68a545\" y=\"221.790084\"/>\r\n     <use style=\"fill:#1f77b4;stroke:#1f77b4;\" x=\"88.938741\" xlink:href=\"#m7bbc68a545\" y=\"213.141538\"/>\r\n     <use style=\"fill:#1f77b4;stroke:#1f77b4;\" x=\"187.096929\" xlink:href=\"#m7bbc68a545\" y=\"149.648985\"/>\r\n     <use style=\"fill:#1f77b4;stroke:#1f77b4;\" x=\"98.095288\" xlink:href=\"#m7bbc68a545\" y=\"207.248251\"/>\r\n     <use style=\"fill:#1f77b4;stroke:#1f77b4;\" x=\"73.555741\" xlink:href=\"#m7bbc68a545\" y=\"228.810513\"/>\r\n     <use style=\"fill:#1f77b4;stroke:#1f77b4;\" x=\"133.622692\" xlink:href=\"#m7bbc68a545\" y=\"181.519434\"/>\r\n     <use style=\"fill:#1f77b4;stroke:#1f77b4;\" x=\"80.880979\" xlink:href=\"#m7bbc68a545\" y=\"221.548804\"/>\r\n     <use style=\"fill:#1f77b4;stroke:#1f77b4;\" x=\"85.642384\" xlink:href=\"#m7bbc68a545\" y=\"217.489119\"/>\r\n     <use style=\"fill:#1f77b4;stroke:#1f77b4;\" x=\"82.346027\" xlink:href=\"#m7bbc68a545\" y=\"220.16478\"/>\r\n    </g>\r\n   </g>\r\n   <g id=\"matplotlib.axis_1\">\r\n    <g id=\"xtick_1\">\r\n     <g id=\"line2d_1\">\r\n      <defs>\r\n       <path d=\"M 0 0 \r\nL 0 3.5 \r\n\" id=\"mde64192f48\" style=\"stroke:#000000;stroke-width:0.8;\"/>\r\n      </defs>\r\n      <g>\r\n       <use style=\"stroke:#000000;stroke-width:0.8;\" x=\"71.35817\" xlink:href=\"#mde64192f48\" y=\"239.758125\"/>\r\n      </g>\r\n     </g>\r\n     <g id=\"text_1\">\r\n      <!-- 0 -->\r\n      <g transform=\"translate(68.17692 254.356562)scale(0.1 -0.1)\">\r\n       <defs>\r\n        <path d=\"M 31.78125 66.40625 \r\nQ 24.171875 66.40625 20.328125 58.90625 \r\nQ 16.5 51.421875 16.5 36.375 \r\nQ 16.5 21.390625 20.328125 13.890625 \r\nQ 24.171875 6.390625 31.78125 6.390625 \r\nQ 39.453125 6.390625 43.28125 13.890625 \r\nQ 47.125 21.390625 47.125 36.375 \r\nQ 47.125 51.421875 43.28125 58.90625 \r\nQ 39.453125 66.40625 31.78125 66.40625 \r\nz\r\nM 31.78125 74.21875 \r\nQ 44.046875 74.21875 50.515625 64.515625 \r\nQ 56.984375 54.828125 56.984375 36.375 \r\nQ 56.984375 17.96875 50.515625 8.265625 \r\nQ 44.046875 -1.421875 31.78125 -1.421875 \r\nQ 19.53125 -1.421875 13.0625 8.265625 \r\nQ 6.59375 17.96875 6.59375 36.375 \r\nQ 6.59375 54.828125 13.0625 64.515625 \r\nQ 19.53125 74.21875 31.78125 74.21875 \r\nz\r\n\" id=\"DejaVuSans-48\"/>\r\n       </defs>\r\n       <use xlink:href=\"#DejaVuSans-48\"/>\r\n      </g>\r\n     </g>\r\n    </g>\r\n    <g id=\"xtick_2\">\r\n     <g id=\"line2d_2\">\r\n      <g>\r\n       <use style=\"stroke:#000000;stroke-width:0.8;\" x=\"144.610549\" xlink:href=\"#mde64192f48\" y=\"239.758125\"/>\r\n      </g>\r\n     </g>\r\n     <g id=\"text_2\">\r\n      <!-- 200 -->\r\n      <g transform=\"translate(135.066799 254.356562)scale(0.1 -0.1)\">\r\n       <defs>\r\n        <path d=\"M 19.1875 8.296875 \r\nL 53.609375 8.296875 \r\nL 53.609375 0 \r\nL 7.328125 0 \r\nL 7.328125 8.296875 \r\nQ 12.9375 14.109375 22.625 23.890625 \r\nQ 32.328125 33.6875 34.8125 36.53125 \r\nQ 39.546875 41.84375 41.421875 45.53125 \r\nQ 43.3125 49.21875 43.3125 52.78125 \r\nQ 43.3125 58.59375 39.234375 62.25 \r\nQ 35.15625 65.921875 28.609375 65.921875 \r\nQ 23.96875 65.921875 18.8125 64.3125 \r\nQ 13.671875 62.703125 7.8125 59.421875 \r\nL 7.8125 69.390625 \r\nQ 13.765625 71.78125 18.9375 73 \r\nQ 24.125 74.21875 28.421875 74.21875 \r\nQ 39.75 74.21875 46.484375 68.546875 \r\nQ 53.21875 62.890625 53.21875 53.421875 \r\nQ 53.21875 48.921875 51.53125 44.890625 \r\nQ 49.859375 40.875 45.40625 35.40625 \r\nQ 44.1875 33.984375 37.640625 27.21875 \r\nQ 31.109375 20.453125 19.1875 8.296875 \r\nz\r\n\" id=\"DejaVuSans-50\"/>\r\n       </defs>\r\n       <use xlink:href=\"#DejaVuSans-50\"/>\r\n       <use x=\"63.623047\" xlink:href=\"#DejaVuSans-48\"/>\r\n       <use x=\"127.246094\" xlink:href=\"#DejaVuSans-48\"/>\r\n      </g>\r\n     </g>\r\n    </g>\r\n    <g id=\"xtick_3\">\r\n     <g id=\"line2d_3\">\r\n      <g>\r\n       <use style=\"stroke:#000000;stroke-width:0.8;\" x=\"217.862929\" xlink:href=\"#mde64192f48\" y=\"239.758125\"/>\r\n      </g>\r\n     </g>\r\n     <g id=\"text_3\">\r\n      <!-- 400 -->\r\n      <g transform=\"translate(208.319179 254.356562)scale(0.1 -0.1)\">\r\n       <defs>\r\n        <path d=\"M 37.796875 64.3125 \r\nL 12.890625 25.390625 \r\nL 37.796875 25.390625 \r\nz\r\nM 35.203125 72.90625 \r\nL 47.609375 72.90625 \r\nL 47.609375 25.390625 \r\nL 58.015625 25.390625 \r\nL 58.015625 17.1875 \r\nL 47.609375 17.1875 \r\nL 47.609375 0 \r\nL 37.796875 0 \r\nL 37.796875 17.1875 \r\nL 4.890625 17.1875 \r\nL 4.890625 26.703125 \r\nz\r\n\" id=\"DejaVuSans-52\"/>\r\n       </defs>\r\n       <use xlink:href=\"#DejaVuSans-52\"/>\r\n       <use x=\"63.623047\" xlink:href=\"#DejaVuSans-48\"/>\r\n       <use x=\"127.246094\" xlink:href=\"#DejaVuSans-48\"/>\r\n      </g>\r\n     </g>\r\n    </g>\r\n    <g id=\"xtick_4\">\r\n     <g id=\"line2d_4\">\r\n      <g>\r\n       <use style=\"stroke:#000000;stroke-width:0.8;\" x=\"291.115308\" xlink:href=\"#mde64192f48\" y=\"239.758125\"/>\r\n      </g>\r\n     </g>\r\n     <g id=\"text_4\">\r\n      <!-- 600 -->\r\n      <g transform=\"translate(281.571558 254.356562)scale(0.1 -0.1)\">\r\n       <defs>\r\n        <path d=\"M 33.015625 40.375 \r\nQ 26.375 40.375 22.484375 35.828125 \r\nQ 18.609375 31.296875 18.609375 23.390625 \r\nQ 18.609375 15.53125 22.484375 10.953125 \r\nQ 26.375 6.390625 33.015625 6.390625 \r\nQ 39.65625 6.390625 43.53125 10.953125 \r\nQ 47.40625 15.53125 47.40625 23.390625 \r\nQ 47.40625 31.296875 43.53125 35.828125 \r\nQ 39.65625 40.375 33.015625 40.375 \r\nz\r\nM 52.59375 71.296875 \r\nL 52.59375 62.3125 \r\nQ 48.875 64.0625 45.09375 64.984375 \r\nQ 41.3125 65.921875 37.59375 65.921875 \r\nQ 27.828125 65.921875 22.671875 59.328125 \r\nQ 17.53125 52.734375 16.796875 39.40625 \r\nQ 19.671875 43.65625 24.015625 45.921875 \r\nQ 28.375 48.1875 33.59375 48.1875 \r\nQ 44.578125 48.1875 50.953125 41.515625 \r\nQ 57.328125 34.859375 57.328125 23.390625 \r\nQ 57.328125 12.15625 50.6875 5.359375 \r\nQ 44.046875 -1.421875 33.015625 -1.421875 \r\nQ 20.359375 -1.421875 13.671875 8.265625 \r\nQ 6.984375 17.96875 6.984375 36.375 \r\nQ 6.984375 53.65625 15.1875 63.9375 \r\nQ 23.390625 74.21875 37.203125 74.21875 \r\nQ 40.921875 74.21875 44.703125 73.484375 \r\nQ 48.484375 72.75 52.59375 71.296875 \r\nz\r\n\" id=\"DejaVuSans-54\"/>\r\n       </defs>\r\n       <use xlink:href=\"#DejaVuSans-54\"/>\r\n       <use x=\"63.623047\" xlink:href=\"#DejaVuSans-48\"/>\r\n       <use x=\"127.246094\" xlink:href=\"#DejaVuSans-48\"/>\r\n      </g>\r\n     </g>\r\n    </g>\r\n    <g id=\"xtick_5\">\r\n     <g id=\"line2d_5\">\r\n      <g>\r\n       <use style=\"stroke:#000000;stroke-width:0.8;\" x=\"364.367687\" xlink:href=\"#mde64192f48\" y=\"239.758125\"/>\r\n      </g>\r\n     </g>\r\n     <g id=\"text_5\">\r\n      <!-- 800 -->\r\n      <g transform=\"translate(354.823937 254.356562)scale(0.1 -0.1)\">\r\n       <defs>\r\n        <path d=\"M 31.78125 34.625 \r\nQ 24.75 34.625 20.71875 30.859375 \r\nQ 16.703125 27.09375 16.703125 20.515625 \r\nQ 16.703125 13.921875 20.71875 10.15625 \r\nQ 24.75 6.390625 31.78125 6.390625 \r\nQ 38.8125 6.390625 42.859375 10.171875 \r\nQ 46.921875 13.96875 46.921875 20.515625 \r\nQ 46.921875 27.09375 42.890625 30.859375 \r\nQ 38.875 34.625 31.78125 34.625 \r\nz\r\nM 21.921875 38.8125 \r\nQ 15.578125 40.375 12.03125 44.71875 \r\nQ 8.5 49.078125 8.5 55.328125 \r\nQ 8.5 64.0625 14.71875 69.140625 \r\nQ 20.953125 74.21875 31.78125 74.21875 \r\nQ 42.671875 74.21875 48.875 69.140625 \r\nQ 55.078125 64.0625 55.078125 55.328125 \r\nQ 55.078125 49.078125 51.53125 44.71875 \r\nQ 48 40.375 41.703125 38.8125 \r\nQ 48.828125 37.15625 52.796875 32.3125 \r\nQ 56.78125 27.484375 56.78125 20.515625 \r\nQ 56.78125 9.90625 50.3125 4.234375 \r\nQ 43.84375 -1.421875 31.78125 -1.421875 \r\nQ 19.734375 -1.421875 13.25 4.234375 \r\nQ 6.78125 9.90625 6.78125 20.515625 \r\nQ 6.78125 27.484375 10.78125 32.3125 \r\nQ 14.796875 37.15625 21.921875 38.8125 \r\nz\r\nM 18.3125 54.390625 \r\nQ 18.3125 48.734375 21.84375 45.5625 \r\nQ 25.390625 42.390625 31.78125 42.390625 \r\nQ 38.140625 42.390625 41.71875 45.5625 \r\nQ 45.3125 48.734375 45.3125 54.390625 \r\nQ 45.3125 60.0625 41.71875 63.234375 \r\nQ 38.140625 66.40625 31.78125 66.40625 \r\nQ 25.390625 66.40625 21.84375 63.234375 \r\nQ 18.3125 60.0625 18.3125 54.390625 \r\nz\r\n\" id=\"DejaVuSans-56\"/>\r\n       </defs>\r\n       <use xlink:href=\"#DejaVuSans-56\"/>\r\n       <use x=\"63.623047\" xlink:href=\"#DejaVuSans-48\"/>\r\n       <use x=\"127.246094\" xlink:href=\"#DejaVuSans-48\"/>\r\n      </g>\r\n     </g>\r\n    </g>\r\n    <g id=\"text_6\">\r\n     <!-- target_counts -->\r\n     <g transform=\"translate(189.492188 267.756562)scale(0.1 -0.1)\">\r\n      <defs>\r\n       <path d=\"M 18.3125 70.21875 \r\nL 18.3125 54.6875 \r\nL 36.8125 54.6875 \r\nL 36.8125 47.703125 \r\nL 18.3125 47.703125 \r\nL 18.3125 18.015625 \r\nQ 18.3125 11.328125 20.140625 9.421875 \r\nQ 21.96875 7.515625 27.59375 7.515625 \r\nL 36.8125 7.515625 \r\nL 36.8125 0 \r\nL 27.59375 0 \r\nQ 17.1875 0 13.234375 3.875 \r\nQ 9.28125 7.765625 9.28125 18.015625 \r\nL 9.28125 47.703125 \r\nL 2.6875 47.703125 \r\nL 2.6875 54.6875 \r\nL 9.28125 54.6875 \r\nL 9.28125 70.21875 \r\nz\r\n\" id=\"DejaVuSans-116\"/>\r\n       <path d=\"M 34.28125 27.484375 \r\nQ 23.390625 27.484375 19.1875 25 \r\nQ 14.984375 22.515625 14.984375 16.5 \r\nQ 14.984375 11.71875 18.140625 8.90625 \r\nQ 21.296875 6.109375 26.703125 6.109375 \r\nQ 34.1875 6.109375 38.703125 11.40625 \r\nQ 43.21875 16.703125 43.21875 25.484375 \r\nL 43.21875 27.484375 \r\nz\r\nM 52.203125 31.203125 \r\nL 52.203125 0 \r\nL 43.21875 0 \r\nL 43.21875 8.296875 \r\nQ 40.140625 3.328125 35.546875 0.953125 \r\nQ 30.953125 -1.421875 24.3125 -1.421875 \r\nQ 15.921875 -1.421875 10.953125 3.296875 \r\nQ 6 8.015625 6 15.921875 \r\nQ 6 25.140625 12.171875 29.828125 \r\nQ 18.359375 34.515625 30.609375 34.515625 \r\nL 43.21875 34.515625 \r\nL 43.21875 35.40625 \r\nQ 43.21875 41.609375 39.140625 45 \r\nQ 35.0625 48.390625 27.6875 48.390625 \r\nQ 23 48.390625 18.546875 47.265625 \r\nQ 14.109375 46.140625 10.015625 43.890625 \r\nL 10.015625 52.203125 \r\nQ 14.9375 54.109375 19.578125 55.046875 \r\nQ 24.21875 56 28.609375 56 \r\nQ 40.484375 56 46.34375 49.84375 \r\nQ 52.203125 43.703125 52.203125 31.203125 \r\nz\r\n\" id=\"DejaVuSans-97\"/>\r\n       <path d=\"M 41.109375 46.296875 \r\nQ 39.59375 47.171875 37.8125 47.578125 \r\nQ 36.03125 48 33.890625 48 \r\nQ 26.265625 48 22.1875 43.046875 \r\nQ 18.109375 38.09375 18.109375 28.8125 \r\nL 18.109375 0 \r\nL 9.078125 0 \r\nL 9.078125 54.6875 \r\nL 18.109375 54.6875 \r\nL 18.109375 46.1875 \r\nQ 20.953125 51.171875 25.484375 53.578125 \r\nQ 30.03125 56 36.53125 56 \r\nQ 37.453125 56 38.578125 55.875 \r\nQ 39.703125 55.765625 41.0625 55.515625 \r\nz\r\n\" id=\"DejaVuSans-114\"/>\r\n       <path d=\"M 45.40625 27.984375 \r\nQ 45.40625 37.75 41.375 43.109375 \r\nQ 37.359375 48.484375 30.078125 48.484375 \r\nQ 22.859375 48.484375 18.828125 43.109375 \r\nQ 14.796875 37.75 14.796875 27.984375 \r\nQ 14.796875 18.265625 18.828125 12.890625 \r\nQ 22.859375 7.515625 30.078125 7.515625 \r\nQ 37.359375 7.515625 41.375 12.890625 \r\nQ 45.40625 18.265625 45.40625 27.984375 \r\nz\r\nM 54.390625 6.78125 \r\nQ 54.390625 -7.171875 48.1875 -13.984375 \r\nQ 42 -20.796875 29.203125 -20.796875 \r\nQ 24.46875 -20.796875 20.265625 -20.09375 \r\nQ 16.0625 -19.390625 12.109375 -17.921875 \r\nL 12.109375 -9.1875 \r\nQ 16.0625 -11.328125 19.921875 -12.34375 \r\nQ 23.78125 -13.375 27.78125 -13.375 \r\nQ 36.625 -13.375 41.015625 -8.765625 \r\nQ 45.40625 -4.15625 45.40625 5.171875 \r\nL 45.40625 9.625 \r\nQ 42.625 4.78125 38.28125 2.390625 \r\nQ 33.9375 0 27.875 0 \r\nQ 17.828125 0 11.671875 7.65625 \r\nQ 5.515625 15.328125 5.515625 27.984375 \r\nQ 5.515625 40.671875 11.671875 48.328125 \r\nQ 17.828125 56 27.875 56 \r\nQ 33.9375 56 38.28125 53.609375 \r\nQ 42.625 51.21875 45.40625 46.390625 \r\nL 45.40625 54.6875 \r\nL 54.390625 54.6875 \r\nz\r\n\" id=\"DejaVuSans-103\"/>\r\n       <path d=\"M 56.203125 29.59375 \r\nL 56.203125 25.203125 \r\nL 14.890625 25.203125 \r\nQ 15.484375 15.921875 20.484375 11.0625 \r\nQ 25.484375 6.203125 34.421875 6.203125 \r\nQ 39.59375 6.203125 44.453125 7.46875 \r\nQ 49.3125 8.734375 54.109375 11.28125 \r\nL 54.109375 2.78125 \r\nQ 49.265625 0.734375 44.1875 -0.34375 \r\nQ 39.109375 -1.421875 33.890625 -1.421875 \r\nQ 20.796875 -1.421875 13.15625 6.1875 \r\nQ 5.515625 13.8125 5.515625 26.8125 \r\nQ 5.515625 40.234375 12.765625 48.109375 \r\nQ 20.015625 56 32.328125 56 \r\nQ 43.359375 56 49.78125 48.890625 \r\nQ 56.203125 41.796875 56.203125 29.59375 \r\nz\r\nM 47.21875 32.234375 \r\nQ 47.125 39.59375 43.09375 43.984375 \r\nQ 39.0625 48.390625 32.421875 48.390625 \r\nQ 24.90625 48.390625 20.390625 44.140625 \r\nQ 15.875 39.890625 15.1875 32.171875 \r\nz\r\n\" id=\"DejaVuSans-101\"/>\r\n       <path d=\"M 50.984375 -16.609375 \r\nL 50.984375 -23.578125 \r\nL -0.984375 -23.578125 \r\nL -0.984375 -16.609375 \r\nz\r\n\" id=\"DejaVuSans-95\"/>\r\n       <path d=\"M 48.78125 52.59375 \r\nL 48.78125 44.1875 \r\nQ 44.96875 46.296875 41.140625 47.34375 \r\nQ 37.3125 48.390625 33.40625 48.390625 \r\nQ 24.65625 48.390625 19.8125 42.84375 \r\nQ 14.984375 37.3125 14.984375 27.296875 \r\nQ 14.984375 17.28125 19.8125 11.734375 \r\nQ 24.65625 6.203125 33.40625 6.203125 \r\nQ 37.3125 6.203125 41.140625 7.25 \r\nQ 44.96875 8.296875 48.78125 10.40625 \r\nL 48.78125 2.09375 \r\nQ 45.015625 0.34375 40.984375 -0.53125 \r\nQ 36.96875 -1.421875 32.421875 -1.421875 \r\nQ 20.0625 -1.421875 12.78125 6.34375 \r\nQ 5.515625 14.109375 5.515625 27.296875 \r\nQ 5.515625 40.671875 12.859375 48.328125 \r\nQ 20.21875 56 33.015625 56 \r\nQ 37.15625 56 41.109375 55.140625 \r\nQ 45.0625 54.296875 48.78125 52.59375 \r\nz\r\n\" id=\"DejaVuSans-99\"/>\r\n       <path d=\"M 30.609375 48.390625 \r\nQ 23.390625 48.390625 19.1875 42.75 \r\nQ 14.984375 37.109375 14.984375 27.296875 \r\nQ 14.984375 17.484375 19.15625 11.84375 \r\nQ 23.34375 6.203125 30.609375 6.203125 \r\nQ 37.796875 6.203125 41.984375 11.859375 \r\nQ 46.1875 17.53125 46.1875 27.296875 \r\nQ 46.1875 37.015625 41.984375 42.703125 \r\nQ 37.796875 48.390625 30.609375 48.390625 \r\nz\r\nM 30.609375 56 \r\nQ 42.328125 56 49.015625 48.375 \r\nQ 55.71875 40.765625 55.71875 27.296875 \r\nQ 55.71875 13.875 49.015625 6.21875 \r\nQ 42.328125 -1.421875 30.609375 -1.421875 \r\nQ 18.84375 -1.421875 12.171875 6.21875 \r\nQ 5.515625 13.875 5.515625 27.296875 \r\nQ 5.515625 40.765625 12.171875 48.375 \r\nQ 18.84375 56 30.609375 56 \r\nz\r\n\" id=\"DejaVuSans-111\"/>\r\n       <path d=\"M 8.5 21.578125 \r\nL 8.5 54.6875 \r\nL 17.484375 54.6875 \r\nL 17.484375 21.921875 \r\nQ 17.484375 14.15625 20.5 10.265625 \r\nQ 23.53125 6.390625 29.59375 6.390625 \r\nQ 36.859375 6.390625 41.078125 11.03125 \r\nQ 45.3125 15.671875 45.3125 23.6875 \r\nL 45.3125 54.6875 \r\nL 54.296875 54.6875 \r\nL 54.296875 0 \r\nL 45.3125 0 \r\nL 45.3125 8.40625 \r\nQ 42.046875 3.421875 37.71875 1 \r\nQ 33.40625 -1.421875 27.6875 -1.421875 \r\nQ 18.265625 -1.421875 13.375 4.4375 \r\nQ 8.5 10.296875 8.5 21.578125 \r\nz\r\nM 31.109375 56 \r\nz\r\n\" id=\"DejaVuSans-117\"/>\r\n       <path d=\"M 54.890625 33.015625 \r\nL 54.890625 0 \r\nL 45.90625 0 \r\nL 45.90625 32.71875 \r\nQ 45.90625 40.484375 42.875 44.328125 \r\nQ 39.84375 48.1875 33.796875 48.1875 \r\nQ 26.515625 48.1875 22.3125 43.546875 \r\nQ 18.109375 38.921875 18.109375 30.90625 \r\nL 18.109375 0 \r\nL 9.078125 0 \r\nL 9.078125 54.6875 \r\nL 18.109375 54.6875 \r\nL 18.109375 46.1875 \r\nQ 21.34375 51.125 25.703125 53.5625 \r\nQ 30.078125 56 35.796875 56 \r\nQ 45.21875 56 50.046875 50.171875 \r\nQ 54.890625 44.34375 54.890625 33.015625 \r\nz\r\n\" id=\"DejaVuSans-110\"/>\r\n       <path d=\"M 44.28125 53.078125 \r\nL 44.28125 44.578125 \r\nQ 40.484375 46.53125 36.375 47.5 \r\nQ 32.28125 48.484375 27.875 48.484375 \r\nQ 21.1875 48.484375 17.84375 46.4375 \r\nQ 14.5 44.390625 14.5 40.28125 \r\nQ 14.5 37.15625 16.890625 35.375 \r\nQ 19.28125 33.59375 26.515625 31.984375 \r\nL 29.59375 31.296875 \r\nQ 39.15625 29.25 43.1875 25.515625 \r\nQ 47.21875 21.78125 47.21875 15.09375 \r\nQ 47.21875 7.46875 41.1875 3.015625 \r\nQ 35.15625 -1.421875 24.609375 -1.421875 \r\nQ 20.21875 -1.421875 15.453125 -0.5625 \r\nQ 10.6875 0.296875 5.421875 2 \r\nL 5.421875 11.28125 \r\nQ 10.40625 8.6875 15.234375 7.390625 \r\nQ 20.0625 6.109375 24.8125 6.109375 \r\nQ 31.15625 6.109375 34.5625 8.28125 \r\nQ 37.984375 10.453125 37.984375 14.40625 \r\nQ 37.984375 18.0625 35.515625 20.015625 \r\nQ 33.0625 21.96875 24.703125 23.78125 \r\nL 21.578125 24.515625 \r\nQ 13.234375 26.265625 9.515625 29.90625 \r\nQ 5.8125 33.546875 5.8125 39.890625 \r\nQ 5.8125 47.609375 11.28125 51.796875 \r\nQ 16.75 56 26.8125 56 \r\nQ 31.78125 56 36.171875 55.265625 \r\nQ 40.578125 54.546875 44.28125 53.078125 \r\nz\r\n\" id=\"DejaVuSans-115\"/>\r\n      </defs>\r\n      <use xlink:href=\"#DejaVuSans-116\"/>\r\n      <use x=\"39.208984\" xlink:href=\"#DejaVuSans-97\"/>\r\n      <use x=\"100.488281\" xlink:href=\"#DejaVuSans-114\"/>\r\n      <use x=\"139.851562\" xlink:href=\"#DejaVuSans-103\"/>\r\n      <use x=\"203.328125\" xlink:href=\"#DejaVuSans-101\"/>\r\n      <use x=\"264.851562\" xlink:href=\"#DejaVuSans-116\"/>\r\n      <use x=\"304.060547\" xlink:href=\"#DejaVuSans-95\"/>\r\n      <use x=\"354.060547\" xlink:href=\"#DejaVuSans-99\"/>\r\n      <use x=\"409.041016\" xlink:href=\"#DejaVuSans-111\"/>\r\n      <use x=\"470.222656\" xlink:href=\"#DejaVuSans-117\"/>\r\n      <use x=\"533.601562\" xlink:href=\"#DejaVuSans-110\"/>\r\n      <use x=\"596.980469\" xlink:href=\"#DejaVuSans-116\"/>\r\n      <use x=\"636.189453\" xlink:href=\"#DejaVuSans-115\"/>\r\n     </g>\r\n    </g>\r\n   </g>\r\n   <g id=\"matplotlib.axis_2\">\r\n    <g id=\"ytick_1\">\r\n     <g id=\"line2d_6\">\r\n      <defs>\r\n       <path d=\"M 0 0 \r\nL -3.5 0 \r\n\" id=\"mc4b625d187\" style=\"stroke:#000000;stroke-width:0.8;\"/>\r\n      </defs>\r\n      <g>\r\n       <use style=\"stroke:#000000;stroke-width:0.8;\" x=\"56.50625\" xlink:href=\"#mc4b625d187\" y=\"231.585788\"/>\r\n      </g>\r\n     </g>\r\n     <g id=\"text_7\">\r\n      <!-- 0.000 -->\r\n      <g transform=\"translate(20.878125 235.385007)scale(0.1 -0.1)\">\r\n       <defs>\r\n        <path d=\"M 10.6875 12.40625 \r\nL 21 12.40625 \r\nL 21 0 \r\nL 10.6875 0 \r\nz\r\n\" id=\"DejaVuSans-46\"/>\r\n       </defs>\r\n       <use xlink:href=\"#DejaVuSans-48\"/>\r\n       <use x=\"63.623047\" xlink:href=\"#DejaVuSans-46\"/>\r\n       <use x=\"95.410156\" xlink:href=\"#DejaVuSans-48\"/>\r\n       <use x=\"159.033203\" xlink:href=\"#DejaVuSans-48\"/>\r\n       <use x=\"222.65625\" xlink:href=\"#DejaVuSans-48\"/>\r\n      </g>\r\n     </g>\r\n    </g>\r\n    <g id=\"ytick_2\">\r\n     <g id=\"line2d_7\">\r\n      <g>\r\n       <use style=\"stroke:#000000;stroke-width:0.8;\" x=\"56.50625\" xlink:href=\"#mc4b625d187\" y=\"202.08787\"/>\r\n      </g>\r\n     </g>\r\n     <g id=\"text_8\">\r\n      <!-- 0.025 -->\r\n      <g transform=\"translate(20.878125 205.887089)scale(0.1 -0.1)\">\r\n       <defs>\r\n        <path d=\"M 10.796875 72.90625 \r\nL 49.515625 72.90625 \r\nL 49.515625 64.59375 \r\nL 19.828125 64.59375 \r\nL 19.828125 46.734375 \r\nQ 21.96875 47.46875 24.109375 47.828125 \r\nQ 26.265625 48.1875 28.421875 48.1875 \r\nQ 40.625 48.1875 47.75 41.5 \r\nQ 54.890625 34.8125 54.890625 23.390625 \r\nQ 54.890625 11.625 47.5625 5.09375 \r\nQ 40.234375 -1.421875 26.90625 -1.421875 \r\nQ 22.3125 -1.421875 17.546875 -0.640625 \r\nQ 12.796875 0.140625 7.71875 1.703125 \r\nL 7.71875 11.625 \r\nQ 12.109375 9.234375 16.796875 8.0625 \r\nQ 21.484375 6.890625 26.703125 6.890625 \r\nQ 35.15625 6.890625 40.078125 11.328125 \r\nQ 45.015625 15.765625 45.015625 23.390625 \r\nQ 45.015625 31 40.078125 35.4375 \r\nQ 35.15625 39.890625 26.703125 39.890625 \r\nQ 22.75 39.890625 18.8125 39.015625 \r\nQ 14.890625 38.140625 10.796875 36.28125 \r\nz\r\n\" id=\"DejaVuSans-53\"/>\r\n       </defs>\r\n       <use xlink:href=\"#DejaVuSans-48\"/>\r\n       <use x=\"63.623047\" xlink:href=\"#DejaVuSans-46\"/>\r\n       <use x=\"95.410156\" xlink:href=\"#DejaVuSans-48\"/>\r\n       <use x=\"159.033203\" xlink:href=\"#DejaVuSans-50\"/>\r\n       <use x=\"222.65625\" xlink:href=\"#DejaVuSans-53\"/>\r\n      </g>\r\n     </g>\r\n    </g>\r\n    <g id=\"ytick_3\">\r\n     <g id=\"line2d_8\">\r\n      <g>\r\n       <use style=\"stroke:#000000;stroke-width:0.8;\" x=\"56.50625\" xlink:href=\"#mc4b625d187\" y=\"172.589953\"/>\r\n      </g>\r\n     </g>\r\n     <g id=\"text_9\">\r\n      <!-- 0.050 -->\r\n      <g transform=\"translate(20.878125 176.389171)scale(0.1 -0.1)\">\r\n       <use xlink:href=\"#DejaVuSans-48\"/>\r\n       <use x=\"63.623047\" xlink:href=\"#DejaVuSans-46\"/>\r\n       <use x=\"95.410156\" xlink:href=\"#DejaVuSans-48\"/>\r\n       <use x=\"159.033203\" xlink:href=\"#DejaVuSans-53\"/>\r\n       <use x=\"222.65625\" xlink:href=\"#DejaVuSans-48\"/>\r\n      </g>\r\n     </g>\r\n    </g>\r\n    <g id=\"ytick_4\">\r\n     <g id=\"line2d_9\">\r\n      <g>\r\n       <use style=\"stroke:#000000;stroke-width:0.8;\" x=\"56.50625\" xlink:href=\"#mc4b625d187\" y=\"143.092035\"/>\r\n      </g>\r\n     </g>\r\n     <g id=\"text_10\">\r\n      <!-- 0.075 -->\r\n      <g transform=\"translate(20.878125 146.891254)scale(0.1 -0.1)\">\r\n       <defs>\r\n        <path d=\"M 8.203125 72.90625 \r\nL 55.078125 72.90625 \r\nL 55.078125 68.703125 \r\nL 28.609375 0 \r\nL 18.3125 0 \r\nL 43.21875 64.59375 \r\nL 8.203125 64.59375 \r\nz\r\n\" id=\"DejaVuSans-55\"/>\r\n       </defs>\r\n       <use xlink:href=\"#DejaVuSans-48\"/>\r\n       <use x=\"63.623047\" xlink:href=\"#DejaVuSans-46\"/>\r\n       <use x=\"95.410156\" xlink:href=\"#DejaVuSans-48\"/>\r\n       <use x=\"159.033203\" xlink:href=\"#DejaVuSans-55\"/>\r\n       <use x=\"222.65625\" xlink:href=\"#DejaVuSans-53\"/>\r\n      </g>\r\n     </g>\r\n    </g>\r\n    <g id=\"ytick_5\">\r\n     <g id=\"line2d_10\">\r\n      <g>\r\n       <use style=\"stroke:#000000;stroke-width:0.8;\" x=\"56.50625\" xlink:href=\"#mc4b625d187\" y=\"113.594117\"/>\r\n      </g>\r\n     </g>\r\n     <g id=\"text_11\">\r\n      <!-- 0.100 -->\r\n      <g transform=\"translate(20.878125 117.393336)scale(0.1 -0.1)\">\r\n       <defs>\r\n        <path d=\"M 12.40625 8.296875 \r\nL 28.515625 8.296875 \r\nL 28.515625 63.921875 \r\nL 10.984375 60.40625 \r\nL 10.984375 69.390625 \r\nL 28.421875 72.90625 \r\nL 38.28125 72.90625 \r\nL 38.28125 8.296875 \r\nL 54.390625 8.296875 \r\nL 54.390625 0 \r\nL 12.40625 0 \r\nz\r\n\" id=\"DejaVuSans-49\"/>\r\n       </defs>\r\n       <use xlink:href=\"#DejaVuSans-48\"/>\r\n       <use x=\"63.623047\" xlink:href=\"#DejaVuSans-46\"/>\r\n       <use x=\"95.410156\" xlink:href=\"#DejaVuSans-49\"/>\r\n       <use x=\"159.033203\" xlink:href=\"#DejaVuSans-48\"/>\r\n       <use x=\"222.65625\" xlink:href=\"#DejaVuSans-48\"/>\r\n      </g>\r\n     </g>\r\n    </g>\r\n    <g id=\"ytick_6\">\r\n     <g id=\"line2d_11\">\r\n      <g>\r\n       <use style=\"stroke:#000000;stroke-width:0.8;\" x=\"56.50625\" xlink:href=\"#mc4b625d187\" y=\"84.0962\"/>\r\n      </g>\r\n     </g>\r\n     <g id=\"text_12\">\r\n      <!-- 0.125 -->\r\n      <g transform=\"translate(20.878125 87.895418)scale(0.1 -0.1)\">\r\n       <use xlink:href=\"#DejaVuSans-48\"/>\r\n       <use x=\"63.623047\" xlink:href=\"#DejaVuSans-46\"/>\r\n       <use x=\"95.410156\" xlink:href=\"#DejaVuSans-49\"/>\r\n       <use x=\"159.033203\" xlink:href=\"#DejaVuSans-50\"/>\r\n       <use x=\"222.65625\" xlink:href=\"#DejaVuSans-53\"/>\r\n      </g>\r\n     </g>\r\n    </g>\r\n    <g id=\"ytick_7\">\r\n     <g id=\"line2d_12\">\r\n      <g>\r\n       <use style=\"stroke:#000000;stroke-width:0.8;\" x=\"56.50625\" xlink:href=\"#mc4b625d187\" y=\"54.598282\"/>\r\n      </g>\r\n     </g>\r\n     <g id=\"text_13\">\r\n      <!-- 0.150 -->\r\n      <g transform=\"translate(20.878125 58.397501)scale(0.1 -0.1)\">\r\n       <use xlink:href=\"#DejaVuSans-48\"/>\r\n       <use x=\"63.623047\" xlink:href=\"#DejaVuSans-46\"/>\r\n       <use x=\"95.410156\" xlink:href=\"#DejaVuSans-49\"/>\r\n       <use x=\"159.033203\" xlink:href=\"#DejaVuSans-53\"/>\r\n       <use x=\"222.65625\" xlink:href=\"#DejaVuSans-48\"/>\r\n      </g>\r\n     </g>\r\n    </g>\r\n    <g id=\"ytick_8\">\r\n     <g id=\"line2d_13\">\r\n      <g>\r\n       <use style=\"stroke:#000000;stroke-width:0.8;\" x=\"56.50625\" xlink:href=\"#mc4b625d187\" y=\"25.100364\"/>\r\n      </g>\r\n     </g>\r\n     <g id=\"text_14\">\r\n      <!-- 0.175 -->\r\n      <g transform=\"translate(20.878125 28.899583)scale(0.1 -0.1)\">\r\n       <use xlink:href=\"#DejaVuSans-48\"/>\r\n       <use x=\"63.623047\" xlink:href=\"#DejaVuSans-46\"/>\r\n       <use x=\"95.410156\" xlink:href=\"#DejaVuSans-49\"/>\r\n       <use x=\"159.033203\" xlink:href=\"#DejaVuSans-55\"/>\r\n       <use x=\"222.65625\" xlink:href=\"#DejaVuSans-53\"/>\r\n      </g>\r\n     </g>\r\n    </g>\r\n    <g id=\"text_15\">\r\n     <!-- log loss values -->\r\n     <g transform=\"translate(14.798437 167.759219)rotate(-90)scale(0.1 -0.1)\">\r\n      <defs>\r\n       <path d=\"M 9.421875 75.984375 \r\nL 18.40625 75.984375 \r\nL 18.40625 0 \r\nL 9.421875 0 \r\nz\r\n\" id=\"DejaVuSans-108\"/>\r\n       <path id=\"DejaVuSans-32\"/>\r\n       <path d=\"M 2.984375 54.6875 \r\nL 12.5 54.6875 \r\nL 29.59375 8.796875 \r\nL 46.6875 54.6875 \r\nL 56.203125 54.6875 \r\nL 35.6875 0 \r\nL 23.484375 0 \r\nz\r\n\" id=\"DejaVuSans-118\"/>\r\n      </defs>\r\n      <use xlink:href=\"#DejaVuSans-108\"/>\r\n      <use x=\"27.783203\" xlink:href=\"#DejaVuSans-111\"/>\r\n      <use x=\"88.964844\" xlink:href=\"#DejaVuSans-103\"/>\r\n      <use x=\"152.441406\" xlink:href=\"#DejaVuSans-32\"/>\r\n      <use x=\"184.228516\" xlink:href=\"#DejaVuSans-108\"/>\r\n      <use x=\"212.011719\" xlink:href=\"#DejaVuSans-111\"/>\r\n      <use x=\"273.193359\" xlink:href=\"#DejaVuSans-115\"/>\r\n      <use x=\"325.292969\" xlink:href=\"#DejaVuSans-115\"/>\r\n      <use x=\"377.392578\" xlink:href=\"#DejaVuSans-32\"/>\r\n      <use x=\"409.179688\" xlink:href=\"#DejaVuSans-118\"/>\r\n      <use x=\"468.359375\" xlink:href=\"#DejaVuSans-97\"/>\r\n      <use x=\"529.638672\" xlink:href=\"#DejaVuSans-108\"/>\r\n      <use x=\"557.421875\" xlink:href=\"#DejaVuSans-117\"/>\r\n      <use x=\"620.800781\" xlink:href=\"#DejaVuSans-101\"/>\r\n      <use x=\"682.324219\" xlink:href=\"#DejaVuSans-115\"/>\r\n     </g>\r\n    </g>\r\n   </g>\r\n   <g id=\"patch_3\">\r\n    <path d=\"M 56.50625 239.758125 \r\nL 56.50625 22.318125 \r\n\" style=\"fill:none;stroke:#000000;stroke-linecap:square;stroke-linejoin:miter;stroke-width:0.8;\"/>\r\n   </g>\r\n   <g id=\"patch_4\">\r\n    <path d=\"M 391.30625 239.758125 \r\nL 391.30625 22.318125 \r\n\" style=\"fill:none;stroke:#000000;stroke-linecap:square;stroke-linejoin:miter;stroke-width:0.8;\"/>\r\n   </g>\r\n   <g id=\"patch_5\">\r\n    <path d=\"M 56.50625 239.758125 \r\nL 391.30625 239.758125 \r\n\" style=\"fill:none;stroke:#000000;stroke-linecap:square;stroke-linejoin:miter;stroke-width:0.8;\"/>\r\n   </g>\r\n   <g id=\"patch_6\">\r\n    <path d=\"M 56.50625 22.318125 \r\nL 391.30625 22.318125 \r\n\" style=\"fill:none;stroke:#000000;stroke-linecap:square;stroke-linejoin:miter;stroke-width:0.8;\"/>\r\n   </g>\r\n   <g id=\"text_16\">\r\n    <!-- LinearSVR -->\r\n    <g transform=\"translate(193.175938 16.318125)scale(0.12 -0.12)\">\r\n     <defs>\r\n      <path d=\"M 9.8125 72.90625 \r\nL 19.671875 72.90625 \r\nL 19.671875 8.296875 \r\nL 55.171875 8.296875 \r\nL 55.171875 0 \r\nL 9.8125 0 \r\nz\r\n\" id=\"DejaVuSans-76\"/>\r\n      <path d=\"M 9.421875 54.6875 \r\nL 18.40625 54.6875 \r\nL 18.40625 0 \r\nL 9.421875 0 \r\nz\r\nM 9.421875 75.984375 \r\nL 18.40625 75.984375 \r\nL 18.40625 64.59375 \r\nL 9.421875 64.59375 \r\nz\r\n\" id=\"DejaVuSans-105\"/>\r\n      <path d=\"M 53.515625 70.515625 \r\nL 53.515625 60.890625 \r\nQ 47.90625 63.578125 42.921875 64.890625 \r\nQ 37.9375 66.21875 33.296875 66.21875 \r\nQ 25.25 66.21875 20.875 63.09375 \r\nQ 16.5 59.96875 16.5 54.203125 \r\nQ 16.5 49.359375 19.40625 46.890625 \r\nQ 22.3125 44.4375 30.421875 42.921875 \r\nL 36.375 41.703125 \r\nQ 47.40625 39.59375 52.65625 34.296875 \r\nQ 57.90625 29 57.90625 20.125 \r\nQ 57.90625 9.515625 50.796875 4.046875 \r\nQ 43.703125 -1.421875 29.984375 -1.421875 \r\nQ 24.8125 -1.421875 18.96875 -0.25 \r\nQ 13.140625 0.921875 6.890625 3.21875 \r\nL 6.890625 13.375 \r\nQ 12.890625 10.015625 18.65625 8.296875 \r\nQ 24.421875 6.59375 29.984375 6.59375 \r\nQ 38.421875 6.59375 43.015625 9.90625 \r\nQ 47.609375 13.234375 47.609375 19.390625 \r\nQ 47.609375 24.75 44.3125 27.78125 \r\nQ 41.015625 30.8125 33.5 32.328125 \r\nL 27.484375 33.5 \r\nQ 16.453125 35.6875 11.515625 40.375 \r\nQ 6.59375 45.0625 6.59375 53.421875 \r\nQ 6.59375 63.09375 13.40625 68.65625 \r\nQ 20.21875 74.21875 32.171875 74.21875 \r\nQ 37.3125 74.21875 42.625 73.28125 \r\nQ 47.953125 72.359375 53.515625 70.515625 \r\nz\r\n\" id=\"DejaVuSans-83\"/>\r\n      <path d=\"M 28.609375 0 \r\nL 0.78125 72.90625 \r\nL 11.078125 72.90625 \r\nL 34.1875 11.53125 \r\nL 57.328125 72.90625 \r\nL 67.578125 72.90625 \r\nL 39.796875 0 \r\nz\r\n\" id=\"DejaVuSans-86\"/>\r\n      <path d=\"M 44.390625 34.1875 \r\nQ 47.5625 33.109375 50.5625 29.59375 \r\nQ 53.5625 26.078125 56.59375 19.921875 \r\nL 66.609375 0 \r\nL 56 0 \r\nL 46.6875 18.703125 \r\nQ 43.0625 26.03125 39.671875 28.421875 \r\nQ 36.28125 30.8125 30.421875 30.8125 \r\nL 19.671875 30.8125 \r\nL 19.671875 0 \r\nL 9.8125 0 \r\nL 9.8125 72.90625 \r\nL 32.078125 72.90625 \r\nQ 44.578125 72.90625 50.734375 67.671875 \r\nQ 56.890625 62.453125 56.890625 51.90625 \r\nQ 56.890625 45.015625 53.6875 40.46875 \r\nQ 50.484375 35.9375 44.390625 34.1875 \r\nz\r\nM 19.671875 64.796875 \r\nL 19.671875 38.921875 \r\nL 32.078125 38.921875 \r\nQ 39.203125 38.921875 42.84375 42.21875 \r\nQ 46.484375 45.515625 46.484375 51.90625 \r\nQ 46.484375 58.296875 42.84375 61.546875 \r\nQ 39.203125 64.796875 32.078125 64.796875 \r\nz\r\n\" id=\"DejaVuSans-82\"/>\r\n     </defs>\r\n     <use xlink:href=\"#DejaVuSans-76\"/>\r\n     <use x=\"55.712891\" xlink:href=\"#DejaVuSans-105\"/>\r\n     <use x=\"83.496094\" xlink:href=\"#DejaVuSans-110\"/>\r\n     <use x=\"146.875\" xlink:href=\"#DejaVuSans-101\"/>\r\n     <use x=\"208.398438\" xlink:href=\"#DejaVuSans-97\"/>\r\n     <use x=\"269.677734\" xlink:href=\"#DejaVuSans-114\"/>\r\n     <use x=\"310.791016\" xlink:href=\"#DejaVuSans-83\"/>\r\n     <use x=\"374.267578\" xlink:href=\"#DejaVuSans-86\"/>\r\n     <use x=\"442.675781\" xlink:href=\"#DejaVuSans-82\"/>\r\n    </g>\r\n   </g>\r\n  </g>\r\n </g>\r\n <defs>\r\n  <clipPath id=\"pcae75cf782\">\r\n   <rect height=\"217.44\" width=\"334.8\" x=\"56.50625\" y=\"22.318125\"/>\r\n  </clipPath>\r\n </defs>\r\n</svg>\r\n",
      "image/png": "[encoded data removed]"
     },
     "metadata": {
      "needs_background": "light"
     }
    }
   ],
   "source": [
    "try:\n",
    "    res_linsvr = pd.read_pickle('pickles/res_linsvr')\n",
    "    ss_linsvr = pd.read_pickle('pickles/ss_linsvr')\n",
    "except:\n",
    "    from sklearn.svm import LinearSVR\n",
    "    for i in [1]: # left for further hyperparameter tuning\n",
    "        model = LinearSVR(random_state = 42, C=16, dual=False, loss='squared_epsilon_insensitive', tol=1e-5)\n",
    "        target_counts = []\n",
    "        linsvr_logloss_vals = []\n",
    "        ss_linsvr = ss_lr.copy()\n",
    "        res_linsvr = res_lr.copy()\n",
    "        ss_linsvr.loc[:, train_targets.columns] = 0\n",
    "        res_linsvr.loc[:, train_targets.columns] = 0\n",
    "        print(f'intercept_scaling = {i}')\n",
    "        res_linsvr, ss_linsvr, linsvr_loss_vals = run_score(\n",
    "            train_targets, X, x_test, res_linsvr, ss_linsvr, linsvr_logloss_vals)\n",
    "    plt.scatter(target_counts,linsvr_logloss_vals)\n",
    "    plt.xlabel('target_counts')\n",
    "    plt.ylabel('log loss values')\n",
    "    plt.title('LinearSVR')\n",
    "    plt.show()\n",
    "    res_linsvr.to_pickle('pickles/res_linsvr')\n",
    "    ss_linsvr.to_pickle('pickles/ss_linsvr')"
   ]
  },
  {
   "cell_type": "code",
   "execution_count": 14,
   "metadata": {},
   "outputs": [
    {
     "output_type": "stream",
     "name": "stdout",
     "text": [
      "intercept_scaling = 1\n"
     ]
    },
    {
     "output_type": "display_data",
     "data": {
      "text/plain": "HBox(children=(FloatProgress(value=0.0, max=206.0), HTML(value='')))",
      "application/vnd.jupyter.widget-view+json": {
       "version_major": 2,
       "version_minor": 0,
       "model_id": "ca806ea44c31422a879832869174f150"
      }
     },
     "metadata": {}
    },
    {
     "output_type": "stream",
     "name": "stdout",
     "text": [
      "\n",
      "Log Loss: 0.07418010286932093\n",
      "After manually eliminating control groups: 0.07413952578695462\n",
      "\n",
      "\n"
     ]
    },
    {
     "output_type": "display_data",
     "data": {
      "text/plain": "<Figure size 432x288 with 1 Axes>",
      "image/svg+xml": "<?xml version=\"1.0\" encoding=\"utf-8\" standalone=\"no\"?>\r\n<!DOCTYPE svg PUBLIC \"-//W3C//DTD SVG 1.1//EN\"\r\n  \"http://www.w3.org/Graphics/SVG/1.1/DTD/svg11.dtd\">\r\n<!-- Created with matplotlib (https://matplotlib.org/) -->\r\n<svg height=\"277.314375pt\" version=\"1.1\" viewBox=\"0 0 385.78125 277.314375\" width=\"385.78125pt\" xmlns=\"http://www.w3.org/2000/svg\" xmlns:xlink=\"http://www.w3.org/1999/xlink\">\r\n <metadata>\r\n  <rdf:RDF xmlns:cc=\"http://creativecommons.org/ns#\" xmlns:dc=\"http://purl.org/dc/elements/1.1/\" xmlns:rdf=\"http://www.w3.org/1999/02/22-rdf-syntax-ns#\">\r\n   <cc:Work>\r\n    <dc:type rdf:resource=\"http://purl.org/dc/dcmitype/StillImage\"/>\r\n    <dc:date>2020-10-26T19:44:34.707891</dc:date>\r\n    <dc:format>image/svg+xml</dc:format>\r\n    <dc:creator>\r\n     <cc:Agent>\r\n      <dc:title>Matplotlib v3.3.1, https://matplotlib.org/</dc:title>\r\n     </cc:Agent>\r\n    </dc:creator>\r\n   </cc:Work>\r\n  </rdf:RDF>\r\n </metadata>\r\n <defs>\r\n  <style type=\"text/css\">*{stroke-linecap:butt;stroke-linejoin:round;}</style>\r\n </defs>\r\n <g id=\"figure_1\">\r\n  <g id=\"patch_1\">\r\n   <path d=\"M 0 277.314375 \r\nL 385.78125 277.314375 \r\nL 385.78125 0 \r\nL 0 0 \r\nz\r\n\" style=\"fill:none;\"/>\r\n  </g>\r\n  <g id=\"axes_1\">\r\n   <g id=\"patch_2\">\r\n    <path d=\"M 43.78125 239.758125 \r\nL 378.58125 239.758125 \r\nL 378.58125 22.318125 \r\nL 43.78125 22.318125 \r\nz\r\n\" style=\"fill:#ffffff;\"/>\r\n   </g>\r\n   <g id=\"PathCollection_1\">\r\n    <defs>\r\n     <path d=\"M 0 3 \r\nC 0.795609 3 1.55874 2.683901 2.12132 2.12132 \r\nC 2.683901 1.55874 3 0.795609 3 0 \r\nC 3 -0.795609 2.683901 -1.55874 2.12132 -2.12132 \r\nC 1.55874 -2.683901 0.795609 -3 0 -3 \r\nC -0.795609 -3 -1.55874 -2.683901 -2.12132 -2.12132 \r\nC -2.683901 -1.55874 -3 -0.795609 -3 0 \r\nC -3 0.795609 -2.683901 1.55874 -2.12132 2.12132 \r\nC -1.55874 2.683901 -0.795609 3 0 3 \r\nz\r\n\" id=\"ma996405411\" style=\"stroke:#1f77b4;\"/>\r\n    </defs>\r\n    <g clip-path=\"url(#pa1bcaf6ecf)\">\r\n     <use style=\"fill:#1f77b4;stroke:#1f77b4;\" x=\"64.859622\" xlink:href=\"#ma996405411\" y=\"224.374678\"/>\r\n     <use style=\"fill:#1f77b4;stroke:#1f77b4;\" x=\"65.225884\" xlink:href=\"#ma996405411\" y=\"224.03094\"/>\r\n     <use style=\"fill:#1f77b4;stroke:#1f77b4;\" x=\"67.423455\" xlink:href=\"#ma996405411\" y=\"225.152694\"/>\r\n     <use style=\"fill:#1f77b4;stroke:#1f77b4;\" x=\"128.22293\" xlink:href=\"#ma996405411\" y=\"180.703971\"/>\r\n     <use style=\"fill:#1f77b4;stroke:#1f77b4;\" x=\"168.878001\" xlink:href=\"#ma996405411\" y=\"167.570359\"/>\r\n     <use style=\"fill:#1f77b4;stroke:#1f77b4;\" x=\"85.370288\" xlink:href=\"#ma996405411\" y=\"210.328329\"/>\r\n     <use style=\"fill:#1f77b4;stroke:#1f77b4;\" x=\"78.411312\" xlink:href=\"#ma996405411\" y=\"215.479413\"/>\r\n     <use style=\"fill:#1f77b4;stroke:#1f77b4;\" x=\"93.794312\" xlink:href=\"#ma996405411\" y=\"209.84161\"/>\r\n     <use style=\"fill:#1f77b4;stroke:#1f77b4;\" x=\"63.028313\" xlink:href=\"#ma996405411\" y=\"226.95492\"/>\r\n     <use style=\"fill:#1f77b4;stroke:#1f77b4;\" x=\"157.523882\" xlink:href=\"#ma996405411\" y=\"192.890345\"/>\r\n     <use style=\"fill:#1f77b4;stroke:#1f77b4;\" x=\"190.487453\" xlink:href=\"#ma996405411\" y=\"166.644809\"/>\r\n     <use style=\"fill:#1f77b4;stroke:#1f77b4;\" x=\"82.806455\" xlink:href=\"#ma996405411\" y=\"210.295441\"/>\r\n     <use style=\"fill:#1f77b4;stroke:#1f77b4;\" x=\"61.197003\" xlink:href=\"#ma996405411\" y=\"227.81205\"/>\r\n     <use style=\"fill:#1f77b4;stroke:#1f77b4;\" x=\"74.01617\" xlink:href=\"#ma996405411\" y=\"218.599433\"/>\r\n     <use style=\"fill:#1f77b4;stroke:#1f77b4;\" x=\"63.028313\" xlink:href=\"#ma996405411\" y=\"226.686142\"/>\r\n     <use style=\"fill:#1f77b4;stroke:#1f77b4;\" x=\"63.028313\" xlink:href=\"#ma996405411\" y=\"226.632943\"/>\r\n     <use style=\"fill:#1f77b4;stroke:#1f77b4;\" x=\"76.213741\" xlink:href=\"#ma996405411\" y=\"218.061851\"/>\r\n     <use style=\"fill:#1f77b4;stroke:#1f77b4;\" x=\"91.230479\" xlink:href=\"#ma996405411\" y=\"216.378309\"/>\r\n     <use style=\"fill:#1f77b4;stroke:#1f77b4;\" x=\"87.934122\" xlink:href=\"#ma996405411\" y=\"220.729032\"/>\r\n     <use style=\"fill:#1f77b4;stroke:#1f77b4;\" x=\"71.818598\" xlink:href=\"#ma996405411\" y=\"220.173156\"/>\r\n     <use style=\"fill:#1f77b4;stroke:#1f77b4;\" x=\"72.18486\" xlink:href=\"#ma996405411\" y=\"222.120454\"/>\r\n     <use style=\"fill:#1f77b4;stroke:#1f77b4;\" x=\"85.370288\" xlink:href=\"#ma996405411\" y=\"215.283796\"/>\r\n     <use style=\"fill:#1f77b4;stroke:#1f77b4;\" x=\"60.830741\" xlink:href=\"#ma996405411\" y=\"228.716747\"/>\r\n     <use style=\"fill:#1f77b4;stroke:#1f77b4;\" x=\"74.382431\" xlink:href=\"#ma996405411\" y=\"220.685294\"/>\r\n     <use style=\"fill:#1f77b4;stroke:#1f77b4;\" x=\"63.028313\" xlink:href=\"#ma996405411\" y=\"226.691663\"/>\r\n     <use style=\"fill:#1f77b4;stroke:#1f77b4;\" x=\"63.394575\" xlink:href=\"#ma996405411\" y=\"227.651321\"/>\r\n     <use style=\"fill:#1f77b4;stroke:#1f77b4;\" x=\"63.028313\" xlink:href=\"#ma996405411\" y=\"227.895694\"/>\r\n     <use style=\"fill:#1f77b4;stroke:#1f77b4;\" x=\"65.225884\" xlink:href=\"#ma996405411\" y=\"225.817894\"/>\r\n     <use style=\"fill:#1f77b4;stroke:#1f77b4;\" x=\"85.370288\" xlink:href=\"#ma996405411\" y=\"211.28096\"/>\r\n     <use style=\"fill:#1f77b4;stroke:#1f77b4;\" x=\"71.818598\" xlink:href=\"#ma996405411\" y=\"219.494449\"/>\r\n     <use style=\"fill:#1f77b4;stroke:#1f77b4;\" x=\"67.057194\" xlink:href=\"#ma996405411\" y=\"224.000624\"/>\r\n     <use style=\"fill:#1f77b4;stroke:#1f77b4;\" x=\"76.580003\" xlink:href=\"#ma996405411\" y=\"219.217062\"/>\r\n     <use style=\"fill:#1f77b4;stroke:#1f77b4;\" x=\"75.847479\" xlink:href=\"#ma996405411\" y=\"219.152083\"/>\r\n     <use style=\"fill:#1f77b4;stroke:#1f77b4;\" x=\"60.830741\" xlink:href=\"#ma996405411\" y=\"228.749423\"/>\r\n     <use style=\"fill:#1f77b4;stroke:#1f77b4;\" x=\"58.999432\" xlink:href=\"#ma996405411\" y=\"229.874489\"/>\r\n     <use style=\"fill:#1f77b4;stroke:#1f77b4;\" x=\"63.028313\" xlink:href=\"#ma996405411\" y=\"227.220983\"/>\r\n     <use style=\"fill:#1f77b4;stroke:#1f77b4;\" x=\"94.160574\" xlink:href=\"#ma996405411\" y=\"212.948345\"/>\r\n     <use style=\"fill:#1f77b4;stroke:#1f77b4;\" x=\"65.592146\" xlink:href=\"#ma996405411\" y=\"225.20662\"/>\r\n     <use style=\"fill:#1f77b4;stroke:#1f77b4;\" x=\"93.794312\" xlink:href=\"#ma996405411\" y=\"209.536727\"/>\r\n     <use style=\"fill:#1f77b4;stroke:#1f77b4;\" x=\"60.830741\" xlink:href=\"#ma996405411\" y=\"228.545772\"/>\r\n     <use style=\"fill:#1f77b4;stroke:#1f77b4;\" x=\"80.608884\" xlink:href=\"#ma996405411\" y=\"212.244874\"/>\r\n     <use style=\"fill:#1f77b4;stroke:#1f77b4;\" x=\"87.934122\" xlink:href=\"#ma996405411\" y=\"210.7874\"/>\r\n     <use style=\"fill:#1f77b4;stroke:#1f77b4;\" x=\"71.818598\" xlink:href=\"#ma996405411\" y=\"221.468698\"/>\r\n     <use style=\"fill:#1f77b4;stroke:#1f77b4;\" x=\"128.955454\" xlink:href=\"#ma996405411\" y=\"172.394773\"/>\r\n     <use style=\"fill:#1f77b4;stroke:#1f77b4;\" x=\"91.230479\" xlink:href=\"#ma996405411\" y=\"200.741559\"/>\r\n     <use style=\"fill:#1f77b4;stroke:#1f77b4;\" x=\"100.753288\" xlink:href=\"#ma996405411\" y=\"211.42347\"/>\r\n     <use style=\"fill:#1f77b4;stroke:#1f77b4;\" x=\"61.197003\" xlink:href=\"#ma996405411\" y=\"227.811956\"/>\r\n     <use style=\"fill:#1f77b4;stroke:#1f77b4;\" x=\"69.987289\" xlink:href=\"#ma996405411\" y=\"222.569514\"/>\r\n     <use style=\"fill:#1f77b4;stroke:#1f77b4;\" x=\"72.551122\" xlink:href=\"#ma996405411\" y=\"226.090486\"/>\r\n     <use style=\"fill:#1f77b4;stroke:#1f77b4;\" x=\"83.172717\" xlink:href=\"#ma996405411\" y=\"210.83425\"/>\r\n     <use style=\"fill:#1f77b4;stroke:#1f77b4;\" x=\"67.423455\" xlink:href=\"#ma996405411\" y=\"223.955231\"/>\r\n     <use style=\"fill:#1f77b4;stroke:#1f77b4;\" x=\"83.538979\" xlink:href=\"#ma996405411\" y=\"220.383984\"/>\r\n     <use style=\"fill:#1f77b4;stroke:#1f77b4;\" x=\"69.254765\" xlink:href=\"#ma996405411\" y=\"223.22813\"/>\r\n     <use style=\"fill:#1f77b4;stroke:#1f77b4;\" x=\"60.830741\" xlink:href=\"#ma996405411\" y=\"228.34715\"/>\r\n     <use style=\"fill:#1f77b4;stroke:#1f77b4;\" x=\"161.552763\" xlink:href=\"#ma996405411\" y=\"194.151242\"/>\r\n     <use style=\"fill:#1f77b4;stroke:#1f77b4;\" x=\"74.01617\" xlink:href=\"#ma996405411\" y=\"219.413566\"/>\r\n     <use style=\"fill:#1f77b4;stroke:#1f77b4;\" x=\"78.777574\" xlink:href=\"#ma996405411\" y=\"222.428987\"/>\r\n     <use style=\"fill:#1f77b4;stroke:#1f77b4;\" x=\"71.818598\" xlink:href=\"#ma996405411\" y=\"221.406193\"/>\r\n     <use style=\"fill:#1f77b4;stroke:#1f77b4;\" x=\"71.818598\" xlink:href=\"#ma996405411\" y=\"220.180006\"/>\r\n     <use style=\"fill:#1f77b4;stroke:#1f77b4;\" x=\"65.225884\" xlink:href=\"#ma996405411\" y=\"225.888371\"/>\r\n     <use style=\"fill:#1f77b4;stroke:#1f77b4;\" x=\"63.028313\" xlink:href=\"#ma996405411\" y=\"226.673492\"/>\r\n     <use style=\"fill:#1f77b4;stroke:#1f77b4;\" x=\"95.991883\" xlink:href=\"#ma996405411\" y=\"199.853064\"/>\r\n     <use style=\"fill:#1f77b4;stroke:#1f77b4;\" x=\"65.225884\" xlink:href=\"#ma996405411\" y=\"224.423246\"/>\r\n     <use style=\"fill:#1f77b4;stroke:#1f77b4;\" x=\"183.162215\" xlink:href=\"#ma996405411\" y=\"160.415981\"/>\r\n     <use style=\"fill:#1f77b4;stroke:#1f77b4;\" x=\"78.411312\" xlink:href=\"#ma996405411\" y=\"213.402951\"/>\r\n     <use style=\"fill:#1f77b4;stroke:#1f77b4;\" x=\"67.423455\" xlink:href=\"#ma996405411\" y=\"224.492069\"/>\r\n     <use style=\"fill:#1f77b4;stroke:#1f77b4;\" x=\"74.01617\" xlink:href=\"#ma996405411\" y=\"220.552093\"/>\r\n     <use style=\"fill:#1f77b4;stroke:#1f77b4;\" x=\"76.213741\" xlink:href=\"#ma996405411\" y=\"215.724503\"/>\r\n     <use style=\"fill:#1f77b4;stroke:#1f77b4;\" x=\"78.411312\" xlink:href=\"#ma996405411\" y=\"218.049741\"/>\r\n     <use style=\"fill:#1f77b4;stroke:#1f77b4;\" x=\"60.830741\" xlink:href=\"#ma996405411\" y=\"228.572889\"/>\r\n     <use style=\"fill:#1f77b4;stroke:#1f77b4;\" x=\"71.818598\" xlink:href=\"#ma996405411\" y=\"218.71347\"/>\r\n     <use style=\"fill:#1f77b4;stroke:#1f77b4;\" x=\"217.957095\" xlink:href=\"#ma996405411\" y=\"98.190142\"/>\r\n     <use style=\"fill:#1f77b4;stroke:#1f77b4;\" x=\"96.724407\" xlink:href=\"#ma996405411\" y=\"205.189148\"/>\r\n     <use style=\"fill:#1f77b4;stroke:#1f77b4;\" x=\"71.818598\" xlink:href=\"#ma996405411\" y=\"220.864796\"/>\r\n     <use style=\"fill:#1f77b4;stroke:#1f77b4;\" x=\"67.789717\" xlink:href=\"#ma996405411\" y=\"224.042165\"/>\r\n     <use style=\"fill:#1f77b4;stroke:#1f77b4;\" x=\"60.830741\" xlink:href=\"#ma996405411\" y=\"228.370592\"/>\r\n     <use style=\"fill:#1f77b4;stroke:#1f77b4;\" x=\"76.213741\" xlink:href=\"#ma996405411\" y=\"221.287697\"/>\r\n     <use style=\"fill:#1f77b4;stroke:#1f77b4;\" x=\"205.870452\" xlink:href=\"#ma996405411\" y=\"165.50849\"/>\r\n     <use style=\"fill:#1f77b4;stroke:#1f77b4;\" x=\"102.950859\" xlink:href=\"#ma996405411\" y=\"206.200147\"/>\r\n     <use style=\"fill:#1f77b4;stroke:#1f77b4;\" x=\"213.928214\" xlink:href=\"#ma996405411\" y=\"112.1427\"/>\r\n     <use style=\"fill:#1f77b4;stroke:#1f77b4;\" x=\"181.697167\" xlink:href=\"#ma996405411\" y=\"199.54272\"/>\r\n     <use style=\"fill:#1f77b4;stroke:#1f77b4;\" x=\"60.830741\" xlink:href=\"#ma996405411\" y=\"228.155779\"/>\r\n     <use style=\"fill:#1f77b4;stroke:#1f77b4;\" x=\"58.999432\" xlink:href=\"#ma996405411\" y=\"229.874489\"/>\r\n     <use style=\"fill:#1f77b4;stroke:#1f77b4;\" x=\"116.50255\" xlink:href=\"#ma996405411\" y=\"193.439762\"/>\r\n     <use style=\"fill:#1f77b4;stroke:#1f77b4;\" x=\"76.213741\" xlink:href=\"#ma996405411\" y=\"218.464894\"/>\r\n     <use style=\"fill:#1f77b4;stroke:#1f77b4;\" x=\"71.818598\" xlink:href=\"#ma996405411\" y=\"219.697782\"/>\r\n     <use style=\"fill:#1f77b4;stroke:#1f77b4;\" x=\"65.225884\" xlink:href=\"#ma996405411\" y=\"224.666498\"/>\r\n     <use style=\"fill:#1f77b4;stroke:#1f77b4;\" x=\"67.789717\" xlink:href=\"#ma996405411\" y=\"225.333635\"/>\r\n     <use style=\"fill:#1f77b4;stroke:#1f77b4;\" x=\"76.946265\" xlink:href=\"#ma996405411\" y=\"219.108866\"/>\r\n     <use style=\"fill:#1f77b4;stroke:#1f77b4;\" x=\"160.820239\" xlink:href=\"#ma996405411\" y=\"167.878926\"/>\r\n     <use style=\"fill:#1f77b4;stroke:#1f77b4;\" x=\"65.225884\" xlink:href=\"#ma996405411\" y=\"227.213013\"/>\r\n     <use style=\"fill:#1f77b4;stroke:#1f77b4;\" x=\"65.225884\" xlink:href=\"#ma996405411\" y=\"224.030932\"/>\r\n     <use style=\"fill:#1f77b4;stroke:#1f77b4;\" x=\"67.057194\" xlink:href=\"#ma996405411\" y=\"222.312218\"/>\r\n     <use style=\"fill:#1f77b4;stroke:#1f77b4;\" x=\"97.456931\" xlink:href=\"#ma996405411\" y=\"204.154657\"/>\r\n     <use style=\"fill:#1f77b4;stroke:#1f77b4;\" x=\"119.066383\" xlink:href=\"#ma996405411\" y=\"196.780546\"/>\r\n     <use style=\"fill:#1f77b4;stroke:#1f77b4;\" x=\"79.143836\" xlink:href=\"#ma996405411\" y=\"217.367158\"/>\r\n     <use style=\"fill:#1f77b4;stroke:#1f77b4;\" x=\"156.058835\" xlink:href=\"#ma996405411\" y=\"189.919205\"/>\r\n     <use style=\"fill:#1f77b4;stroke:#1f77b4;\" x=\"63.394575\" xlink:href=\"#ma996405411\" y=\"226.120173\"/>\r\n     <use style=\"fill:#1f77b4;stroke:#1f77b4;\" x=\"85.73655\" xlink:href=\"#ma996405411\" y=\"206.126917\"/>\r\n     <use style=\"fill:#1f77b4;stroke:#1f77b4;\" x=\"193.051286\" xlink:href=\"#ma996405411\" y=\"157.903246\"/>\r\n     <use style=\"fill:#1f77b4;stroke:#1f77b4;\" x=\"65.225884\" xlink:href=\"#ma996405411\" y=\"224.225209\"/>\r\n     <use style=\"fill:#1f77b4;stroke:#1f77b4;\" x=\"80.608884\" xlink:href=\"#ma996405411\" y=\"210.723825\"/>\r\n     <use style=\"fill:#1f77b4;stroke:#1f77b4;\" x=\"85.004027\" xlink:href=\"#ma996405411\" y=\"212.268722\"/>\r\n     <use style=\"fill:#1f77b4;stroke:#1f77b4;\" x=\"97.456931\" xlink:href=\"#ma996405411\" y=\"213.770538\"/>\r\n     <use style=\"fill:#1f77b4;stroke:#1f77b4;\" x=\"80.242622\" xlink:href=\"#ma996405411\" y=\"215.637507\"/>\r\n     <use style=\"fill:#1f77b4;stroke:#1f77b4;\" x=\"146.902287\" xlink:href=\"#ma996405411\" y=\"193.294863\"/>\r\n     <use style=\"fill:#1f77b4;stroke:#1f77b4;\" x=\"67.423455\" xlink:href=\"#ma996405411\" y=\"225.759153\"/>\r\n     <use style=\"fill:#1f77b4;stroke:#1f77b4;\" x=\"70.353551\" xlink:href=\"#ma996405411\" y=\"222.216401\"/>\r\n     <use style=\"fill:#1f77b4;stroke:#1f77b4;\" x=\"85.004027\" xlink:href=\"#ma996405411\" y=\"206.607592\"/>\r\n     <use style=\"fill:#1f77b4;stroke:#1f77b4;\" x=\"162.285287\" xlink:href=\"#ma996405411\" y=\"179.86842\"/>\r\n     <use style=\"fill:#1f77b4;stroke:#1f77b4;\" x=\"92.695526\" xlink:href=\"#ma996405411\" y=\"216.80169\"/>\r\n     <use style=\"fill:#1f77b4;stroke:#1f77b4;\" x=\"72.18486\" xlink:href=\"#ma996405411\" y=\"224.28918\"/>\r\n     <use style=\"fill:#1f77b4;stroke:#1f77b4;\" x=\"69.621027\" xlink:href=\"#ma996405411\" y=\"223.967893\"/>\r\n     <use style=\"fill:#1f77b4;stroke:#1f77b4;\" x=\"69.987289\" xlink:href=\"#ma996405411\" y=\"222.248632\"/>\r\n     <use style=\"fill:#1f77b4;stroke:#1f77b4;\" x=\"85.370288\" xlink:href=\"#ma996405411\" y=\"216.959921\"/>\r\n     <use style=\"fill:#1f77b4;stroke:#1f77b4;\" x=\"69.621027\" xlink:href=\"#ma996405411\" y=\"222.219239\"/>\r\n     <use style=\"fill:#1f77b4;stroke:#1f77b4;\" x=\"77.312527\" xlink:href=\"#ma996405411\" y=\"217.480486\"/>\r\n     <use style=\"fill:#1f77b4;stroke:#1f77b4;\" x=\"74.01617\" xlink:href=\"#ma996405411\" y=\"218.738444\"/>\r\n     <use style=\"fill:#1f77b4;stroke:#1f77b4;\" x=\"92.329264\" xlink:href=\"#ma996405411\" y=\"217.501948\"/>\r\n     <use style=\"fill:#1f77b4;stroke:#1f77b4;\" x=\"158.622668\" xlink:href=\"#ma996405411\" y=\"182.974593\"/>\r\n     <use style=\"fill:#1f77b4;stroke:#1f77b4;\" x=\"60.830741\" xlink:href=\"#ma996405411\" y=\"228.868557\"/>\r\n     <use style=\"fill:#1f77b4;stroke:#1f77b4;\" x=\"60.830741\" xlink:href=\"#ma996405411\" y=\"228.155796\"/>\r\n     <use style=\"fill:#1f77b4;stroke:#1f77b4;\" x=\"81.341408\" xlink:href=\"#ma996405411\" y=\"216.351466\"/>\r\n     <use style=\"fill:#1f77b4;stroke:#1f77b4;\" x=\"63.028313\" xlink:href=\"#ma996405411\" y=\"226.2473\"/>\r\n     <use style=\"fill:#1f77b4;stroke:#1f77b4;\" x=\"80.975146\" xlink:href=\"#ma996405411\" y=\"213.586534\"/>\r\n     <use style=\"fill:#1f77b4;stroke:#1f77b4;\" x=\"60.830741\" xlink:href=\"#ma996405411\" y=\"228.642617\"/>\r\n     <use style=\"fill:#1f77b4;stroke:#1f77b4;\" x=\"69.987289\" xlink:href=\"#ma996405411\" y=\"220.17122\"/>\r\n     <use style=\"fill:#1f77b4;stroke:#1f77b4;\" x=\"85.004027\" xlink:href=\"#ma996405411\" y=\"218.795563\"/>\r\n     <use style=\"fill:#1f77b4;stroke:#1f77b4;\" x=\"85.73655\" xlink:href=\"#ma996405411\" y=\"209.210418\"/>\r\n     <use style=\"fill:#1f77b4;stroke:#1f77b4;\" x=\"67.789717\" xlink:href=\"#ma996405411\" y=\"223.696457\"/>\r\n     <use style=\"fill:#1f77b4;stroke:#1f77b4;\" x=\"63.028313\" xlink:href=\"#ma996405411\" y=\"226.950412\"/>\r\n     <use style=\"fill:#1f77b4;stroke:#1f77b4;\" x=\"89.765431\" xlink:href=\"#ma996405411\" y=\"206.003503\"/>\r\n     <use style=\"fill:#1f77b4;stroke:#1f77b4;\" x=\"65.225884\" xlink:href=\"#ma996405411\" y=\"225.258565\"/>\r\n     <use style=\"fill:#1f77b4;stroke:#1f77b4;\" x=\"106.247217\" xlink:href=\"#ma996405411\" y=\"209.275058\"/>\r\n     <use style=\"fill:#1f77b4;stroke:#1f77b4;\" x=\"76.213741\" xlink:href=\"#ma996405411\" y=\"218.077567\"/>\r\n     <use style=\"fill:#1f77b4;stroke:#1f77b4;\" x=\"72.18486\" xlink:href=\"#ma996405411\" y=\"220.421377\"/>\r\n     <use style=\"fill:#1f77b4;stroke:#1f77b4;\" x=\"363.363068\" xlink:href=\"#ma996405411\" y=\"32.201761\"/>\r\n     <use style=\"fill:#1f77b4;stroke:#1f77b4;\" x=\"60.830741\" xlink:href=\"#ma996405411\" y=\"228.537414\"/>\r\n     <use style=\"fill:#1f77b4;stroke:#1f77b4;\" x=\"68.155979\" xlink:href=\"#ma996405411\" y=\"223.104607\"/>\r\n     <use style=\"fill:#1f77b4;stroke:#1f77b4;\" x=\"63.028313\" xlink:href=\"#ma996405411\" y=\"227.853444\"/>\r\n     <use style=\"fill:#1f77b4;stroke:#1f77b4;\" x=\"68.155979\" xlink:href=\"#ma996405411\" y=\"222.475752\"/>\r\n     <use style=\"fill:#1f77b4;stroke:#1f77b4;\" x=\"61.197003\" xlink:href=\"#ma996405411\" y=\"228.164621\"/>\r\n     <use style=\"fill:#1f77b4;stroke:#1f77b4;\" x=\"65.225884\" xlink:href=\"#ma996405411\" y=\"227.653291\"/>\r\n     <use style=\"fill:#1f77b4;stroke:#1f77b4;\" x=\"80.975146\" xlink:href=\"#ma996405411\" y=\"212.565453\"/>\r\n     <use style=\"fill:#1f77b4;stroke:#1f77b4;\" x=\"93.794312\" xlink:href=\"#ma996405411\" y=\"208.226442\"/>\r\n     <use style=\"fill:#1f77b4;stroke:#1f77b4;\" x=\"72.18486\" xlink:href=\"#ma996405411\" y=\"219.073748\"/>\r\n     <use style=\"fill:#1f77b4;stroke:#1f77b4;\" x=\"81.341408\" xlink:href=\"#ma996405411\" y=\"221.845979\"/>\r\n     <use style=\"fill:#1f77b4;stroke:#1f77b4;\" x=\"67.423455\" xlink:href=\"#ma996405411\" y=\"224.481694\"/>\r\n     <use style=\"fill:#1f77b4;stroke:#1f77b4;\" x=\"80.975146\" xlink:href=\"#ma996405411\" y=\"211.306405\"/>\r\n     <use style=\"fill:#1f77b4;stroke:#1f77b4;\" x=\"167.412953\" xlink:href=\"#ma996405411\" y=\"196.881582\"/>\r\n     <use style=\"fill:#1f77b4;stroke:#1f77b4;\" x=\"65.225884\" xlink:href=\"#ma996405411\" y=\"224.403216\"/>\r\n     <use style=\"fill:#1f77b4;stroke:#1f77b4;\" x=\"155.326311\" xlink:href=\"#ma996405411\" y=\"198.883357\"/>\r\n     <use style=\"fill:#1f77b4;stroke:#1f77b4;\" x=\"67.789717\" xlink:href=\"#ma996405411\" y=\"223.443736\"/>\r\n     <use style=\"fill:#1f77b4;stroke:#1f77b4;\" x=\"113.938716\" xlink:href=\"#ma996405411\" y=\"192.993966\"/>\r\n     <use style=\"fill:#1f77b4;stroke:#1f77b4;\" x=\"69.987289\" xlink:href=\"#ma996405411\" y=\"221.836482\"/>\r\n     <use style=\"fill:#1f77b4;stroke:#1f77b4;\" x=\"78.777574\" xlink:href=\"#ma996405411\" y=\"217.445714\"/>\r\n     <use style=\"fill:#1f77b4;stroke:#1f77b4;\" x=\"94.526836\" xlink:href=\"#ma996405411\" y=\"208.495949\"/>\r\n     <use style=\"fill:#1f77b4;stroke:#1f77b4;\" x=\"100.753288\" xlink:href=\"#ma996405411\" y=\"218.958013\"/>\r\n     <use style=\"fill:#1f77b4;stroke:#1f77b4;\" x=\"69.621027\" xlink:href=\"#ma996405411\" y=\"221.624471\"/>\r\n     <use style=\"fill:#1f77b4;stroke:#1f77b4;\" x=\"102.218336\" xlink:href=\"#ma996405411\" y=\"203.762886\"/>\r\n     <use style=\"fill:#1f77b4;stroke:#1f77b4;\" x=\"65.225884\" xlink:href=\"#ma996405411\" y=\"226.221703\"/>\r\n     <use style=\"fill:#1f77b4;stroke:#1f77b4;\" x=\"71.818598\" xlink:href=\"#ma996405411\" y=\"222.147245\"/>\r\n     <use style=\"fill:#1f77b4;stroke:#1f77b4;\" x=\"89.399169\" xlink:href=\"#ma996405411\" y=\"213.167252\"/>\r\n     <use style=\"fill:#1f77b4;stroke:#1f77b4;\" x=\"324.539307\" xlink:href=\"#ma996405411\" y=\"87.527004\"/>\r\n     <use style=\"fill:#1f77b4;stroke:#1f77b4;\" x=\"76.213741\" xlink:href=\"#ma996405411\" y=\"215.918101\"/>\r\n     <use style=\"fill:#1f77b4;stroke:#1f77b4;\" x=\"60.830741\" xlink:href=\"#ma996405411\" y=\"228.357262\"/>\r\n     <use style=\"fill:#1f77b4;stroke:#1f77b4;\" x=\"96.358145\" xlink:href=\"#ma996405411\" y=\"208.314385\"/>\r\n     <use style=\"fill:#1f77b4;stroke:#1f77b4;\" x=\"65.592146\" xlink:href=\"#ma996405411\" y=\"224.399264\"/>\r\n     <use style=\"fill:#1f77b4;stroke:#1f77b4;\" x=\"79.143836\" xlink:href=\"#ma996405411\" y=\"215.771261\"/>\r\n     <use style=\"fill:#1f77b4;stroke:#1f77b4;\" x=\"140.309573\" xlink:href=\"#ma996405411\" y=\"171.32587\"/>\r\n     <use style=\"fill:#1f77b4;stroke:#1f77b4;\" x=\"63.028313\" xlink:href=\"#ma996405411\" y=\"226.75109\"/>\r\n     <use style=\"fill:#1f77b4;stroke:#1f77b4;\" x=\"83.172717\" xlink:href=\"#ma996405411\" y=\"213.819172\"/>\r\n     <use style=\"fill:#1f77b4;stroke:#1f77b4;\" x=\"60.830741\" xlink:href=\"#ma996405411\" y=\"228.155648\"/>\r\n     <use style=\"fill:#1f77b4;stroke:#1f77b4;\" x=\"71.452336\" xlink:href=\"#ma996405411\" y=\"219.492536\"/>\r\n     <use style=\"fill:#1f77b4;stroke:#1f77b4;\" x=\"72.18486\" xlink:href=\"#ma996405411\" y=\"220.897944\"/>\r\n     <use style=\"fill:#1f77b4;stroke:#1f77b4;\" x=\"67.789717\" xlink:href=\"#ma996405411\" y=\"227.342488\"/>\r\n     <use style=\"fill:#1f77b4;stroke:#1f77b4;\" x=\"145.070978\" xlink:href=\"#ma996405411\" y=\"172.070265\"/>\r\n     <use style=\"fill:#1f77b4;stroke:#1f77b4;\" x=\"206.602976\" xlink:href=\"#ma996405411\" y=\"157.958012\"/>\r\n     <use style=\"fill:#1f77b4;stroke:#1f77b4;\" x=\"74.748693\" xlink:href=\"#ma996405411\" y=\"220.818546\"/>\r\n     <use style=\"fill:#1f77b4;stroke:#1f77b4;\" x=\"71.818598\" xlink:href=\"#ma996405411\" y=\"219.701633\"/>\r\n     <use style=\"fill:#1f77b4;stroke:#1f77b4;\" x=\"71.818598\" xlink:href=\"#ma996405411\" y=\"224.044407\"/>\r\n     <use style=\"fill:#1f77b4;stroke:#1f77b4;\" x=\"67.789717\" xlink:href=\"#ma996405411\" y=\"223.474393\"/>\r\n     <use style=\"fill:#1f77b4;stroke:#1f77b4;\" x=\"156.425096\" xlink:href=\"#ma996405411\" y=\"177.645076\"/>\r\n     <use style=\"fill:#1f77b4;stroke:#1f77b4;\" x=\"67.789717\" xlink:href=\"#ma996405411\" y=\"221.624713\"/>\r\n     <use style=\"fill:#1f77b4;stroke:#1f77b4;\" x=\"84.637765\" xlink:href=\"#ma996405411\" y=\"212.644803\"/>\r\n     <use style=\"fill:#1f77b4;stroke:#1f77b4;\" x=\"60.830741\" xlink:href=\"#ma996405411\" y=\"228.726344\"/>\r\n     <use style=\"fill:#1f77b4;stroke:#1f77b4;\" x=\"65.592146\" xlink:href=\"#ma996405411\" y=\"226.039848\"/>\r\n     <use style=\"fill:#1f77b4;stroke:#1f77b4;\" x=\"80.608884\" xlink:href=\"#ma996405411\" y=\"217.500555\"/>\r\n     <use style=\"fill:#1f77b4;stroke:#1f77b4;\" x=\"69.621027\" xlink:href=\"#ma996405411\" y=\"221.261142\"/>\r\n     <use style=\"fill:#1f77b4;stroke:#1f77b4;\" x=\"65.592146\" xlink:href=\"#ma996405411\" y=\"224.352646\"/>\r\n     <use style=\"fill:#1f77b4;stroke:#1f77b4;\" x=\"72.18486\" xlink:href=\"#ma996405411\" y=\"223.854517\"/>\r\n     <use style=\"fill:#1f77b4;stroke:#1f77b4;\" x=\"69.621027\" xlink:href=\"#ma996405411\" y=\"221.510262\"/>\r\n     <use style=\"fill:#1f77b4;stroke:#1f77b4;\" x=\"61.197003\" xlink:href=\"#ma996405411\" y=\"228.016626\"/>\r\n     <use style=\"fill:#1f77b4;stroke:#1f77b4;\" x=\"71.818598\" xlink:href=\"#ma996405411\" y=\"220.417927\"/>\r\n     <use style=\"fill:#1f77b4;stroke:#1f77b4;\" x=\"105.148431\" xlink:href=\"#ma996405411\" y=\"198.954943\"/>\r\n     <use style=\"fill:#1f77b4;stroke:#1f77b4;\" x=\"65.225884\" xlink:href=\"#ma996405411\" y=\"225.277543\"/>\r\n     <use style=\"fill:#1f77b4;stroke:#1f77b4;\" x=\"60.830741\" xlink:href=\"#ma996405411\" y=\"228.576855\"/>\r\n     <use style=\"fill:#1f77b4;stroke:#1f77b4;\" x=\"67.789717\" xlink:href=\"#ma996405411\" y=\"226.229569\"/>\r\n     <use style=\"fill:#1f77b4;stroke:#1f77b4;\" x=\"76.213741\" xlink:href=\"#ma996405411\" y=\"218.511684\"/>\r\n     <use style=\"fill:#1f77b4;stroke:#1f77b4;\" x=\"174.371929\" xlink:href=\"#ma996405411\" y=\"197.710432\"/>\r\n     <use style=\"fill:#1f77b4;stroke:#1f77b4;\" x=\"85.370288\" xlink:href=\"#ma996405411\" y=\"210.973692\"/>\r\n     <use style=\"fill:#1f77b4;stroke:#1f77b4;\" x=\"60.830741\" xlink:href=\"#ma996405411\" y=\"228.155577\"/>\r\n     <use style=\"fill:#1f77b4;stroke:#1f77b4;\" x=\"120.897692\" xlink:href=\"#ma996405411\" y=\"186.832668\"/>\r\n     <use style=\"fill:#1f77b4;stroke:#1f77b4;\" x=\"68.155979\" xlink:href=\"#ma996405411\" y=\"221.280708\"/>\r\n     <use style=\"fill:#1f77b4;stroke:#1f77b4;\" x=\"72.917384\" xlink:href=\"#ma996405411\" y=\"219.627121\"/>\r\n     <use style=\"fill:#1f77b4;stroke:#1f77b4;\" x=\"69.621027\" xlink:href=\"#ma996405411\" y=\"220.464915\"/>\r\n    </g>\r\n   </g>\r\n   <g id=\"matplotlib.axis_1\">\r\n    <g id=\"xtick_1\">\r\n     <g id=\"line2d_1\">\r\n      <defs>\r\n       <path d=\"M 0 0 \r\nL 0 3.5 \r\n\" id=\"m24ebad8e40\" style=\"stroke:#000000;stroke-width:0.8;\"/>\r\n      </defs>\r\n      <g>\r\n       <use style=\"stroke:#000000;stroke-width:0.8;\" x=\"58.63317\" xlink:href=\"#m24ebad8e40\" y=\"239.758125\"/>\r\n      </g>\r\n     </g>\r\n     <g id=\"text_1\">\r\n      <!-- 0 -->\r\n      <g transform=\"translate(55.45192 254.356562)scale(0.1 -0.1)\">\r\n       <defs>\r\n        <path d=\"M 31.78125 66.40625 \r\nQ 24.171875 66.40625 20.328125 58.90625 \r\nQ 16.5 51.421875 16.5 36.375 \r\nQ 16.5 21.390625 20.328125 13.890625 \r\nQ 24.171875 6.390625 31.78125 6.390625 \r\nQ 39.453125 6.390625 43.28125 13.890625 \r\nQ 47.125 21.390625 47.125 36.375 \r\nQ 47.125 51.421875 43.28125 58.90625 \r\nQ 39.453125 66.40625 31.78125 66.40625 \r\nz\r\nM 31.78125 74.21875 \r\nQ 44.046875 74.21875 50.515625 64.515625 \r\nQ 56.984375 54.828125 56.984375 36.375 \r\nQ 56.984375 17.96875 50.515625 8.265625 \r\nQ 44.046875 -1.421875 31.78125 -1.421875 \r\nQ 19.53125 -1.421875 13.0625 8.265625 \r\nQ 6.59375 17.96875 6.59375 36.375 \r\nQ 6.59375 54.828125 13.0625 64.515625 \r\nQ 19.53125 74.21875 31.78125 74.21875 \r\nz\r\n\" id=\"DejaVuSans-48\"/>\r\n       </defs>\r\n       <use xlink:href=\"#DejaVuSans-48\"/>\r\n      </g>\r\n     </g>\r\n    </g>\r\n    <g id=\"xtick_2\">\r\n     <g id=\"line2d_2\">\r\n      <g>\r\n       <use style=\"stroke:#000000;stroke-width:0.8;\" x=\"131.885549\" xlink:href=\"#m24ebad8e40\" y=\"239.758125\"/>\r\n      </g>\r\n     </g>\r\n     <g id=\"text_2\">\r\n      <!-- 200 -->\r\n      <g transform=\"translate(122.341799 254.356562)scale(0.1 -0.1)\">\r\n       <defs>\r\n        <path d=\"M 19.1875 8.296875 \r\nL 53.609375 8.296875 \r\nL 53.609375 0 \r\nL 7.328125 0 \r\nL 7.328125 8.296875 \r\nQ 12.9375 14.109375 22.625 23.890625 \r\nQ 32.328125 33.6875 34.8125 36.53125 \r\nQ 39.546875 41.84375 41.421875 45.53125 \r\nQ 43.3125 49.21875 43.3125 52.78125 \r\nQ 43.3125 58.59375 39.234375 62.25 \r\nQ 35.15625 65.921875 28.609375 65.921875 \r\nQ 23.96875 65.921875 18.8125 64.3125 \r\nQ 13.671875 62.703125 7.8125 59.421875 \r\nL 7.8125 69.390625 \r\nQ 13.765625 71.78125 18.9375 73 \r\nQ 24.125 74.21875 28.421875 74.21875 \r\nQ 39.75 74.21875 46.484375 68.546875 \r\nQ 53.21875 62.890625 53.21875 53.421875 \r\nQ 53.21875 48.921875 51.53125 44.890625 \r\nQ 49.859375 40.875 45.40625 35.40625 \r\nQ 44.1875 33.984375 37.640625 27.21875 \r\nQ 31.109375 20.453125 19.1875 8.296875 \r\nz\r\n\" id=\"DejaVuSans-50\"/>\r\n       </defs>\r\n       <use xlink:href=\"#DejaVuSans-50\"/>\r\n       <use x=\"63.623047\" xlink:href=\"#DejaVuSans-48\"/>\r\n       <use x=\"127.246094\" xlink:href=\"#DejaVuSans-48\"/>\r\n      </g>\r\n     </g>\r\n    </g>\r\n    <g id=\"xtick_3\">\r\n     <g id=\"line2d_3\">\r\n      <g>\r\n       <use style=\"stroke:#000000;stroke-width:0.8;\" x=\"205.137929\" xlink:href=\"#m24ebad8e40\" y=\"239.758125\"/>\r\n      </g>\r\n     </g>\r\n     <g id=\"text_3\">\r\n      <!-- 400 -->\r\n      <g transform=\"translate(195.594179 254.356562)scale(0.1 -0.1)\">\r\n       <defs>\r\n        <path d=\"M 37.796875 64.3125 \r\nL 12.890625 25.390625 \r\nL 37.796875 25.390625 \r\nz\r\nM 35.203125 72.90625 \r\nL 47.609375 72.90625 \r\nL 47.609375 25.390625 \r\nL 58.015625 25.390625 \r\nL 58.015625 17.1875 \r\nL 47.609375 17.1875 \r\nL 47.609375 0 \r\nL 37.796875 0 \r\nL 37.796875 17.1875 \r\nL 4.890625 17.1875 \r\nL 4.890625 26.703125 \r\nz\r\n\" id=\"DejaVuSans-52\"/>\r\n       </defs>\r\n       <use xlink:href=\"#DejaVuSans-52\"/>\r\n       <use x=\"63.623047\" xlink:href=\"#DejaVuSans-48\"/>\r\n       <use x=\"127.246094\" xlink:href=\"#DejaVuSans-48\"/>\r\n      </g>\r\n     </g>\r\n    </g>\r\n    <g id=\"xtick_4\">\r\n     <g id=\"line2d_4\">\r\n      <g>\r\n       <use style=\"stroke:#000000;stroke-width:0.8;\" x=\"278.390308\" xlink:href=\"#m24ebad8e40\" y=\"239.758125\"/>\r\n      </g>\r\n     </g>\r\n     <g id=\"text_4\">\r\n      <!-- 600 -->\r\n      <g transform=\"translate(268.846558 254.356562)scale(0.1 -0.1)\">\r\n       <defs>\r\n        <path d=\"M 33.015625 40.375 \r\nQ 26.375 40.375 22.484375 35.828125 \r\nQ 18.609375 31.296875 18.609375 23.390625 \r\nQ 18.609375 15.53125 22.484375 10.953125 \r\nQ 26.375 6.390625 33.015625 6.390625 \r\nQ 39.65625 6.390625 43.53125 10.953125 \r\nQ 47.40625 15.53125 47.40625 23.390625 \r\nQ 47.40625 31.296875 43.53125 35.828125 \r\nQ 39.65625 40.375 33.015625 40.375 \r\nz\r\nM 52.59375 71.296875 \r\nL 52.59375 62.3125 \r\nQ 48.875 64.0625 45.09375 64.984375 \r\nQ 41.3125 65.921875 37.59375 65.921875 \r\nQ 27.828125 65.921875 22.671875 59.328125 \r\nQ 17.53125 52.734375 16.796875 39.40625 \r\nQ 19.671875 43.65625 24.015625 45.921875 \r\nQ 28.375 48.1875 33.59375 48.1875 \r\nQ 44.578125 48.1875 50.953125 41.515625 \r\nQ 57.328125 34.859375 57.328125 23.390625 \r\nQ 57.328125 12.15625 50.6875 5.359375 \r\nQ 44.046875 -1.421875 33.015625 -1.421875 \r\nQ 20.359375 -1.421875 13.671875 8.265625 \r\nQ 6.984375 17.96875 6.984375 36.375 \r\nQ 6.984375 53.65625 15.1875 63.9375 \r\nQ 23.390625 74.21875 37.203125 74.21875 \r\nQ 40.921875 74.21875 44.703125 73.484375 \r\nQ 48.484375 72.75 52.59375 71.296875 \r\nz\r\n\" id=\"DejaVuSans-54\"/>\r\n       </defs>\r\n       <use xlink:href=\"#DejaVuSans-54\"/>\r\n       <use x=\"63.623047\" xlink:href=\"#DejaVuSans-48\"/>\r\n       <use x=\"127.246094\" xlink:href=\"#DejaVuSans-48\"/>\r\n      </g>\r\n     </g>\r\n    </g>\r\n    <g id=\"xtick_5\">\r\n     <g id=\"line2d_5\">\r\n      <g>\r\n       <use style=\"stroke:#000000;stroke-width:0.8;\" x=\"351.642687\" xlink:href=\"#m24ebad8e40\" y=\"239.758125\"/>\r\n      </g>\r\n     </g>\r\n     <g id=\"text_5\">\r\n      <!-- 800 -->\r\n      <g transform=\"translate(342.098937 254.356562)scale(0.1 -0.1)\">\r\n       <defs>\r\n        <path d=\"M 31.78125 34.625 \r\nQ 24.75 34.625 20.71875 30.859375 \r\nQ 16.703125 27.09375 16.703125 20.515625 \r\nQ 16.703125 13.921875 20.71875 10.15625 \r\nQ 24.75 6.390625 31.78125 6.390625 \r\nQ 38.8125 6.390625 42.859375 10.171875 \r\nQ 46.921875 13.96875 46.921875 20.515625 \r\nQ 46.921875 27.09375 42.890625 30.859375 \r\nQ 38.875 34.625 31.78125 34.625 \r\nz\r\nM 21.921875 38.8125 \r\nQ 15.578125 40.375 12.03125 44.71875 \r\nQ 8.5 49.078125 8.5 55.328125 \r\nQ 8.5 64.0625 14.71875 69.140625 \r\nQ 20.953125 74.21875 31.78125 74.21875 \r\nQ 42.671875 74.21875 48.875 69.140625 \r\nQ 55.078125 64.0625 55.078125 55.328125 \r\nQ 55.078125 49.078125 51.53125 44.71875 \r\nQ 48 40.375 41.703125 38.8125 \r\nQ 48.828125 37.15625 52.796875 32.3125 \r\nQ 56.78125 27.484375 56.78125 20.515625 \r\nQ 56.78125 9.90625 50.3125 4.234375 \r\nQ 43.84375 -1.421875 31.78125 -1.421875 \r\nQ 19.734375 -1.421875 13.25 4.234375 \r\nQ 6.78125 9.90625 6.78125 20.515625 \r\nQ 6.78125 27.484375 10.78125 32.3125 \r\nQ 14.796875 37.15625 21.921875 38.8125 \r\nz\r\nM 18.3125 54.390625 \r\nQ 18.3125 48.734375 21.84375 45.5625 \r\nQ 25.390625 42.390625 31.78125 42.390625 \r\nQ 38.140625 42.390625 41.71875 45.5625 \r\nQ 45.3125 48.734375 45.3125 54.390625 \r\nQ 45.3125 60.0625 41.71875 63.234375 \r\nQ 38.140625 66.40625 31.78125 66.40625 \r\nQ 25.390625 66.40625 21.84375 63.234375 \r\nQ 18.3125 60.0625 18.3125 54.390625 \r\nz\r\n\" id=\"DejaVuSans-56\"/>\r\n       </defs>\r\n       <use xlink:href=\"#DejaVuSans-56\"/>\r\n       <use x=\"63.623047\" xlink:href=\"#DejaVuSans-48\"/>\r\n       <use x=\"127.246094\" xlink:href=\"#DejaVuSans-48\"/>\r\n      </g>\r\n     </g>\r\n    </g>\r\n    <g id=\"text_6\">\r\n     <!-- target_counts -->\r\n     <g transform=\"translate(176.767188 267.756562)scale(0.1 -0.1)\">\r\n      <defs>\r\n       <path d=\"M 18.3125 70.21875 \r\nL 18.3125 54.6875 \r\nL 36.8125 54.6875 \r\nL 36.8125 47.703125 \r\nL 18.3125 47.703125 \r\nL 18.3125 18.015625 \r\nQ 18.3125 11.328125 20.140625 9.421875 \r\nQ 21.96875 7.515625 27.59375 7.515625 \r\nL 36.8125 7.515625 \r\nL 36.8125 0 \r\nL 27.59375 0 \r\nQ 17.1875 0 13.234375 3.875 \r\nQ 9.28125 7.765625 9.28125 18.015625 \r\nL 9.28125 47.703125 \r\nL 2.6875 47.703125 \r\nL 2.6875 54.6875 \r\nL 9.28125 54.6875 \r\nL 9.28125 70.21875 \r\nz\r\n\" id=\"DejaVuSans-116\"/>\r\n       <path d=\"M 34.28125 27.484375 \r\nQ 23.390625 27.484375 19.1875 25 \r\nQ 14.984375 22.515625 14.984375 16.5 \r\nQ 14.984375 11.71875 18.140625 8.90625 \r\nQ 21.296875 6.109375 26.703125 6.109375 \r\nQ 34.1875 6.109375 38.703125 11.40625 \r\nQ 43.21875 16.703125 43.21875 25.484375 \r\nL 43.21875 27.484375 \r\nz\r\nM 52.203125 31.203125 \r\nL 52.203125 0 \r\nL 43.21875 0 \r\nL 43.21875 8.296875 \r\nQ 40.140625 3.328125 35.546875 0.953125 \r\nQ 30.953125 -1.421875 24.3125 -1.421875 \r\nQ 15.921875 -1.421875 10.953125 3.296875 \r\nQ 6 8.015625 6 15.921875 \r\nQ 6 25.140625 12.171875 29.828125 \r\nQ 18.359375 34.515625 30.609375 34.515625 \r\nL 43.21875 34.515625 \r\nL 43.21875 35.40625 \r\nQ 43.21875 41.609375 39.140625 45 \r\nQ 35.0625 48.390625 27.6875 48.390625 \r\nQ 23 48.390625 18.546875 47.265625 \r\nQ 14.109375 46.140625 10.015625 43.890625 \r\nL 10.015625 52.203125 \r\nQ 14.9375 54.109375 19.578125 55.046875 \r\nQ 24.21875 56 28.609375 56 \r\nQ 40.484375 56 46.34375 49.84375 \r\nQ 52.203125 43.703125 52.203125 31.203125 \r\nz\r\n\" id=\"DejaVuSans-97\"/>\r\n       <path d=\"M 41.109375 46.296875 \r\nQ 39.59375 47.171875 37.8125 47.578125 \r\nQ 36.03125 48 33.890625 48 \r\nQ 26.265625 48 22.1875 43.046875 \r\nQ 18.109375 38.09375 18.109375 28.8125 \r\nL 18.109375 0 \r\nL 9.078125 0 \r\nL 9.078125 54.6875 \r\nL 18.109375 54.6875 \r\nL 18.109375 46.1875 \r\nQ 20.953125 51.171875 25.484375 53.578125 \r\nQ 30.03125 56 36.53125 56 \r\nQ 37.453125 56 38.578125 55.875 \r\nQ 39.703125 55.765625 41.0625 55.515625 \r\nz\r\n\" id=\"DejaVuSans-114\"/>\r\n       <path d=\"M 45.40625 27.984375 \r\nQ 45.40625 37.75 41.375 43.109375 \r\nQ 37.359375 48.484375 30.078125 48.484375 \r\nQ 22.859375 48.484375 18.828125 43.109375 \r\nQ 14.796875 37.75 14.796875 27.984375 \r\nQ 14.796875 18.265625 18.828125 12.890625 \r\nQ 22.859375 7.515625 30.078125 7.515625 \r\nQ 37.359375 7.515625 41.375 12.890625 \r\nQ 45.40625 18.265625 45.40625 27.984375 \r\nz\r\nM 54.390625 6.78125 \r\nQ 54.390625 -7.171875 48.1875 -13.984375 \r\nQ 42 -20.796875 29.203125 -20.796875 \r\nQ 24.46875 -20.796875 20.265625 -20.09375 \r\nQ 16.0625 -19.390625 12.109375 -17.921875 \r\nL 12.109375 -9.1875 \r\nQ 16.0625 -11.328125 19.921875 -12.34375 \r\nQ 23.78125 -13.375 27.78125 -13.375 \r\nQ 36.625 -13.375 41.015625 -8.765625 \r\nQ 45.40625 -4.15625 45.40625 5.171875 \r\nL 45.40625 9.625 \r\nQ 42.625 4.78125 38.28125 2.390625 \r\nQ 33.9375 0 27.875 0 \r\nQ 17.828125 0 11.671875 7.65625 \r\nQ 5.515625 15.328125 5.515625 27.984375 \r\nQ 5.515625 40.671875 11.671875 48.328125 \r\nQ 17.828125 56 27.875 56 \r\nQ 33.9375 56 38.28125 53.609375 \r\nQ 42.625 51.21875 45.40625 46.390625 \r\nL 45.40625 54.6875 \r\nL 54.390625 54.6875 \r\nz\r\n\" id=\"DejaVuSans-103\"/>\r\n       <path d=\"M 56.203125 29.59375 \r\nL 56.203125 25.203125 \r\nL 14.890625 25.203125 \r\nQ 15.484375 15.921875 20.484375 11.0625 \r\nQ 25.484375 6.203125 34.421875 6.203125 \r\nQ 39.59375 6.203125 44.453125 7.46875 \r\nQ 49.3125 8.734375 54.109375 11.28125 \r\nL 54.109375 2.78125 \r\nQ 49.265625 0.734375 44.1875 -0.34375 \r\nQ 39.109375 -1.421875 33.890625 -1.421875 \r\nQ 20.796875 -1.421875 13.15625 6.1875 \r\nQ 5.515625 13.8125 5.515625 26.8125 \r\nQ 5.515625 40.234375 12.765625 48.109375 \r\nQ 20.015625 56 32.328125 56 \r\nQ 43.359375 56 49.78125 48.890625 \r\nQ 56.203125 41.796875 56.203125 29.59375 \r\nz\r\nM 47.21875 32.234375 \r\nQ 47.125 39.59375 43.09375 43.984375 \r\nQ 39.0625 48.390625 32.421875 48.390625 \r\nQ 24.90625 48.390625 20.390625 44.140625 \r\nQ 15.875 39.890625 15.1875 32.171875 \r\nz\r\n\" id=\"DejaVuSans-101\"/>\r\n       <path d=\"M 50.984375 -16.609375 \r\nL 50.984375 -23.578125 \r\nL -0.984375 -23.578125 \r\nL -0.984375 -16.609375 \r\nz\r\n\" id=\"DejaVuSans-95\"/>\r\n       <path d=\"M 48.78125 52.59375 \r\nL 48.78125 44.1875 \r\nQ 44.96875 46.296875 41.140625 47.34375 \r\nQ 37.3125 48.390625 33.40625 48.390625 \r\nQ 24.65625 48.390625 19.8125 42.84375 \r\nQ 14.984375 37.3125 14.984375 27.296875 \r\nQ 14.984375 17.28125 19.8125 11.734375 \r\nQ 24.65625 6.203125 33.40625 6.203125 \r\nQ 37.3125 6.203125 41.140625 7.25 \r\nQ 44.96875 8.296875 48.78125 10.40625 \r\nL 48.78125 2.09375 \r\nQ 45.015625 0.34375 40.984375 -0.53125 \r\nQ 36.96875 -1.421875 32.421875 -1.421875 \r\nQ 20.0625 -1.421875 12.78125 6.34375 \r\nQ 5.515625 14.109375 5.515625 27.296875 \r\nQ 5.515625 40.671875 12.859375 48.328125 \r\nQ 20.21875 56 33.015625 56 \r\nQ 37.15625 56 41.109375 55.140625 \r\nQ 45.0625 54.296875 48.78125 52.59375 \r\nz\r\n\" id=\"DejaVuSans-99\"/>\r\n       <path d=\"M 30.609375 48.390625 \r\nQ 23.390625 48.390625 19.1875 42.75 \r\nQ 14.984375 37.109375 14.984375 27.296875 \r\nQ 14.984375 17.484375 19.15625 11.84375 \r\nQ 23.34375 6.203125 30.609375 6.203125 \r\nQ 37.796875 6.203125 41.984375 11.859375 \r\nQ 46.1875 17.53125 46.1875 27.296875 \r\nQ 46.1875 37.015625 41.984375 42.703125 \r\nQ 37.796875 48.390625 30.609375 48.390625 \r\nz\r\nM 30.609375 56 \r\nQ 42.328125 56 49.015625 48.375 \r\nQ 55.71875 40.765625 55.71875 27.296875 \r\nQ 55.71875 13.875 49.015625 6.21875 \r\nQ 42.328125 -1.421875 30.609375 -1.421875 \r\nQ 18.84375 -1.421875 12.171875 6.21875 \r\nQ 5.515625 13.875 5.515625 27.296875 \r\nQ 5.515625 40.765625 12.171875 48.375 \r\nQ 18.84375 56 30.609375 56 \r\nz\r\n\" id=\"DejaVuSans-111\"/>\r\n       <path d=\"M 8.5 21.578125 \r\nL 8.5 54.6875 \r\nL 17.484375 54.6875 \r\nL 17.484375 21.921875 \r\nQ 17.484375 14.15625 20.5 10.265625 \r\nQ 23.53125 6.390625 29.59375 6.390625 \r\nQ 36.859375 6.390625 41.078125 11.03125 \r\nQ 45.3125 15.671875 45.3125 23.6875 \r\nL 45.3125 54.6875 \r\nL 54.296875 54.6875 \r\nL 54.296875 0 \r\nL 45.3125 0 \r\nL 45.3125 8.40625 \r\nQ 42.046875 3.421875 37.71875 1 \r\nQ 33.40625 -1.421875 27.6875 -1.421875 \r\nQ 18.265625 -1.421875 13.375 4.4375 \r\nQ 8.5 10.296875 8.5 21.578125 \r\nz\r\nM 31.109375 56 \r\nz\r\n\" id=\"DejaVuSans-117\"/>\r\n       <path d=\"M 54.890625 33.015625 \r\nL 54.890625 0 \r\nL 45.90625 0 \r\nL 45.90625 32.71875 \r\nQ 45.90625 40.484375 42.875 44.328125 \r\nQ 39.84375 48.1875 33.796875 48.1875 \r\nQ 26.515625 48.1875 22.3125 43.546875 \r\nQ 18.109375 38.921875 18.109375 30.90625 \r\nL 18.109375 0 \r\nL 9.078125 0 \r\nL 9.078125 54.6875 \r\nL 18.109375 54.6875 \r\nL 18.109375 46.1875 \r\nQ 21.34375 51.125 25.703125 53.5625 \r\nQ 30.078125 56 35.796875 56 \r\nQ 45.21875 56 50.046875 50.171875 \r\nQ 54.890625 44.34375 54.890625 33.015625 \r\nz\r\n\" id=\"DejaVuSans-110\"/>\r\n       <path d=\"M 44.28125 53.078125 \r\nL 44.28125 44.578125 \r\nQ 40.484375 46.53125 36.375 47.5 \r\nQ 32.28125 48.484375 27.875 48.484375 \r\nQ 21.1875 48.484375 17.84375 46.4375 \r\nQ 14.5 44.390625 14.5 40.28125 \r\nQ 14.5 37.15625 16.890625 35.375 \r\nQ 19.28125 33.59375 26.515625 31.984375 \r\nL 29.59375 31.296875 \r\nQ 39.15625 29.25 43.1875 25.515625 \r\nQ 47.21875 21.78125 47.21875 15.09375 \r\nQ 47.21875 7.46875 41.1875 3.015625 \r\nQ 35.15625 -1.421875 24.609375 -1.421875 \r\nQ 20.21875 -1.421875 15.453125 -0.5625 \r\nQ 10.6875 0.296875 5.421875 2 \r\nL 5.421875 11.28125 \r\nQ 10.40625 8.6875 15.234375 7.390625 \r\nQ 20.0625 6.109375 24.8125 6.109375 \r\nQ 31.15625 6.109375 34.5625 8.28125 \r\nQ 37.984375 10.453125 37.984375 14.40625 \r\nQ 37.984375 18.0625 35.515625 20.015625 \r\nQ 33.0625 21.96875 24.703125 23.78125 \r\nL 21.578125 24.515625 \r\nQ 13.234375 26.265625 9.515625 29.90625 \r\nQ 5.8125 33.546875 5.8125 39.890625 \r\nQ 5.8125 47.609375 11.28125 51.796875 \r\nQ 16.75 56 26.8125 56 \r\nQ 31.78125 56 36.171875 55.265625 \r\nQ 40.578125 54.546875 44.28125 53.078125 \r\nz\r\n\" id=\"DejaVuSans-115\"/>\r\n      </defs>\r\n      <use xlink:href=\"#DejaVuSans-116\"/>\r\n      <use x=\"39.208984\" xlink:href=\"#DejaVuSans-97\"/>\r\n      <use x=\"100.488281\" xlink:href=\"#DejaVuSans-114\"/>\r\n      <use x=\"139.851562\" xlink:href=\"#DejaVuSans-103\"/>\r\n      <use x=\"203.328125\" xlink:href=\"#DejaVuSans-101\"/>\r\n      <use x=\"264.851562\" xlink:href=\"#DejaVuSans-116\"/>\r\n      <use x=\"304.060547\" xlink:href=\"#DejaVuSans-95\"/>\r\n      <use x=\"354.060547\" xlink:href=\"#DejaVuSans-99\"/>\r\n      <use x=\"409.041016\" xlink:href=\"#DejaVuSans-111\"/>\r\n      <use x=\"470.222656\" xlink:href=\"#DejaVuSans-117\"/>\r\n      <use x=\"533.601562\" xlink:href=\"#DejaVuSans-110\"/>\r\n      <use x=\"596.980469\" xlink:href=\"#DejaVuSans-116\"/>\r\n      <use x=\"636.189453\" xlink:href=\"#DejaVuSans-115\"/>\r\n     </g>\r\n    </g>\r\n   </g>\r\n   <g id=\"matplotlib.axis_2\">\r\n    <g id=\"ytick_1\">\r\n     <g id=\"line2d_6\">\r\n      <defs>\r\n       <path d=\"M 0 0 \r\nL -3.5 0 \r\n\" id=\"m8e68078d7f\" style=\"stroke:#000000;stroke-width:0.8;\"/>\r\n      </defs>\r\n      <g>\r\n       <use style=\"stroke:#000000;stroke-width:0.8;\" x=\"43.78125\" xlink:href=\"#m8e68078d7f\" y=\"230.218227\"/>\r\n      </g>\r\n     </g>\r\n     <g id=\"text_7\">\r\n      <!-- 0.0 -->\r\n      <g transform=\"translate(20.878125 234.017446)scale(0.1 -0.1)\">\r\n       <defs>\r\n        <path d=\"M 10.6875 12.40625 \r\nL 21 12.40625 \r\nL 21 0 \r\nL 10.6875 0 \r\nz\r\n\" id=\"DejaVuSans-46\"/>\r\n       </defs>\r\n       <use xlink:href=\"#DejaVuSans-48\"/>\r\n       <use x=\"63.623047\" xlink:href=\"#DejaVuSans-46\"/>\r\n       <use x=\"95.410156\" xlink:href=\"#DejaVuSans-48\"/>\r\n      </g>\r\n     </g>\r\n    </g>\r\n    <g id=\"ytick_2\">\r\n     <g id=\"line2d_7\">\r\n      <g>\r\n       <use style=\"stroke:#000000;stroke-width:0.8;\" x=\"43.78125\" xlink:href=\"#m8e68078d7f\" y=\"182.817703\"/>\r\n      </g>\r\n     </g>\r\n     <g id=\"text_8\">\r\n      <!-- 0.2 -->\r\n      <g transform=\"translate(20.878125 186.616922)scale(0.1 -0.1)\">\r\n       <use xlink:href=\"#DejaVuSans-48\"/>\r\n       <use x=\"63.623047\" xlink:href=\"#DejaVuSans-46\"/>\r\n       <use x=\"95.410156\" xlink:href=\"#DejaVuSans-50\"/>\r\n      </g>\r\n     </g>\r\n    </g>\r\n    <g id=\"ytick_3\">\r\n     <g id=\"line2d_8\">\r\n      <g>\r\n       <use style=\"stroke:#000000;stroke-width:0.8;\" x=\"43.78125\" xlink:href=\"#m8e68078d7f\" y=\"135.41718\"/>\r\n      </g>\r\n     </g>\r\n     <g id=\"text_9\">\r\n      <!-- 0.4 -->\r\n      <g transform=\"translate(20.878125 139.216399)scale(0.1 -0.1)\">\r\n       <use xlink:href=\"#DejaVuSans-48\"/>\r\n       <use x=\"63.623047\" xlink:href=\"#DejaVuSans-46\"/>\r\n       <use x=\"95.410156\" xlink:href=\"#DejaVuSans-52\"/>\r\n      </g>\r\n     </g>\r\n    </g>\r\n    <g id=\"ytick_4\">\r\n     <g id=\"line2d_9\">\r\n      <g>\r\n       <use style=\"stroke:#000000;stroke-width:0.8;\" x=\"43.78125\" xlink:href=\"#m8e68078d7f\" y=\"88.016657\"/>\r\n      </g>\r\n     </g>\r\n     <g id=\"text_10\">\r\n      <!-- 0.6 -->\r\n      <g transform=\"translate(20.878125 91.815875)scale(0.1 -0.1)\">\r\n       <use xlink:href=\"#DejaVuSans-48\"/>\r\n       <use x=\"63.623047\" xlink:href=\"#DejaVuSans-46\"/>\r\n       <use x=\"95.410156\" xlink:href=\"#DejaVuSans-54\"/>\r\n      </g>\r\n     </g>\r\n    </g>\r\n    <g id=\"ytick_5\">\r\n     <g id=\"line2d_10\">\r\n      <g>\r\n       <use style=\"stroke:#000000;stroke-width:0.8;\" x=\"43.78125\" xlink:href=\"#m8e68078d7f\" y=\"40.616133\"/>\r\n      </g>\r\n     </g>\r\n     <g id=\"text_11\">\r\n      <!-- 0.8 -->\r\n      <g transform=\"translate(20.878125 44.415352)scale(0.1 -0.1)\">\r\n       <use xlink:href=\"#DejaVuSans-48\"/>\r\n       <use x=\"63.623047\" xlink:href=\"#DejaVuSans-46\"/>\r\n       <use x=\"95.410156\" xlink:href=\"#DejaVuSans-56\"/>\r\n      </g>\r\n     </g>\r\n    </g>\r\n    <g id=\"text_12\">\r\n     <!-- log loss values -->\r\n     <g transform=\"translate(14.798438 167.759219)rotate(-90)scale(0.1 -0.1)\">\r\n      <defs>\r\n       <path d=\"M 9.421875 75.984375 \r\nL 18.40625 75.984375 \r\nL 18.40625 0 \r\nL 9.421875 0 \r\nz\r\n\" id=\"DejaVuSans-108\"/>\r\n       <path id=\"DejaVuSans-32\"/>\r\n       <path d=\"M 2.984375 54.6875 \r\nL 12.5 54.6875 \r\nL 29.59375 8.796875 \r\nL 46.6875 54.6875 \r\nL 56.203125 54.6875 \r\nL 35.6875 0 \r\nL 23.484375 0 \r\nz\r\n\" id=\"DejaVuSans-118\"/>\r\n      </defs>\r\n      <use xlink:href=\"#DejaVuSans-108\"/>\r\n      <use x=\"27.783203\" xlink:href=\"#DejaVuSans-111\"/>\r\n      <use x=\"88.964844\" xlink:href=\"#DejaVuSans-103\"/>\r\n      <use x=\"152.441406\" xlink:href=\"#DejaVuSans-32\"/>\r\n      <use x=\"184.228516\" xlink:href=\"#DejaVuSans-108\"/>\r\n      <use x=\"212.011719\" xlink:href=\"#DejaVuSans-111\"/>\r\n      <use x=\"273.193359\" xlink:href=\"#DejaVuSans-115\"/>\r\n      <use x=\"325.292969\" xlink:href=\"#DejaVuSans-115\"/>\r\n      <use x=\"377.392578\" xlink:href=\"#DejaVuSans-32\"/>\r\n      <use x=\"409.179688\" xlink:href=\"#DejaVuSans-118\"/>\r\n      <use x=\"468.359375\" xlink:href=\"#DejaVuSans-97\"/>\r\n      <use x=\"529.638672\" xlink:href=\"#DejaVuSans-108\"/>\r\n      <use x=\"557.421875\" xlink:href=\"#DejaVuSans-117\"/>\r\n      <use x=\"620.800781\" xlink:href=\"#DejaVuSans-101\"/>\r\n      <use x=\"682.324219\" xlink:href=\"#DejaVuSans-115\"/>\r\n     </g>\r\n    </g>\r\n   </g>\r\n   <g id=\"patch_3\">\r\n    <path d=\"M 43.78125 239.758125 \r\nL 43.78125 22.318125 \r\n\" style=\"fill:none;stroke:#000000;stroke-linecap:square;stroke-linejoin:miter;stroke-width:0.8;\"/>\r\n   </g>\r\n   <g id=\"patch_4\">\r\n    <path d=\"M 378.58125 239.758125 \r\nL 378.58125 22.318125 \r\n\" style=\"fill:none;stroke:#000000;stroke-linecap:square;stroke-linejoin:miter;stroke-width:0.8;\"/>\r\n   </g>\r\n   <g id=\"patch_5\">\r\n    <path d=\"M 43.78125 239.758125 \r\nL 378.58125 239.758125 \r\n\" style=\"fill:none;stroke:#000000;stroke-linecap:square;stroke-linejoin:miter;stroke-width:0.8;\"/>\r\n   </g>\r\n   <g id=\"patch_6\">\r\n    <path d=\"M 43.78125 22.318125 \r\nL 378.58125 22.318125 \r\n\" style=\"fill:none;stroke:#000000;stroke-linecap:square;stroke-linejoin:miter;stroke-width:0.8;\"/>\r\n   </g>\r\n   <g id=\"text_13\">\r\n    <!-- nuSVR -->\r\n    <g transform=\"translate(191.49375 16.318125)scale(0.12 -0.12)\">\r\n     <defs>\r\n      <path d=\"M 53.515625 70.515625 \r\nL 53.515625 60.890625 \r\nQ 47.90625 63.578125 42.921875 64.890625 \r\nQ 37.9375 66.21875 33.296875 66.21875 \r\nQ 25.25 66.21875 20.875 63.09375 \r\nQ 16.5 59.96875 16.5 54.203125 \r\nQ 16.5 49.359375 19.40625 46.890625 \r\nQ 22.3125 44.4375 30.421875 42.921875 \r\nL 36.375 41.703125 \r\nQ 47.40625 39.59375 52.65625 34.296875 \r\nQ 57.90625 29 57.90625 20.125 \r\nQ 57.90625 9.515625 50.796875 4.046875 \r\nQ 43.703125 -1.421875 29.984375 -1.421875 \r\nQ 24.8125 -1.421875 18.96875 -0.25 \r\nQ 13.140625 0.921875 6.890625 3.21875 \r\nL 6.890625 13.375 \r\nQ 12.890625 10.015625 18.65625 8.296875 \r\nQ 24.421875 6.59375 29.984375 6.59375 \r\nQ 38.421875 6.59375 43.015625 9.90625 \r\nQ 47.609375 13.234375 47.609375 19.390625 \r\nQ 47.609375 24.75 44.3125 27.78125 \r\nQ 41.015625 30.8125 33.5 32.328125 \r\nL 27.484375 33.5 \r\nQ 16.453125 35.6875 11.515625 40.375 \r\nQ 6.59375 45.0625 6.59375 53.421875 \r\nQ 6.59375 63.09375 13.40625 68.65625 \r\nQ 20.21875 74.21875 32.171875 74.21875 \r\nQ 37.3125 74.21875 42.625 73.28125 \r\nQ 47.953125 72.359375 53.515625 70.515625 \r\nz\r\n\" id=\"DejaVuSans-83\"/>\r\n      <path d=\"M 28.609375 0 \r\nL 0.78125 72.90625 \r\nL 11.078125 72.90625 \r\nL 34.1875 11.53125 \r\nL 57.328125 72.90625 \r\nL 67.578125 72.90625 \r\nL 39.796875 0 \r\nz\r\n\" id=\"DejaVuSans-86\"/>\r\n      <path d=\"M 44.390625 34.1875 \r\nQ 47.5625 33.109375 50.5625 29.59375 \r\nQ 53.5625 26.078125 56.59375 19.921875 \r\nL 66.609375 0 \r\nL 56 0 \r\nL 46.6875 18.703125 \r\nQ 43.0625 26.03125 39.671875 28.421875 \r\nQ 36.28125 30.8125 30.421875 30.8125 \r\nL 19.671875 30.8125 \r\nL 19.671875 0 \r\nL 9.8125 0 \r\nL 9.8125 72.90625 \r\nL 32.078125 72.90625 \r\nQ 44.578125 72.90625 50.734375 67.671875 \r\nQ 56.890625 62.453125 56.890625 51.90625 \r\nQ 56.890625 45.015625 53.6875 40.46875 \r\nQ 50.484375 35.9375 44.390625 34.1875 \r\nz\r\nM 19.671875 64.796875 \r\nL 19.671875 38.921875 \r\nL 32.078125 38.921875 \r\nQ 39.203125 38.921875 42.84375 42.21875 \r\nQ 46.484375 45.515625 46.484375 51.90625 \r\nQ 46.484375 58.296875 42.84375 61.546875 \r\nQ 39.203125 64.796875 32.078125 64.796875 \r\nz\r\n\" id=\"DejaVuSans-82\"/>\r\n     </defs>\r\n     <use xlink:href=\"#DejaVuSans-110\"/>\r\n     <use x=\"63.378906\" xlink:href=\"#DejaVuSans-117\"/>\r\n     <use x=\"126.757812\" xlink:href=\"#DejaVuSans-83\"/>\r\n     <use x=\"190.234375\" xlink:href=\"#DejaVuSans-86\"/>\r\n     <use x=\"258.642578\" xlink:href=\"#DejaVuSans-82\"/>\r\n    </g>\r\n   </g>\r\n  </g>\r\n </g>\r\n <defs>\r\n  <clipPath id=\"pa1bcaf6ecf\">\r\n   <rect height=\"217.44\" width=\"334.8\" x=\"43.78125\" y=\"22.318125\"/>\r\n  </clipPath>\r\n </defs>\r\n</svg>\r\n",
      "image/png": "[encoded data removed]"
     },
     "metadata": {
      "needs_background": "light"
     }
    }
   ],
   "source": [
    "try:\n",
    "    res_nusvr = pd.read_pickle('pickles/res_nusvr')\n",
    "    ss_nusvr = pd.read_pickle('pickles/ss_nusvr')\n",
    "except:\n",
    "    from sklearn.svm import NuSVR\n",
    "    for i in [1]: # left for further hyperparameter tuning\n",
    "        model = NuSVR(kernel='poly', degree=2, C=1, tol=1e-3, cache_size=2024, max_iter=10000)\n",
    "        target_counts = []\n",
    "        nusvr_logloss_vals = []\n",
    "        ss_nusvr = ss_lr.copy()\n",
    "        res_nusvr = res_lr.copy()\n",
    "        ss_nusvr.loc[:, train_targets.columns] = 0\n",
    "        res_nusvr.loc[:, train_targets.columns] = 0\n",
    "        print(f'intercept_scaling = {i}')\n",
    "        res_nusvr, ss_nusvr, nusvr_loss_vals = run_score(\n",
    "            train_targets, X, x_test, res_nusvr, ss_nusvr, nusvr_logloss_vals)\n",
    "    plt.scatter(target_counts,nusvr_logloss_vals)\n",
    "    plt.xlabel('target_counts')\n",
    "    plt.ylabel('log loss values')\n",
    "    plt.title('nuSVR')\n",
    "    plt.show()\n",
    "    res_nusvr.to_pickle('pickles/res_nusvr')\n",
    "    ss_nusvr.to_pickle('pickles/ss_nusvr')"
   ]
  },
  {
   "source": [
    "## Generating the Baseline Model Score\n",
    "___\n",
    "This was used to benchmark the models and gain a sense of each model'd overall performance"
   ],
   "cell_type": "markdown",
   "metadata": {}
  },
  {
   "cell_type": "code",
   "execution_count": 16,
   "metadata": {},
   "outputs": [],
   "source": [
    "zeros_target_counts = []\n",
    "zeros_loss_vals = []\n",
    "res_zeros = res_lr.copy()\n",
    "res_zeros.loc[:, train_targets.columns] = 0\n",
    "for i in range(res_zeros.shape[1]):\n",
    "    loss = log_loss(train_targets.iloc[:,i], res_zeros.iloc[:,i])\n",
    "    zeros_loss_vals.append(loss)\n",
    "    zeros_target_counts.append(np.sum(train_targets.iloc[:,i]))\n",
    "# log loss score is the same for all zeros or the average values per column"
   ]
  },
  {
   "source": [
    "## Graphing"
   ],
   "cell_type": "markdown",
   "metadata": {}
  },
  {
   "cell_type": "code",
   "execution_count": 22,
   "metadata": {},
   "outputs": [
    {
     "output_type": "stream",
     "name": "stdout",
     "text": [
      "loaded graph data\n"
     ]
    }
   ],
   "source": [
    "import pickle\n",
    "# Try loading the graph data. If it isn't found generate it\n",
    "try:\n",
    "    graph_data = pickle.load(open('pickles/graph_data.p','rb'))\n",
    "    target_counts = graph_data[0]\n",
    "    nusvr_logloss_vals = graph_data[1]\n",
    "    linsvr_loss_vals = graph_data[2]\n",
    "    logistic_regr_loss_vals = graph_data[3]\n",
    "    rfr_loss_vals = graph_data[4]\n",
    "    print('loaded graph data')\n",
    "except:\n",
    "    graph_data = [target_counts,nusvr_logloss_vals,linsvr_loss_vals,logistic_regr_loss_vals,rfr_loss_vals]\n",
    "    pickle.dump(graph_data,open('pickles/graph_data.p','wb'))\n",
    "    print('saved graph data')\n",
    "\n",
    "if not os.path.exists(\"figures\"):\n",
    "    os.mkdir(\"figures\")"
   ]
  },
  {
   "cell_type": "code",
   "execution_count": 251,
   "metadata": {},
   "outputs": [
    {
     "output_type": "display_data",
     "data": {
      "application/vnd.plotly.v1+json": {
       "config": {
        "plotlyServerURL": "https://plot.ly"
       },
       "data": [
        {
         "hovertemplate": [
          "",
          "",
          "",
          "",
          "",
          "",
          "",
          "",
          "",
          "",
          "",
          "",
          "",
          "",
          "",
          "",
          "",
          "",
          "",
          "",
          "",
          "",
          "",
          "",
          "",
          "",
          "",
          "",
          "",
          "",
          "",
          "",
          "",
          "",
          "",
          "",
          "",
          "",
          "",
          "",
          "",
          "",
          "",
          "",
          "",
          "",
          "",
          "",
          "",
          "",
          "",
          "",
          "",
          "",
          "",
          "",
          "",
          "",
          "",
          "",
          "",
          "",
          "",
          "",
          "",
          "",
          "",
          "",
          "",
          "",
          "",
          "",
          "",
          "",
          "",
          "",
          "",
          "",
          "",
          "",
          "",
          "",
          "",
          "",
          "",
          "",
          "",
          "",
          "",
          "",
          "",
          "",
          "",
          "",
          "",
          "",
          "",
          "",
          "",
          "",
          "",
          "",
          "",
          "",
          "",
          "",
          "",
          "",
          "",
          "",
          "",
          "",
          "",
          "",
          "",
          "",
          "",
          "",
          "",
          "",
          "",
          "",
          "",
          "",
          "",
          "",
          "",
          "",
          "",
          "",
          "",
          "",
          "",
          "",
          "",
          "",
          "",
          "",
          "",
          "",
          "",
          "",
          "",
          "",
          "",
          "",
          "",
          "",
          "",
          "",
          "",
          "",
          "",
          "",
          "",
          "",
          "",
          "",
          "",
          "",
          "",
          "",
          "",
          "",
          "",
          "",
          "",
          "",
          "",
          "",
          "",
          "",
          "",
          "",
          "",
          "",
          "",
          "",
          "",
          "",
          "",
          "",
          "",
          "",
          "",
          "",
          "",
          "",
          "",
          "",
          "",
          "",
          "",
          "",
          "",
          "",
          "",
          "",
          "",
          "",
          "",
          "",
          "",
          "",
          "",
          ""
         ],
         "mode": "lines",
         "name": "all zeros",
         "type": "scatter",
         "x": [
          17,
          18,
          24,
          190,
          301,
          73,
          54,
          96,
          12,
          270,
          360,
          66,
          7,
          42,
          12,
          12,
          48,
          89,
          80,
          36,
          37,
          73,
          6,
          43,
          12,
          13,
          12,
          18,
          73,
          36,
          23,
          49,
          47,
          6,
          1,
          12,
          97,
          19,
          96,
          6,
          60,
          80,
          36,
          192,
          89,
          115,
          7,
          31,
          38,
          67,
          24,
          68,
          29,
          6,
          281,
          42,
          55,
          36,
          36,
          18,
          12,
          102,
          18,
          340,
          54,
          24,
          42,
          48,
          54,
          6,
          36,
          435,
          104,
          36,
          25,
          6,
          48,
          402,
          121,
          424,
          336,
          6,
          1,
          158,
          48,
          36,
          18,
          25,
          50,
          279,
          18,
          18,
          23,
          106,
          165,
          56,
          266,
          13,
          74,
          367,
          18,
          60,
          72,
          106,
          59,
          241,
          24,
          32,
          72,
          283,
          93,
          37,
          30,
          31,
          73,
          30,
          51,
          42,
          92,
          273,
          6,
          6,
          62,
          12,
          61,
          6,
          31,
          72,
          74,
          25,
          12,
          85,
          18,
          130,
          48,
          37,
          832,
          6,
          26,
          12,
          26,
          7,
          18,
          61,
          96,
          37,
          62,
          24,
          61,
          297,
          18,
          264,
          25,
          151,
          31,
          55,
          98,
          115,
          30,
          119,
          18,
          36,
          84,
          726,
          48,
          6,
          103,
          19,
          56,
          223,
          12,
          67,
          6,
          35,
          37,
          25,
          236,
          404,
          44,
          36,
          36,
          25,
          267,
          25,
          71,
          6,
          19,
          60,
          30,
          19,
          37,
          30,
          7,
          36,
          127,
          18,
          6,
          25,
          48,
          316,
          73,
          6,
          170,
          26,
          39,
          30
         ],
         "y": [
          0.02465605100837765,
          0.026106406950046863,
          0.03480854260006215,
          0.2755676289171518,
          0.43655713844243466,
          0.10587598374185367,
          0.0783192208501386,
          0.13923417040024563,
          0.01740427130003158,
          0.39159610425068897,
          0.5221281390009183,
          0.09572349215016918,
          0.0101524915916855,
          0.06091494955010801,
          0.017404271300031575,
          0.017404271300031575,
          0.06961708520012329,
          0.1290816788085611,
          0.11602847533353816,
          0.052212813900092726,
          0.05366316984176195,
          0.10587598374185367,
          0.008702135650016287,
          0.06236530549177723,
          0.017404271300031575,
          0.01885462724170079,
          0.01740427130003158,
          0.02610640695004687,
          0.10587598374185367,
          0.052212813900092726,
          0.033358186658392935,
          0.07106744114179252,
          0.0681667292584541,
          0.008702135650016287,
          0.0014503559416702136,
          0.01740427130003158,
          0.14068452634191483,
          0.027556762891716078,
          0.13923417040024558,
          0.008702135650016287,
          0.08702135650015387,
          0.11602847533353816,
          0.052212813900092726,
          0.27846834080049016,
          0.1290816788085611,
          0.16679093329196068,
          0.010152491591685504,
          0.04496103419174666,
          0.05511352578343115,
          0.09717384809183839,
          0.03480854260006215,
          0.0986242040335076,
          0.04206032230840822,
          0.008702135650016287,
          0.4075500196090503,
          0.06091494955010801,
          0.07976957679180781,
          0.052212813900092726,
          0.05221281390009273,
          0.026106406950046863,
          0.01740427130003158,
          0.1479363060502609,
          0.026106406950046863,
          0.49312102016753395,
          0.0783192208501386,
          0.03480854260006215,
          0.06091494955010801,
          0.0696170852001233,
          0.0783192208501386,
          0.008702135650016287,
          0.052212813900092726,
          0.6309048346261094,
          0.15083701793359933,
          0.052212813900092726,
          0.036258898541731366,
          0.008702135650016287,
          0.0696170852001233,
          0.5830430885510254,
          0.17549306894197594,
          0.614950919267748,
          0.4873195964008571,
          0.008702135650016285,
          0.0014503559416702138,
          0.22915623878373692,
          0.06961708520012332,
          0.052212813900092726,
          0.02610640695004686,
          0.036258898541731366,
          0.07251779708346173,
          0.40464930772571184,
          0.02610640695004686,
          0.026106406950046863,
          0.033358186658392935,
          0.15373772981693776,
          0.23930873037542144,
          0.08121993273347702,
          0.3857946804840121,
          0.01885462724170079,
          0.10732633968352288,
          0.5322806305926028,
          0.026106406950046863,
          0.0870213565001539,
          0.10442562780018445,
          0.15373772981693776,
          0.08557100055848466,
          0.34953578194228174,
          0.03480854260006215,
          0.04641139013341587,
          0.10442562780018445,
          0.41045073149238875,
          0.13488310257523797,
          0.05366316984176195,
          0.04351067825007744,
          0.04496103419174666,
          0.10587598374185367,
          0.043510678250077435,
          0.07396815302513095,
          0.060914949550108025,
          0.13343274663356874,
          0.3959471720756966,
          0.008702135650016287,
          0.008702135650016287,
          0.08992206838349232,
          0.017404271300031575,
          0.08847171244182309,
          0.008702135650016287,
          0.04496103419174666,
          0.10442562780018445,
          0.10732633968352288,
          0.03625889854173137,
          0.01740427130003158,
          0.12328025504188425,
          0.02610640695004686,
          0.1885462724169989,
          0.06961708520012332,
          0.05366316984176195,
          1.2066961434687875,
          0.008702135650016287,
          0.03770925448340058,
          0.01740427130003158,
          0.03770925448340059,
          0.010152491591685502,
          0.026106406950046863,
          0.08847171244182309,
          0.13923417040024563,
          0.05366316984176194,
          0.0899220683834923,
          0.03480854260006215,
          0.08847171244182309,
          0.43075571467575774,
          0.02610640695004687,
          0.38289396860067365,
          0.036258898541731366,
          0.2190037471920524,
          0.04496103419174666,
          0.0797695767918078,
          0.14213488228358404,
          0.1667909332919607,
          0.04351067825007744,
          0.17259235705863757,
          0.02610640695004687,
          0.052212813900092726,
          0.12182989910021502,
          1.0529584136518508,
          0.06961708520012332,
          0.008702135650016285,
          0.1493866619919301,
          0.027556762891716075,
          0.08121993273347702,
          0.32342937499223584,
          0.01740427130003158,
          0.09717384809183836,
          0.008702135650016287,
          0.05076245795842351,
          0.05366316984176194,
          0.036258898541731366,
          0.3422840022339356,
          0.5859438004343637,
          0.06381566143344646,
          0.052212813900092726,
          0.052212813900092726,
          0.036258898541731366,
          0.38724503642568125,
          0.036258898541731366,
          0.10297527185851522,
          0.008702135650016287,
          0.027556762891716078,
          0.08702135650015387,
          0.043510678250077435,
          0.027556762891716078,
          0.05366316984176194,
          0.043510678250077435,
          0.010152491591685504,
          0.052212813900092726,
          0.18419520459199126,
          0.026106406950046863,
          0.008702135650016285,
          0.036258898541731366,
          0.06961708520012332,
          0.45831247756747284,
          0.10587598374185367,
          0.008702135650016285,
          0.2465605100837675,
          0.03770925448340058,
          0.056563881725100365,
          0.04351067825007744
         ]
        },
        {
         "hovertemplate": [
          "5-alpha_reductase_inhibitor",
          "11-beta-hsd1_inhibitor",
          "acat_inhibitor",
          "acetylcholine_receptor_agonist",
          "acetylcholine_receptor_antagonist",
          "acetylcholinesterase_inhibitor",
          "adenosine_receptor_agonist",
          "adenosine_receptor_antagonist",
          "adenylyl_cyclase_activator",
          "adrenergic_receptor_agonist",
          "adrenergic_receptor_antagonist",
          "akt_inhibitor",
          "aldehyde_dehydrogenase_inhibitor",
          "alk_inhibitor",
          "ampk_activator",
          "analgesic",
          "androgen_receptor_agonist",
          "androgen_receptor_antagonist",
          "anesthetic_-_local",
          "angiogenesis_inhibitor",
          "angiotensin_receptor_antagonist",
          "anti-inflammatory",
          "antiarrhythmic",
          "antibiotic",
          "anticonvulsant",
          "antifungal",
          "antihistamine",
          "antimalarial",
          "antioxidant",
          "antiprotozoal",
          "antiviral",
          "apoptosis_stimulant",
          "aromatase_inhibitor",
          "atm_kinase_inhibitor",
          "atp-sensitive_potassium_channel_antagonist",
          "atp_synthase_inhibitor",
          "atpase_inhibitor",
          "atr_kinase_inhibitor",
          "aurora_kinase_inhibitor",
          "autotaxin_inhibitor",
          "bacterial_30s_ribosomal_subunit_inhibitor",
          "bacterial_50s_ribosomal_subunit_inhibitor",
          "bacterial_antifolate",
          "bacterial_cell_wall_synthesis_inhibitor",
          "bacterial_dna_gyrase_inhibitor",
          "bacterial_dna_inhibitor",
          "bacterial_membrane_integrity_inhibitor",
          "bcl_inhibitor",
          "bcr-abl_inhibitor",
          "benzodiazepine_receptor_agonist",
          "beta_amyloid_inhibitor",
          "bromodomain_inhibitor",
          "btk_inhibitor",
          "calcineurin_inhibitor",
          "calcium_channel_blocker",
          "cannabinoid_receptor_agonist",
          "cannabinoid_receptor_antagonist",
          "carbonic_anhydrase_inhibitor",
          "casein_kinase_inhibitor",
          "caspase_activator",
          "catechol_o_methyltransferase_inhibitor",
          "cc_chemokine_receptor_antagonist",
          "cck_receptor_antagonist",
          "cdk_inhibitor",
          "chelating_agent",
          "chk_inhibitor",
          "chloride_channel_blocker",
          "cholesterol_inhibitor",
          "cholinergic_receptor_antagonist",
          "coagulation_factor_inhibitor",
          "corticosteroid_agonist",
          "cyclooxygenase_inhibitor",
          "cytochrome_p450_inhibitor",
          "dihydrofolate_reductase_inhibitor",
          "dipeptidyl_peptidase_inhibitor",
          "diuretic",
          "dna_alkylating_agent",
          "dna_inhibitor",
          "dopamine_receptor_agonist",
          "dopamine_receptor_antagonist",
          "egfr_inhibitor",
          "elastase_inhibitor",
          "erbb2_inhibitor",
          "estrogen_receptor_agonist",
          "estrogen_receptor_antagonist",
          "faah_inhibitor",
          "farnesyltransferase_inhibitor",
          "fatty_acid_receptor_agonist",
          "fgfr_inhibitor",
          "flt3_inhibitor",
          "focal_adhesion_kinase_inhibitor",
          "free_radical_scavenger",
          "fungal_squalene_epoxidase_inhibitor",
          "gaba_receptor_agonist",
          "gaba_receptor_antagonist",
          "gamma_secretase_inhibitor",
          "glucocorticoid_receptor_agonist",
          "glutamate_inhibitor",
          "glutamate_receptor_agonist",
          "glutamate_receptor_antagonist",
          "gonadotropin_receptor_agonist",
          "gsk_inhibitor",
          "hcv_inhibitor",
          "hdac_inhibitor",
          "histamine_receptor_agonist",
          "histamine_receptor_antagonist",
          "histone_lysine_demethylase_inhibitor",
          "histone_lysine_methyltransferase_inhibitor",
          "hiv_inhibitor",
          "hmgcr_inhibitor",
          "hsp_inhibitor",
          "igf-1_inhibitor",
          "ikk_inhibitor",
          "imidazoline_receptor_agonist",
          "immunosuppressant",
          "insulin_secretagogue",
          "insulin_sensitizer",
          "integrin_inhibitor",
          "jak_inhibitor",
          "kit_inhibitor",
          "laxative",
          "leukotriene_inhibitor",
          "leukotriene_receptor_antagonist",
          "lipase_inhibitor",
          "lipoxygenase_inhibitor",
          "lxr_agonist",
          "mdm_inhibitor",
          "mek_inhibitor",
          "membrane_integrity_inhibitor",
          "mineralocorticoid_receptor_antagonist",
          "monoacylglycerol_lipase_inhibitor",
          "monoamine_oxidase_inhibitor",
          "monopolar_spindle_1_kinase_inhibitor",
          "mtor_inhibitor",
          "mucolytic_agent",
          "neuropeptide_receptor_antagonist",
          "nfkb_inhibitor",
          "nicotinic_receptor_agonist",
          "nitric_oxide_donor",
          "nitric_oxide_production_inhibitor",
          "nitric_oxide_synthase_inhibitor",
          "norepinephrine_reuptake_inhibitor",
          "nrf2_activator",
          "opioid_receptor_agonist",
          "opioid_receptor_antagonist",
          "orexin_receptor_antagonist",
          "p38_mapk_inhibitor",
          "p-glycoprotein_inhibitor",
          "parp_inhibitor",
          "pdgfr_inhibitor",
          "pdk_inhibitor",
          "phosphodiesterase_inhibitor",
          "phospholipase_inhibitor",
          "pi3k_inhibitor",
          "pkc_inhibitor",
          "potassium_channel_activator",
          "potassium_channel_antagonist",
          "ppar_receptor_agonist",
          "ppar_receptor_antagonist",
          "progesterone_receptor_agonist",
          "progesterone_receptor_antagonist",
          "prostaglandin_inhibitor",
          "prostanoid_receptor_antagonist",
          "proteasome_inhibitor",
          "protein_kinase_inhibitor",
          "protein_phosphatase_inhibitor",
          "protein_synthesis_inhibitor",
          "protein_tyrosine_kinase_inhibitor",
          "radiopaque_medium",
          "raf_inhibitor",
          "ras_gtpase_inhibitor",
          "retinoid_receptor_agonist",
          "retinoid_receptor_antagonist",
          "rho_associated_kinase_inhibitor",
          "ribonucleoside_reductase_inhibitor",
          "rna_polymerase_inhibitor",
          "serotonin_receptor_agonist",
          "serotonin_receptor_antagonist",
          "serotonin_reuptake_inhibitor",
          "sigma_receptor_agonist",
          "sigma_receptor_antagonist",
          "smoothened_receptor_antagonist",
          "sodium_channel_inhibitor",
          "sphingosine_receptor_agonist",
          "src_inhibitor",
          "steroid",
          "syk_inhibitor",
          "tachykinin_antagonist",
          "tgf-beta_receptor_inhibitor",
          "thrombin_inhibitor",
          "thymidylate_synthase_inhibitor",
          "tlr_agonist",
          "tlr_antagonist",
          "tnf_inhibitor",
          "topoisomerase_inhibitor",
          "transient_receptor_potential_channel_antagonist",
          "tropomyosin_receptor_kinase_inhibitor",
          "trpv_agonist",
          "trpv_antagonist",
          "tubulin_inhibitor",
          "tyrosine_kinase_inhibitor",
          "ubiquitin_specific_protease_inhibitor",
          "vegfr_inhibitor",
          "vitamin_b",
          "vitamin_d_receptor_agonist",
          "wnt_inhibitor"
         ],
         "mode": "markers",
         "name": "NuSVR",
         "type": "scatter",
         "x": [
          17,
          18,
          24,
          190,
          301,
          73,
          54,
          96,
          12,
          270,
          360,
          66,
          7,
          42,
          12,
          12,
          48,
          89,
          80,
          36,
          37,
          73,
          6,
          43,
          12,
          13,
          12,
          18,
          73,
          36,
          23,
          49,
          47,
          6,
          1,
          12,
          97,
          19,
          96,
          6,
          60,
          80,
          36,
          192,
          89,
          115,
          7,
          31,
          38,
          67,
          24,
          68,
          29,
          6,
          281,
          42,
          55,
          36,
          36,
          18,
          12,
          102,
          18,
          340,
          54,
          24,
          42,
          48,
          54,
          6,
          36,
          435,
          104,
          36,
          25,
          6,
          48,
          402,
          121,
          424,
          336,
          6,
          1,
          158,
          48,
          36,
          18,
          25,
          50,
          279,
          18,
          18,
          23,
          106,
          165,
          56,
          266,
          13,
          74,
          367,
          18,
          60,
          72,
          106,
          59,
          241,
          24,
          32,
          72,
          283,
          93,
          37,
          30,
          31,
          73,
          30,
          51,
          42,
          92,
          273,
          6,
          6,
          62,
          12,
          61,
          6,
          31,
          72,
          74,
          25,
          12,
          85,
          18,
          130,
          48,
          37,
          832,
          6,
          26,
          12,
          26,
          7,
          18,
          61,
          96,
          37,
          62,
          24,
          61,
          297,
          18,
          264,
          25,
          151,
          31,
          55,
          98,
          115,
          30,
          119,
          18,
          36,
          84,
          726,
          48,
          6,
          103,
          19,
          56,
          223,
          12,
          67,
          6,
          35,
          37,
          25,
          236,
          404,
          44,
          36,
          36,
          25,
          267,
          25,
          71,
          6,
          19,
          60,
          30,
          19,
          37,
          30,
          7,
          36,
          127,
          18,
          6,
          25,
          48,
          316,
          73,
          6,
          170,
          26,
          39,
          30
         ],
         "y": [
          0.02465605100837765,
          0.026106406950046863,
          0.021373320154766756,
          0.20891860303656332,
          0.2643340776041585,
          0.08392269141502173,
          0.06218840083664516,
          0.08597633883264771,
          0.01376907695383961,
          0.15749987102203983,
          0.26823930598151874,
          0.08406145907740274,
          0.010152532217051433,
          0.04902390363754281,
          0.014903144711193141,
          0.015127613067022608,
          0.05129215749318222,
          0.05839563182977611,
          0.04003835633460759,
          0.04238379774442201,
          0.034167440735204724,
          0.06301378085475454,
          0.006335288088313991,
          0.04022290013992287,
          0.014879853499779818,
          0.01083070623548665,
          0.009799609827742042,
          0.018566599193164515,
          0.07990319668367214,
          0.04524750877467137,
          0.026234320363198744,
          0.04641790626711508,
          0.046692072240738465,
          0.006197415404415983,
          0.0014503559416702136,
          0.012646459995586704,
          0.07286789303311265,
          0.0211457883993203,
          0.08726274793012921,
          0.0070566912751416685,
          0.07583609633300242,
          0.08198570689821567,
          0.036917436417329946,
          0.24397812256883575,
          0.12437275332160208,
          0.0793018945229317,
          0.010152928687761903,
          0.03227269523358418,
          0.017416434656400446,
          0.08178802648242788,
          0.0264258521065312,
          0.04149423919200591,
          0.029493752191880565,
          0.007894751618277757,
          0.15217969029982856,
          0.04558878475892075,
          0.032865626332664426,
          0.03718116753845179,
          0.04235489617062748,
          0.018269233529563677,
          0.014956522688071306,
          0.12812163364616322,
          0.024451126678917797,
          0.2945209919773822,
          0.07094974599260767,
          0.02416073837767722,
          0.04078492222305503,
          0.06115427820683674,
          0.05134325693455876,
          0.006942275028309357,
          0.04854274115827597,
          0.5570743743263503,
          0.10560676172697414,
          0.039465517712945104,
          0.026059044941004143,
          0.0077958430152335004,
          0.037681142817625385,
          0.27303384783690776,
          0.10134098959690663,
          0.4982034746027007,
          0.12943108862141728,
          0.0087022155496786,
          0.0014503559416702138,
          0.15518168115739292,
          0.04959157258854706,
          0.04438957071502577,
          0.02342475717054717,
          0.020609863427269205,
          0.046874423912018,
          0.2630321218078444,
          0.012680086147900865,
          0.02610643953746301,
          0.03335831950200739,
          0.10997165594409228,
          0.14108570170224352,
          0.05422332206890169,
          0.1700361912068057,
          0.017291176637376737,
          0.10164997467035614,
          0.3051231315447115,
          0.025286713919704124,
          0.08225395145707949,
          0.07573547120339776,
          0.06939876647849066,
          0.06152134640199091,
          0.1557930632969158,
          0.018814449918228213,
          0.03376260568693971,
          0.099621831318747,
          0.21244409733396863,
          0.05660923678727474,
          0.025016800386806107,
          0.026372426994270805,
          0.03362660976679364,
          0.055941601994873746,
          0.03375063210181067,
          0.053745148799266056,
          0.048437368438204766,
          0.053654591291616545,
          0.1993380266253814,
          0.005694746742391571,
          0.008702144819472577,
          0.05850889184388193,
          0.016754779590510787,
          0.0701751429358012,
          0.006648071147395902,
          0.04239196541854008,
          0.04819635955114623,
          0.08863956395269541,
          0.02751771225970724,
          0.013788097860206482,
          0.10217070087521082,
          0.02092661034187683,
          0.08836682511912307,
          0.051225845354112357,
          0.0413364621460796,
          0.8355032873798851,
          0.0070919572398665575,
          0.03001494260056827,
          0.00997787796776855,
          0.03266830730558909,
          0.008664907447631189,
          0.010822396431836887,
          0.07448345438079279,
          0.09279131694095653,
          0.047022596235325634,
          0.035325550976165236,
          0.024204512991784718,
          0.07979583465297486,
          0.14065939480412246,
          0.024535638958540034,
          0.1322131787337188,
          0.028584034888634965,
          0.15706265907003505,
          0.03536562281627124,
          0.053891862561029145,
          0.09165416972607984,
          0.04751092441473575,
          0.03626017092356475,
          0.11162467607720657,
          0.01686278236645879,
          0.034054400544250615,
          0.07194424685446432,
          0.6020660203968909,
          0.060337418849240244,
          0.00785208500176547,
          0.09242025142522192,
          0.02455231343450588,
          0.060956989162641605,
          0.2484882130002774,
          0.014629109110233218,
          0.06919355979183674,
          0.008702770070286832,
          0.045255579254505775,
          0.03932565308923707,
          0.012133786841974234,
          0.24534734108743464,
          0.30489205417841775,
          0.03966066192082978,
          0.044373323682275784,
          0.026049584853804507,
          0.028454681391544546,
          0.22182519333510684,
          0.036259152126289176,
          0.07414864739750957,
          0.006294793673935995,
          0.01763009730394893,
          0.05366047048146351,
          0.03779318862021197,
          0.024749011257764953,
          0.02685079973866633,
          0.03674206389732771,
          0.00928935382465763,
          0.041351018507716726,
          0.13191113531280005,
          0.020846538354992908,
          0.006925541089217582,
          0.016829591919098087,
          0.04939414879283145,
          0.13716217754679308,
          0.08119967412669148,
          0.008703068806030905,
          0.18305940876120524,
          0.03771063469764026,
          0.04468771478460247,
          0.04115276173692731
         ]
        },
        {
         "hovertemplate": [
          "5-alpha_reductase_inhibitor",
          "11-beta-hsd1_inhibitor",
          "acat_inhibitor",
          "acetylcholine_receptor_agonist",
          "acetylcholine_receptor_antagonist",
          "acetylcholinesterase_inhibitor",
          "adenosine_receptor_agonist",
          "adenosine_receptor_antagonist",
          "adenylyl_cyclase_activator",
          "adrenergic_receptor_agonist",
          "adrenergic_receptor_antagonist",
          "akt_inhibitor",
          "aldehyde_dehydrogenase_inhibitor",
          "alk_inhibitor",
          "ampk_activator",
          "analgesic",
          "androgen_receptor_agonist",
          "androgen_receptor_antagonist",
          "anesthetic_-_local",
          "angiogenesis_inhibitor",
          "angiotensin_receptor_antagonist",
          "anti-inflammatory",
          "antiarrhythmic",
          "antibiotic",
          "anticonvulsant",
          "antifungal",
          "antihistamine",
          "antimalarial",
          "antioxidant",
          "antiprotozoal",
          "antiviral",
          "apoptosis_stimulant",
          "aromatase_inhibitor",
          "atm_kinase_inhibitor",
          "atp-sensitive_potassium_channel_antagonist",
          "atp_synthase_inhibitor",
          "atpase_inhibitor",
          "atr_kinase_inhibitor",
          "aurora_kinase_inhibitor",
          "autotaxin_inhibitor",
          "bacterial_30s_ribosomal_subunit_inhibitor",
          "bacterial_50s_ribosomal_subunit_inhibitor",
          "bacterial_antifolate",
          "bacterial_cell_wall_synthesis_inhibitor",
          "bacterial_dna_gyrase_inhibitor",
          "bacterial_dna_inhibitor",
          "bacterial_membrane_integrity_inhibitor",
          "bcl_inhibitor",
          "bcr-abl_inhibitor",
          "benzodiazepine_receptor_agonist",
          "beta_amyloid_inhibitor",
          "bromodomain_inhibitor",
          "btk_inhibitor",
          "calcineurin_inhibitor",
          "calcium_channel_blocker",
          "cannabinoid_receptor_agonist",
          "cannabinoid_receptor_antagonist",
          "carbonic_anhydrase_inhibitor",
          "casein_kinase_inhibitor",
          "caspase_activator",
          "catechol_o_methyltransferase_inhibitor",
          "cc_chemokine_receptor_antagonist",
          "cck_receptor_antagonist",
          "cdk_inhibitor",
          "chelating_agent",
          "chk_inhibitor",
          "chloride_channel_blocker",
          "cholesterol_inhibitor",
          "cholinergic_receptor_antagonist",
          "coagulation_factor_inhibitor",
          "corticosteroid_agonist",
          "cyclooxygenase_inhibitor",
          "cytochrome_p450_inhibitor",
          "dihydrofolate_reductase_inhibitor",
          "dipeptidyl_peptidase_inhibitor",
          "diuretic",
          "dna_alkylating_agent",
          "dna_inhibitor",
          "dopamine_receptor_agonist",
          "dopamine_receptor_antagonist",
          "egfr_inhibitor",
          "elastase_inhibitor",
          "erbb2_inhibitor",
          "estrogen_receptor_agonist",
          "estrogen_receptor_antagonist",
          "faah_inhibitor",
          "farnesyltransferase_inhibitor",
          "fatty_acid_receptor_agonist",
          "fgfr_inhibitor",
          "flt3_inhibitor",
          "focal_adhesion_kinase_inhibitor",
          "free_radical_scavenger",
          "fungal_squalene_epoxidase_inhibitor",
          "gaba_receptor_agonist",
          "gaba_receptor_antagonist",
          "gamma_secretase_inhibitor",
          "glucocorticoid_receptor_agonist",
          "glutamate_inhibitor",
          "glutamate_receptor_agonist",
          "glutamate_receptor_antagonist",
          "gonadotropin_receptor_agonist",
          "gsk_inhibitor",
          "hcv_inhibitor",
          "hdac_inhibitor",
          "histamine_receptor_agonist",
          "histamine_receptor_antagonist",
          "histone_lysine_demethylase_inhibitor",
          "histone_lysine_methyltransferase_inhibitor",
          "hiv_inhibitor",
          "hmgcr_inhibitor",
          "hsp_inhibitor",
          "igf-1_inhibitor",
          "ikk_inhibitor",
          "imidazoline_receptor_agonist",
          "immunosuppressant",
          "insulin_secretagogue",
          "insulin_sensitizer",
          "integrin_inhibitor",
          "jak_inhibitor",
          "kit_inhibitor",
          "laxative",
          "leukotriene_inhibitor",
          "leukotriene_receptor_antagonist",
          "lipase_inhibitor",
          "lipoxygenase_inhibitor",
          "lxr_agonist",
          "mdm_inhibitor",
          "mek_inhibitor",
          "membrane_integrity_inhibitor",
          "mineralocorticoid_receptor_antagonist",
          "monoacylglycerol_lipase_inhibitor",
          "monoamine_oxidase_inhibitor",
          "monopolar_spindle_1_kinase_inhibitor",
          "mtor_inhibitor",
          "mucolytic_agent",
          "neuropeptide_receptor_antagonist",
          "nfkb_inhibitor",
          "nicotinic_receptor_agonist",
          "nitric_oxide_donor",
          "nitric_oxide_production_inhibitor",
          "nitric_oxide_synthase_inhibitor",
          "norepinephrine_reuptake_inhibitor",
          "nrf2_activator",
          "opioid_receptor_agonist",
          "opioid_receptor_antagonist",
          "orexin_receptor_antagonist",
          "p38_mapk_inhibitor",
          "p-glycoprotein_inhibitor",
          "parp_inhibitor",
          "pdgfr_inhibitor",
          "pdk_inhibitor",
          "phosphodiesterase_inhibitor",
          "phospholipase_inhibitor",
          "pi3k_inhibitor",
          "pkc_inhibitor",
          "potassium_channel_activator",
          "potassium_channel_antagonist",
          "ppar_receptor_agonist",
          "ppar_receptor_antagonist",
          "progesterone_receptor_agonist",
          "progesterone_receptor_antagonist",
          "prostaglandin_inhibitor",
          "prostanoid_receptor_antagonist",
          "proteasome_inhibitor",
          "protein_kinase_inhibitor",
          "protein_phosphatase_inhibitor",
          "protein_synthesis_inhibitor",
          "protein_tyrosine_kinase_inhibitor",
          "radiopaque_medium",
          "raf_inhibitor",
          "ras_gtpase_inhibitor",
          "retinoid_receptor_agonist",
          "retinoid_receptor_antagonist",
          "rho_associated_kinase_inhibitor",
          "ribonucleoside_reductase_inhibitor",
          "rna_polymerase_inhibitor",
          "serotonin_receptor_agonist",
          "serotonin_receptor_antagonist",
          "serotonin_reuptake_inhibitor",
          "sigma_receptor_agonist",
          "sigma_receptor_antagonist",
          "smoothened_receptor_antagonist",
          "sodium_channel_inhibitor",
          "sphingosine_receptor_agonist",
          "src_inhibitor",
          "steroid",
          "syk_inhibitor",
          "tachykinin_antagonist",
          "tgf-beta_receptor_inhibitor",
          "thrombin_inhibitor",
          "thymidylate_synthase_inhibitor",
          "tlr_agonist",
          "tlr_antagonist",
          "tnf_inhibitor",
          "topoisomerase_inhibitor",
          "transient_receptor_potential_channel_antagonist",
          "tropomyosin_receptor_kinase_inhibitor",
          "trpv_agonist",
          "trpv_antagonist",
          "tubulin_inhibitor",
          "tyrosine_kinase_inhibitor",
          "ubiquitin_specific_protease_inhibitor",
          "vegfr_inhibitor",
          "vitamin_b",
          "vitamin_d_receptor_agonist",
          "wnt_inhibitor"
         ],
         "mode": "markers",
         "name": "linSVR",
         "type": "scatter",
         "x": [
          17,
          18,
          24,
          190,
          301,
          73,
          54,
          96,
          12,
          270,
          360,
          66,
          7,
          42,
          12,
          12,
          48,
          89,
          80,
          36,
          37,
          73,
          6,
          43,
          12,
          13,
          12,
          18,
          73,
          36,
          23,
          49,
          47,
          6,
          1,
          12,
          97,
          19,
          96,
          6,
          60,
          80,
          36,
          192,
          89,
          115,
          7,
          31,
          38,
          67,
          24,
          68,
          29,
          6,
          281,
          42,
          55,
          36,
          36,
          18,
          12,
          102,
          18,
          340,
          54,
          24,
          42,
          48,
          54,
          6,
          36,
          435,
          104,
          36,
          25,
          6,
          48,
          402,
          121,
          424,
          336,
          6,
          1,
          158,
          48,
          36,
          18,
          25,
          50,
          279,
          18,
          18,
          23,
          106,
          165,
          56,
          266,
          13,
          74,
          367,
          18,
          60,
          72,
          106,
          59,
          241,
          24,
          32,
          72,
          283,
          93,
          37,
          30,
          31,
          73,
          30,
          51,
          42,
          92,
          273,
          6,
          6,
          62,
          12,
          61,
          6,
          31,
          72,
          74,
          25,
          12,
          85,
          18,
          130,
          48,
          37,
          832,
          6,
          26,
          12,
          26,
          7,
          18,
          61,
          96,
          37,
          62,
          24,
          61,
          297,
          18,
          264,
          25,
          151,
          31,
          55,
          98,
          115,
          30,
          119,
          18,
          36,
          84,
          726,
          48,
          6,
          103,
          19,
          56,
          223,
          12,
          67,
          6,
          35,
          37,
          25,
          236,
          404,
          44,
          36,
          36,
          25,
          267,
          25,
          71,
          6,
          19,
          60,
          30,
          19,
          37,
          30,
          7,
          36,
          127,
          18,
          6,
          25,
          48,
          316,
          73,
          6,
          170,
          26,
          39,
          30
         ],
         "y": [
          0.005831072022101893,
          0.0062367966075362255,
          0.007978826744621,
          0.046532153206883135,
          0.06764519498468158,
          0.020674200783992996,
          0.016045308936736183,
          0.02617930117984991,
          0.004410436616566181,
          0.061465668061985515,
          0.07819365420172178,
          0.01892843312150654,
          0.0026345682300976028,
          0.01300006856917485,
          0.004333620848570402,
          0.004248240433775837,
          0.014503088292594335,
          0.024660313244141842,
          0.02249396089647529,
          0.01129720591393144,
          0.011599045208352294,
          0.02083031236872575,
          0.002352113482594083,
          0.013188841549764905,
          0.004369326872743167,
          0.004650355328805417,
          0.0043236828031939425,
          0.006214198142430628,
          0.02066446573334994,
          0.011342876546885395,
          0.00767303204840099,
          0.014890535213746234,
          0.014115718316159428,
          0.002345676579883589,
          0.0014503559416702136,
          0.004065520270877872,
          0.025914699595589084,
          0.006488820228366745,
          0.024752217363843882,
          0.002301375812520917,
          0.017370348638267228,
          0.02243234683566219,
          0.011344221828718798,
          0.046754972797189036,
          0.024566871977685388,
          0.030630721758026787,
          0.003760352039339202,
          0.010978942781144353,
          0.01189667503898387,
          0.0193395606048917,
          0.007960219227400405,
          0.019635670875574652,
          0.009291168310008641,
          0.002329830897034114,
          0.06401526286595917,
          0.012951765101314528,
          0.01635370692662676,
          0.011329246520561505,
          0.011312954428724162,
          0.006167602628048446,
          0.004278303310673196,
          0.027588697293121876,
          0.006150508681834448,
          0.07349164643998377,
          0.015968265000170855,
          0.007659009572503487,
          0.012741526396894904,
          0.01434128440289508,
          0.01593223619662827,
          0.00234289766191843,
          0.01133443835000506,
          0.09077882184970891,
          0.028042983450983508,
          0.011276133017276122,
          0.008113297037170307,
          0.002357632468117093,
          0.014467989815617484,
          0.08565436115853382,
          0.03189774372576333,
          0.08939811210536328,
          0.0735421211170771,
          0.002353981450198713,
          0.0014503559416702138,
          0.03988575478072683,
          0.014526250357841103,
          0.012300725394578268,
          0.00603444061388778,
          0.00817497228203518,
          0.015069087493803705,
          0.06376367456823122,
          0.007165433663907627,
          0.006199985126827718,
          0.00764515599549536,
          0.028401722716811652,
          0.04127886112397169,
          0.016444221338569806,
          0.06089946435185394,
          0.004652701314891327,
          0.020983698148196332,
          0.07877187263825523,
          0.006163852958142984,
          0.01759738734420235,
          0.020405115187708,
          0.029511672300418724,
          0.01724552973654264,
          0.056476507606090326,
          0.00796990828506284,
          0.010006583766986262,
          0.02149711051093905,
          0.06415444221964624,
          0.023855177708779204,
          0.01140894297389204,
          0.009726953575741765,
          0.009903106792157156,
          0.020784218716675344,
          0.009679037062016234,
          0.015264901434627625,
          0.01300170642169239,
          0.025320982820766384,
          0.06246477946155067,
          0.0024947295858661596,
          0.00235512045743162,
          0.018035518878921568,
          0.0042518743142080356,
          0.018760874975453357,
          0.0023380667829318814,
          0.009957648307796857,
          0.021386956974335358,
          0.0209815141790747,
          0.008228168227345126,
          0.004321890192678845,
          0.023667115839409884,
          0.006218263284054405,
          0.032841639151518914,
          0.014446359897872066,
          0.011603803036656195,
          0.16898144197949105,
          0.002371989435028168,
          0.008492120335365552,
          0.00422791161803384,
          0.008542596878457279,
          0.0026584850321569927,
          0.010022741406093098,
          0.018982782757997953,
          0.026293584234826133,
          0.011655475851224678,
          0.0181194816527226,
          0.008056274519735738,
          0.01771098594733401,
          0.06710305744294315,
          0.006199938149449491,
          0.060965440771229715,
          0.008177498472208451,
          0.03775005636406808,
          0.009943823801261178,
          0.016318670979156374,
          0.026749670102798155,
          0.030656605683734746,
          0.009696971203088172,
          0.03146061548982807,
          0.006174004105544448,
          0.011327434395304703,
          0.02335330331062189,
          0.13674941713594227,
          0.014465104628272352,
          0.002329313625363307,
          0.027921076969987173,
          0.006447015081736732,
          0.01655802039131388,
          0.058530349484819215,
          0.004347669648141545,
          0.018894683281625795,
          0.0023087549628663475,
          0.011061616669019437,
          0.011606306088654487,
          0.008085848983850882,
          0.055456294867790294,
          0.08592929944878917,
          0.013449009004918364,
          0.01128966781199427,
          0.011349182364965677,
          0.00939330483987544,
          0.061526178635091626,
          0.00823796117851257,
          0.0203415750347607,
          0.002351158044111295,
          0.007528277187480458,
          0.01751538977189555,
          0.009379680531876098,
          0.0064861228308376664,
          0.01153452784576517,
          0.00963057461042005,
          0.002718632388188828,
          0.011350224417594208,
          0.03441045241130867,
          0.006166925744739594,
          0.002380490221436166,
          0.008302030315432684,
          0.015631823515068147,
          0.06944287002669686,
          0.020626487123264575,
          0.002352093609178464,
          0.04243210851895119,
          0.008506518831265412,
          0.011947172992174081,
          0.009679503036961462
         ]
        },
        {
         "hovertemplate": [
          "5-alpha_reductase_inhibitor",
          "11-beta-hsd1_inhibitor",
          "acat_inhibitor",
          "acetylcholine_receptor_agonist",
          "acetylcholine_receptor_antagonist",
          "acetylcholinesterase_inhibitor",
          "adenosine_receptor_agonist",
          "adenosine_receptor_antagonist",
          "adenylyl_cyclase_activator",
          "adrenergic_receptor_agonist",
          "adrenergic_receptor_antagonist",
          "akt_inhibitor",
          "aldehyde_dehydrogenase_inhibitor",
          "alk_inhibitor",
          "ampk_activator",
          "analgesic",
          "androgen_receptor_agonist",
          "androgen_receptor_antagonist",
          "anesthetic_-_local",
          "angiogenesis_inhibitor",
          "angiotensin_receptor_antagonist",
          "anti-inflammatory",
          "antiarrhythmic",
          "antibiotic",
          "anticonvulsant",
          "antifungal",
          "antihistamine",
          "antimalarial",
          "antioxidant",
          "antiprotozoal",
          "antiviral",
          "apoptosis_stimulant",
          "aromatase_inhibitor",
          "atm_kinase_inhibitor",
          "atp-sensitive_potassium_channel_antagonist",
          "atp_synthase_inhibitor",
          "atpase_inhibitor",
          "atr_kinase_inhibitor",
          "aurora_kinase_inhibitor",
          "autotaxin_inhibitor",
          "bacterial_30s_ribosomal_subunit_inhibitor",
          "bacterial_50s_ribosomal_subunit_inhibitor",
          "bacterial_antifolate",
          "bacterial_cell_wall_synthesis_inhibitor",
          "bacterial_dna_gyrase_inhibitor",
          "bacterial_dna_inhibitor",
          "bacterial_membrane_integrity_inhibitor",
          "bcl_inhibitor",
          "bcr-abl_inhibitor",
          "benzodiazepine_receptor_agonist",
          "beta_amyloid_inhibitor",
          "bromodomain_inhibitor",
          "btk_inhibitor",
          "calcineurin_inhibitor",
          "calcium_channel_blocker",
          "cannabinoid_receptor_agonist",
          "cannabinoid_receptor_antagonist",
          "carbonic_anhydrase_inhibitor",
          "casein_kinase_inhibitor",
          "caspase_activator",
          "catechol_o_methyltransferase_inhibitor",
          "cc_chemokine_receptor_antagonist",
          "cck_receptor_antagonist",
          "cdk_inhibitor",
          "chelating_agent",
          "chk_inhibitor",
          "chloride_channel_blocker",
          "cholesterol_inhibitor",
          "cholinergic_receptor_antagonist",
          "coagulation_factor_inhibitor",
          "corticosteroid_agonist",
          "cyclooxygenase_inhibitor",
          "cytochrome_p450_inhibitor",
          "dihydrofolate_reductase_inhibitor",
          "dipeptidyl_peptidase_inhibitor",
          "diuretic",
          "dna_alkylating_agent",
          "dna_inhibitor",
          "dopamine_receptor_agonist",
          "dopamine_receptor_antagonist",
          "egfr_inhibitor",
          "elastase_inhibitor",
          "erbb2_inhibitor",
          "estrogen_receptor_agonist",
          "estrogen_receptor_antagonist",
          "faah_inhibitor",
          "farnesyltransferase_inhibitor",
          "fatty_acid_receptor_agonist",
          "fgfr_inhibitor",
          "flt3_inhibitor",
          "focal_adhesion_kinase_inhibitor",
          "free_radical_scavenger",
          "fungal_squalene_epoxidase_inhibitor",
          "gaba_receptor_agonist",
          "gaba_receptor_antagonist",
          "gamma_secretase_inhibitor",
          "glucocorticoid_receptor_agonist",
          "glutamate_inhibitor",
          "glutamate_receptor_agonist",
          "glutamate_receptor_antagonist",
          "gonadotropin_receptor_agonist",
          "gsk_inhibitor",
          "hcv_inhibitor",
          "hdac_inhibitor",
          "histamine_receptor_agonist",
          "histamine_receptor_antagonist",
          "histone_lysine_demethylase_inhibitor",
          "histone_lysine_methyltransferase_inhibitor",
          "hiv_inhibitor",
          "hmgcr_inhibitor",
          "hsp_inhibitor",
          "igf-1_inhibitor",
          "ikk_inhibitor",
          "imidazoline_receptor_agonist",
          "immunosuppressant",
          "insulin_secretagogue",
          "insulin_sensitizer",
          "integrin_inhibitor",
          "jak_inhibitor",
          "kit_inhibitor",
          "laxative",
          "leukotriene_inhibitor",
          "leukotriene_receptor_antagonist",
          "lipase_inhibitor",
          "lipoxygenase_inhibitor",
          "lxr_agonist",
          "mdm_inhibitor",
          "mek_inhibitor",
          "membrane_integrity_inhibitor",
          "mineralocorticoid_receptor_antagonist",
          "monoacylglycerol_lipase_inhibitor",
          "monoamine_oxidase_inhibitor",
          "monopolar_spindle_1_kinase_inhibitor",
          "mtor_inhibitor",
          "mucolytic_agent",
          "neuropeptide_receptor_antagonist",
          "nfkb_inhibitor",
          "nicotinic_receptor_agonist",
          "nitric_oxide_donor",
          "nitric_oxide_production_inhibitor",
          "nitric_oxide_synthase_inhibitor",
          "norepinephrine_reuptake_inhibitor",
          "nrf2_activator",
          "opioid_receptor_agonist",
          "opioid_receptor_antagonist",
          "orexin_receptor_antagonist",
          "p38_mapk_inhibitor",
          "p-glycoprotein_inhibitor",
          "parp_inhibitor",
          "pdgfr_inhibitor",
          "pdk_inhibitor",
          "phosphodiesterase_inhibitor",
          "phospholipase_inhibitor",
          "pi3k_inhibitor",
          "pkc_inhibitor",
          "potassium_channel_activator",
          "potassium_channel_antagonist",
          "ppar_receptor_agonist",
          "ppar_receptor_antagonist",
          "progesterone_receptor_agonist",
          "progesterone_receptor_antagonist",
          "prostaglandin_inhibitor",
          "prostanoid_receptor_antagonist",
          "proteasome_inhibitor",
          "protein_kinase_inhibitor",
          "protein_phosphatase_inhibitor",
          "protein_synthesis_inhibitor",
          "protein_tyrosine_kinase_inhibitor",
          "radiopaque_medium",
          "raf_inhibitor",
          "ras_gtpase_inhibitor",
          "retinoid_receptor_agonist",
          "retinoid_receptor_antagonist",
          "rho_associated_kinase_inhibitor",
          "ribonucleoside_reductase_inhibitor",
          "rna_polymerase_inhibitor",
          "serotonin_receptor_agonist",
          "serotonin_receptor_antagonist",
          "serotonin_reuptake_inhibitor",
          "sigma_receptor_agonist",
          "sigma_receptor_antagonist",
          "smoothened_receptor_antagonist",
          "sodium_channel_inhibitor",
          "sphingosine_receptor_agonist",
          "src_inhibitor",
          "steroid",
          "syk_inhibitor",
          "tachykinin_antagonist",
          "tgf-beta_receptor_inhibitor",
          "thrombin_inhibitor",
          "thymidylate_synthase_inhibitor",
          "tlr_agonist",
          "tlr_antagonist",
          "tnf_inhibitor",
          "topoisomerase_inhibitor",
          "transient_receptor_potential_channel_antagonist",
          "tropomyosin_receptor_kinase_inhibitor",
          "trpv_agonist",
          "trpv_antagonist",
          "tubulin_inhibitor",
          "tyrosine_kinase_inhibitor",
          "ubiquitin_specific_protease_inhibitor",
          "vegfr_inhibitor",
          "vitamin_b",
          "vitamin_d_receptor_agonist",
          "wnt_inhibitor"
         ],
         "mode": "markers",
         "name": "Logistic Regression",
         "type": "scatter",
         "x": [
          17,
          18,
          24,
          190,
          301,
          73,
          54,
          96,
          12,
          270,
          360,
          66,
          7,
          42,
          12,
          12,
          48,
          89,
          80,
          36,
          37,
          73,
          6,
          43,
          12,
          13,
          12,
          18,
          73,
          36,
          23,
          49,
          47,
          6,
          1,
          12,
          97,
          19,
          96,
          6,
          60,
          80,
          36,
          192,
          89,
          115,
          7,
          31,
          38,
          67,
          24,
          68,
          29,
          6,
          281,
          42,
          55,
          36,
          36,
          18,
          12,
          102,
          18,
          340,
          54,
          24,
          42,
          48,
          54,
          6,
          36,
          435,
          104,
          36,
          25,
          6,
          48,
          402,
          121,
          424,
          336,
          6,
          1,
          158,
          48,
          36,
          18,
          25,
          50,
          279,
          18,
          18,
          23,
          106,
          165,
          56,
          266,
          13,
          74,
          367,
          18,
          60,
          72,
          106,
          59,
          241,
          24,
          32,
          72,
          283,
          93,
          37,
          30,
          31,
          73,
          30,
          51,
          42,
          92,
          273,
          6,
          6,
          62,
          12,
          61,
          6,
          31,
          72,
          74,
          25,
          12,
          85,
          18,
          130,
          48,
          37,
          832,
          6,
          26,
          12,
          26,
          7,
          18,
          61,
          96,
          37,
          62,
          24,
          61,
          297,
          18,
          264,
          25,
          151,
          31,
          55,
          98,
          115,
          30,
          119,
          18,
          36,
          84,
          726,
          48,
          6,
          103,
          19,
          56,
          223,
          12,
          67,
          6,
          35,
          37,
          25,
          236,
          404,
          44,
          36,
          36,
          25,
          267,
          25,
          71,
          6,
          19,
          60,
          30,
          19,
          37,
          30,
          7,
          36,
          127,
          18,
          6,
          25,
          48,
          316,
          73,
          6,
          170,
          26,
          39,
          30
         ],
         "y": [
          0.00583114618888233,
          0.006236781178878666,
          0.007978774685336275,
          0.04653212369753387,
          0.0676742600234668,
          0.02071751996115231,
          0.016058729933267412,
          0.02620918426347814,
          0.004395437290695978,
          0.0615853637434476,
          0.07826841290671471,
          0.01897768520859101,
          0.0026654656393430756,
          0.013020128269823033,
          0.00434106809732745,
          0.004250430724461047,
          0.01452411466114322,
          0.024661530192668066,
          0.022503291831581024,
          0.011334765678227844,
          0.011603010594673316,
          0.020835484898480406,
          0.002355970413902776,
          0.013119557690369694,
          0.004368544746694581,
          0.004655281439086718,
          0.004351335220561787,
          0.006209735374558728,
          0.020719517636856397,
          0.011344910479549575,
          0.007675628695909684,
          0.014884808723875041,
          0.014158298499726387,
          0.002350502934548165,
          0.0014503559416702136,
          0.004081079960668068,
          0.02582537245249916,
          0.006496514552582748,
          0.025385554073941947,
          0.002272659473297811,
          0.01738069850739739,
          0.02245965054912967,
          0.011345083151208555,
          0.04680797428024784,
          0.024593943919900725,
          0.030623516880524605,
          0.002744437961782812,
          0.009890650630916632,
          0.01189675932209908,
          0.01934017654483419,
          0.007965841837575694,
          0.01961039741281327,
          0.0093152548265404,
          0.002336137540968407,
          0.06405332312040272,
          0.012954771514559415,
          0.016353813240052615,
          0.011345351067513866,
          0.01131869334909233,
          0.00618357657361982,
          0.004286184601845601,
          0.02762207485399132,
          0.006172016681547751,
          0.07334181852680566,
          0.015999624444886364,
          0.007831960316630481,
          0.012804251822646388,
          0.014387021028545782,
          0.015987839325006713,
          0.002371919863734094,
          0.011337903684806742,
          0.09087202500630076,
          0.028063515996451956,
          0.011282792629583501,
          0.008103470325567116,
          0.0023512231176973436,
          0.01448778358170451,
          0.08565572273183011,
          0.03191199054122889,
          0.08940034960771495,
          0.0735401854234334,
          0.0023518416427200936,
          0.0014503559416702138,
          0.03990132330619481,
          0.014534122459552152,
          0.011201763638057635,
          0.006013958594751999,
          0.008206223106778023,
          0.015073188963731617,
          0.06376385202832707,
          0.006107239698899957,
          0.006200732576720745,
          0.007661926379214472,
          0.028411225536712076,
          0.04130551536592711,
          0.016507484285434467,
          0.06104342324132101,
          0.0046598132403890755,
          0.02101092460280213,
          0.07882628091040782,
          0.0061788946039093556,
          0.01760179967327343,
          0.02044059640987636,
          0.028263639788920134,
          0.017279777329182577,
          0.05650770356230583,
          0.007970749252848618,
          0.010011292920415967,
          0.020392515530391,
          0.06429328922355347,
          0.024046360688478218,
          0.011473349827099995,
          0.00969595134971244,
          0.009917660042985776,
          0.02079693719047969,
          0.00968370987501333,
          0.015287967952289618,
          0.012986927386186148,
          0.025318880629354466,
          0.06251359859947904,
          0.0024102009656451558,
          0.0023566907332674665,
          0.018069854986041023,
          0.004249237255599779,
          0.017548613914134804,
          0.0023501770337523305,
          0.009957802797626966,
          0.020116627745064748,
          0.021006471049345405,
          0.008239053034821427,
          0.004330706642572785,
          0.02367576575035095,
          0.00621711379859948,
          0.032623477721946494,
          0.014463303054452358,
          0.011608651380755536,
          0.096373780263808,
          0.0023832938201368424,
          0.008514997731857543,
          0.004259274240715626,
          0.008543271703467446,
          0.0026694016317334963,
          0.00557669824765351,
          0.01784851780113743,
          0.02617777573420718,
          0.011664975554631106,
          0.01812607327248322,
          0.00803582935348466,
          0.017764559972045176,
          0.06708552379899649,
          0.006200989019607363,
          0.06096827845516666,
          0.008208572632714866,
          0.03668882723832846,
          0.009954981133812662,
          0.01633299324441466,
          0.026749781190344428,
          0.030646343882852825,
          0.009699316444659574,
          0.031464429868803635,
          0.006184109610327829,
          0.011331588740412856,
          0.023342252982173812,
          0.1358320850807893,
          0.0144879387068277,
          0.0023441976544275015,
          0.027903331363766663,
          0.006470277050437371,
          0.01657836752386752,
          0.038606099381216036,
          0.004353526914189911,
          0.01904280481613064,
          0.0023165303630260366,
          0.01106482140548636,
          0.011608785624768634,
          0.008016797760493565,
          0.05550419182643365,
          0.08595966853274617,
          0.013469569229236703,
          0.01131202951056811,
          0.011347860675965911,
          0.008276076777815415,
          0.06153053928366806,
          0.008247266228191778,
          0.02032245992746342,
          0.002351463876921636,
          0.006525767912695145,
          0.01755592348353207,
          0.009235607982769074,
          0.006495499715579713,
          0.011558580940599819,
          0.009647926306260471,
          0.002717779361965932,
          0.01135370811627393,
          0.03235450106716403,
          0.006180478380729531,
          0.0023696982649874234,
          0.008292038696924596,
          0.014526359534764485,
          0.0700058378393232,
          0.020651619959940984,
          0.0023542228873962637,
          0.04243122282678852,
          0.00852109632459034,
          0.011968902629900652,
          0.009680751300795551
         ]
        },
        {
         "hovertemplate": [
          "5-alpha_reductase_inhibitor",
          "11-beta-hsd1_inhibitor",
          "acat_inhibitor",
          "acetylcholine_receptor_agonist",
          "acetylcholine_receptor_antagonist",
          "acetylcholinesterase_inhibitor",
          "adenosine_receptor_agonist",
          "adenosine_receptor_antagonist",
          "adenylyl_cyclase_activator",
          "adrenergic_receptor_agonist",
          "adrenergic_receptor_antagonist",
          "akt_inhibitor",
          "aldehyde_dehydrogenase_inhibitor",
          "alk_inhibitor",
          "ampk_activator",
          "analgesic",
          "androgen_receptor_agonist",
          "androgen_receptor_antagonist",
          "anesthetic_-_local",
          "angiogenesis_inhibitor",
          "angiotensin_receptor_antagonist",
          "anti-inflammatory",
          "antiarrhythmic",
          "antibiotic",
          "anticonvulsant",
          "antifungal",
          "antihistamine",
          "antimalarial",
          "antioxidant",
          "antiprotozoal",
          "antiviral",
          "apoptosis_stimulant",
          "aromatase_inhibitor",
          "atm_kinase_inhibitor",
          "atp-sensitive_potassium_channel_antagonist",
          "atp_synthase_inhibitor",
          "atpase_inhibitor",
          "atr_kinase_inhibitor",
          "aurora_kinase_inhibitor",
          "autotaxin_inhibitor",
          "bacterial_30s_ribosomal_subunit_inhibitor",
          "bacterial_50s_ribosomal_subunit_inhibitor",
          "bacterial_antifolate",
          "bacterial_cell_wall_synthesis_inhibitor",
          "bacterial_dna_gyrase_inhibitor",
          "bacterial_dna_inhibitor",
          "bacterial_membrane_integrity_inhibitor",
          "bcl_inhibitor",
          "bcr-abl_inhibitor",
          "benzodiazepine_receptor_agonist",
          "beta_amyloid_inhibitor",
          "bromodomain_inhibitor",
          "btk_inhibitor",
          "calcineurin_inhibitor",
          "calcium_channel_blocker",
          "cannabinoid_receptor_agonist",
          "cannabinoid_receptor_antagonist",
          "carbonic_anhydrase_inhibitor",
          "casein_kinase_inhibitor",
          "caspase_activator",
          "catechol_o_methyltransferase_inhibitor",
          "cc_chemokine_receptor_antagonist",
          "cck_receptor_antagonist",
          "cdk_inhibitor",
          "chelating_agent",
          "chk_inhibitor",
          "chloride_channel_blocker",
          "cholesterol_inhibitor",
          "cholinergic_receptor_antagonist",
          "coagulation_factor_inhibitor",
          "corticosteroid_agonist",
          "cyclooxygenase_inhibitor",
          "cytochrome_p450_inhibitor",
          "dihydrofolate_reductase_inhibitor",
          "dipeptidyl_peptidase_inhibitor",
          "diuretic",
          "dna_alkylating_agent",
          "dna_inhibitor",
          "dopamine_receptor_agonist",
          "dopamine_receptor_antagonist",
          "egfr_inhibitor",
          "elastase_inhibitor",
          "erbb2_inhibitor",
          "estrogen_receptor_agonist",
          "estrogen_receptor_antagonist",
          "faah_inhibitor",
          "farnesyltransferase_inhibitor",
          "fatty_acid_receptor_agonist",
          "fgfr_inhibitor",
          "flt3_inhibitor",
          "focal_adhesion_kinase_inhibitor",
          "free_radical_scavenger",
          "fungal_squalene_epoxidase_inhibitor",
          "gaba_receptor_agonist",
          "gaba_receptor_antagonist",
          "gamma_secretase_inhibitor",
          "glucocorticoid_receptor_agonist",
          "glutamate_inhibitor",
          "glutamate_receptor_agonist",
          "glutamate_receptor_antagonist",
          "gonadotropin_receptor_agonist",
          "gsk_inhibitor",
          "hcv_inhibitor",
          "hdac_inhibitor",
          "histamine_receptor_agonist",
          "histamine_receptor_antagonist",
          "histone_lysine_demethylase_inhibitor",
          "histone_lysine_methyltransferase_inhibitor",
          "hiv_inhibitor",
          "hmgcr_inhibitor",
          "hsp_inhibitor",
          "igf-1_inhibitor",
          "ikk_inhibitor",
          "imidazoline_receptor_agonist",
          "immunosuppressant",
          "insulin_secretagogue",
          "insulin_sensitizer",
          "integrin_inhibitor",
          "jak_inhibitor",
          "kit_inhibitor",
          "laxative",
          "leukotriene_inhibitor",
          "leukotriene_receptor_antagonist",
          "lipase_inhibitor",
          "lipoxygenase_inhibitor",
          "lxr_agonist",
          "mdm_inhibitor",
          "mek_inhibitor",
          "membrane_integrity_inhibitor",
          "mineralocorticoid_receptor_antagonist",
          "monoacylglycerol_lipase_inhibitor",
          "monoamine_oxidase_inhibitor",
          "monopolar_spindle_1_kinase_inhibitor",
          "mtor_inhibitor",
          "mucolytic_agent",
          "neuropeptide_receptor_antagonist",
          "nfkb_inhibitor",
          "nicotinic_receptor_agonist",
          "nitric_oxide_donor",
          "nitric_oxide_production_inhibitor",
          "nitric_oxide_synthase_inhibitor",
          "norepinephrine_reuptake_inhibitor",
          "nrf2_activator",
          "opioid_receptor_agonist",
          "opioid_receptor_antagonist",
          "orexin_receptor_antagonist",
          "p38_mapk_inhibitor",
          "p-glycoprotein_inhibitor",
          "parp_inhibitor",
          "pdgfr_inhibitor",
          "pdk_inhibitor",
          "phosphodiesterase_inhibitor",
          "phospholipase_inhibitor",
          "pi3k_inhibitor",
          "pkc_inhibitor",
          "potassium_channel_activator",
          "potassium_channel_antagonist",
          "ppar_receptor_agonist",
          "ppar_receptor_antagonist",
          "progesterone_receptor_agonist",
          "progesterone_receptor_antagonist",
          "prostaglandin_inhibitor",
          "prostanoid_receptor_antagonist",
          "proteasome_inhibitor",
          "protein_kinase_inhibitor",
          "protein_phosphatase_inhibitor",
          "protein_synthesis_inhibitor",
          "protein_tyrosine_kinase_inhibitor",
          "radiopaque_medium",
          "raf_inhibitor",
          "ras_gtpase_inhibitor",
          "retinoid_receptor_agonist",
          "retinoid_receptor_antagonist",
          "rho_associated_kinase_inhibitor",
          "ribonucleoside_reductase_inhibitor",
          "rna_polymerase_inhibitor",
          "serotonin_receptor_agonist",
          "serotonin_receptor_antagonist",
          "serotonin_reuptake_inhibitor",
          "sigma_receptor_agonist",
          "sigma_receptor_antagonist",
          "smoothened_receptor_antagonist",
          "sodium_channel_inhibitor",
          "sphingosine_receptor_agonist",
          "src_inhibitor",
          "steroid",
          "syk_inhibitor",
          "tachykinin_antagonist",
          "tgf-beta_receptor_inhibitor",
          "thrombin_inhibitor",
          "thymidylate_synthase_inhibitor",
          "tlr_agonist",
          "tlr_antagonist",
          "tnf_inhibitor",
          "topoisomerase_inhibitor",
          "transient_receptor_potential_channel_antagonist",
          "tropomyosin_receptor_kinase_inhibitor",
          "trpv_agonist",
          "trpv_antagonist",
          "tubulin_inhibitor",
          "tyrosine_kinase_inhibitor",
          "ubiquitin_specific_protease_inhibitor",
          "vegfr_inhibitor",
          "vitamin_b",
          "vitamin_d_receptor_agonist",
          "wnt_inhibitor"
         ],
         "mode": "markers",
         "name": "Random Forest Regression",
         "type": "scatter",
         "x": [
          17,
          18,
          24,
          190,
          301,
          73,
          54,
          96,
          12,
          270,
          360,
          66,
          7,
          42,
          12,
          12,
          48,
          89,
          80,
          36,
          37,
          73,
          6,
          43,
          12,
          13,
          12,
          18,
          73,
          36,
          23,
          49,
          47,
          6,
          1,
          12,
          97,
          19,
          96,
          6,
          60,
          80,
          36,
          192,
          89,
          115,
          7,
          31,
          38,
          67,
          24,
          68,
          29,
          6,
          281,
          42,
          55,
          36,
          36,
          18,
          12,
          102,
          18,
          340,
          54,
          24,
          42,
          48,
          54,
          6,
          36,
          435,
          104,
          36,
          25,
          6,
          48,
          402,
          121,
          424,
          336,
          6,
          1,
          158,
          48,
          36,
          18,
          25,
          50,
          279,
          18,
          18,
          23,
          106,
          165,
          56,
          266,
          13,
          74,
          367,
          18,
          60,
          72,
          106,
          59,
          241,
          24,
          32,
          72,
          283,
          93,
          37,
          30,
          31,
          73,
          30,
          51,
          42,
          92,
          273,
          6,
          6,
          62,
          12,
          61,
          6,
          31,
          72,
          74,
          25,
          12,
          85,
          18,
          130,
          48,
          37,
          832,
          6,
          26,
          12,
          26,
          7,
          18,
          61,
          96,
          37,
          62,
          24,
          61,
          297,
          18,
          264,
          25,
          151,
          31,
          55,
          98,
          115,
          30,
          119,
          18,
          36,
          84,
          726,
          48,
          6,
          103,
          19,
          56,
          223,
          12,
          67,
          6,
          35,
          37,
          25,
          236,
          404,
          44,
          36,
          36,
          25,
          267,
          25,
          71,
          6,
          19,
          60,
          30,
          19,
          37,
          30,
          7,
          36,
          127,
          18,
          6,
          25,
          48,
          316,
          73,
          6,
          170,
          26,
          39,
          30
         ],
         "y": [
          0.005832626157820068,
          0.0062372378144672,
          0.00819330790408594,
          0.0465429747943948,
          0.06780383692855188,
          0.021134658587802356,
          0.016384841460868157,
          0.026562936023320643,
          0.004911414071871816,
          0.06186146353494312,
          0.07747490786778577,
          0.018876869681061878,
          0.0038930156741204367,
          0.013260396177076045,
          0.004681325652180976,
          0.004741557771336225,
          0.014869227687426122,
          0.02478027884791887,
          0.022837012505434597,
          0.01158482589555263,
          0.01208366797130378,
          0.02102651382943885,
          0.0029988904191288637,
          0.0134619638882337,
          0.004885890401976042,
          0.005847251553089487,
          0.004670217503246909,
          0.0064611077530722085,
          0.021079350436196735,
          0.011613457570646824,
          0.007996028370231608,
          0.015290613656957152,
          0.014584288374847876,
          0.004726983334469083,
          0.0014503559416702136,
          0.0054486612717959786,
          0.02577290407398193,
          0.007056260246969822,
          0.02470788127476214,
          0.0034827736452244214,
          0.0177368100917087,
          0.022784120698300925,
          0.011813253752390696,
          0.046687017132379195,
          0.024909503221289615,
          0.030847199804086792,
          0.003995788279920621,
          0.010229441015590863,
          0.011911627542582282,
          0.019489029826546347,
          0.008287909609887855,
          0.019512158447889675,
          0.009475362525943193,
          0.004618797943864961,
          0.06400036906645085,
          0.012918877492990912,
          0.016830474702206576,
          0.011754000815730588,
          0.011702119543628299,
          0.006579599871534956,
          0.005539680930419343,
          0.027720521051130858,
          0.006376449767547342,
          0.07284240498813233,
          0.01636693135591969,
          0.008407376908911147,
          0.012820224774496689,
          0.014683812633626187,
          0.016380442223705348,
          0.004712114271977718,
          0.011646726938220235,
          0.09104822142587304,
          0.028515006110504056,
          0.011792361077827818,
          0.00944558075863966,
          0.004620282233358601,
          0.01476302429319427,
          0.08576949465082907,
          0.032242464748720154,
          0.08943918058019172,
          0.07366391946349671,
          0.004631565825675182,
          0.0014503559416702138,
          0.039981645903094214,
          0.014821673747122606,
          0.011572565015531635,
          0.006341155178409528,
          0.00867008196107445,
          0.015395384697745202,
          0.06380980383986873,
          0.006476113798341386,
          0.006358729526295191,
          0.007898316341255948,
          0.02877016931627637,
          0.04164121480364549,
          0.01688425611832795,
          0.061127449644835685,
          0.004951964184090133,
          0.021194376650341563,
          0.07850705903925054,
          0.006536435944543272,
          0.01799360901434607,
          0.02076856348354077,
          0.028217379737411823,
          0.01747786922884417,
          0.056410903614982945,
          0.008271062967343559,
          0.010581375291683123,
          0.02083336030638843,
          0.06353424699793433,
          0.023993262825316584,
          0.011694969318321303,
          0.009947286221156188,
          0.010170697014875387,
          0.021077620747291165,
          0.01004179999858602,
          0.015488343908712569,
          0.01324151847584813,
          0.025568698341557294,
          0.06269387394425302,
          0.0038130016488766676,
          0.0028621731858311378,
          0.018359540890962388,
          0.0048155634313742845,
          0.017492259507822214,
          0.0046354027208414745,
          0.010191494634783149,
          0.020181363772830436,
          0.021203844077436827,
          0.008647838868738185,
          0.004710106846338496,
          0.02372774962928892,
          0.00622731718286842,
          0.028816780318051977,
          0.014941294504228698,
          0.011894761073776804,
          0.09122152449913523,
          0.0029882587204909054,
          0.008911195431951612,
          0.004777042186281198,
          0.00872326193224775,
          0.004075511315878925,
          0.005894718714431732,
          0.018037217786311396,
          0.02644860453825708,
          0.011964792805969703,
          0.018527709874567377,
          0.008256514086481275,
          0.01785277156868576,
          0.06711645049670535,
          0.006590026169824475,
          0.06095893267107539,
          0.00848348156109896,
          0.03692235078114873,
          0.010252161559505464,
          0.016324097634183143,
          0.02675543186861882,
          0.030948227451511805,
          0.010112163492181513,
          0.031308926187960905,
          0.006565701458143086,
          0.011790006508188244,
          0.02346973416020872,
          0.13134967794995805,
          0.014937898236510283,
          0.004744262142858037,
          0.02806572251163203,
          0.006892620765550899,
          0.016745300175409636,
          0.031739207093442454,
          0.004599415579180036,
          0.019129993810673266,
          0.003614164087650829,
          0.01131012944596968,
          0.011973873856649931,
          0.008443791975266962,
          0.0554730368487627,
          0.08457720989783339,
          0.013295016824595128,
          0.011618746114091727,
          0.011638757434253999,
          0.008583839500553312,
          0.06167158715401109,
          0.008330170323865512,
          0.020426600031409597,
          0.004576616088126094,
          0.006717179886235828,
          0.017891873518163813,
          0.009545674346915188,
          0.006776869092140674,
          0.01184031817360348,
          0.009687555435182009,
          0.00419912936906063,
          0.011632919047840707,
          0.03172866209444443,
          0.006597994629367951,
          0.004744641355213551,
          0.008630517862457443,
          0.014913355131253076,
          0.06691937719626304,
          0.02097399158675632,
          0.0036052618401065223,
          0.04277407080460313,
          0.008889504887866786,
          0.012536484471160118,
          0.00993451964738174
         ]
        }
       ],
       "layout": {
        "hoverlabel": {
         "align": "right"
        },
        "paper_bgcolor": "rgba(154,186,211,0.8)",
        "plot_bgcolor": "rgba(232,246,252,0.2)",
        "template": {
         "data": {
          "bar": [
           {
            "error_x": {
             "color": "#2a3f5f"
            },
            "error_y": {
             "color": "#2a3f5f"
            },
            "marker": {
             "line": {
              "color": "#E5ECF6",
              "width": 0.5
             }
            },
            "type": "bar"
           }
          ],
          "barpolar": [
           {
            "marker": {
             "line": {
              "color": "#E5ECF6",
              "width": 0.5
             }
            },
            "type": "barpolar"
           }
          ],
          "carpet": [
           {
            "aaxis": {
             "endlinecolor": "#2a3f5f",
             "gridcolor": "white",
             "linecolor": "white",
             "minorgridcolor": "white",
             "startlinecolor": "#2a3f5f"
            },
            "baxis": {
             "endlinecolor": "#2a3f5f",
             "gridcolor": "white",
             "linecolor": "white",
             "minorgridcolor": "white",
             "startlinecolor": "#2a3f5f"
            },
            "type": "carpet"
           }
          ],
          "choropleth": [
           {
            "colorbar": {
             "outlinewidth": 0,
             "ticks": ""
            },
            "type": "choropleth"
           }
          ],
          "contour": [
           {
            "colorbar": {
             "outlinewidth": 0,
             "ticks": ""
            },
            "colorscale": [
             [
              0,
              "#0d0887"
             ],
             [
              0.1111111111111111,
              "#46039f"
             ],
             [
              0.2222222222222222,
              "#7201a8"
             ],
             [
              0.3333333333333333,
              "#9c179e"
             ],
             [
              0.4444444444444444,
              "#bd3786"
             ],
             [
              0.5555555555555556,
              "#d8576b"
             ],
             [
              0.6666666666666666,
              "#ed7953"
             ],
             [
              0.7777777777777778,
              "#fb9f3a"
             ],
             [
              0.8888888888888888,
              "#fdca26"
             ],
             [
              1,
              "#f0f921"
             ]
            ],
            "type": "contour"
           }
          ],
          "contourcarpet": [
           {
            "colorbar": {
             "outlinewidth": 0,
             "ticks": ""
            },
            "type": "contourcarpet"
           }
          ],
          "heatmap": [
           {
            "colorbar": {
             "outlinewidth": 0,
             "ticks": ""
            },
            "colorscale": [
             [
              0,
              "#0d0887"
             ],
             [
              0.1111111111111111,
              "#46039f"
             ],
             [
              0.2222222222222222,
              "#7201a8"
             ],
             [
              0.3333333333333333,
              "#9c179e"
             ],
             [
              0.4444444444444444,
              "#bd3786"
             ],
             [
              0.5555555555555556,
              "#d8576b"
             ],
             [
              0.6666666666666666,
              "#ed7953"
             ],
             [
              0.7777777777777778,
              "#fb9f3a"
             ],
             [
              0.8888888888888888,
              "#fdca26"
             ],
             [
              1,
              "#f0f921"
             ]
            ],
            "type": "heatmap"
           }
          ],
          "heatmapgl": [
           {
            "colorbar": {
             "outlinewidth": 0,
             "ticks": ""
            },
            "colorscale": [
             [
              0,
              "#0d0887"
             ],
             [
              0.1111111111111111,
              "#46039f"
             ],
             [
              0.2222222222222222,
              "#7201a8"
             ],
             [
              0.3333333333333333,
              "#9c179e"
             ],
             [
              0.4444444444444444,
              "#bd3786"
             ],
             [
              0.5555555555555556,
              "#d8576b"
             ],
             [
              0.6666666666666666,
              "#ed7953"
             ],
             [
              0.7777777777777778,
              "#fb9f3a"
             ],
             [
              0.8888888888888888,
              "#fdca26"
             ],
             [
              1,
              "#f0f921"
             ]
            ],
            "type": "heatmapgl"
           }
          ],
          "histogram": [
           {
            "marker": {
             "colorbar": {
              "outlinewidth": 0,
              "ticks": ""
             }
            },
            "type": "histogram"
           }
          ],
          "histogram2d": [
           {
            "colorbar": {
             "outlinewidth": 0,
             "ticks": ""
            },
            "colorscale": [
             [
              0,
              "#0d0887"
             ],
             [
              0.1111111111111111,
              "#46039f"
             ],
             [
              0.2222222222222222,
              "#7201a8"
             ],
             [
              0.3333333333333333,
              "#9c179e"
             ],
             [
              0.4444444444444444,
              "#bd3786"
             ],
             [
              0.5555555555555556,
              "#d8576b"
             ],
             [
              0.6666666666666666,
              "#ed7953"
             ],
             [
              0.7777777777777778,
              "#fb9f3a"
             ],
             [
              0.8888888888888888,
              "#fdca26"
             ],
             [
              1,
              "#f0f921"
             ]
            ],
            "type": "histogram2d"
           }
          ],
          "histogram2dcontour": [
           {
            "colorbar": {
             "outlinewidth": 0,
             "ticks": ""
            },
            "colorscale": [
             [
              0,
              "#0d0887"
             ],
             [
              0.1111111111111111,
              "#46039f"
             ],
             [
              0.2222222222222222,
              "#7201a8"
             ],
             [
              0.3333333333333333,
              "#9c179e"
             ],
             [
              0.4444444444444444,
              "#bd3786"
             ],
             [
              0.5555555555555556,
              "#d8576b"
             ],
             [
              0.6666666666666666,
              "#ed7953"
             ],
             [
              0.7777777777777778,
              "#fb9f3a"
             ],
             [
              0.8888888888888888,
              "#fdca26"
             ],
             [
              1,
              "#f0f921"
             ]
            ],
            "type": "histogram2dcontour"
           }
          ],
          "mesh3d": [
           {
            "colorbar": {
             "outlinewidth": 0,
             "ticks": ""
            },
            "type": "mesh3d"
           }
          ],
          "parcoords": [
           {
            "line": {
             "colorbar": {
              "outlinewidth": 0,
              "ticks": ""
             }
            },
            "type": "parcoords"
           }
          ],
          "pie": [
           {
            "automargin": true,
            "type": "pie"
           }
          ],
          "scatter": [
           {
            "marker": {
             "colorbar": {
              "outlinewidth": 0,
              "ticks": ""
             }
            },
            "type": "scatter"
           }
          ],
          "scatter3d": [
           {
            "line": {
             "colorbar": {
              "outlinewidth": 0,
              "ticks": ""
             }
            },
            "marker": {
             "colorbar": {
              "outlinewidth": 0,
              "ticks": ""
             }
            },
            "type": "scatter3d"
           }
          ],
          "scattercarpet": [
           {
            "marker": {
             "colorbar": {
              "outlinewidth": 0,
              "ticks": ""
             }
            },
            "type": "scattercarpet"
           }
          ],
          "scattergeo": [
           {
            "marker": {
             "colorbar": {
              "outlinewidth": 0,
              "ticks": ""
             }
            },
            "type": "scattergeo"
           }
          ],
          "scattergl": [
           {
            "marker": {
             "colorbar": {
              "outlinewidth": 0,
              "ticks": ""
             }
            },
            "type": "scattergl"
           }
          ],
          "scattermapbox": [
           {
            "marker": {
             "colorbar": {
              "outlinewidth": 0,
              "ticks": ""
             }
            },
            "type": "scattermapbox"
           }
          ],
          "scatterpolar": [
           {
            "marker": {
             "colorbar": {
              "outlinewidth": 0,
              "ticks": ""
             }
            },
            "type": "scatterpolar"
           }
          ],
          "scatterpolargl": [
           {
            "marker": {
             "colorbar": {
              "outlinewidth": 0,
              "ticks": ""
             }
            },
            "type": "scatterpolargl"
           }
          ],
          "scatterternary": [
           {
            "marker": {
             "colorbar": {
              "outlinewidth": 0,
              "ticks": ""
             }
            },
            "type": "scatterternary"
           }
          ],
          "surface": [
           {
            "colorbar": {
             "outlinewidth": 0,
             "ticks": ""
            },
            "colorscale": [
             [
              0,
              "#0d0887"
             ],
             [
              0.1111111111111111,
              "#46039f"
             ],
             [
              0.2222222222222222,
              "#7201a8"
             ],
             [
              0.3333333333333333,
              "#9c179e"
             ],
             [
              0.4444444444444444,
              "#bd3786"
             ],
             [
              0.5555555555555556,
              "#d8576b"
             ],
             [
              0.6666666666666666,
              "#ed7953"
             ],
             [
              0.7777777777777778,
              "#fb9f3a"
             ],
             [
              0.8888888888888888,
              "#fdca26"
             ],
             [
              1,
              "#f0f921"
             ]
            ],
            "type": "surface"
           }
          ],
          "table": [
           {
            "cells": {
             "fill": {
              "color": "#EBF0F8"
             },
             "line": {
              "color": "white"
             }
            },
            "header": {
             "fill": {
              "color": "#C8D4E3"
             },
             "line": {
              "color": "white"
             }
            },
            "type": "table"
           }
          ]
         },
         "layout": {
          "annotationdefaults": {
           "arrowcolor": "#2a3f5f",
           "arrowhead": 0,
           "arrowwidth": 1
          },
          "coloraxis": {
           "colorbar": {
            "outlinewidth": 0,
            "ticks": ""
           }
          },
          "colorscale": {
           "diverging": [
            [
             0,
             "#8e0152"
            ],
            [
             0.1,
             "#c51b7d"
            ],
            [
             0.2,
             "#de77ae"
            ],
            [
             0.3,
             "#f1b6da"
            ],
            [
             0.4,
             "#fde0ef"
            ],
            [
             0.5,
             "#f7f7f7"
            ],
            [
             0.6,
             "#e6f5d0"
            ],
            [
             0.7,
             "#b8e186"
            ],
            [
             0.8,
             "#7fbc41"
            ],
            [
             0.9,
             "#4d9221"
            ],
            [
             1,
             "#276419"
            ]
           ],
           "sequential": [
            [
             0,
             "#0d0887"
            ],
            [
             0.1111111111111111,
             "#46039f"
            ],
            [
             0.2222222222222222,
             "#7201a8"
            ],
            [
             0.3333333333333333,
             "#9c179e"
            ],
            [
             0.4444444444444444,
             "#bd3786"
            ],
            [
             0.5555555555555556,
             "#d8576b"
            ],
            [
             0.6666666666666666,
             "#ed7953"
            ],
            [
             0.7777777777777778,
             "#fb9f3a"
            ],
            [
             0.8888888888888888,
             "#fdca26"
            ],
            [
             1,
             "#f0f921"
            ]
           ],
           "sequentialminus": [
            [
             0,
             "#0d0887"
            ],
            [
             0.1111111111111111,
             "#46039f"
            ],
            [
             0.2222222222222222,
             "#7201a8"
            ],
            [
             0.3333333333333333,
             "#9c179e"
            ],
            [
             0.4444444444444444,
             "#bd3786"
            ],
            [
             0.5555555555555556,
             "#d8576b"
            ],
            [
             0.6666666666666666,
             "#ed7953"
            ],
            [
             0.7777777777777778,
             "#fb9f3a"
            ],
            [
             0.8888888888888888,
             "#fdca26"
            ],
            [
             1,
             "#f0f921"
            ]
           ]
          },
          "colorway": [
           "#636efa",
           "#EF553B",
           "#00cc96",
           "#ab63fa",
           "#FFA15A",
           "#19d3f3",
           "#FF6692",
           "#B6E880",
           "#FF97FF",
           "#FECB52"
          ],
          "font": {
           "color": "#2a3f5f"
          },
          "geo": {
           "bgcolor": "white",
           "lakecolor": "white",
           "landcolor": "#E5ECF6",
           "showlakes": true,
           "showland": true,
           "subunitcolor": "white"
          },
          "hoverlabel": {
           "align": "left"
          },
          "hovermode": "closest",
          "mapbox": {
           "style": "light"
          },
          "paper_bgcolor": "white",
          "plot_bgcolor": "#E5ECF6",
          "polar": {
           "angularaxis": {
            "gridcolor": "white",
            "linecolor": "white",
            "ticks": ""
           },
           "bgcolor": "#E5ECF6",
           "radialaxis": {
            "gridcolor": "white",
            "linecolor": "white",
            "ticks": ""
           }
          },
          "scene": {
           "xaxis": {
            "backgroundcolor": "#E5ECF6",
            "gridcolor": "white",
            "gridwidth": 2,
            "linecolor": "white",
            "showbackground": true,
            "ticks": "",
            "zerolinecolor": "white"
           },
           "yaxis": {
            "backgroundcolor": "#E5ECF6",
            "gridcolor": "white",
            "gridwidth": 2,
            "linecolor": "white",
            "showbackground": true,
            "ticks": "",
            "zerolinecolor": "white"
           },
           "zaxis": {
            "backgroundcolor": "#E5ECF6",
            "gridcolor": "white",
            "gridwidth": 2,
            "linecolor": "white",
            "showbackground": true,
            "ticks": "",
            "zerolinecolor": "white"
           }
          },
          "shapedefaults": {
           "line": {
            "color": "#2a3f5f"
           }
          },
          "ternary": {
           "aaxis": {
            "gridcolor": "white",
            "linecolor": "white",
            "ticks": ""
           },
           "baxis": {
            "gridcolor": "white",
            "linecolor": "white",
            "ticks": ""
           },
           "bgcolor": "#E5ECF6",
           "caxis": {
            "gridcolor": "white",
            "linecolor": "white",
            "ticks": ""
           }
          },
          "title": {
           "x": 0.05
          },
          "xaxis": {
           "automargin": true,
           "gridcolor": "white",
           "linecolor": "white",
           "ticks": "",
           "title": {
            "standoff": 15
           },
           "zerolinecolor": "white",
           "zerolinewidth": 2
          },
          "yaxis": {
           "automargin": true,
           "gridcolor": "white",
           "linecolor": "white",
           "ticks": "",
           "title": {
            "standoff": 15
           },
           "zerolinecolor": "white",
           "zerolinewidth": 2
          }
         }
        },
        "title": {
         "text": "<b>Model Evaluation for all Targets</b>",
         "x": 0.5
        },
        "xaxis": {
         "linecolor": "rgba(232,246,252,0.2)",
         "linewidth": 2,
         "range": [
          0,
          850
         ],
         "showgrid": false,
         "showline": true,
         "title": {
          "text": "Size of Minority Class (out of 20,000)"
         }
        },
        "yaxis": {
         "linecolor": "rgba(232,246,252,0.2)",
         "linewidth": 2,
         "range": [
          0,
          0.2
         ],
         "showgrid": false,
         "showline": true,
         "title": {
          "text": "Log Loss Scores"
         }
        }
       }
      }
     },
     "metadata": {}
    }
   ],
   "source": [
    "import plotly.express as px\n",
    "import plotly.graph_objects as go\n",
    "import plotly\n",
    "import os\n",
    "\n",
    "fig = go.Figure()\n",
    "\n",
    "fig.add_trace(go.Scatter(\n",
    "    x=zeros_target_counts,\n",
    "    y=zeros_loss_vals,\n",
    "    name='all zeros',\n",
    "    mode='lines',\n",
    "    hovertemplate=['' for i in range(len(train_targets.columns))])\n",
    ")\n",
    "fig.add_trace(go.Scatter(\n",
    "    x=target_counts,\n",
    "    y=nusvr_logloss_vals,\n",
    "    name='NuSVR',\n",
    "    mode='markers',\n",
    "    hovertemplate = train_targets.columns)\n",
    ")\n",
    "fig.add_trace(go.Scatter(\n",
    "    x=target_counts,\n",
    "    y=linsvr_loss_vals,\n",
    "    name='linSVR',\n",
    "    mode='markers',\n",
    "    hovertemplate = train_targets.columns)\n",
    ")\n",
    "fig.add_trace(go.Scatter(\n",
    "    x=target_counts,\n",
    "    y=logistic_regr_loss_vals,\n",
    "    name='Logistic Regression',\n",
    "    mode='markers',\n",
    "    hovertemplate = train_targets.columns)\n",
    ")\n",
    "# fig.add_trace(go.Scatter(\n",
    "#     x=target_counts,\n",
    "#     y=xgb_loss_vals,\n",
    "#     name='XGBoost',\n",
    "#     mode='markers',\n",
    "#     hovertemplate = train_targets.columns)\n",
    "# )\n",
    "fig.add_trace(go.Scatter(\n",
    "    x=target_counts,\n",
    "    y=rfr_loss_vals,\n",
    "    name='Random Forest Regression',\n",
    "    mode='markers',\n",
    "    hovertemplate = train_targets.columns)\n",
    ")\n",
    "fig.update_layout(\n",
    "    title='<b>Model Evaluation for all Targets</b>',\n",
    "    title_x=0.5,\n",
    "    xaxis_title='Size of Minority Class (out of 20,000)',\n",
    "    yaxis_title='Log Loss Scores',\n",
    "    xaxis_showgrid = False,\n",
    "    yaxis_showgrid = False,\n",
    "    yaxis_range=[0,0.2],\n",
    "    xaxis_range=[0,850],\n",
    "    hoverlabel_align = 'right',\n",
    "    paper_bgcolor='rgba(154,186,211,0.8)',\n",
    "    plot_bgcolor='rgba(232,246,252,0.2)'\n",
    ")\n",
    "fig.update_xaxes(showline=True, linewidth=2, linecolor='rgba(232,246,252,0.2)')\n",
    "fig.update_yaxes(showline=True, linewidth=2, linecolor='rgba(232,246,252,0.2)')\n",
    "fig.show()\n",
    "    \n",
    "the_date = str(datetime.datetime.now())[:10]\n",
    "html_path = 'figures/Plotly_all_logloss_' + the_date + '.html'\n",
    "plotly.io.write_html(fig, html_path)"
   ]
  },
  {
   "cell_type": "code",
   "execution_count": 252,
   "metadata": {},
   "outputs": [
    {
     "output_type": "display_data",
     "data": {
      "application/vnd.plotly.v1+json": {
       "config": {
        "plotlyServerURL": "https://plot.ly"
       },
       "data": [
        {
         "hoverinfo": "y",
         "marker": {
          "color": [
           "red",
           "green",
           "purple",
           "orange"
          ]
         },
         "orientation": "h",
         "type": "bar",
         "x": [
          0.18305940876120524,
          0.04243210851895119,
          0.04243122282678852,
          0.04277407080460313
         ],
         "xaxis": "x",
         "y": [
          "NuSVR",
          "LinSVR",
          "Logistic Regression",
          "Rand Forest Regression"
         ],
         "yaxis": "y"
        },
        {
         "hoverinfo": "y",
         "marker": {
          "color": [
           "red",
           "green",
           "purple",
           "orange"
          ]
         },
         "orientation": "h",
         "type": "bar",
         "x": [
          0.03771063469764026,
          0.008506518831265412,
          0.00852109632459034,
          0.008889504887866786
         ],
         "xaxis": "x2",
         "y": [
          "NuSVR",
          "LinSVR",
          "Logistic Regression",
          "Rand Forest Regression"
         ],
         "yaxis": "y2"
        },
        {
         "hoverinfo": "y",
         "marker": {
          "color": [
           "red",
           "green",
           "purple",
           "orange"
          ]
         },
         "orientation": "h",
         "type": "bar",
         "x": [
          0.04468771478460247,
          0.011947172992174081,
          0.011968902629900652,
          0.012536484471160118
         ],
         "xaxis": "x3",
         "y": [
          "NuSVR",
          "LinSVR",
          "Logistic Regression",
          "Rand Forest Regression"
         ],
         "yaxis": "y3"
        },
        {
         "hoverinfo": "y",
         "marker": {
          "color": [
           "red",
           "green",
           "purple",
           "orange"
          ]
         },
         "orientation": "h",
         "type": "bar",
         "x": [
          0.04115276173692731,
          0.009679503036961462,
          0.009680751300795551,
          0.00993451964738174
         ],
         "xaxis": "x4",
         "y": [
          "NuSVR",
          "LinSVR",
          "Logistic Regression",
          "Rand Forest Regression"
         ],
         "yaxis": "y4"
        }
       ],
       "layout": {
        "annotations": [
         {
          "font": {
           "size": 16
          },
          "showarrow": false,
          "text": "VEGFR Inhibitor",
          "x": 0.5,
          "xanchor": "center",
          "xref": "paper",
          "y": 1,
          "yanchor": "bottom",
          "yref": "paper"
         },
         {
          "font": {
           "size": 16
          },
          "showarrow": false,
          "text": "Vitamin B",
          "x": 0.5,
          "xanchor": "center",
          "xref": "paper",
          "y": 0.71875,
          "yanchor": "bottom",
          "yref": "paper"
         },
         {
          "font": {
           "size": 16
          },
          "showarrow": false,
          "text": "Vitamin D Receptor Agonist",
          "x": 0.5,
          "xanchor": "center",
          "xref": "paper",
          "y": 0.4375,
          "yanchor": "bottom",
          "yref": "paper"
         },
         {
          "font": {
           "size": 16
          },
          "showarrow": false,
          "text": "WNT Inhibitor",
          "x": 0.5,
          "xanchor": "center",
          "xref": "paper",
          "y": 0.15625,
          "yanchor": "bottom",
          "yref": "paper"
         }
        ],
        "bargap": 0.1,
        "paper_bgcolor": "rgba(154,186,211,0.8)",
        "plot_bgcolor": "rgba(232,246,252,0.8)",
        "showlegend": false,
        "template": {
         "data": {
          "bar": [
           {
            "error_x": {
             "color": "#2a3f5f"
            },
            "error_y": {
             "color": "#2a3f5f"
            },
            "marker": {
             "line": {
              "color": "#E5ECF6",
              "width": 0.5
             }
            },
            "type": "bar"
           }
          ],
          "barpolar": [
           {
            "marker": {
             "line": {
              "color": "#E5ECF6",
              "width": 0.5
             }
            },
            "type": "barpolar"
           }
          ],
          "carpet": [
           {
            "aaxis": {
             "endlinecolor": "#2a3f5f",
             "gridcolor": "white",
             "linecolor": "white",
             "minorgridcolor": "white",
             "startlinecolor": "#2a3f5f"
            },
            "baxis": {
             "endlinecolor": "#2a3f5f",
             "gridcolor": "white",
             "linecolor": "white",
             "minorgridcolor": "white",
             "startlinecolor": "#2a3f5f"
            },
            "type": "carpet"
           }
          ],
          "choropleth": [
           {
            "colorbar": {
             "outlinewidth": 0,
             "ticks": ""
            },
            "type": "choropleth"
           }
          ],
          "contour": [
           {
            "colorbar": {
             "outlinewidth": 0,
             "ticks": ""
            },
            "colorscale": [
             [
              0,
              "#0d0887"
             ],
             [
              0.1111111111111111,
              "#46039f"
             ],
             [
              0.2222222222222222,
              "#7201a8"
             ],
             [
              0.3333333333333333,
              "#9c179e"
             ],
             [
              0.4444444444444444,
              "#bd3786"
             ],
             [
              0.5555555555555556,
              "#d8576b"
             ],
             [
              0.6666666666666666,
              "#ed7953"
             ],
             [
              0.7777777777777778,
              "#fb9f3a"
             ],
             [
              0.8888888888888888,
              "#fdca26"
             ],
             [
              1,
              "#f0f921"
             ]
            ],
            "type": "contour"
           }
          ],
          "contourcarpet": [
           {
            "colorbar": {
             "outlinewidth": 0,
             "ticks": ""
            },
            "type": "contourcarpet"
           }
          ],
          "heatmap": [
           {
            "colorbar": {
             "outlinewidth": 0,
             "ticks": ""
            },
            "colorscale": [
             [
              0,
              "#0d0887"
             ],
             [
              0.1111111111111111,
              "#46039f"
             ],
             [
              0.2222222222222222,
              "#7201a8"
             ],
             [
              0.3333333333333333,
              "#9c179e"
             ],
             [
              0.4444444444444444,
              "#bd3786"
             ],
             [
              0.5555555555555556,
              "#d8576b"
             ],
             [
              0.6666666666666666,
              "#ed7953"
             ],
             [
              0.7777777777777778,
              "#fb9f3a"
             ],
             [
              0.8888888888888888,
              "#fdca26"
             ],
             [
              1,
              "#f0f921"
             ]
            ],
            "type": "heatmap"
           }
          ],
          "heatmapgl": [
           {
            "colorbar": {
             "outlinewidth": 0,
             "ticks": ""
            },
            "colorscale": [
             [
              0,
              "#0d0887"
             ],
             [
              0.1111111111111111,
              "#46039f"
             ],
             [
              0.2222222222222222,
              "#7201a8"
             ],
             [
              0.3333333333333333,
              "#9c179e"
             ],
             [
              0.4444444444444444,
              "#bd3786"
             ],
             [
              0.5555555555555556,
              "#d8576b"
             ],
             [
              0.6666666666666666,
              "#ed7953"
             ],
             [
              0.7777777777777778,
              "#fb9f3a"
             ],
             [
              0.8888888888888888,
              "#fdca26"
             ],
             [
              1,
              "#f0f921"
             ]
            ],
            "type": "heatmapgl"
           }
          ],
          "histogram": [
           {
            "marker": {
             "colorbar": {
              "outlinewidth": 0,
              "ticks": ""
             }
            },
            "type": "histogram"
           }
          ],
          "histogram2d": [
           {
            "colorbar": {
             "outlinewidth": 0,
             "ticks": ""
            },
            "colorscale": [
             [
              0,
              "#0d0887"
             ],
             [
              0.1111111111111111,
              "#46039f"
             ],
             [
              0.2222222222222222,
              "#7201a8"
             ],
             [
              0.3333333333333333,
              "#9c179e"
             ],
             [
              0.4444444444444444,
              "#bd3786"
             ],
             [
              0.5555555555555556,
              "#d8576b"
             ],
             [
              0.6666666666666666,
              "#ed7953"
             ],
             [
              0.7777777777777778,
              "#fb9f3a"
             ],
             [
              0.8888888888888888,
              "#fdca26"
             ],
             [
              1,
              "#f0f921"
             ]
            ],
            "type": "histogram2d"
           }
          ],
          "histogram2dcontour": [
           {
            "colorbar": {
             "outlinewidth": 0,
             "ticks": ""
            },
            "colorscale": [
             [
              0,
              "#0d0887"
             ],
             [
              0.1111111111111111,
              "#46039f"
             ],
             [
              0.2222222222222222,
              "#7201a8"
             ],
             [
              0.3333333333333333,
              "#9c179e"
             ],
             [
              0.4444444444444444,
              "#bd3786"
             ],
             [
              0.5555555555555556,
              "#d8576b"
             ],
             [
              0.6666666666666666,
              "#ed7953"
             ],
             [
              0.7777777777777778,
              "#fb9f3a"
             ],
             [
              0.8888888888888888,
              "#fdca26"
             ],
             [
              1,
              "#f0f921"
             ]
            ],
            "type": "histogram2dcontour"
           }
          ],
          "mesh3d": [
           {
            "colorbar": {
             "outlinewidth": 0,
             "ticks": ""
            },
            "type": "mesh3d"
           }
          ],
          "parcoords": [
           {
            "line": {
             "colorbar": {
              "outlinewidth": 0,
              "ticks": ""
             }
            },
            "type": "parcoords"
           }
          ],
          "pie": [
           {
            "automargin": true,
            "type": "pie"
           }
          ],
          "scatter": [
           {
            "marker": {
             "colorbar": {
              "outlinewidth": 0,
              "ticks": ""
             }
            },
            "type": "scatter"
           }
          ],
          "scatter3d": [
           {
            "line": {
             "colorbar": {
              "outlinewidth": 0,
              "ticks": ""
             }
            },
            "marker": {
             "colorbar": {
              "outlinewidth": 0,
              "ticks": ""
             }
            },
            "type": "scatter3d"
           }
          ],
          "scattercarpet": [
           {
            "marker": {
             "colorbar": {
              "outlinewidth": 0,
              "ticks": ""
             }
            },
            "type": "scattercarpet"
           }
          ],
          "scattergeo": [
           {
            "marker": {
             "colorbar": {
              "outlinewidth": 0,
              "ticks": ""
             }
            },
            "type": "scattergeo"
           }
          ],
          "scattergl": [
           {
            "marker": {
             "colorbar": {
              "outlinewidth": 0,
              "ticks": ""
             }
            },
            "type": "scattergl"
           }
          ],
          "scattermapbox": [
           {
            "marker": {
             "colorbar": {
              "outlinewidth": 0,
              "ticks": ""
             }
            },
            "type": "scattermapbox"
           }
          ],
          "scatterpolar": [
           {
            "marker": {
             "colorbar": {
              "outlinewidth": 0,
              "ticks": ""
             }
            },
            "type": "scatterpolar"
           }
          ],
          "scatterpolargl": [
           {
            "marker": {
             "colorbar": {
              "outlinewidth": 0,
              "ticks": ""
             }
            },
            "type": "scatterpolargl"
           }
          ],
          "scatterternary": [
           {
            "marker": {
             "colorbar": {
              "outlinewidth": 0,
              "ticks": ""
             }
            },
            "type": "scatterternary"
           }
          ],
          "surface": [
           {
            "colorbar": {
             "outlinewidth": 0,
             "ticks": ""
            },
            "colorscale": [
             [
              0,
              "#0d0887"
             ],
             [
              0.1111111111111111,
              "#46039f"
             ],
             [
              0.2222222222222222,
              "#7201a8"
             ],
             [
              0.3333333333333333,
              "#9c179e"
             ],
             [
              0.4444444444444444,
              "#bd3786"
             ],
             [
              0.5555555555555556,
              "#d8576b"
             ],
             [
              0.6666666666666666,
              "#ed7953"
             ],
             [
              0.7777777777777778,
              "#fb9f3a"
             ],
             [
              0.8888888888888888,
              "#fdca26"
             ],
             [
              1,
              "#f0f921"
             ]
            ],
            "type": "surface"
           }
          ],
          "table": [
           {
            "cells": {
             "fill": {
              "color": "#EBF0F8"
             },
             "line": {
              "color": "white"
             }
            },
            "header": {
             "fill": {
              "color": "#C8D4E3"
             },
             "line": {
              "color": "white"
             }
            },
            "type": "table"
           }
          ]
         },
         "layout": {
          "annotationdefaults": {
           "arrowcolor": "#2a3f5f",
           "arrowhead": 0,
           "arrowwidth": 1
          },
          "coloraxis": {
           "colorbar": {
            "outlinewidth": 0,
            "ticks": ""
           }
          },
          "colorscale": {
           "diverging": [
            [
             0,
             "#8e0152"
            ],
            [
             0.1,
             "#c51b7d"
            ],
            [
             0.2,
             "#de77ae"
            ],
            [
             0.3,
             "#f1b6da"
            ],
            [
             0.4,
             "#fde0ef"
            ],
            [
             0.5,
             "#f7f7f7"
            ],
            [
             0.6,
             "#e6f5d0"
            ],
            [
             0.7,
             "#b8e186"
            ],
            [
             0.8,
             "#7fbc41"
            ],
            [
             0.9,
             "#4d9221"
            ],
            [
             1,
             "#276419"
            ]
           ],
           "sequential": [
            [
             0,
             "#0d0887"
            ],
            [
             0.1111111111111111,
             "#46039f"
            ],
            [
             0.2222222222222222,
             "#7201a8"
            ],
            [
             0.3333333333333333,
             "#9c179e"
            ],
            [
             0.4444444444444444,
             "#bd3786"
            ],
            [
             0.5555555555555556,
             "#d8576b"
            ],
            [
             0.6666666666666666,
             "#ed7953"
            ],
            [
             0.7777777777777778,
             "#fb9f3a"
            ],
            [
             0.8888888888888888,
             "#fdca26"
            ],
            [
             1,
             "#f0f921"
            ]
           ],
           "sequentialminus": [
            [
             0,
             "#0d0887"
            ],
            [
             0.1111111111111111,
             "#46039f"
            ],
            [
             0.2222222222222222,
             "#7201a8"
            ],
            [
             0.3333333333333333,
             "#9c179e"
            ],
            [
             0.4444444444444444,
             "#bd3786"
            ],
            [
             0.5555555555555556,
             "#d8576b"
            ],
            [
             0.6666666666666666,
             "#ed7953"
            ],
            [
             0.7777777777777778,
             "#fb9f3a"
            ],
            [
             0.8888888888888888,
             "#fdca26"
            ],
            [
             1,
             "#f0f921"
            ]
           ]
          },
          "colorway": [
           "#636efa",
           "#EF553B",
           "#00cc96",
           "#ab63fa",
           "#FFA15A",
           "#19d3f3",
           "#FF6692",
           "#B6E880",
           "#FF97FF",
           "#FECB52"
          ],
          "font": {
           "color": "#2a3f5f"
          },
          "geo": {
           "bgcolor": "white",
           "lakecolor": "white",
           "landcolor": "#E5ECF6",
           "showlakes": true,
           "showland": true,
           "subunitcolor": "white"
          },
          "hoverlabel": {
           "align": "left"
          },
          "hovermode": "closest",
          "mapbox": {
           "style": "light"
          },
          "paper_bgcolor": "white",
          "plot_bgcolor": "#E5ECF6",
          "polar": {
           "angularaxis": {
            "gridcolor": "white",
            "linecolor": "white",
            "ticks": ""
           },
           "bgcolor": "#E5ECF6",
           "radialaxis": {
            "gridcolor": "white",
            "linecolor": "white",
            "ticks": ""
           }
          },
          "scene": {
           "xaxis": {
            "backgroundcolor": "#E5ECF6",
            "gridcolor": "white",
            "gridwidth": 2,
            "linecolor": "white",
            "showbackground": true,
            "ticks": "",
            "zerolinecolor": "white"
           },
           "yaxis": {
            "backgroundcolor": "#E5ECF6",
            "gridcolor": "white",
            "gridwidth": 2,
            "linecolor": "white",
            "showbackground": true,
            "ticks": "",
            "zerolinecolor": "white"
           },
           "zaxis": {
            "backgroundcolor": "#E5ECF6",
            "gridcolor": "white",
            "gridwidth": 2,
            "linecolor": "white",
            "showbackground": true,
            "ticks": "",
            "zerolinecolor": "white"
           }
          },
          "shapedefaults": {
           "line": {
            "color": "#2a3f5f"
           }
          },
          "ternary": {
           "aaxis": {
            "gridcolor": "white",
            "linecolor": "white",
            "ticks": ""
           },
           "baxis": {
            "gridcolor": "white",
            "linecolor": "white",
            "ticks": ""
           },
           "bgcolor": "#E5ECF6",
           "caxis": {
            "gridcolor": "white",
            "linecolor": "white",
            "ticks": ""
           }
          },
          "title": {
           "x": 0.05
          },
          "xaxis": {
           "automargin": true,
           "gridcolor": "white",
           "linecolor": "white",
           "ticks": "",
           "title": {
            "standoff": 15
           },
           "zerolinecolor": "white",
           "zerolinewidth": 2
          },
          "yaxis": {
           "automargin": true,
           "gridcolor": "white",
           "linecolor": "white",
           "ticks": "",
           "title": {
            "standoff": 15
           },
           "zerolinecolor": "white",
           "zerolinewidth": 2
          }
         }
        },
        "title": {
         "text": "<b>Log Loss Scores for Different MOAs</b>",
         "x": 0.5
        },
        "xaxis": {
         "anchor": "y",
         "domain": [
          0,
          1
         ],
         "matches": "x4",
         "showticklabels": false
        },
        "xaxis2": {
         "anchor": "y2",
         "domain": [
          0,
          1
         ],
         "matches": "x4",
         "showticklabels": false
        },
        "xaxis3": {
         "anchor": "y3",
         "domain": [
          0,
          1
         ],
         "matches": "x4",
         "showticklabels": false
        },
        "xaxis4": {
         "anchor": "y4",
         "domain": [
          0,
          1
         ]
        },
        "yaxis": {
         "anchor": "x",
         "domain": [
          0.84375,
          1
         ],
         "showticklabels": false,
         "visible": false
        },
        "yaxis2": {
         "anchor": "x2",
         "domain": [
          0.5625,
          0.71875
         ],
         "showticklabels": false,
         "visible": false
        },
        "yaxis3": {
         "anchor": "x3",
         "domain": [
          0.28125,
          0.4375
         ],
         "showticklabels": false,
         "visible": false
        },
        "yaxis4": {
         "anchor": "x4",
         "domain": [
          0,
          0.15625
         ],
         "showticklabels": false,
         "visible": false
        }
       }
      }
     },
     "metadata": {}
    }
   ],
   "source": [
    "#hovertemplate = \n",
    "barxvals = np.array([nusvr_logloss_vals[-4:],linsvr_loss_vals[-4:], logistic_regr_loss_vals[-4:], rfr_loss_vals[-4:]]).swapaxes(0,1)\n",
    "baryvals = ['NuSVR','LinSVR','Logistic Regression','Rand Forest Regression']\n",
    "colors = ['red','green','purple','orange']\n",
    "\n",
    "fig = make_subplots(rows=4, cols=1,\n",
    "    shared_xaxes=True,\n",
    "    subplot_titles=['VEGFR Inhibitor','Vitamin B','Vitamin D Receptor Agonist','WNT Inhibitor'])\n",
    "fig.append_trace(\n",
    "    go.Bar(\n",
    "    y = baryvals,\n",
    "    x=barxvals[0],\n",
    "    hoverinfo = \"y\",\n",
    "    marker_color = colors,\n",
    "    orientation='h'\n",
    "    ), row=1, col=1)\n",
    "fig.append_trace(\n",
    "    go.Bar(\n",
    "    y = baryvals,\n",
    "    x=barxvals[1],\n",
    "    hoverinfo = \"y\",\n",
    "    marker_color = colors,\n",
    "    orientation='h'\n",
    "    ), row=2, col=1)\n",
    "fig.append_trace(\n",
    "    go.Bar(\n",
    "    y = baryvals,\n",
    "    x=barxvals[2],\n",
    "    hoverinfo = \"y\",\n",
    "    marker_color = colors,\n",
    "    orientation='h'\n",
    "    ), row=3, col=1)\n",
    "fig.append_trace(\n",
    "    go.Bar(\n",
    "    y = baryvals,\n",
    "    x=barxvals[3],\n",
    "    hoverinfo = \"y\",\n",
    "    marker_color = colors,\n",
    "    orientation='h'), row=4, col=1)\n",
    "# Change the bar mode\n",
    "#fig.update_xaxes(autorange='reversed')\n",
    "fig.update_yaxes(visible=False, showticklabels=False)\n",
    "fig.update_layout(\n",
    "    title='<b>Log Loss Scores for Different MOAs</b>',\n",
    "    title_x=0.5,\n",
    "    bargap=0.1,\n",
    "    showlegend=False,\n",
    "    paper_bgcolor='rgba(154,186,211,0.8)',\n",
    "    plot_bgcolor='rgba(232,246,252,0.8)'\n",
    ")\n",
    "fig.show()\n",
    "\n",
    "the_date = str(datetime.datetime.now())[:10]\n",
    "html_path = 'figures/Plotly_hbarchart_' + the_date + '.html'\n",
    "plotly.io.write_html(fig, html_path)"
   ]
  }
 ],
 "metadata": {
  "accelerator": "GPU",
  "colab": {
   "collapsed_sections": [],
   "name": "RAPIDS_logistic_rergression_w_undersampling.ipynb",
   "provenance": [
    {
     "file_id": "1CP5eADhskrXuoXJreMbYrVeEAx_clw4r",
     "timestamp": 1602973236795
    }
   ]
  },
  "kernelspec": {
   "display_name": "Python 3",
   "language": "python",
   "name": "python3"
  },
  "language_info": {
   "codemirror_mode": {
    "name": "ipython",
    "version": 3
   },
   "file_extension": ".py",
   "mimetype": "text/x-python",
   "name": "python",
   "nbconvert_exporter": "python",
   "pygments_lexer": "ipython3",
   "version": "3.7.9-final"
  },
  "widgets": {
   "application/vnd.jupyter.widget-state+json": {
    "0254a811c551456ea72cef2362a8d2da": {
     "model_module": "@jupyter-widgets/controls",
     "model_name": "ProgressStyleModel",
     "state": {
      "_model_module": "@jupyter-widgets/controls",
      "_model_module_version": "1.5.0",
      "_model_name": "ProgressStyleModel",
      "_view_count": null,
      "_view_module": "@jupyter-widgets/base",
      "_view_module_version": "1.2.0",
      "_view_name": "StyleView",
      "bar_color": null,
      "description_width": ""
     }
    },
    "0b03083b658f4e478de3b57791f42da8": {
     "model_module": "@jupyter-widgets/base",
     "model_name": "LayoutModel",
     "state": {
      "_model_module": "@jupyter-widgets/base",
      "_model_module_version": "1.2.0",
      "_model_name": "LayoutModel",
      "_view_count": null,
      "_view_module": "@jupyter-widgets/base",
      "_view_module_version": "1.2.0",
      "_view_name": "LayoutView",
      "align_content": null,
      "align_items": null,
      "align_self": null,
      "border": null,
      "bottom": null,
      "display": null,
      "flex": null,
      "flex_flow": null,
      "grid_area": null,
      "grid_auto_columns": null,
      "grid_auto_flow": null,
      "grid_auto_rows": null,
      "grid_column": null,
      "grid_gap": null,
      "grid_row": null,
      "grid_template_areas": null,
      "grid_template_columns": null,
      "grid_template_rows": null,
      "height": null,
      "justify_content": null,
      "justify_items": null,
      "left": null,
      "margin": null,
      "max_height": null,
      "max_width": null,
      "min_height": null,
      "min_width": null,
      "object_fit": null,
      "object_position": null,
      "order": null,
      "overflow": null,
      "overflow_x": null,
      "overflow_y": null,
      "padding": null,
      "right": null,
      "top": null,
      "visibility": null,
      "width": null
     }
    },
    "1abb228a8d164b2a892055bc77aa56fd": {
     "model_module": "@jupyter-widgets/controls",
     "model_name": "HTMLModel",
     "state": {
      "_dom_classes": [],
      "_model_module": "@jupyter-widgets/controls",
      "_model_module_version": "1.5.0",
      "_model_name": "HTMLModel",
      "_view_count": null,
      "_view_module": "@jupyter-widgets/controls",
      "_view_module_version": "1.5.0",
      "_view_name": "HTMLView",
      "description": "",
      "description_tooltip": null,
      "layout": "IPY_MODEL_4baa80741801474695d594eb4f4bb215",
      "placeholder": "​",
      "style": "IPY_MODEL_1e29afe4e9fe43fb8d854cff56fde3af",
      "value": " 206/206 [1:12:39&lt;00:00, 21.16s/it]"
     }
    },
    "1e29afe4e9fe43fb8d854cff56fde3af": {
     "model_module": "@jupyter-widgets/controls",
     "model_name": "DescriptionStyleModel",
     "state": {
      "_model_module": "@jupyter-widgets/controls",
      "_model_module_version": "1.5.0",
      "_model_name": "DescriptionStyleModel",
      "_view_count": null,
      "_view_module": "@jupyter-widgets/base",
      "_view_module_version": "1.2.0",
      "_view_name": "StyleView",
      "description_width": ""
     }
    },
    "1f77a084b822458699718400bf5a291b": {
     "model_module": "@jupyter-widgets/controls",
     "model_name": "ProgressStyleModel",
     "state": {
      "_model_module": "@jupyter-widgets/controls",
      "_model_module_version": "1.5.0",
      "_model_name": "ProgressStyleModel",
      "_view_count": null,
      "_view_module": "@jupyter-widgets/base",
      "_view_module_version": "1.2.0",
      "_view_name": "StyleView",
      "bar_color": null,
      "description_width": ""
     }
    },
    "25286e32af134ccfa3f3770f82a36c16": {
     "model_module": "@jupyter-widgets/base",
     "model_name": "LayoutModel",
     "state": {
      "_model_module": "@jupyter-widgets/base",
      "_model_module_version": "1.2.0",
      "_model_name": "LayoutModel",
      "_view_count": null,
      "_view_module": "@jupyter-widgets/base",
      "_view_module_version": "1.2.0",
      "_view_name": "LayoutView",
      "align_content": null,
      "align_items": null,
      "align_self": null,
      "border": null,
      "bottom": null,
      "display": null,
      "flex": null,
      "flex_flow": null,
      "grid_area": null,
      "grid_auto_columns": null,
      "grid_auto_flow": null,
      "grid_auto_rows": null,
      "grid_column": null,
      "grid_gap": null,
      "grid_row": null,
      "grid_template_areas": null,
      "grid_template_columns": null,
      "grid_template_rows": null,
      "height": null,
      "justify_content": null,
      "justify_items": null,
      "left": null,
      "margin": null,
      "max_height": null,
      "max_width": null,
      "min_height": null,
      "min_width": null,
      "object_fit": null,
      "object_position": null,
      "order": null,
      "overflow": null,
      "overflow_x": null,
      "overflow_y": null,
      "padding": null,
      "right": null,
      "top": null,
      "visibility": null,
      "width": null
     }
    },
    "259ba841852240529c05cb6774efcc3f": {
     "model_module": "@jupyter-widgets/controls",
     "model_name": "HBoxModel",
     "state": {
      "_dom_classes": [],
      "_model_module": "@jupyter-widgets/controls",
      "_model_module_version": "1.5.0",
      "_model_name": "HBoxModel",
      "_view_count": null,
      "_view_module": "@jupyter-widgets/controls",
      "_view_module_version": "1.5.0",
      "_view_name": "HBoxView",
      "box_style": "",
      "children": [
       "IPY_MODEL_ba3f897e98e84be5a180ef100aa6d934",
       "IPY_MODEL_6887ebab40d248c2b345cb7417ee2a9a",
       "IPY_MODEL_1abb228a8d164b2a892055bc77aa56fd"
      ],
      "layout": "IPY_MODEL_0b03083b658f4e478de3b57791f42da8"
     }
    },
    "3015131d021f426699d2e82071e50786": {
     "model_module": "@jupyter-widgets/controls",
     "model_name": "HTMLModel",
     "state": {
      "_dom_classes": [],
      "_model_module": "@jupyter-widgets/controls",
      "_model_module_version": "1.5.0",
      "_model_name": "HTMLModel",
      "_view_count": null,
      "_view_module": "@jupyter-widgets/controls",
      "_view_module_version": "1.5.0",
      "_view_name": "HTMLView",
      "description": "",
      "description_tooltip": null,
      "layout": "IPY_MODEL_317612f56be54ddd97851c95edc4dabd",
      "placeholder": "​",
      "style": "IPY_MODEL_8f12a242d04d4a3dadf321c146a9333d",
      "value": "  0%"
     }
    },
    "317612f56be54ddd97851c95edc4dabd": {
     "model_module": "@jupyter-widgets/base",
     "model_name": "LayoutModel",
     "state": {
      "_model_module": "@jupyter-widgets/base",
      "_model_module_version": "1.2.0",
      "_model_name": "LayoutModel",
      "_view_count": null,
      "_view_module": "@jupyter-widgets/base",
      "_view_module_version": "1.2.0",
      "_view_name": "LayoutView",
      "align_content": null,
      "align_items": null,
      "align_self": null,
      "border": null,
      "bottom": null,
      "display": null,
      "flex": null,
      "flex_flow": null,
      "grid_area": null,
      "grid_auto_columns": null,
      "grid_auto_flow": null,
      "grid_auto_rows": null,
      "grid_column": null,
      "grid_gap": null,
      "grid_row": null,
      "grid_template_areas": null,
      "grid_template_columns": null,
      "grid_template_rows": null,
      "height": null,
      "justify_content": null,
      "justify_items": null,
      "left": null,
      "margin": null,
      "max_height": null,
      "max_width": null,
      "min_height": null,
      "min_width": null,
      "object_fit": null,
      "object_position": null,
      "order": null,
      "overflow": null,
      "overflow_x": null,
      "overflow_y": null,
      "padding": null,
      "right": null,
      "top": null,
      "visibility": null,
      "width": null
     }
    },
    "3f3d40d522ef4253835e90175025d687": {
     "model_module": "@jupyter-widgets/base",
     "model_name": "LayoutModel",
     "state": {
      "_model_module": "@jupyter-widgets/base",
      "_model_module_version": "1.2.0",
      "_model_name": "LayoutModel",
      "_view_count": null,
      "_view_module": "@jupyter-widgets/base",
      "_view_module_version": "1.2.0",
      "_view_name": "LayoutView",
      "align_content": null,
      "align_items": null,
      "align_self": null,
      "border": null,
      "bottom": null,
      "display": null,
      "flex": null,
      "flex_flow": null,
      "grid_area": null,
      "grid_auto_columns": null,
      "grid_auto_flow": null,
      "grid_auto_rows": null,
      "grid_column": null,
      "grid_gap": null,
      "grid_row": null,
      "grid_template_areas": null,
      "grid_template_columns": null,
      "grid_template_rows": null,
      "height": null,
      "justify_content": null,
      "justify_items": null,
      "left": null,
      "margin": null,
      "max_height": null,
      "max_width": null,
      "min_height": null,
      "min_width": null,
      "object_fit": null,
      "object_position": null,
      "order": null,
      "overflow": null,
      "overflow_x": null,
      "overflow_y": null,
      "padding": null,
      "right": null,
      "top": null,
      "visibility": null,
      "width": null
     }
    },
    "432cbfdc404a4bf5b1b900515cda4e86": {
     "model_module": "@jupyter-widgets/controls",
     "model_name": "HBoxModel",
     "state": {
      "_dom_classes": [],
      "_model_module": "@jupyter-widgets/controls",
      "_model_module_version": "1.5.0",
      "_model_name": "HBoxModel",
      "_view_count": null,
      "_view_module": "@jupyter-widgets/controls",
      "_view_module_version": "1.5.0",
      "_view_name": "HBoxView",
      "box_style": "",
      "children": [
       "IPY_MODEL_3015131d021f426699d2e82071e50786",
       "IPY_MODEL_7e83495b6d7749b189cfa5aea250ae60",
       "IPY_MODEL_6669c81dca1543f79898fa66a3e5a7b5"
      ],
      "layout": "IPY_MODEL_b45bb3a2b52f4880b0ad58e700721365"
     }
    },
    "4baa80741801474695d594eb4f4bb215": {
     "model_module": "@jupyter-widgets/base",
     "model_name": "LayoutModel",
     "state": {
      "_model_module": "@jupyter-widgets/base",
      "_model_module_version": "1.2.0",
      "_model_name": "LayoutModel",
      "_view_count": null,
      "_view_module": "@jupyter-widgets/base",
      "_view_module_version": "1.2.0",
      "_view_name": "LayoutView",
      "align_content": null,
      "align_items": null,
      "align_self": null,
      "border": null,
      "bottom": null,
      "display": null,
      "flex": null,
      "flex_flow": null,
      "grid_area": null,
      "grid_auto_columns": null,
      "grid_auto_flow": null,
      "grid_auto_rows": null,
      "grid_column": null,
      "grid_gap": null,
      "grid_row": null,
      "grid_template_areas": null,
      "grid_template_columns": null,
      "grid_template_rows": null,
      "height": null,
      "justify_content": null,
      "justify_items": null,
      "left": null,
      "margin": null,
      "max_height": null,
      "max_width": null,
      "min_height": null,
      "min_width": null,
      "object_fit": null,
      "object_position": null,
      "order": null,
      "overflow": null,
      "overflow_x": null,
      "overflow_y": null,
      "padding": null,
      "right": null,
      "top": null,
      "visibility": null,
      "width": null
     }
    },
    "5c177f172ae8443a8b71a76cdff14220": {
     "model_module": "@jupyter-widgets/controls",
     "model_name": "DescriptionStyleModel",
     "state": {
      "_model_module": "@jupyter-widgets/controls",
      "_model_module_version": "1.5.0",
      "_model_name": "DescriptionStyleModel",
      "_view_count": null,
      "_view_module": "@jupyter-widgets/base",
      "_view_module_version": "1.2.0",
      "_view_name": "StyleView",
      "description_width": ""
     }
    },
    "62b032770c3546498354c2319cc29917": {
     "model_module": "@jupyter-widgets/controls",
     "model_name": "DescriptionStyleModel",
     "state": {
      "_model_module": "@jupyter-widgets/controls",
      "_model_module_version": "1.5.0",
      "_model_name": "DescriptionStyleModel",
      "_view_count": null,
      "_view_module": "@jupyter-widgets/base",
      "_view_module_version": "1.2.0",
      "_view_name": "StyleView",
      "description_width": ""
     }
    },
    "6669c81dca1543f79898fa66a3e5a7b5": {
     "model_module": "@jupyter-widgets/controls",
     "model_name": "HTMLModel",
     "state": {
      "_dom_classes": [],
      "_model_module": "@jupyter-widgets/controls",
      "_model_module_version": "1.5.0",
      "_model_name": "HTMLModel",
      "_view_count": null,
      "_view_module": "@jupyter-widgets/controls",
      "_view_module_version": "1.5.0",
      "_view_name": "HTMLView",
      "description": "",
      "description_tooltip": null,
      "layout": "IPY_MODEL_3f3d40d522ef4253835e90175025d687",
      "placeholder": "​",
      "style": "IPY_MODEL_62b032770c3546498354c2319cc29917",
      "value": " 0/206 [00:00&lt;?, ?it/s]"
     }
    },
    "6887ebab40d248c2b345cb7417ee2a9a": {
     "model_module": "@jupyter-widgets/controls",
     "model_name": "FloatProgressModel",
     "state": {
      "_dom_classes": [],
      "_model_module": "@jupyter-widgets/controls",
      "_model_module_version": "1.5.0",
      "_model_name": "FloatProgressModel",
      "_view_count": null,
      "_view_module": "@jupyter-widgets/controls",
      "_view_module_version": "1.5.0",
      "_view_name": "ProgressView",
      "bar_style": "success",
      "description": "",
      "description_tooltip": null,
      "layout": "IPY_MODEL_25286e32af134ccfa3f3770f82a36c16",
      "max": 206,
      "min": 0,
      "orientation": "horizontal",
      "style": "IPY_MODEL_1f77a084b822458699718400bf5a291b",
      "value": 206
     }
    },
    "7299f41bbc7c493fac12c6500da94599": {
     "model_module": "@jupyter-widgets/base",
     "model_name": "LayoutModel",
     "state": {
      "_model_module": "@jupyter-widgets/base",
      "_model_module_version": "1.2.0",
      "_model_name": "LayoutModel",
      "_view_count": null,
      "_view_module": "@jupyter-widgets/base",
      "_view_module_version": "1.2.0",
      "_view_name": "LayoutView",
      "align_content": null,
      "align_items": null,
      "align_self": null,
      "border": null,
      "bottom": null,
      "display": null,
      "flex": null,
      "flex_flow": null,
      "grid_area": null,
      "grid_auto_columns": null,
      "grid_auto_flow": null,
      "grid_auto_rows": null,
      "grid_column": null,
      "grid_gap": null,
      "grid_row": null,
      "grid_template_areas": null,
      "grid_template_columns": null,
      "grid_template_rows": null,
      "height": null,
      "justify_content": null,
      "justify_items": null,
      "left": null,
      "margin": null,
      "max_height": null,
      "max_width": null,
      "min_height": null,
      "min_width": null,
      "object_fit": null,
      "object_position": null,
      "order": null,
      "overflow": null,
      "overflow_x": null,
      "overflow_y": null,
      "padding": null,
      "right": null,
      "top": null,
      "visibility": null,
      "width": null
     }
    },
    "7e83495b6d7749b189cfa5aea250ae60": {
     "model_module": "@jupyter-widgets/controls",
     "model_name": "FloatProgressModel",
     "state": {
      "_dom_classes": [],
      "_model_module": "@jupyter-widgets/controls",
      "_model_module_version": "1.5.0",
      "_model_name": "FloatProgressModel",
      "_view_count": null,
      "_view_module": "@jupyter-widgets/controls",
      "_view_module_version": "1.5.0",
      "_view_name": "ProgressView",
      "bar_style": "",
      "description": "",
      "description_tooltip": null,
      "layout": "IPY_MODEL_c12b441719b146b1be880df7d93b0ec7",
      "max": 206,
      "min": 0,
      "orientation": "horizontal",
      "style": "IPY_MODEL_0254a811c551456ea72cef2362a8d2da",
      "value": 0
     }
    },
    "8f12a242d04d4a3dadf321c146a9333d": {
     "model_module": "@jupyter-widgets/controls",
     "model_name": "DescriptionStyleModel",
     "state": {
      "_model_module": "@jupyter-widgets/controls",
      "_model_module_version": "1.5.0",
      "_model_name": "DescriptionStyleModel",
      "_view_count": null,
      "_view_module": "@jupyter-widgets/base",
      "_view_module_version": "1.2.0",
      "_view_name": "StyleView",
      "description_width": ""
     }
    },
    "b45bb3a2b52f4880b0ad58e700721365": {
     "model_module": "@jupyter-widgets/base",
     "model_name": "LayoutModel",
     "state": {
      "_model_module": "@jupyter-widgets/base",
      "_model_module_version": "1.2.0",
      "_model_name": "LayoutModel",
      "_view_count": null,
      "_view_module": "@jupyter-widgets/base",
      "_view_module_version": "1.2.0",
      "_view_name": "LayoutView",
      "align_content": null,
      "align_items": null,
      "align_self": null,
      "border": null,
      "bottom": null,
      "display": null,
      "flex": null,
      "flex_flow": null,
      "grid_area": null,
      "grid_auto_columns": null,
      "grid_auto_flow": null,
      "grid_auto_rows": null,
      "grid_column": null,
      "grid_gap": null,
      "grid_row": null,
      "grid_template_areas": null,
      "grid_template_columns": null,
      "grid_template_rows": null,
      "height": null,
      "justify_content": null,
      "justify_items": null,
      "left": null,
      "margin": null,
      "max_height": null,
      "max_width": null,
      "min_height": null,
      "min_width": null,
      "object_fit": null,
      "object_position": null,
      "order": null,
      "overflow": null,
      "overflow_x": null,
      "overflow_y": null,
      "padding": null,
      "right": null,
      "top": null,
      "visibility": null,
      "width": null
     }
    },
    "ba3f897e98e84be5a180ef100aa6d934": {
     "model_module": "@jupyter-widgets/controls",
     "model_name": "HTMLModel",
     "state": {
      "_dom_classes": [],
      "_model_module": "@jupyter-widgets/controls",
      "_model_module_version": "1.5.0",
      "_model_name": "HTMLModel",
      "_view_count": null,
      "_view_module": "@jupyter-widgets/controls",
      "_view_module_version": "1.5.0",
      "_view_name": "HTMLView",
      "description": "",
      "description_tooltip": null,
      "layout": "IPY_MODEL_7299f41bbc7c493fac12c6500da94599",
      "placeholder": "​",
      "style": "IPY_MODEL_5c177f172ae8443a8b71a76cdff14220",
      "value": "100%"
     }
    },
    "c12b441719b146b1be880df7d93b0ec7": {
     "model_module": "@jupyter-widgets/base",
     "model_name": "LayoutModel",
     "state": {
      "_model_module": "@jupyter-widgets/base",
      "_model_module_version": "1.2.0",
      "_model_name": "LayoutModel",
      "_view_count": null,
      "_view_module": "@jupyter-widgets/base",
      "_view_module_version": "1.2.0",
      "_view_name": "LayoutView",
      "align_content": null,
      "align_items": null,
      "align_self": null,
      "border": null,
      "bottom": null,
      "display": null,
      "flex": null,
      "flex_flow": null,
      "grid_area": null,
      "grid_auto_columns": null,
      "grid_auto_flow": null,
      "grid_auto_rows": null,
      "grid_column": null,
      "grid_gap": null,
      "grid_row": null,
      "grid_template_areas": null,
      "grid_template_columns": null,
      "grid_template_rows": null,
      "height": null,
      "justify_content": null,
      "justify_items": null,
      "left": null,
      "margin": null,
      "max_height": null,
      "max_width": null,
      "min_height": null,
      "min_width": null,
      "object_fit": null,
      "object_position": null,
      "order": null,
      "overflow": null,
      "overflow_x": null,
      "overflow_y": null,
      "padding": null,
      "right": null,
      "top": null,
      "visibility": null,
      "width": null
     }
    }
   }
  }
 },
 "nbformat": 4,
 "nbformat_minor": 4
}